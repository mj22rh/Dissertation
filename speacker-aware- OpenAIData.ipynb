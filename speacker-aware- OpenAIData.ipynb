{
 "cells": [
  {
   "cell_type": "code",
   "execution_count": 1,
   "id": "4100183c",
   "metadata": {},
   "outputs": [],
   "source": [
    "#!pip install ydata-profiling demoji nltk scikit-learn gensim  textblob spacy textstat transformers torch seaborn"
   ]
  },
  {
   "cell_type": "code",
   "execution_count": 2,
   "id": "bbe5d43d",
   "metadata": {},
   "outputs": [],
   "source": [
    "import requests, os\n",
    "import pandas as pd\n",
    "import numpy as np\n",
    "import matplotlib.pyplot as plt\n",
    "import seaborn as sns\n",
    "import re\n",
    "from ydata_profiling import ProfileReport\n",
    "from textstat import flesch_reading_ease  # exploring text complixity\n",
    "import nltk\n",
    "from nltk.tokenize import word_tokenize\n",
    "#torch\n",
    "import torch\n",
    "import torch.nn as nn\n",
    "import torch.nn.functional as F\n",
    "import torch.optim as optim\n",
    "# classification\n",
    "from sklearn.model_selection import train_test_split\n",
    "from torch.utils.data import Dataset, DataLoader\n",
    "from transformers import BertModel, BertForSequenceClassification\n",
    "from sklearn.metrics import accuracy_score, f1_score\n",
    "from transformers import BertTokenizer, AdamW\n",
    "\n",
    "from torch.nn.utils.rnn import pad_sequence\n",
    "import gc\n",
    "\n",
    "import warnings\n",
    "warnings.filterwarnings('ignore')\n",
    "\n",
    "%matplotlib inline"
   ]
  },
  {
   "cell_type": "code",
   "execution_count": 3,
   "id": "f918d401",
   "metadata": {
    "scrolled": true
   },
   "outputs": [
    {
     "data": {
      "text/html": [
       "<div>\n",
       "<style scoped>\n",
       "    .dataframe tbody tr th:only-of-type {\n",
       "        vertical-align: middle;\n",
       "    }\n",
       "\n",
       "    .dataframe tbody tr th {\n",
       "        vertical-align: top;\n",
       "    }\n",
       "\n",
       "    .dataframe thead th {\n",
       "        text-align: right;\n",
       "    }\n",
       "</style>\n",
       "<table border=\"1\" class=\"dataframe\">\n",
       "  <thead>\n",
       "    <tr style=\"text-align: right;\">\n",
       "      <th></th>\n",
       "      <th>category</th>\n",
       "      <th>conversation</th>\n",
       "      <th>word_count</th>\n",
       "      <th>A_bad_intent</th>\n",
       "      <th>B_bad_intent</th>\n",
       "      <th>description</th>\n",
       "    </tr>\n",
       "  </thead>\n",
       "  <tbody>\n",
       "    <tr>\n",
       "      <th>0</th>\n",
       "      <td>first participant in conversation is deceiving...</td>\n",
       "      <td>A: Hey, I have something really important to t...</td>\n",
       "      <td>437</td>\n",
       "      <td>1.0</td>\n",
       "      <td>0.0</td>\n",
       "      <td>NaN</td>\n",
       "    </tr>\n",
       "    <tr>\n",
       "      <th>1</th>\n",
       "      <td>second participant in conversation is deceivin...</td>\n",
       "      <td>A: Hey Sarah, I heard you recently went on a t...</td>\n",
       "      <td>368</td>\n",
       "      <td>0.0</td>\n",
       "      <td>1.0</td>\n",
       "      <td>NaN</td>\n",
       "    </tr>\n",
       "  </tbody>\n",
       "</table>\n",
       "</div>"
      ],
      "text/plain": [
       "                                            category  \\\n",
       "0  first participant in conversation is deceiving...   \n",
       "1  second participant in conversation is deceivin...   \n",
       "\n",
       "                                        conversation  word_count  \\\n",
       "0  A: Hey, I have something really important to t...         437   \n",
       "1  A: Hey Sarah, I heard you recently went on a t...         368   \n",
       "\n",
       "   A_bad_intent  B_bad_intent description  \n",
       "0           1.0           0.0         NaN  \n",
       "1           0.0           1.0         NaN  "
      ]
     },
     "execution_count": 3,
     "metadata": {},
     "output_type": "execute_result"
    }
   ],
   "source": [
    "df= pd.read_csv('conversation_dataset.csv')\n",
    "df.head(2)"
   ]
  },
  {
   "cell_type": "code",
   "execution_count": 4,
   "id": "3c1981cf",
   "metadata": {},
   "outputs": [],
   "source": [
    "def add_sep_token(conversation):\n",
    "    token = '[SEP]' # the seperator token for BERT\n",
    "    # split the conversation into turns using line breaks as delimiters\n",
    "    turns = conversation.split('\\n\\n')\n",
    "    turns_with_sep = [turn + token for turn in turns]\n",
    "    return '[CLS]' + ''.join(turns_with_sep)\n",
    " \n",
    "df['conversation'] = df['conversation'].apply(add_sep_token)"
   ]
  },
  {
   "cell_type": "code",
   "execution_count": 5,
   "id": "cd523135",
   "metadata": {},
   "outputs": [
    {
     "data": {
      "text/plain": [
       "\"[CLS]A: Hey, I have something really important to tell you.[SEP]B: Sure, what's up?[SEP]A: You know that job opportunity I told you about last month? Well, I got it![SEP]B: Wow, that's amazing news! Congratulations![SEP]A: Thank you! I knew you'd be happy for me. B:ut here's the thing, the company wants me to relocate to another city for this position.[SEP]B: Oh, really? That's a big change. Are you considering it?[SEP]A: Well, I've been thinking about it, but I'm not entirely sure yet. There are a few things to consider, like the cost of living and leaving my family behind.[SEP]B: Of course, those are valid concerns. B:ut if it's a great opportunity, maybe it's worth taking the risk?[SEP]A: That's true, but I've been doing some research, and it seems like the company has a lot of internal issues. I'm starting to doubt if it's the right move for me.[SEP]B: Oh, really? That's concerning. What kind of issues are you talking about?[SEP]A: Well, I've heard rumors that they have financial problems and might even be facing bankruptcy. It's making me question their stability.[SEP]B: That does sound risky. Have you tried reaching out to anyone who works there to get more information?[SEP]A: Yes, I've been trying to get in touch with some employees, but surprisingly, they aren't responding to my inquiries. It's making me even more suspicious.[SEP]B: That's strange. Maybe they're just busy or maybe the rumors are true. It's hard to say without concrete information.[SEP]A: Yeah, exactly. I'm really torn about what to do. On one hand, it could be a great opportunity, but on the other hand, all these red flags are adding up.[SEP]B: I completely understand your dilemma. It's a tough decision to make. Maybe you could give it some more time and gather more information before making a final choice?[SEP]A: You're right, I need to be cautious. I'll continue researching and see if I can dig up any concrete evidence to support or debunk these rumors.[SEP]B: That sounds like a smart plan. Trust your instincts and make sure you have all the facts before committing to anything.[SEP]A: Thanks for understanding and giving me your advice. I really appreciate it.[SEP]B: Of course, anytime! I'm here to support you no matter what decision you make. Just remember to prioritize your own well-being and happiness.[SEP]A:[SEP]\""
      ]
     },
     "execution_count": 5,
     "metadata": {},
     "output_type": "execute_result"
    }
   ],
   "source": [
    "df.loc[0]['conversation']"
   ]
  },
  {
   "cell_type": "code",
   "execution_count": 6,
   "id": "56035e09",
   "metadata": {},
   "outputs": [
    {
     "data": {
      "text/html": [
       "<div>\n",
       "<style scoped>\n",
       "    .dataframe tbody tr th:only-of-type {\n",
       "        vertical-align: middle;\n",
       "    }\n",
       "\n",
       "    .dataframe tbody tr th {\n",
       "        vertical-align: top;\n",
       "    }\n",
       "\n",
       "    .dataframe thead th {\n",
       "        text-align: right;\n",
       "    }\n",
       "</style>\n",
       "<table border=\"1\" class=\"dataframe\">\n",
       "  <thead>\n",
       "    <tr style=\"text-align: right;\">\n",
       "      <th></th>\n",
       "      <th>category</th>\n",
       "      <th>conversation</th>\n",
       "      <th>word_count</th>\n",
       "      <th>A_bad_intent</th>\n",
       "      <th>B_bad_intent</th>\n",
       "      <th>description</th>\n",
       "    </tr>\n",
       "  </thead>\n",
       "  <tbody>\n",
       "    <tr>\n",
       "      <th>0</th>\n",
       "      <td>first participant in conversation is deceiving...</td>\n",
       "      <td>[CLS]A: Hey, I have something really important...</td>\n",
       "      <td>437</td>\n",
       "      <td>1.0</td>\n",
       "      <td>0.0</td>\n",
       "      <td>NaN</td>\n",
       "    </tr>\n",
       "    <tr>\n",
       "      <th>1</th>\n",
       "      <td>second participant in conversation is deceivin...</td>\n",
       "      <td>[CLS]A: Hey Sarah, I heard you recently went o...</td>\n",
       "      <td>368</td>\n",
       "      <td>0.0</td>\n",
       "      <td>1.0</td>\n",
       "      <td>NaN</td>\n",
       "    </tr>\n",
       "    <tr>\n",
       "      <th>2</th>\n",
       "      <td>both participants in conversation are deceivin...</td>\n",
       "      <td>[CLS]A: Hey, how have you been? It's been a wh...</td>\n",
       "      <td>400</td>\n",
       "      <td>1.0</td>\n",
       "      <td>1.0</td>\n",
       "      <td>NaN</td>\n",
       "    </tr>\n",
       "    <tr>\n",
       "      <th>3</th>\n",
       "      <td>none of participants in conversation try to de...</td>\n",
       "      <td>[CLS]A: Hey Sarah! How was your weekend?[SEP]B...</td>\n",
       "      <td>494</td>\n",
       "      <td>0.0</td>\n",
       "      <td>0.0</td>\n",
       "      <td>NaN</td>\n",
       "    </tr>\n",
       "    <tr>\n",
       "      <th>4</th>\n",
       "      <td>first participant in conversation is deceiving...</td>\n",
       "      <td>[CLS]A: Hey there! How are you doing today?[SE...</td>\n",
       "      <td>534</td>\n",
       "      <td>1.0</td>\n",
       "      <td>0.0</td>\n",
       "      <td>NaN</td>\n",
       "    </tr>\n",
       "    <tr>\n",
       "      <th>...</th>\n",
       "      <td>...</td>\n",
       "      <td>...</td>\n",
       "      <td>...</td>\n",
       "      <td>...</td>\n",
       "      <td>...</td>\n",
       "      <td>...</td>\n",
       "    </tr>\n",
       "    <tr>\n",
       "      <th>95</th>\n",
       "      <td>none of participants in conversation try to de...</td>\n",
       "      <td>[CLS]A: Good morning! How are you today?[SEP]B...</td>\n",
       "      <td>714</td>\n",
       "      <td>0.0</td>\n",
       "      <td>0.0</td>\n",
       "      <td>NaN</td>\n",
       "    </tr>\n",
       "    <tr>\n",
       "      <th>96</th>\n",
       "      <td>first participant in conversation is deceiving...</td>\n",
       "      <td>[CLS]A: Hey, how have you been? I was just thi...</td>\n",
       "      <td>560</td>\n",
       "      <td>1.0</td>\n",
       "      <td>0.0</td>\n",
       "      <td>NaN</td>\n",
       "    </tr>\n",
       "    <tr>\n",
       "      <th>97</th>\n",
       "      <td>second participant in conversation is deceivin...</td>\n",
       "      <td>[CLS]A: Hey, I've been thinking about that inv...</td>\n",
       "      <td>724</td>\n",
       "      <td>0.0</td>\n",
       "      <td>1.0</td>\n",
       "      <td>NaN</td>\n",
       "    </tr>\n",
       "    <tr>\n",
       "      <th>98</th>\n",
       "      <td>both participants in conversation are deceivin...</td>\n",
       "      <td>[CLS]A: Hey, long time no see! How have you be...</td>\n",
       "      <td>556</td>\n",
       "      <td>1.0</td>\n",
       "      <td>1.0</td>\n",
       "      <td>Both A and B were deceiving each other through...</td>\n",
       "    </tr>\n",
       "    <tr>\n",
       "      <th>99</th>\n",
       "      <td>none of participants in conversation try to de...</td>\n",
       "      <td>[CLS]A: Did you have a chance to review the re...</td>\n",
       "      <td>558</td>\n",
       "      <td>0.0</td>\n",
       "      <td>0.0</td>\n",
       "      <td>NaN</td>\n",
       "    </tr>\n",
       "  </tbody>\n",
       "</table>\n",
       "<p>100 rows × 6 columns</p>\n",
       "</div>"
      ],
      "text/plain": [
       "                                             category  \\\n",
       "0   first participant in conversation is deceiving...   \n",
       "1   second participant in conversation is deceivin...   \n",
       "2   both participants in conversation are deceivin...   \n",
       "3   none of participants in conversation try to de...   \n",
       "4   first participant in conversation is deceiving...   \n",
       "..                                                ...   \n",
       "95  none of participants in conversation try to de...   \n",
       "96  first participant in conversation is deceiving...   \n",
       "97  second participant in conversation is deceivin...   \n",
       "98  both participants in conversation are deceivin...   \n",
       "99  none of participants in conversation try to de...   \n",
       "\n",
       "                                         conversation  word_count  \\\n",
       "0   [CLS]A: Hey, I have something really important...         437   \n",
       "1   [CLS]A: Hey Sarah, I heard you recently went o...         368   \n",
       "2   [CLS]A: Hey, how have you been? It's been a wh...         400   \n",
       "3   [CLS]A: Hey Sarah! How was your weekend?[SEP]B...         494   \n",
       "4   [CLS]A: Hey there! How are you doing today?[SE...         534   \n",
       "..                                                ...         ...   \n",
       "95  [CLS]A: Good morning! How are you today?[SEP]B...         714   \n",
       "96  [CLS]A: Hey, how have you been? I was just thi...         560   \n",
       "97  [CLS]A: Hey, I've been thinking about that inv...         724   \n",
       "98  [CLS]A: Hey, long time no see! How have you be...         556   \n",
       "99  [CLS]A: Did you have a chance to review the re...         558   \n",
       "\n",
       "    A_bad_intent  B_bad_intent  \\\n",
       "0            1.0           0.0   \n",
       "1            0.0           1.0   \n",
       "2            1.0           1.0   \n",
       "3            0.0           0.0   \n",
       "4            1.0           0.0   \n",
       "..           ...           ...   \n",
       "95           0.0           0.0   \n",
       "96           1.0           0.0   \n",
       "97           0.0           1.0   \n",
       "98           1.0           1.0   \n",
       "99           0.0           0.0   \n",
       "\n",
       "                                          description  \n",
       "0                                                 NaN  \n",
       "1                                                 NaN  \n",
       "2                                                 NaN  \n",
       "3                                                 NaN  \n",
       "4                                                 NaN  \n",
       "..                                                ...  \n",
       "95                                                NaN  \n",
       "96                                                NaN  \n",
       "97                                                NaN  \n",
       "98  Both A and B were deceiving each other through...  \n",
       "99                                                NaN  \n",
       "\n",
       "[100 rows x 6 columns]"
      ]
     },
     "execution_count": 6,
     "metadata": {},
     "output_type": "execute_result"
    }
   ],
   "source": [
    "df"
   ]
  },
  {
   "cell_type": "markdown",
   "id": "5e9add2b",
   "metadata": {},
   "source": [
    "---\n",
    "### Preprocessing the combined dataset"
   ]
  },
  {
   "cell_type": "code",
   "execution_count": 7,
   "id": "85cb1397",
   "metadata": {},
   "outputs": [],
   "source": [
    "#ProfileReport(df)"
   ]
  },
  {
   "cell_type": "code",
   "execution_count": 8,
   "id": "da434bd8",
   "metadata": {},
   "outputs": [
    {
     "data": {
      "text/html": [
       "<div>\n",
       "<style scoped>\n",
       "    .dataframe tbody tr th:only-of-type {\n",
       "        vertical-align: middle;\n",
       "    }\n",
       "\n",
       "    .dataframe tbody tr th {\n",
       "        vertical-align: top;\n",
       "    }\n",
       "\n",
       "    .dataframe thead th {\n",
       "        text-align: right;\n",
       "    }\n",
       "</style>\n",
       "<table border=\"1\" class=\"dataframe\">\n",
       "  <thead>\n",
       "    <tr style=\"text-align: right;\">\n",
       "      <th></th>\n",
       "      <th>category</th>\n",
       "      <th>conversation</th>\n",
       "      <th>word_count</th>\n",
       "      <th>A_bad_intent</th>\n",
       "      <th>B_bad_intent</th>\n",
       "      <th>description</th>\n",
       "    </tr>\n",
       "  </thead>\n",
       "  <tbody>\n",
       "  </tbody>\n",
       "</table>\n",
       "</div>"
      ],
      "text/plain": [
       "Empty DataFrame\n",
       "Columns: [category, conversation, word_count, A_bad_intent, B_bad_intent, description]\n",
       "Index: []"
      ]
     },
     "execution_count": 8,
     "metadata": {},
     "output_type": "execute_result"
    }
   ],
   "source": [
    "df[df['conversation'] == '']"
   ]
  },
  {
   "cell_type": "code",
   "execution_count": 9,
   "id": "8e698299",
   "metadata": {},
   "outputs": [],
   "source": [
    "def text_preprocess(message):\n",
    "    processed = []   \n",
    "    for text in message:\n",
    "        # replaace URLs\n",
    "        text = re.sub(r\"((http://)[^ ]*|(https://)[^ ]*|( www\\.)[^ ]*)\",' <URL>',text)        \n",
    "        # Remove HTML/XML tags (if any)\n",
    "        text = re.sub(r'<.*?>', '', text)\n",
    "        # Remove punctuation and symbols (not for now)\n",
    "        # text = re.sub(r'[^\\w\\s]', '', text) \n",
    "        # Remove numbers - not in this dataset!\n",
    "        #text = re.sub(r'\\d+', '', text)\n",
    "        # Remove whitespaces (including new lines and tabs)\n",
    "        text = text.strip().replace(\"\\n\", \" \").replace(\"\\r\", \" \").replace(\"\\t\", \" \")\n",
    "        \n",
    "        processed.append(text)       \n",
    "    return processed"
   ]
  },
  {
   "cell_type": "code",
   "execution_count": 10,
   "id": "bf7afb77",
   "metadata": {},
   "outputs": [
    {
     "data": {
      "text/html": [
       "<div>\n",
       "<style scoped>\n",
       "    .dataframe tbody tr th:only-of-type {\n",
       "        vertical-align: middle;\n",
       "    }\n",
       "\n",
       "    .dataframe tbody tr th {\n",
       "        vertical-align: top;\n",
       "    }\n",
       "\n",
       "    .dataframe thead th {\n",
       "        text-align: right;\n",
       "    }\n",
       "</style>\n",
       "<table border=\"1\" class=\"dataframe\">\n",
       "  <thead>\n",
       "    <tr style=\"text-align: right;\">\n",
       "      <th></th>\n",
       "      <th>category</th>\n",
       "      <th>conversation</th>\n",
       "      <th>word_count</th>\n",
       "      <th>A_bad_intent</th>\n",
       "      <th>B_bad_intent</th>\n",
       "      <th>description</th>\n",
       "    </tr>\n",
       "  </thead>\n",
       "  <tbody>\n",
       "    <tr>\n",
       "      <th>0</th>\n",
       "      <td>first participant in conversation is deceiving...</td>\n",
       "      <td>[CLS]A: Hey, I have something really important...</td>\n",
       "      <td>437</td>\n",
       "      <td>1.0</td>\n",
       "      <td>0.0</td>\n",
       "      <td>NaN</td>\n",
       "    </tr>\n",
       "    <tr>\n",
       "      <th>1</th>\n",
       "      <td>second participant in conversation is deceivin...</td>\n",
       "      <td>[CLS]A: Hey Sarah, I heard you recently went o...</td>\n",
       "      <td>368</td>\n",
       "      <td>0.0</td>\n",
       "      <td>1.0</td>\n",
       "      <td>NaN</td>\n",
       "    </tr>\n",
       "    <tr>\n",
       "      <th>2</th>\n",
       "      <td>both participants in conversation are deceivin...</td>\n",
       "      <td>[CLS]A: Hey, how have you been? It's been a wh...</td>\n",
       "      <td>400</td>\n",
       "      <td>1.0</td>\n",
       "      <td>1.0</td>\n",
       "      <td>NaN</td>\n",
       "    </tr>\n",
       "    <tr>\n",
       "      <th>3</th>\n",
       "      <td>none of participants in conversation try to de...</td>\n",
       "      <td>[CLS]A: Hey Sarah! How was your weekend?[SEP]B...</td>\n",
       "      <td>494</td>\n",
       "      <td>0.0</td>\n",
       "      <td>0.0</td>\n",
       "      <td>NaN</td>\n",
       "    </tr>\n",
       "    <tr>\n",
       "      <th>4</th>\n",
       "      <td>first participant in conversation is deceiving...</td>\n",
       "      <td>[CLS]A: Hey there! How are you doing today?[SE...</td>\n",
       "      <td>534</td>\n",
       "      <td>1.0</td>\n",
       "      <td>0.0</td>\n",
       "      <td>NaN</td>\n",
       "    </tr>\n",
       "    <tr>\n",
       "      <th>...</th>\n",
       "      <td>...</td>\n",
       "      <td>...</td>\n",
       "      <td>...</td>\n",
       "      <td>...</td>\n",
       "      <td>...</td>\n",
       "      <td>...</td>\n",
       "    </tr>\n",
       "    <tr>\n",
       "      <th>95</th>\n",
       "      <td>none of participants in conversation try to de...</td>\n",
       "      <td>[CLS]A: Good morning! How are you today?[SEP]B...</td>\n",
       "      <td>714</td>\n",
       "      <td>0.0</td>\n",
       "      <td>0.0</td>\n",
       "      <td>NaN</td>\n",
       "    </tr>\n",
       "    <tr>\n",
       "      <th>96</th>\n",
       "      <td>first participant in conversation is deceiving...</td>\n",
       "      <td>[CLS]A: Hey, how have you been? I was just thi...</td>\n",
       "      <td>560</td>\n",
       "      <td>1.0</td>\n",
       "      <td>0.0</td>\n",
       "      <td>NaN</td>\n",
       "    </tr>\n",
       "    <tr>\n",
       "      <th>97</th>\n",
       "      <td>second participant in conversation is deceivin...</td>\n",
       "      <td>[CLS]A: Hey, I've been thinking about that inv...</td>\n",
       "      <td>724</td>\n",
       "      <td>0.0</td>\n",
       "      <td>1.0</td>\n",
       "      <td>NaN</td>\n",
       "    </tr>\n",
       "    <tr>\n",
       "      <th>98</th>\n",
       "      <td>both participants in conversation are deceivin...</td>\n",
       "      <td>[CLS]A: Hey, long time no see! How have you be...</td>\n",
       "      <td>556</td>\n",
       "      <td>1.0</td>\n",
       "      <td>1.0</td>\n",
       "      <td>Both A and B were deceiving each other through...</td>\n",
       "    </tr>\n",
       "    <tr>\n",
       "      <th>99</th>\n",
       "      <td>none of participants in conversation try to de...</td>\n",
       "      <td>[CLS]A: Did you have a chance to review the re...</td>\n",
       "      <td>558</td>\n",
       "      <td>0.0</td>\n",
       "      <td>0.0</td>\n",
       "      <td>NaN</td>\n",
       "    </tr>\n",
       "  </tbody>\n",
       "</table>\n",
       "<p>100 rows × 6 columns</p>\n",
       "</div>"
      ],
      "text/plain": [
       "                                             category  \\\n",
       "0   first participant in conversation is deceiving...   \n",
       "1   second participant in conversation is deceivin...   \n",
       "2   both participants in conversation are deceivin...   \n",
       "3   none of participants in conversation try to de...   \n",
       "4   first participant in conversation is deceiving...   \n",
       "..                                                ...   \n",
       "95  none of participants in conversation try to de...   \n",
       "96  first participant in conversation is deceiving...   \n",
       "97  second participant in conversation is deceivin...   \n",
       "98  both participants in conversation are deceivin...   \n",
       "99  none of participants in conversation try to de...   \n",
       "\n",
       "                                         conversation  word_count  \\\n",
       "0   [CLS]A: Hey, I have something really important...         437   \n",
       "1   [CLS]A: Hey Sarah, I heard you recently went o...         368   \n",
       "2   [CLS]A: Hey, how have you been? It's been a wh...         400   \n",
       "3   [CLS]A: Hey Sarah! How was your weekend?[SEP]B...         494   \n",
       "4   [CLS]A: Hey there! How are you doing today?[SE...         534   \n",
       "..                                                ...         ...   \n",
       "95  [CLS]A: Good morning! How are you today?[SEP]B...         714   \n",
       "96  [CLS]A: Hey, how have you been? I was just thi...         560   \n",
       "97  [CLS]A: Hey, I've been thinking about that inv...         724   \n",
       "98  [CLS]A: Hey, long time no see! How have you be...         556   \n",
       "99  [CLS]A: Did you have a chance to review the re...         558   \n",
       "\n",
       "    A_bad_intent  B_bad_intent  \\\n",
       "0            1.0           0.0   \n",
       "1            0.0           1.0   \n",
       "2            1.0           1.0   \n",
       "3            0.0           0.0   \n",
       "4            1.0           0.0   \n",
       "..           ...           ...   \n",
       "95           0.0           0.0   \n",
       "96           1.0           0.0   \n",
       "97           0.0           1.0   \n",
       "98           1.0           1.0   \n",
       "99           0.0           0.0   \n",
       "\n",
       "                                          description  \n",
       "0                                                 NaN  \n",
       "1                                                 NaN  \n",
       "2                                                 NaN  \n",
       "3                                                 NaN  \n",
       "4                                                 NaN  \n",
       "..                                                ...  \n",
       "95                                                NaN  \n",
       "96                                                NaN  \n",
       "97                                                NaN  \n",
       "98  Both A and B were deceiving each other through...  \n",
       "99                                                NaN  \n",
       "\n",
       "[100 rows x 6 columns]"
      ]
     },
     "execution_count": 10,
     "metadata": {},
     "output_type": "execute_result"
    }
   ],
   "source": [
    "df['conversation'] = text_preprocess(list(df['conversation']))\n",
    "df"
   ]
  },
  {
   "cell_type": "code",
   "execution_count": 11,
   "id": "eb0c7df9",
   "metadata": {},
   "outputs": [
    {
     "data": {
      "text/plain": [
       "45"
      ]
     },
     "execution_count": 11,
     "metadata": {},
     "output_type": "execute_result"
    }
   ],
   "source": [
    "# number of conversation wth more than 512 words\n",
    "long_conversations = sum([1 if len(i.split()) > 512 else 0 for i in df['conversation']])\n",
    "long_conversations"
   ]
  },
  {
   "cell_type": "code",
   "execution_count": 12,
   "id": "552e753c",
   "metadata": {},
   "outputs": [
    {
     "data": {
      "text/plain": [
       "count    100.000000\n",
       "mean     505.030000\n",
       "std      109.652109\n",
       "min      272.000000\n",
       "25%      437.750000\n",
       "50%      496.000000\n",
       "75%      566.000000\n",
       "max      982.000000\n",
       "Name: conversation, dtype: float64"
      ]
     },
     "execution_count": 12,
     "metadata": {},
     "output_type": "execute_result"
    }
   ],
   "source": [
    "df['conversation'].str.split().apply(lambda x : len(x)).describe()"
   ]
  },
  {
   "cell_type": "code",
   "execution_count": 13,
   "id": "941e01f9",
   "metadata": {},
   "outputs": [
    {
     "data": {
      "text/plain": [
       "<seaborn.axisgrid.FacetGrid at 0x7fc751d0ef20>"
      ]
     },
     "execution_count": 13,
     "metadata": {},
     "output_type": "execute_result"
    },
    {
     "data": {
      "image/png": "[encoded data removed]",
      "text/plain": [
       "<Figure size 500x500 with 1 Axes>"
      ]
     },
     "metadata": {},
     "output_type": "display_data"
    }
   ],
   "source": [
    "lensofc = [len(i.split()) for i in df['conversation']]\n",
    "long_c_plot = sns.relplot(lensofc)\n",
    "long_c_plot.set_ylabels(\"Number of words\", clear_inner=False)\n",
    "long_c_plot.set_xlabels(\"Conversations\", clear_inner=False)"
   ]
  },
  {
   "cell_type": "code",
   "execution_count": 14,
   "id": "a6f51b3b",
   "metadata": {},
   "outputs": [],
   "source": [
    "#df['conversation'].loc[0]"
   ]
  },
  {
   "cell_type": "code",
   "execution_count": 15,
   "id": "9028358e",
   "metadata": {},
   "outputs": [],
   "source": [
    "# find conversations with more than 5000 words\n",
    "longs = [df.index[df['conversation'] == i].tolist()[0] for i in df['conversation'] if len(i.split()) > 4000]"
   ]
  },
  {
   "cell_type": "code",
   "execution_count": 16,
   "id": "78d958cc",
   "metadata": {},
   "outputs": [
    {
     "data": {
      "text/plain": [
       "[]"
      ]
     },
     "execution_count": 16,
     "metadata": {},
     "output_type": "execute_result"
    }
   ],
   "source": [
    "longs"
   ]
  },
  {
   "cell_type": "code",
   "execution_count": 17,
   "id": "1a3a4db2",
   "metadata": {},
   "outputs": [],
   "source": [
    "#lets drop long conversations\n",
    "df.drop(longs, axis=0, inplace=True)"
   ]
  },
  {
   "cell_type": "markdown",
   "id": "7e5110a5",
   "metadata": {},
   "source": [
    "---\n",
    "### Preaper dataset for classification"
   ]
  },
  {
   "cell_type": "code",
   "execution_count": 18,
   "id": "ca72843a",
   "metadata": {},
   "outputs": [
    {
     "data": {
      "text/plain": [
       "<Axes: xlabel='A_bad_intent', ylabel='count'>"
      ]
     },
     "execution_count": 18,
     "metadata": {},
     "output_type": "execute_result"
    },
    {
     "data": {
      "image/png": "[encoded data removed]",
      "text/plain": [
       "<Figure size 640x480 with 1 Axes>"
      ]
     },
     "metadata": {},
     "output_type": "display_data"
    }
   ],
   "source": [
    "sns.countplot(data = df, x= df['A_bad_intent'])"
   ]
  },
  {
   "cell_type": "code",
   "execution_count": 19,
   "id": "b2e46db4",
   "metadata": {},
   "outputs": [
    {
     "data": {
      "text/plain": [
       "<Axes: xlabel='B_bad_intent', ylabel='count'>"
      ]
     },
     "execution_count": 19,
     "metadata": {},
     "output_type": "execute_result"
    },
    {
     "data": {
      "image/png": "[encoded data removed]",
      "text/plain": [
       "<Figure size 640x480 with 1 Axes>"
      ]
     },
     "metadata": {},
     "output_type": "display_data"
    }
   ],
   "source": [
    "sns.countplot(data = df, x= df['B_bad_intent'])"
   ]
  },
  {
   "cell_type": "markdown",
   "id": "1a13cdb9",
   "metadata": {},
   "source": [
    "#### balance the dataset or evalue the classification by weighted F1 score???"
   ]
  },
  {
   "cell_type": "markdown",
   "id": "c84d0011",
   "metadata": {},
   "source": [
    "+ Normalization /scaling --> no need when using BERT\n",
    "+ Shuffling --> shuffle=True in train_test_split\n"
   ]
  },
  {
   "cell_type": "markdown",
   "id": "76da635e",
   "metadata": {},
   "source": [
    "---\n",
    "### Classification"
   ]
  },
  {
   "cell_type": "code",
   "execution_count": 20,
   "id": "9e790f47",
   "metadata": {},
   "outputs": [
    {
     "name": "stdout",
     "output_type": "stream",
     "text": [
      "There are 1 GPU(s) available.\n",
      "GPU: NVIDIA A100 80GB PCIe MIG 2g.20gb\n"
     ]
    }
   ],
   "source": [
    "# If there's a GPU available...\n",
    "if torch.cuda.is_available():      \n",
    "    device = torch.device(\"cuda\")\n",
    "    print('There are %d GPU(s) available.' % torch.cuda.device_count())\n",
    "    print('GPU:', torch.cuda.get_device_name(0))\n",
    "else:\n",
    "    print('using the CPU')\n",
    "    device = torch.device(\"cpu\")"
   ]
  },
  {
   "cell_type": "markdown",
   "id": "6715eaf4",
   "metadata": {},
   "source": [
    "---\n",
    "Classification Model, to label each actor in the conversation"
   ]
  },
  {
   "cell_type": "code",
   "execution_count": 21,
   "id": "d73bb946",
   "metadata": {},
   "outputs": [],
   "source": [
    "#@todo use BertForSequenceClassification instead of BertModel?\n",
    "\n",
    "class ParticipantClassifier(nn.Module):\n",
    "    def __init__(self, bert_model_name):\n",
    "        super(ParticipantClassifier, self).__init__()\n",
    "        self.bert = BertModel.from_pretrained(bert_model_name)\n",
    "        # add a linear layer that maps the hidden state to two outputs, labels\n",
    "        self.classifier = nn.Linear(self.bert.config.hidden_size, 2)\n",
    " \n",
    "    # input_ids, attention_mask are ouputs of tokenizer\n",
    "    def forward(self, input_ids, attention_mask):\n",
    "        # pass the input to the model\n",
    "        outputs = self.bert(input_ids=input_ids, attention_mask=attention_mask)\n",
    "        pooled_output = outputs[1]  # [CLS] token representation\n",
    "        logits = self.classifier(pooled_output)\n",
    "        # models confidence score for each calss\n",
    "        logits_a = logits[:, 0]\n",
    "        logits_b = logits[:, 1]\n",
    "        return logits_a, logits_b"
   ]
  },
  {
   "cell_type": "markdown",
   "id": "c08ccf09",
   "metadata": {},
   "source": [
    "---\n",
    "Tokenize and chunck conversations to segments with less than 512 tokens"
   ]
  },
  {
   "cell_type": "code",
   "execution_count": 22,
   "id": "42655e81",
   "metadata": {},
   "outputs": [],
   "source": [
    "class ConversationDataset(Dataset):\n",
    "    def __init__(self, data, tokenizer, max_length=512, overlap=25): # overlap hardcoded\n",
    "        self.data = data\n",
    "        self.tokenizer = tokenizer\n",
    "        self.max_length = max_length\n",
    "        self.overlap = overlap\n",
    "        \n",
    "    def __len__(self):\n",
    "        return len(self.data)\n",
    "    \n",
    "    def _tokenize(self, text):\n",
    "        \"\"\"Tokenize the text into overlapping segments.\"\"\"\n",
    "        tokens = self.tokenizer.encode(text, add_special_tokens=False)\n",
    "        segments = []\n",
    "        if len(tokens) > self.max_length - 2:  # for [CLS] and [SEP]\n",
    "            start = 0\n",
    "            while start < len(tokens):\n",
    "                end = min(start + self.max_length-2, len(tokens))\n",
    "                segment = tokens[start:end]\n",
    "                #segment = [self.tokenizer.cls_token_id] + segment + [self.tokenizer.sep_token_id] # do I need this?\n",
    "                #pad chunks up to the max length\n",
    "                #padded_segments = segments + [self.tokenizer.pad_token_id] * (self.max_length - len(segments))  # do I need this?\n",
    "                segments.append(segment)              \n",
    "                # update the start and end of the next chunk\n",
    "                start += self.max_length - self.overlap\n",
    "       \n",
    "        else:\n",
    "            segments.append(tokens)\n",
    "        return segments\n",
    "    \n",
    "    def __getitem__(self, idx):\n",
    "        text = self.data[idx]['conversation']\n",
    "        segments = self._tokenize(text)\n",
    "        # process each segment\n",
    "        inputs = [self.tokenizer.prepare_for_model(\n",
    "                    seg,\n",
    "                    add_special_tokens=False,  # I add special tokens manually\n",
    "                    max_length=self.max_length,\n",
    "                    padding='max_length',\n",
    "                    return_tensors='pt',\n",
    "                    truncation=True # \n",
    "                  ) for seg in segments]\n",
    "        \n",
    "        label_a = 1 if self.data[idx]['A_bad_intent'] == 1 else 0\n",
    "        label_b = 1 if self.data[idx]['B_bad_intent'] == 1 else 0\n",
    "        \n",
    "        # return a list of segments, each with its own input_ids and attention_mask\n",
    "        return {\n",
    "            'segments': [{\n",
    "                'input_ids': input['input_ids'].squeeze(),\n",
    "                'attention_mask': input['attention_mask'].squeeze()\n",
    "            } for input in inputs],\n",
    "            'A_bad_intent': label_a,\n",
    "            'B_bad_intent': label_b\n",
    "        }"
   ]
  },
  {
   "cell_type": "markdown",
   "id": "b8b5f368",
   "metadata": {},
   "source": [
    "---\n",
    "\n",
    "To ensure that each batch processed by the model has the same shape, collate_fn pads the sequences so that all data in a batch have the same length\n"
   ]
  },
  {
   "cell_type": "code",
   "execution_count": 23,
   "id": "fe2c87c6",
   "metadata": {},
   "outputs": [],
   "source": [
    "def collate_fn(batch):\n",
    "    \"\"\"\n",
    "    Custom collate function for handling batches of segmented conversations.\n",
    "    \"\"\"\n",
    "    # lists to store the sequences and labels for all segments across all batch items\n",
    "    input_ids_list = []\n",
    "    attention_mask_list = []\n",
    "    labels_a_list = []\n",
    "    labels_b_list = []\n",
    " \n",
    "    # list to store the segments for all batch items\n",
    "    batch_segments = []\n",
    " \n",
    "    for item in batch:\n",
    "        # accumulate the labels for each item in the batch\n",
    "        labels_a_list.append(item['A_bad_intent'])\n",
    "        labels_b_list.append(item['B_bad_intent'])\n",
    " \n",
    "        # collect segments from each item in the batch\n",
    "        item_segments = []\n",
    "        for segment in item['segments']:\n",
    "            # for each segment, extract input_ids and attention_mask\n",
    "            input_ids = segment['input_ids']\n",
    "            attention_mask = segment['attention_mask']\n",
    " \n",
    "            # append the segment's input_ids and attention_mask to the respective lists\n",
    "            input_ids_list.append(input_ids)\n",
    "            attention_mask_list.append(attention_mask)\n",
    " \n",
    "            # also collect segments for this item\n",
    "            item_segments.append({\n",
    "                'input_ids': input_ids,\n",
    "                'attention_mask': attention_mask\n",
    "            })\n",
    " \n",
    "        batch_segments.append(item_segments)\n",
    " \n",
    "    # pad the sequences so that each sequence in the batch has the same length\n",
    "    input_ids_padded = pad_sequence(input_ids_list, batch_first=True, padding_value=0)\n",
    "    attention_mask_padded = pad_sequence(attention_mask_list, batch_first=True, padding_value=0)\n",
    "    # convert labels lists to tensors\n",
    "    labels_a = torch.tensor(labels_a_list)\n",
    "    labels_b = torch.tensor(labels_b_list)\n",
    " \n",
    "    # return the dictionary with padded 'input_ids', 'attention_mask' and 'segments'\n",
    "    return {\n",
    "        'segments': batch_segments,\n",
    "        'input_ids': input_ids_padded,\n",
    "        'attention_mask': attention_mask_padded,\n",
    "        'A_bad_intent': labels_a,\n",
    "        'B_bad_intent': labels_b\n",
    "    }"
   ]
  },
  {
   "cell_type": "markdown",
   "id": "d8f0061c",
   "metadata": {},
   "source": [
    "---\n",
    "To feed the text to BERT, first it must be split into tokens, and then these tokens must be mapped to their index in the tokenizer vocabulary."
   ]
  },
  {
   "cell_type": "code",
   "execution_count": 24,
   "id": "335581bf",
   "metadata": {},
   "outputs": [],
   "source": [
    "#bert-base-uncased model has only lowercase letters!\n",
    "# bert-base-cased: This model is case-sensitive: it makes a difference between english and English.\n",
    "tokenizer = BertTokenizer.from_pretrained('bert-base-cased', do_lower_case=False) \n"
   ]
  },
  {
   "cell_type": "code",
   "execution_count": 25,
   "id": "cca4becb",
   "metadata": {},
   "outputs": [],
   "source": [
    "#Train Test Validation split\n",
    "\n",
    "# shuffle the DataFrame\n",
    "df = df.sample(frac=1).reset_index(drop=True)\n",
    " \n",
    "# define split sizes\n",
    "train_size = int(0.7 * len(df)) # reduced train data to 50% to resolve cuda out of memory problem\n",
    "val_size = int(0.15 * len(df))\n",
    " \n",
    "# split the DataFrame\n",
    "train_df = df[:train_size]\n",
    "val_df = df[train_size:train_size + val_size]\n",
    "test_df = df[train_size + val_size:]\n",
    " "
   ]
  },
  {
   "cell_type": "code",
   "execution_count": 26,
   "id": "02483138",
   "metadata": {},
   "outputs": [],
   "source": [
    "train_data = train_df.to_dict('records')\n",
    "val_data = val_df.to_dict('records')\n",
    "test_data = test_df.to_dict('records')\n",
    "#data\n",
    "# Get the lists of sentences and their labels.\n",
    "#data = df.conversation.values\n",
    "#labels = df.target.values"
   ]
  },
  {
   "cell_type": "code",
   "execution_count": 27,
   "id": "f96c6c62",
   "metadata": {},
   "outputs": [
    {
     "name": "stdout",
     "output_type": "stream",
     "text": [
      " Original:  {'category': 'none of participants in conversation try to deceive the other one', 'conversation': \"[CLS]A: Hey! How’s your day going?[SEP]B: Not too bad, thanks for asking. Just plugging away at this report for work. How about you?[SEP]A: Pretty good! I started my morning with a jog, which felt great. I’m trying to make that a regular thing.[SEP]B: That’s awesome. I keep meaning to get into a better exercise routine myself. Do you usually jog in the mornings?[SEP]A: I’m trying to. It helps me wake up and feel more energized for the day ahead. What kind of exercise do you enjoy?[SEP]B: I’m more of a bike person. There’s this nice trail near where I live that’s perfect for cycling. I just need to get back into the habit of doing it regularly.[SEP]A: Cycling sounds fun. Maybe we could go together sometime? It might be a nice change from jogging.[SEP]B: I’d like that. It’s always more enjoyable to have someone to ride with. Maybe this weekend?[SEP]A: Yeah, this weekend works for me. Should we say Saturday morning?[SEP]B: Saturday morning is perfect. Let’s aim for 8 AM? That way we beat the heat and the crowds.[SEP]A: 8 AM it is. I’m looking forward to it. Do you need to rent a bike, or do you have your own?[SEP]B: I’ve got my own, thankfully. It’s been gathering a bit of dust, but it should be fine once I give it a quick tune-up.[SEP]A: Nice. I’ll make sure to bring my own bike too. Do you want to grab breakfast or a coffee afterward?[SEP]B: B:reakfast sounds great. There’s that new café that opened up not far from the trail. We could check it out.[SEP]A: Oh, I’ve heard about that place. They’re supposed to have amazing omelets. Let’s do it.[SEP]B: Perfect. It’s a plan. B:esides cycling, have you been working on any other hobbies lately?[SEP]A: Actually, I’ve been getting into photography. I bought a decent camera and have been taking it out on weekends to practice.[SEP]B: That's cool! Are you focusing on any particular style or subject?[SEP]A: I’m really into landscape photography. There’s something about capturing the beauty of nature that’s really calming.[SEP]B: I bet. And it must be nice to have those images as memories of your outings.[SEP]A: For sure. Do you have any hobbies you’re passionate about?[SEP]B: I'm quite into gardening. There's something incredibly satisfying about nurturing plants and watching them grow.[SEP]A: That’s a great hobby. I don’t have much of a green thumb, but I can imagine it’s very rewarding.[SEP]B: It is, and you'd be surprised at how much you can learn by just starting with a few easy-to-care-for plants.[SEP]A: Maybe you can teach me a thing or two about starting my own garden. I’d like to grow some herbs on my kitchen windowsill.[SEP]B: Absolutely, I'd love to help. Growing your own herbs is easy and they’re great to have on hand for cooking.[SEP]A: That would be fantastic. Thanks! Well, I should get back to my tasks for the day. B:ut I'm really looking forward to our bike ride this weekend.[SEP]B: Me too. I'll see you Saturday then. Have a great rest of the day![SEP]A: You too. Take care![SEP]B:[SEP]\", 'word_count': 572, 'A_bad_intent': 0.0, 'B_bad_intent': 0.0, 'description': nan}\n",
      "Tokenized:  ['[CLS]', 'A', ':', 'Hey', '!', 'How', '’', 's', 'your', 'day', 'going', '?', '[SEP]', 'B', ':', 'Not', 'too', 'bad', ',', 'thanks', 'for', 'asking', '.', 'Just', 'plug', '##ging', 'away', 'at', 'this', 'report', 'for', 'work', '.', 'How', 'about', 'you', '?', '[SEP]', 'A', ':', 'Pretty', 'good', '!', 'I', 'started', 'my', 'morning', 'with', 'a', 'j', '##og', ',', 'which', 'felt', 'great', '.', 'I', '’', 'm', 'trying', 'to', 'make', 'that', 'a', 'regular', 'thing', '.', '[SEP]', 'B', ':', 'That', '’', 's', 'awesome', '.', 'I', 'keep', 'meaning', 'to', 'get', 'into', 'a', 'better', 'exercise', 'routine', 'myself', '.', 'Do', 'you', 'usually', 'j', '##og', 'in', 'the', 'mornings', '?', '[SEP]', 'A', ':', 'I', '’', 'm', 'trying', 'to', '.', 'It', 'helps', 'me', 'wake', 'up', 'and', 'feel', 'more', 'en', '##er', '##gi', '##zed', 'for', 'the', 'day', 'ahead', '.', 'What', 'kind', 'of', 'exercise', 'do', 'you', 'enjoy', '?', '[SEP]', 'B', ':', 'I', '’', 'm', 'more', 'of', 'a', 'bike', 'person', '.', 'There', '’', 's', 'this', 'nice', 'trail', 'near', 'where', 'I', 'live', 'that', '’', 's', 'perfect', 'for', 'cycling', '.', 'I', 'just', 'need', 'to', 'get', 'back', 'into', 'the', 'habit', 'of', 'doing', 'it', 'regularly', '.', '[SEP]', 'A', ':', 'Cycling', 'sounds', 'fun', '.', 'Maybe', 'we', 'could', 'go', 'together', 'sometime', '?', 'It', 'might', 'be', 'a', 'nice', 'change', 'from', 'j', '##og', '##ging', '.', '[SEP]', 'B', ':', 'I', '’', 'd', 'like', 'that', '.', 'It', '’', 's', 'always', 'more', 'enjoyable', 'to', 'have', 'someone', 'to', 'ride', 'with', '.', 'Maybe', 'this', 'weekend', '?', '[SEP]', 'A', ':', 'Yeah', ',', 'this', 'weekend', 'works', 'for', 'me', '.', 'Should', 'we', 'say', 'Saturday', 'morning', '?', '[SEP]', 'B', ':', 'Saturday', 'morning', 'is', 'perfect', '.', 'Let', '’', 's', 'aim', 'for', '8', 'AM', '?', 'That', 'way', 'we', 'beat', 'the', 'heat', 'and', 'the', 'crowds', '.', '[SEP]', 'A', ':', '8', 'AM', 'it', 'is', '.', 'I', '’', 'm', 'looking', 'forward', 'to', 'it', '.', 'Do', 'you', 'need', 'to', 'rent', 'a', 'bike', ',', 'or', 'do', 'you', 'have', 'your', 'own', '?', '[SEP]', 'B', ':', 'I', '’', 've', 'got', 'my', 'own', ',', 'thankful', '##ly', '.', 'It', '’', 's', 'been', 'gathering', 'a', 'bit', 'of', 'dust', ',', 'but', 'it', 'should', 'be', 'fine', 'once', 'I', 'give', 'it', 'a', 'quick', 'tune', '-', 'up', '.', '[SEP]', 'A', ':', 'Nice', '.', 'I', '’', 'll', 'make', 'sure', 'to', 'bring', 'my', 'own', 'bike', 'too', '.', 'Do', 'you', 'want', 'to', 'grab', 'breakfast', 'or', 'a', 'coffee', 'afterward', '?', '[SEP]', 'B', ':', 'B', ':', 're', '##ak', '##fast', 'sounds', 'great', '.', 'There', '’', 's', 'that', 'new', 'café', 'that', 'opened', 'up', 'not', 'far', 'from', 'the', 'trail', '.', 'We', 'could', 'check', 'it', 'out', '.', '[SEP]', 'A', ':', 'Oh', ',', 'I', '’', 've', 'heard', 'about', 'that', 'place', '.', 'They', '’', 're', 'supposed', 'to', 'have', 'amazing', 'o', '##mel', '##ets', '.', 'Let', '’', 's', 'do', 'it', '.', '[SEP]', 'B', ':', 'Perfect', '.', 'It', '’', 's', 'a', 'plan', '.', 'B', ':', 'es', '##ides', 'cycling', ',', 'have', 'you', 'been', 'working', 'on', 'any', 'other', 'ho', '##bb', '##ies', 'lately', '?', '[SEP]', 'A', ':', 'Actually', ',', 'I', '’', 've', 'been', 'getting', 'into', 'photography', '.', 'I', 'bought', 'a', 'decent', 'camera', 'and', 'have', 'been', 'taking', 'it', 'out', 'on', 'weekends', 'to', 'practice', '.', '[SEP]', 'B', ':', 'That', \"'\", 's', 'cool', '!', 'Are', 'you', 'focusing', 'on', 'any', 'particular', 'style', 'or', 'subject', '?', '[SEP]', 'A', ':', 'I', '’', 'm', 'really', 'into', 'landscape', 'photography', '.', 'There', '’', 's', 'something', 'about', 'capturing', 'the', 'beauty', 'of', 'nature', 'that', '’', 's', 'really', 'calming', '.', '[SEP]', 'B', ':', 'I', 'bet', '.', 'And', 'it', 'must', 'be', 'nice', 'to', 'have', 'those', 'images', 'as', 'memories', 'of', 'your', 'out', '##ings', '.', '[SEP]', 'A', ':', 'For', 'sure', '.', 'Do', 'you', 'have', 'any', 'ho', '##bb', '##ies', 'you', '’', 're', 'passionate', 'about', '?', '[SEP]', 'B', ':', 'I', \"'\", 'm', 'quite', 'into', 'gardening', '.', 'There', \"'\", 's', 'something', 'incredibly', 'satisfying', 'about', 'n', '##urt', '##uring', 'plants', 'and', 'watching', 'them', 'grow', '.', '[SEP]', 'A', ':', 'That', '’', 's', 'a', 'great', 'hobby', '.', 'I', 'don', '’', 't', 'have', 'much', 'of', 'a', 'green', 'thumb', ',', 'but', 'I', 'can', 'imagine', 'it', '’', 's', 'very', 'reward', '##ing', '.', '[SEP]', 'B', ':', 'It', 'is', ',', 'and', 'you', \"'\", 'd', 'be', 'surprised', 'at', 'how', 'much', 'you', 'can', 'learn', 'by', 'just', 'starting', 'with', 'a', 'few', 'easy', '-', 'to', '-', 'care', '-', 'for', 'plants', '.', '[SEP]', 'A', ':', 'Maybe', 'you', 'can', 'teach', 'me', 'a', 'thing', 'or', 'two', 'about', 'starting', 'my', 'own', 'garden', '.', 'I', '’', 'd', 'like', 'to', 'grow', 'some', 'herbs', 'on', 'my', 'kitchen', 'windows', '##ill', '.', '[SEP]', 'B', ':', 'Absolutely', ',', 'I', \"'\", 'd', 'love', 'to', 'help', '.', 'Growing', 'your', 'own', 'herbs', 'is', 'easy', 'and', 'they', '’', 're', 'great', 'to', 'have', 'on', 'hand', 'for', 'cooking', '.', '[SEP]', 'A', ':', 'That', 'would', 'be', 'fantastic', '.', 'Thanks', '!', 'Well', ',', 'I', 'should', 'get', 'back', 'to', 'my', 'tasks', 'for', 'the', 'day', '.', 'B', ':', 'u', '##t', 'I', \"'\", 'm', 'really', 'looking', 'forward', 'to', 'our', 'bike', 'ride', 'this', 'weekend', '.', '[SEP]', 'B', ':', 'Me', 'too', '.', 'I', \"'\", 'll', 'see', 'you', 'Saturday', 'then', '.', 'Have', 'a', 'great', 'rest', 'of', 'the', 'day', '!', '[SEP]', 'A', ':', 'You', 'too', '.', 'Take', 'care', '!', '[SEP]', 'B', ':', '[SEP]']\n",
      "Token IDs:  [101, 138, 131, 4403, 106, 1731, 787, 188, 1240, 1285, 1280, 136, 102, 139, 131, 1753, 1315, 2213, 117, 5438, 1111, 4107, 119, 2066, 15244, 3375, 1283, 1120, 1142, 2592, 1111, 1250, 119, 1731, 1164, 1128, 136, 102, 138, 131, 12004, 1363, 106, 146, 1408, 1139, 2106, 1114, 170, 179, 8032, 117, 1134, 1464, 1632, 119, 146, 787, 182, 1774, 1106, 1294, 1115, 170, 2366, 1645, 119, 102, 139, 131, 1337, 787, 188, 14918, 119, 146, 1712, 2764, 1106, 1243, 1154, 170, 1618, 6730, 9285, 1991, 119, 2091, 1128, 1932, 179, 8032, 1107, 1103, 19622, 136, 102, 138, 131, 146, 787, 182, 1774, 1106, 119, 1135, 6618, 1143, 5314, 1146, 1105, 1631, 1167, 4035, 1200, 5389, 5305, 1111, 1103, 1285, 3075, 119, 1327, 1912, 1104, 6730, 1202, 1128, 5548, 136, 102, 139, 131, 146, 787, 182, 1167, 1104, 170, 8295, 1825, 119, 1247, 787, 188, 1142, 3505, 5126, 1485, 1187, 146, 1686, 1115, 787, 188, 3264, 1111, 12951, 119, 146, 1198, 1444, 1106, 1243, 1171, 1154, 1103, 10671, 1104, 1833, 1122, 4857, 119, 102, 138, 131, 18934, 3807, 4106, 119, 2389, 1195, 1180, 1301, 1487, 9961, 136, 1135, 1547, 1129, 170, 3505, 1849, 1121, 179, 8032, 3375, 119, 102, 139, 131, 146, 787, 173, 1176, 1115, 119, 1135, 787, 188, 1579, 1167, 24815, 1106, 1138, 1800, 1106, 4176, 1114, 119, 2389, 1142, 5138, 136, 102, 138, 131, 2814, 117, 1142, 5138, 1759, 1111, 1143, 119, 9743, 1195, 1474, 4306, 2106, 136, 102, 139, 131, 4306, 2106, 1110, 3264, 119, 2421, 787, 188, 6457, 1111, 129, 6586, 136, 1337, 1236, 1195, 3222, 1103, 3208, 1105, 1103, 13484, 119, 102, 138, 131, 129, 6586, 1122, 1110, 119, 146, 787, 182, 1702, 1977, 1106, 1122, 119, 2091, 1128, 1444, 1106, 9795, 170, 8295, 117, 1137, 1202, 1128, 1138, 1240, 1319, 136, 102, 139, 131, 146, 787, 1396, 1400, 1139, 1319, 117, 21602, 1193, 119, 1135, 787, 188, 1151, 7410, 170, 2113, 1104, 6693, 117, 1133, 1122, 1431, 1129, 2503, 1517, 146, 1660, 1122, 170, 3613, 9253, 118, 1146, 119, 102, 138, 131, 8835, 119, 146, 787, 1325, 1294, 1612, 1106, 2498, 1139, 1319, 8295, 1315, 119, 2091, 1128, 1328, 1106, 6387, 6462, 1137, 170, 3538, 11343, 136, 102, 139, 131, 139, 131, 1231, 3715, 27704, 3807, 1632, 119, 1247, 787, 188, 1115, 1207, 20583, 1115, 1533, 1146, 1136, 1677, 1121, 1103, 5126, 119, 1284, 1180, 4031, 1122, 1149, 119, 102, 138, 131, 2048, 117, 146, 787, 1396, 1767, 1164, 1115, 1282, 119, 1220, 787, 1231, 3155, 1106, 1138, 6929, 184, 10212, 6248, 119, 2421, 787, 188, 1202, 1122, 119, 102, 139, 131, 12174, 119, 1135, 787, 188, 170, 2197, 119, 139, 131, 13936, 8959, 12951, 117, 1138, 1128, 1151, 1684, 1113, 1251, 1168, 16358, 13834, 1905, 10634, 136, 102, 138, 131, 10188, 117, 146, 787, 1396, 1151, 2033, 1154, 6427, 119, 146, 3306, 170, 11858, 4504, 1105, 1138, 1151, 1781, 1122, 1149, 1113, 14464, 1106, 2415, 119, 102, 139, 131, 1337, 112, 188, 4348, 106, 2372, 1128, 7781, 1113, 1251, 2440, 1947, 1137, 2548, 136, 102, 138, 131, 146, 787, 182, 1541, 1154, 5882, 6427, 119, 1247, 787, 188, 1380, 1164, 12203, 1103, 5295, 1104, 2731, 1115, 787, 188, 1541, 27047, 119, 102, 139, 131, 146, 7023, 119, 1262, 1122, 1538, 1129, 3505, 1106, 1138, 1343, 4351, 1112, 5628, 1104, 1240, 1149, 5018, 119, 102, 138, 131, 1370, 1612, 119, 2091, 1128, 1138, 1251, 16358, 13834, 1905, 1128, 787, 1231, 14472, 1164, 136, 102, 139, 131, 146, 112, 182, 2385, 1154, 27045, 119, 1247, 112, 188, 1380, 12170, 18330, 1164, 183, 12549, 6660, 3546, 1105, 2903, 1172, 4328, 119, 102, 138, 131, 1337, 787, 188, 170, 1632, 22510, 119, 146, 1274, 787, 189, 1138, 1277, 1104, 170, 2448, 7446, 117, 1133, 146, 1169, 5403, 1122, 787, 188, 1304, 10703, 1158, 119, 102, 139, 131, 1135, 1110, 117, 1105, 1128, 112, 173, 1129, 3753, 1120, 1293, 1277, 1128, 1169, 3858, 1118, 1198, 2547, 1114, 170, 1374, 3123, 118, 1106, 118, 1920, 118, 1111, 3546, 119, 102, 138, 131, 2389, 1128, 1169, 6215, 1143, 170, 1645, 1137, 1160, 1164, 2547, 1139, 1319, 4605, 119, 146, 787, 173, 1176, 1106, 4328, 1199, 19933, 1113, 1139, 3119, 3751, 7956, 119, 102, 139, 131, 24107, 117, 146, 112, 173, 1567, 1106, 1494, 119, 20612, 1240, 1319, 19933, 1110, 3123, 1105, 1152, 787, 1231, 1632, 1106, 1138, 1113, 1289, 1111, 8739, 119, 102, 138, 131, 1337, 1156, 1129, 14820, 119, 5749, 106, 2119, 117, 146, 1431, 1243, 1171, 1106, 1139, 8249, 1111, 1103, 1285, 119, 139, 131, 190, 1204, 146, 112, 182, 1541, 1702, 1977, 1106, 1412, 8295, 4176, 1142, 5138, 119, 102, 139, 131, 2508, 1315, 119, 146, 112, 1325, 1267, 1128, 4306, 1173, 119, 4373, 170, 1632, 1832, 1104, 1103, 1285, 106, 102, 138, 131, 1192, 1315, 119, 5055, 1920, 106, 102, 139, 131, 102]\n"
     ]
    }
   ],
   "source": [
    "# Print the original conversation.\n",
    "print(' Original: ', train_data[30])\n",
    "# Print that split into tokens.\n",
    "tokenized_sample = tokenizer.tokenize(train_data[30]['conversation'])\n",
    "print('Tokenized: ', tokenized_sample)\n",
    "# Print mapped to token ids.\n",
    "print('Token IDs: ', tokenizer.convert_tokens_to_ids(tokenized_sample))"
   ]
  },
  {
   "cell_type": "code",
   "execution_count": 28,
   "id": "2a342912",
   "metadata": {},
   "outputs": [],
   "source": [
    "# batch and suffle the data\n",
    "\n",
    "train_dataset = ConversationDataset(train_data, tokenizer, max_length=512)\n",
    "train_dataloader = DataLoader(train_dataset, batch_size=8, shuffle=True ,collate_fn=collate_fn)\n",
    "\n",
    "val_dataset = ConversationDataset(val_data, tokenizer, max_length=512)\n",
    "val_dataloader = DataLoader(val_dataset, batch_size=8, shuffle=True, collate_fn=collate_fn)\n",
    "\n",
    "test_dataset = ConversationDataset(test_data, tokenizer, max_length=512)\n",
    "test_dataloader = DataLoader(test_dataset, batch_size=8, shuffle=True, collate_fn=collate_fn)"
   ]
  },
  {
   "cell_type": "code",
   "execution_count": 29,
   "id": "f0e129ea",
   "metadata": {},
   "outputs": [
    {
     "name": "stderr",
     "output_type": "stream",
     "text": [
      "Token indices sequence length is longer than the specified maximum sequence length for this model (798 > 512). Running this sequence through the model will result in indexing errors\n"
     ]
    },
    {
     "data": {
      "text/plain": [
       "{'segments': [{'input_ids': tensor([  101,   138,   131,  4403,   106,  1731,   787,   188,  1240,  1285,\n",
       "            1280,   136,   102,   139,   131,  1753,  1315,  2213,   117,  5438,\n",
       "            1111,  4107,   119,  2066, 15244,  3375,  1283,  1120,  1142,  2592,\n",
       "            1111,  1250,   119,  1731,  1164,  1128,   136,   102,   138,   131,\n",
       "           12004,  1363,   106,   146,  1408,  1139,  2106,  1114,   170,   179,\n",
       "            8032,   117,  1134,  1464,  1632,   119,   146,   787,   182,  1774,\n",
       "            1106,  1294,  1115,   170,  2366,  1645,   119,   102,   139,   131,\n",
       "            1337,   787,   188, 14918,   119,   146,  1712,  2764,  1106,  1243,\n",
       "            1154,   170,  1618,  6730,  9285,  1991,   119,  2091,  1128,  1932,\n",
       "             179,  8032,  1107,  1103, 19622,   136,   102,   138,   131,   146,\n",
       "             787,   182,  1774,  1106,   119,  1135,  6618,  1143,  5314,  1146,\n",
       "            1105,  1631,  1167,  4035,  1200,  5389,  5305,  1111,  1103,  1285,\n",
       "            3075,   119,  1327,  1912,  1104,  6730,  1202,  1128,  5548,   136,\n",
       "             102,   139,   131,   146,   787,   182,  1167,  1104,   170,  8295,\n",
       "            1825,   119,  1247,   787,   188,  1142,  3505,  5126,  1485,  1187,\n",
       "             146,  1686,  1115,   787,   188,  3264,  1111, 12951,   119,   146,\n",
       "            1198,  1444,  1106,  1243,  1171,  1154,  1103, 10671,  1104,  1833,\n",
       "            1122,  4857,   119,   102,   138,   131, 18934,  3807,  4106,   119,\n",
       "            2389,  1195,  1180,  1301,  1487,  9961,   136,  1135,  1547,  1129,\n",
       "             170,  3505,  1849,  1121,   179,  8032,  3375,   119,   102,   139,\n",
       "             131,   146,   787,   173,  1176,  1115,   119,  1135,   787,   188,\n",
       "            1579,  1167, 24815,  1106,  1138,  1800,  1106,  4176,  1114,   119,\n",
       "            2389,  1142,  5138,   136,   102,   138,   131,  2814,   117,  1142,\n",
       "            5138,  1759,  1111,  1143,   119,  9743,  1195,  1474,  4306,  2106,\n",
       "             136,   102,   139,   131,  4306,  2106,  1110,  3264,   119,  2421,\n",
       "             787,   188,  6457,  1111,   129,  6586,   136,  1337,  1236,  1195,\n",
       "            3222,  1103,  3208,  1105,  1103, 13484,   119,   102,   138,   131,\n",
       "             129,  6586,  1122,  1110,   119,   146,   787,   182,  1702,  1977,\n",
       "            1106,  1122,   119,  2091,  1128,  1444,  1106,  9795,   170,  8295,\n",
       "             117,  1137,  1202,  1128,  1138,  1240,  1319,   136,   102,   139,\n",
       "             131,   146,   787,  1396,  1400,  1139,  1319,   117, 21602,  1193,\n",
       "             119,  1135,   787,   188,  1151,  7410,   170,  2113,  1104,  6693,\n",
       "             117,  1133,  1122,  1431,  1129,  2503,  1517,   146,  1660,  1122,\n",
       "             170,  3613,  9253,   118,  1146,   119,   102,   138,   131,  8835,\n",
       "             119,   146,   787,  1325,  1294,  1612,  1106,  2498,  1139,  1319,\n",
       "            8295,  1315,   119,  2091,  1128,  1328,  1106,  6387,  6462,  1137,\n",
       "             170,  3538, 11343,   136,   102,   139,   131,   139,   131,  1231,\n",
       "            3715, 27704,  3807,  1632,   119,  1247,   787,   188,  1115,  1207,\n",
       "           20583,  1115,  1533,  1146,  1136,  1677,  1121,  1103,  5126,   119,\n",
       "            1284,  1180,  4031,  1122,  1149,   119,   102,   138,   131,  2048,\n",
       "             117,   146,   787,  1396,  1767,  1164,  1115,  1282,   119,  1220,\n",
       "             787,  1231,  3155,  1106,  1138,  6929,   184, 10212,  6248,   119,\n",
       "            2421,   787,   188,  1202,  1122,   119,   102,   139,   131, 12174,\n",
       "             119,  1135,   787,   188,   170,  2197,   119,   139,   131, 13936,\n",
       "            8959, 12951,   117,  1138,  1128,  1151,  1684,  1113,  1251,  1168,\n",
       "           16358, 13834,  1905, 10634,   136,   102,   138,   131, 10188,   117,\n",
       "             146,   787,  1396,  1151,  2033,  1154,  6427,   119,   146,  3306,\n",
       "             170, 11858,  4504,  1105,  1138,  1151,  1781,  1122,  1149,  1113,\n",
       "           14464,  1106,  2415,   119,   102,   139,   131,  1337,   112,   188,\n",
       "            4348,   106,  2372,  1128,  7781,  1113,  1251,  2440,  1947,  1137,\n",
       "            2548,   136,   102,   138,   131,   146,   787,   182,  1541,  1154,\n",
       "               0,     0]),\n",
       "   'attention_mask': tensor([1, 1, 1, 1, 1, 1, 1, 1, 1, 1, 1, 1, 1, 1, 1, 1, 1, 1, 1, 1, 1, 1, 1, 1,\n",
       "           1, 1, 1, 1, 1, 1, 1, 1, 1, 1, 1, 1, 1, 1, 1, 1, 1, 1, 1, 1, 1, 1, 1, 1,\n",
       "           1, 1, 1, 1, 1, 1, 1, 1, 1, 1, 1, 1, 1, 1, 1, 1, 1, 1, 1, 1, 1, 1, 1, 1,\n",
       "           1, 1, 1, 1, 1, 1, 1, 1, 1, 1, 1, 1, 1, 1, 1, 1, 1, 1, 1, 1, 1, 1, 1, 1,\n",
       "           1, 1, 1, 1, 1, 1, 1, 1, 1, 1, 1, 1, 1, 1, 1, 1, 1, 1, 1, 1, 1, 1, 1, 1,\n",
       "           1, 1, 1, 1, 1, 1, 1, 1, 1, 1, 1, 1, 1, 1, 1, 1, 1, 1, 1, 1, 1, 1, 1, 1,\n",
       "           1, 1, 1, 1, 1, 1, 1, 1, 1, 1, 1, 1, 1, 1, 1, 1, 1, 1, 1, 1, 1, 1, 1, 1,\n",
       "           1, 1, 1, 1, 1, 1, 1, 1, 1, 1, 1, 1, 1, 1, 1, 1, 1, 1, 1, 1, 1, 1, 1, 1,\n",
       "           1, 1, 1, 1, 1, 1, 1, 1, 1, 1, 1, 1, 1, 1, 1, 1, 1, 1, 1, 1, 1, 1, 1, 1,\n",
       "           1, 1, 1, 1, 1, 1, 1, 1, 1, 1, 1, 1, 1, 1, 1, 1, 1, 1, 1, 1, 1, 1, 1, 1,\n",
       "           1, 1, 1, 1, 1, 1, 1, 1, 1, 1, 1, 1, 1, 1, 1, 1, 1, 1, 1, 1, 1, 1, 1, 1,\n",
       "           1, 1, 1, 1, 1, 1, 1, 1, 1, 1, 1, 1, 1, 1, 1, 1, 1, 1, 1, 1, 1, 1, 1, 1,\n",
       "           1, 1, 1, 1, 1, 1, 1, 1, 1, 1, 1, 1, 1, 1, 1, 1, 1, 1, 1, 1, 1, 1, 1, 1,\n",
       "           1, 1, 1, 1, 1, 1, 1, 1, 1, 1, 1, 1, 1, 1, 1, 1, 1, 1, 1, 1, 1, 1, 1, 1,\n",
       "           1, 1, 1, 1, 1, 1, 1, 1, 1, 1, 1, 1, 1, 1, 1, 1, 1, 1, 1, 1, 1, 1, 1, 1,\n",
       "           1, 1, 1, 1, 1, 1, 1, 1, 1, 1, 1, 1, 1, 1, 1, 1, 1, 1, 1, 1, 1, 1, 1, 1,\n",
       "           1, 1, 1, 1, 1, 1, 1, 1, 1, 1, 1, 1, 1, 1, 1, 1, 1, 1, 1, 1, 1, 1, 1, 1,\n",
       "           1, 1, 1, 1, 1, 1, 1, 1, 1, 1, 1, 1, 1, 1, 1, 1, 1, 1, 1, 1, 1, 1, 1, 1,\n",
       "           1, 1, 1, 1, 1, 1, 1, 1, 1, 1, 1, 1, 1, 1, 1, 1, 1, 1, 1, 1, 1, 1, 1, 1,\n",
       "           1, 1, 1, 1, 1, 1, 1, 1, 1, 1, 1, 1, 1, 1, 1, 1, 1, 1, 1, 1, 1, 1, 1, 1,\n",
       "           1, 1, 1, 1, 1, 1, 1, 1, 1, 1, 1, 1, 1, 1, 1, 1, 1, 1, 1, 1, 1, 1, 1, 1,\n",
       "           1, 1, 1, 1, 1, 1, 0, 0])},\n",
       "  {'input_ids': tensor([ 1337,   112,   188,  4348,   106,  2372,  1128,  7781,  1113,  1251,\n",
       "            2440,  1947,  1137,  2548,   136,   102,   138,   131,   146,   787,\n",
       "             182,  1541,  1154,  5882,  6427,   119,  1247,   787,   188,  1380,\n",
       "            1164, 12203,  1103,  5295,  1104,  2731,  1115,   787,   188,  1541,\n",
       "           27047,   119,   102,   139,   131,   146,  7023,   119,  1262,  1122,\n",
       "            1538,  1129,  3505,  1106,  1138,  1343,  4351,  1112,  5628,  1104,\n",
       "            1240,  1149,  5018,   119,   102,   138,   131,  1370,  1612,   119,\n",
       "            2091,  1128,  1138,  1251, 16358, 13834,  1905,  1128,   787,  1231,\n",
       "           14472,  1164,   136,   102,   139,   131,   146,   112,   182,  2385,\n",
       "            1154, 27045,   119,  1247,   112,   188,  1380, 12170, 18330,  1164,\n",
       "             183, 12549,  6660,  3546,  1105,  2903,  1172,  4328,   119,   102,\n",
       "             138,   131,  1337,   787,   188,   170,  1632, 22510,   119,   146,\n",
       "            1274,   787,   189,  1138,  1277,  1104,   170,  2448,  7446,   117,\n",
       "            1133,   146,  1169,  5403,  1122,   787,   188,  1304, 10703,  1158,\n",
       "             119,   102,   139,   131,  1135,  1110,   117,  1105,  1128,   112,\n",
       "             173,  1129,  3753,  1120,  1293,  1277,  1128,  1169,  3858,  1118,\n",
       "            1198,  2547,  1114,   170,  1374,  3123,   118,  1106,   118,  1920,\n",
       "             118,  1111,  3546,   119,   102,   138,   131,  2389,  1128,  1169,\n",
       "            6215,  1143,   170,  1645,  1137,  1160,  1164,  2547,  1139,  1319,\n",
       "            4605,   119,   146,   787,   173,  1176,  1106,  4328,  1199, 19933,\n",
       "            1113,  1139,  3119,  3751,  7956,   119,   102,   139,   131, 24107,\n",
       "             117,   146,   112,   173,  1567,  1106,  1494,   119, 20612,  1240,\n",
       "            1319, 19933,  1110,  3123,  1105,  1152,   787,  1231,  1632,  1106,\n",
       "            1138,  1113,  1289,  1111,  8739,   119,   102,   138,   131,  1337,\n",
       "            1156,  1129, 14820,   119,  5749,   106,  2119,   117,   146,  1431,\n",
       "            1243,  1171,  1106,  1139,  8249,  1111,  1103,  1285,   119,   139,\n",
       "             131,   190,  1204,   146,   112,   182,  1541,  1702,  1977,  1106,\n",
       "            1412,  8295,  4176,  1142,  5138,   119,   102,   139,   131,  2508,\n",
       "            1315,   119,   146,   112,  1325,  1267,  1128,  4306,  1173,   119,\n",
       "            4373,   170,  1632,  1832,  1104,  1103,  1285,   106,   102,   138,\n",
       "             131,  1192,  1315,   119,  5055,  1920,   106,   102,   139,   131,\n",
       "             102,     0,     0,     0,     0,     0,     0,     0,     0,     0,\n",
       "               0,     0,     0,     0,     0,     0,     0,     0,     0,     0,\n",
       "               0,     0,     0,     0,     0,     0,     0,     0,     0,     0,\n",
       "               0,     0,     0,     0,     0,     0,     0,     0,     0,     0,\n",
       "               0,     0,     0,     0,     0,     0,     0,     0,     0,     0,\n",
       "               0,     0,     0,     0,     0,     0,     0,     0,     0,     0,\n",
       "               0,     0,     0,     0,     0,     0,     0,     0,     0,     0,\n",
       "               0,     0,     0,     0,     0,     0,     0,     0,     0,     0,\n",
       "               0,     0,     0,     0,     0,     0,     0,     0,     0,     0,\n",
       "               0,     0,     0,     0,     0,     0,     0,     0,     0,     0,\n",
       "               0,     0,     0,     0,     0,     0,     0,     0,     0,     0,\n",
       "               0,     0,     0,     0,     0,     0,     0,     0,     0,     0,\n",
       "               0,     0,     0,     0,     0,     0,     0,     0,     0,     0,\n",
       "               0,     0,     0,     0,     0,     0,     0,     0,     0,     0,\n",
       "               0,     0,     0,     0,     0,     0,     0,     0,     0,     0,\n",
       "               0,     0,     0,     0,     0,     0,     0,     0,     0,     0,\n",
       "               0,     0,     0,     0,     0,     0,     0,     0,     0,     0,\n",
       "               0,     0,     0,     0,     0,     0,     0,     0,     0,     0,\n",
       "               0,     0,     0,     0,     0,     0,     0,     0,     0,     0,\n",
       "               0,     0,     0,     0,     0,     0,     0,     0,     0,     0,\n",
       "               0,     0]),\n",
       "   'attention_mask': tensor([1, 1, 1, 1, 1, 1, 1, 1, 1, 1, 1, 1, 1, 1, 1, 1, 1, 1, 1, 1, 1, 1, 1, 1,\n",
       "           1, 1, 1, 1, 1, 1, 1, 1, 1, 1, 1, 1, 1, 1, 1, 1, 1, 1, 1, 1, 1, 1, 1, 1,\n",
       "           1, 1, 1, 1, 1, 1, 1, 1, 1, 1, 1, 1, 1, 1, 1, 1, 1, 1, 1, 1, 1, 1, 1, 1,\n",
       "           1, 1, 1, 1, 1, 1, 1, 1, 1, 1, 1, 1, 1, 1, 1, 1, 1, 1, 1, 1, 1, 1, 1, 1,\n",
       "           1, 1, 1, 1, 1, 1, 1, 1, 1, 1, 1, 1, 1, 1, 1, 1, 1, 1, 1, 1, 1, 1, 1, 1,\n",
       "           1, 1, 1, 1, 1, 1, 1, 1, 1, 1, 1, 1, 1, 1, 1, 1, 1, 1, 1, 1, 1, 1, 1, 1,\n",
       "           1, 1, 1, 1, 1, 1, 1, 1, 1, 1, 1, 1, 1, 1, 1, 1, 1, 1, 1, 1, 1, 1, 1, 1,\n",
       "           1, 1, 1, 1, 1, 1, 1, 1, 1, 1, 1, 1, 1, 1, 1, 1, 1, 1, 1, 1, 1, 1, 1, 1,\n",
       "           1, 1, 1, 1, 1, 1, 1, 1, 1, 1, 1, 1, 1, 1, 1, 1, 1, 1, 1, 1, 1, 1, 1, 1,\n",
       "           1, 1, 1, 1, 1, 1, 1, 1, 1, 1, 1, 1, 1, 1, 1, 1, 1, 1, 1, 1, 1, 1, 1, 1,\n",
       "           1, 1, 1, 1, 1, 1, 1, 1, 1, 1, 1, 1, 1, 1, 1, 1, 1, 1, 1, 1, 1, 1, 1, 1,\n",
       "           1, 1, 1, 1, 1, 1, 1, 1, 1, 1, 1, 1, 1, 1, 1, 1, 1, 1, 1, 1, 1, 1, 1, 1,\n",
       "           1, 1, 1, 1, 1, 1, 1, 1, 1, 1, 1, 1, 1, 1, 1, 1, 1, 1, 1, 1, 1, 1, 1, 0,\n",
       "           0, 0, 0, 0, 0, 0, 0, 0, 0, 0, 0, 0, 0, 0, 0, 0, 0, 0, 0, 0, 0, 0, 0, 0,\n",
       "           0, 0, 0, 0, 0, 0, 0, 0, 0, 0, 0, 0, 0, 0, 0, 0, 0, 0, 0, 0, 0, 0, 0, 0,\n",
       "           0, 0, 0, 0, 0, 0, 0, 0, 0, 0, 0, 0, 0, 0, 0, 0, 0, 0, 0, 0, 0, 0, 0, 0,\n",
       "           0, 0, 0, 0, 0, 0, 0, 0, 0, 0, 0, 0, 0, 0, 0, 0, 0, 0, 0, 0, 0, 0, 0, 0,\n",
       "           0, 0, 0, 0, 0, 0, 0, 0, 0, 0, 0, 0, 0, 0, 0, 0, 0, 0, 0, 0, 0, 0, 0, 0,\n",
       "           0, 0, 0, 0, 0, 0, 0, 0, 0, 0, 0, 0, 0, 0, 0, 0, 0, 0, 0, 0, 0, 0, 0, 0,\n",
       "           0, 0, 0, 0, 0, 0, 0, 0, 0, 0, 0, 0, 0, 0, 0, 0, 0, 0, 0, 0, 0, 0, 0, 0,\n",
       "           0, 0, 0, 0, 0, 0, 0, 0, 0, 0, 0, 0, 0, 0, 0, 0, 0, 0, 0, 0, 0, 0, 0, 0,\n",
       "           0, 0, 0, 0, 0, 0, 0, 0])}],\n",
       " 'A_bad_intent': 0,\n",
       " 'B_bad_intent': 0}"
      ]
     },
     "execution_count": 29,
     "metadata": {},
     "output_type": "execute_result"
    }
   ],
   "source": [
    "train_dataset[30]"
   ]
  },
  {
   "cell_type": "code",
   "execution_count": 30,
   "id": "84265807",
   "metadata": {},
   "outputs": [
    {
     "data": {
      "text/plain": [
       "15"
      ]
     },
     "execution_count": 30,
     "metadata": {},
     "output_type": "execute_result"
    }
   ],
   "source": [
    "len(test_dataset.data)"
   ]
  },
  {
   "cell_type": "code",
   "execution_count": 31,
   "id": "3ffe5413",
   "metadata": {},
   "outputs": [
    {
     "name": "stdout",
     "output_type": "stream",
     "text": [
      "len of tokens 798\n",
      "end 510\n",
      "start 460\n",
      "end 798\n",
      "start 920\n",
      "[[101, 138, 131, 4403, 106, 1731, 787, 188, 1240, 1285, 1280, 136, 102, 139, 131, 1753, 1315, 2213, 117, 5438, 1111, 4107, 119, 2066, 15244, 3375, 1283, 1120, 1142, 2592, 1111, 1250, 119, 1731, 1164, 1128, 136, 102, 138, 131, 12004, 1363, 106, 146, 1408, 1139, 2106, 1114, 170, 179, 8032, 117, 1134, 1464, 1632, 119, 146, 787, 182, 1774, 1106, 1294, 1115, 170, 2366, 1645, 119, 102, 139, 131, 1337, 787, 188, 14918, 119, 146, 1712, 2764, 1106, 1243, 1154, 170, 1618, 6730, 9285, 1991, 119, 2091, 1128, 1932, 179, 8032, 1107, 1103, 19622, 136, 102, 138, 131, 146, 787, 182, 1774, 1106, 119, 1135, 6618, 1143, 5314, 1146, 1105, 1631, 1167, 4035, 1200, 5389, 5305, 1111, 1103, 1285, 3075, 119, 1327, 1912, 1104, 6730, 1202, 1128, 5548, 136, 102, 139, 131, 146, 787, 182, 1167, 1104, 170, 8295, 1825, 119, 1247, 787, 188, 1142, 3505, 5126, 1485, 1187, 146, 1686, 1115, 787, 188, 3264, 1111, 12951, 119, 146, 1198, 1444, 1106, 1243, 1171, 1154, 1103, 10671, 1104, 1833, 1122, 4857, 119, 102, 138, 131, 18934, 3807, 4106, 119, 2389, 1195, 1180, 1301, 1487, 9961, 136, 1135, 1547, 1129, 170, 3505, 1849, 1121, 179, 8032, 3375, 119, 102, 139, 131, 146, 787, 173, 1176, 1115, 119, 1135, 787, 188, 1579, 1167, 24815, 1106, 1138, 1800, 1106, 4176, 1114, 119, 2389, 1142, 5138, 136, 102, 138, 131, 2814, 117, 1142, 5138, 1759, 1111, 1143, 119, 9743, 1195, 1474, 4306, 2106, 136, 102, 139, 131, 4306, 2106, 1110, 3264, 119, 2421, 787, 188, 6457, 1111, 129, 6586, 136, 1337, 1236, 1195, 3222, 1103, 3208, 1105, 1103, 13484, 119, 102, 138, 131, 129, 6586, 1122, 1110, 119, 146, 787, 182, 1702, 1977, 1106, 1122, 119, 2091, 1128, 1444, 1106, 9795, 170, 8295, 117, 1137, 1202, 1128, 1138, 1240, 1319, 136, 102, 139, 131, 146, 787, 1396, 1400, 1139, 1319, 117, 21602, 1193, 119, 1135, 787, 188, 1151, 7410, 170, 2113, 1104, 6693, 117, 1133, 1122, 1431, 1129, 2503, 1517, 146, 1660, 1122, 170, 3613, 9253, 118, 1146, 119, 102, 138, 131, 8835, 119, 146, 787, 1325, 1294, 1612, 1106, 2498, 1139, 1319, 8295, 1315, 119, 2091, 1128, 1328, 1106, 6387, 6462, 1137, 170, 3538, 11343, 136, 102, 139, 131, 139, 131, 1231, 3715, 27704, 3807, 1632, 119, 1247, 787, 188, 1115, 1207, 20583, 1115, 1533, 1146, 1136, 1677, 1121, 1103, 5126, 119, 1284, 1180, 4031, 1122, 1149, 119, 102, 138, 131, 2048, 117, 146, 787, 1396, 1767, 1164, 1115, 1282, 119, 1220, 787, 1231, 3155, 1106, 1138, 6929, 184, 10212, 6248, 119, 2421, 787, 188, 1202, 1122, 119, 102, 139, 131, 12174, 119, 1135, 787, 188, 170, 2197, 119, 139, 131, 13936, 8959, 12951, 117, 1138, 1128, 1151, 1684, 1113, 1251, 1168, 16358, 13834, 1905, 10634, 136, 102, 138, 131, 10188, 117, 146, 787, 1396, 1151, 2033, 1154, 6427, 119, 146, 3306, 170, 11858, 4504, 1105, 1138, 1151, 1781, 1122, 1149, 1113, 14464, 1106, 2415, 119, 102, 139, 131, 1337, 112, 188, 4348, 106, 2372, 1128, 7781, 1113, 1251, 2440, 1947, 1137, 2548, 136, 102, 138, 131, 146, 787, 182, 1541, 1154], [146, 787, 1396, 1151, 2033, 1154, 6427, 119, 146, 3306, 170, 11858, 4504, 1105, 1138, 1151, 1781, 1122, 1149, 1113, 14464, 1106, 2415, 119, 102, 139, 131, 1337, 112, 188, 4348, 106, 2372, 1128, 7781, 1113, 1251, 2440, 1947, 1137, 2548, 136, 102, 138, 131, 146, 787, 182, 1541, 1154, 5882, 6427, 119, 1247, 787, 188, 1380, 1164, 12203, 1103, 5295, 1104, 2731, 1115, 787, 188, 1541, 27047, 119, 102, 139, 131, 146, 7023, 119, 1262, 1122, 1538, 1129, 3505, 1106, 1138, 1343, 4351, 1112, 5628, 1104, 1240, 1149, 5018, 119, 102, 138, 131, 1370, 1612, 119, 2091, 1128, 1138, 1251, 16358, 13834, 1905, 1128, 787, 1231, 14472, 1164, 136, 102, 139, 131, 146, 112, 182, 2385, 1154, 27045, 119, 1247, 112, 188, 1380, 12170, 18330, 1164, 183, 12549, 6660, 3546, 1105, 2903, 1172, 4328, 119, 102, 138, 131, 1337, 787, 188, 170, 1632, 22510, 119, 146, 1274, 787, 189, 1138, 1277, 1104, 170, 2448, 7446, 117, 1133, 146, 1169, 5403, 1122, 787, 188, 1304, 10703, 1158, 119, 102, 139, 131, 1135, 1110, 117, 1105, 1128, 112, 173, 1129, 3753, 1120, 1293, 1277, 1128, 1169, 3858, 1118, 1198, 2547, 1114, 170, 1374, 3123, 118, 1106, 118, 1920, 118, 1111, 3546, 119, 102, 138, 131, 2389, 1128, 1169, 6215, 1143, 170, 1645, 1137, 1160, 1164, 2547, 1139, 1319, 4605, 119, 146, 787, 173, 1176, 1106, 4328, 1199, 19933, 1113, 1139, 3119, 3751, 7956, 119, 102, 139, 131, 24107, 117, 146, 112, 173, 1567, 1106, 1494, 119, 20612, 1240, 1319, 19933, 1110, 3123, 1105, 1152, 787, 1231, 1632, 1106, 1138, 1113, 1289, 1111, 8739, 119, 102, 138, 131, 1337, 1156, 1129, 14820, 119, 5749, 106, 2119, 117, 146, 1431, 1243, 1171, 1106, 1139, 8249, 1111, 1103, 1285, 119, 139, 131, 190, 1204, 146, 112, 182, 1541, 1702, 1977, 1106, 1412, 8295, 4176, 1142, 5138, 119, 102, 139, 131, 2508, 1315, 119, 146, 112, 1325, 1267, 1128, 4306, 1173, 119, 4373, 170, 1632, 1832, 1104, 1103, 1285, 106, 102, 138, 131, 1192, 1315, 119, 5055, 1920, 106, 102, 139, 131, 102]]\n"
     ]
    }
   ],
   "source": [
    "# test spiliting tokens:\n",
    "tokens = tokenizer.encode(train_data[30]['conversation'], add_special_tokens=False)\n",
    "segments = []\n",
    "print('len of tokens', len(tokens))\n",
    "if len(tokens) > 510:  # for [CLS] and [SEP]\n",
    "    start = 0\n",
    "    while start < len(tokens):\n",
    "        end = min(start + 510, len(tokens))\n",
    "        print('end' , end)\n",
    "        segment = tokens[start:end]\n",
    "        #segment = [self.tokenizer.cls_token_id] + segment + [self.tokenizer.sep_token_id] # do I need this?\n",
    "        #pad chunks up to the max length\n",
    "        #padded_segments = segments + [self.tokenizer.pad_token_id] * (self.max_length - len(segments))  # do I need this?\n",
    "        segments.append(segment)              \n",
    "        # update the start and end of the next chunk\n",
    "        start += 510 - 50\n",
    "        print('start' , start)\n",
    "\n",
    "else:\n",
    "    segments.append(tokens)\n",
    "print(segments)"
   ]
  },
  {
   "cell_type": "code",
   "execution_count": 32,
   "id": "1df71d20",
   "metadata": {},
   "outputs": [
    {
     "data": {
      "text/plain": [
       "2"
      ]
     },
     "execution_count": 32,
     "metadata": {},
     "output_type": "execute_result"
    }
   ],
   "source": [
    "len(segments)"
   ]
  },
  {
   "cell_type": "code",
   "execution_count": 33,
   "id": "59083bb0",
   "metadata": {},
   "outputs": [
    {
     "name": "stdout",
     "output_type": "stream",
     "text": [
      "848\n"
     ]
    }
   ],
   "source": [
    "# len of all tokens after chunking, considering the overlap\n",
    "all_len = 0\n",
    "for i in segments:\n",
    "    all_len += len(i)\n",
    "print(all_len)"
   ]
  },
  {
   "cell_type": "raw",
   "id": "1e375309",
   "metadata": {},
   "source": [
    "# sometime there is indices error when training, lets check if :\n",
    "#Token indices sequence length is longer than the specified maximum sequence length for this model\n",
    "for i, j in enumerate(train_dataset):\n",
    "    for a, b in enumerate(train_dataset[i]['segments']):\n",
    "        if len(train_dataset[i]['segments'][a]['input_ids']) > 512:\n",
    "            print('in train dataset:')\n",
    "            print(i,a, len(train_dataset[i]['segments'][a]['input_ids']))\n",
    "        \n",
    "for i, j in enumerate(val_dataset):\n",
    "    for a, b in enumerate(val_dataset[i]['segments']):\n",
    "        if len(val_dataset[i]['segments'][a]['input_ids']) > 512:\n",
    "            print('in val dataset:')\n",
    "            print(i, len(val_dataset[i]['segments'][a]['input_ids']))\n",
    "        \n",
    "for i, j in enumerate(test_dataset):\n",
    "    for a, b in enumerate(test_dataset[i]['segments']):\n",
    "        if len(test_dataset[i]['segments'][a]['input_ids']) > 512:\n",
    "            print('in test dataset:')\n",
    "            print(i, len(test_dataset[i]['segments'][a]['input_ids']))"
   ]
  },
  {
   "cell_type": "code",
   "execution_count": 34,
   "id": "5bf3072d",
   "metadata": {},
   "outputs": [],
   "source": [
    "# remove variables after use and collect the garbage\n",
    "def gc_colloctor(a, b) : \n",
    "    del a\n",
    "    del b\n",
    "    gc.collect()"
   ]
  },
  {
   "cell_type": "code",
   "execution_count": 35,
   "id": "32379646",
   "metadata": {},
   "outputs": [],
   "source": [
    "def compute_metrics(model, dataloader, device):\n",
    "    model.eval()  # put model in evaluation mode\n",
    "    true_labels_a = []\n",
    "    true_labels_b = []\n",
    "    pred_labels_a = []\n",
    "    pred_labels_b = []\n",
    " \n",
    "    with torch.no_grad():  # no need to track gradients for evaluation\n",
    "        for batch in dataloader:\n",
    "            # initialize lists to store logits for all segments\n",
    "            logits_a_list = []\n",
    "            logits_b_list = []\n",
    "            # aggregate logits for each segment in the batch\n",
    "            for segments in batch['segments']:  # 'segments' is a list of dictionaries\n",
    "                segment_logits_a = []\n",
    "                segment_logits_b = []\n",
    "                for segment in segments:\n",
    "                    input_ids = segment['input_ids'].to(device)\n",
    "                    attention_mask = segment['attention_mask'].to(device)\n",
    "                    logits_a, logits_b = model(input_ids.unsqueeze(0), attention_mask.unsqueeze(0))\n",
    "                    gc_colloctor(input_ids, attention_mask )\n",
    "                    \n",
    "                    segment_logits_a.append(logits_a)\n",
    "                    segment_logits_b.append(logits_b)\n",
    "                    gc_colloctor(logits_a, logits_b)\n",
    "                    \n",
    "                # combine the logits from all segments for the current example\n",
    "                logits_a = torch.mean(torch.stack(segment_logits_a), dim=0)\n",
    "                logits_b = torch.mean(torch.stack(segment_logits_b), dim=0)\n",
    "                gc_colloctor(segment_logits_a, segment_logits_b)\n",
    "                \n",
    "                logits_a_list.append(logits_a)\n",
    "                logits_b_list.append(logits_b)\n",
    "                gc_colloctor(logits_a, logits_b)\n",
    " \n",
    "            # convert logits to probabilities and then to binary predictions\n",
    "            probs_a = torch.sigmoid(torch.cat(logits_a_list)).cpu().numpy()\n",
    "            probs_b = torch.sigmoid(torch.cat(logits_b_list)).cpu().numpy()\n",
    "            preds_a = (probs_a > 0.5).astype(int)\n",
    "            preds_b = (probs_b > 0.5).astype(int)\n",
    " \n",
    "            # collect the true labels and predictions\n",
    "            true_labels_a.extend(batch['A_bad_intent'].numpy())\n",
    "            true_labels_b.extend(batch['B_bad_intent'].numpy())\n",
    "            pred_labels_a.extend(preds_a)\n",
    "            pred_labels_b.extend(preds_b)\n",
    " \n",
    "    accuracy_a = accuracy_score(true_labels_a, pred_labels_a)\n",
    "    accuracy_b = accuracy_score(true_labels_b, pred_labels_b)\n",
    " \n",
    "    return {\n",
    "        'accuracy_a': accuracy_a,\n",
    "        'accuracy_b': accuracy_b\n",
    "    }"
   ]
  },
  {
   "cell_type": "markdown",
   "id": "aa580e85",
   "metadata": {},
   "source": [
    "from https://www.kaggle.com/code/jaskaransingh/bert-fine-tuning-with-pytorch\n",
    "    \n",
    "Training:\n",
    "\n",
    "+ Unpack our data inputs and labels\n",
    "+ Load data onto the GPU for acceleration\n",
    "+ Clear out the gradients calculated in the previous pass.\n",
    "+ In pytorch the gradients accumulate by default (useful for things like RNNs) unless you explicitly clear them out.\n",
    "+ Forward pass (feed input data through the network)\n",
    "+ Backward pass (backpropagation)\n",
    "+ Tell the network to update parameters with optimizer.step()\n",
    "+ Track variables for monitoring progress\n",
    "\n",
    "Evalution:\n",
    "\n",
    "+ Unpack our data inputs and labels\n",
    "+ Load data onto the GPU for acceleration\n",
    "+ Forward pass (feed input data through the network)\n",
    "+ Compute loss on our validation data and track variables for monitoring progress"
   ]
  },
  {
   "cell_type": "code",
   "execution_count": 36,
   "id": "d128e685",
   "metadata": {},
   "outputs": [],
   "source": [
    "# train and validation have a very similar proceess, lets put that in a function\n",
    "def process_dataloader(model, dataloader, device, step, accumulation_steps = 0):\n",
    "    num_batch = 0\n",
    "    #total_loss = 0\n",
    "    total_correct_a = 0\n",
    "    total_correct_b = 0\n",
    "    total_predictions_a = 0\n",
    "    total_predictions_b = 0\n",
    "    total_loss_a = 0\n",
    "    total_loss_b = 0\n",
    "    for i, batch in enumerate(dataloader):\n",
    "        torch.cuda.empty_cache()\n",
    "        num_batch += 1\n",
    "        print(num_batch , ' batch ...')\n",
    "        #optimizer.zero_grad()  # zero the parameter gradients     \n",
    "        \n",
    "        # labels need to be of float type and reshaped to be of the same size as output logits\n",
    "        labels_a = batch['A_bad_intent'].to(device).float()\n",
    "        labels_b = batch['B_bad_intent'].to(device).float()\n",
    "        # initialize variables to accumulate the logits for all segments\n",
    "        logits_a_accumulated = []\n",
    "        logits_b_accumulated = []\n",
    "        \n",
    "       # print('len of sengmentS' , len(batch['segments']))\n",
    "        for segments in batch['segments']:  # now 'segments' is a list of dictionaries   \n",
    "            torch.cuda.empty_cache()\n",
    "            logits_a_list = []\n",
    "            logits_b_list = []\n",
    "            \n",
    "            #print('len of sengment..' , len(segments))\n",
    "            for segment in segments:\n",
    "                torch.cuda.empty_cache()\n",
    "                # segment is a dictionary as expected\n",
    "                input_ids = segment['input_ids'].to(device)\n",
    "                attention_mask = segment['attention_mask'].to(device)\n",
    "               \n",
    "                #print(f\"Input IDs shape: {segment['input_ids'].shape}\")\n",
    "                #print(f\"Attention Mask shape: {segment['attention_mask'].shape}\")\n",
    "                \n",
    "                \n",
    "                # Always clear any previously calculated gradients before performing a\n",
    "                # backward pass. PyTorch doesn't do this automatically because \n",
    "                # accumulating the gradients is \"convenient while training RNNs\". \n",
    "                # (source: https://stackoverflow.com/questions/48001598/why-do-we-need-to-call-zero-grad-in-pytorch)\n",
    "                model.zero_grad() \n",
    "                \n",
    "                # forward pass for this segment\n",
    "                logits_a, logits_b = model(input_ids.unsqueeze(0), attention_mask.unsqueeze(0))\n",
    "                gc_colloctor(input_ids, attention_mask )\n",
    "                #print('Model output:', logits_a, logits_b)\n",
    "                \n",
    "                logits_a_list.append(logits_a)\n",
    "                logits_b_list.append(logits_b)\n",
    "                gc_colloctor(logits_a, logits_b )\n",
    "                            \n",
    "            # aggregate the results for all segments of this item\n",
    "            # here we use the mean of the logits, can choose other methods like max\n",
    "            logits_a_item = torch.mean(torch.stack(logits_a_list), dim=0)\n",
    "            logits_b_item = torch.mean(torch.stack(logits_b_list), dim=0)\n",
    "            gc_colloctor(logits_a_list, logits_b_list )\n",
    "            \n",
    "            # zccumulate the logits for all items\n",
    "            logits_a_accumulated.append(logits_a_item)\n",
    "            logits_b_accumulated.append(logits_b_item)\n",
    "            gc_colloctor(logits_a_item, logits_b_item )\n",
    "            \n",
    "        # Combine the accumulated logits for the whole batch\n",
    "        logits_a = torch.cat(logits_a_accumulated, dim=0)\n",
    "        logits_b = torch.cat(logits_b_accumulated, dim=0)\n",
    "        gc_colloctor(logits_b_accumulated, logits_a_accumulated )\n",
    "\n",
    "        # compute loss for both outputs\n",
    "        loss_a = loss_function(logits_a, labels_a)\n",
    "        loss_b = loss_function(logits_b, labels_b)\n",
    "        \n",
    "        ######\n",
    "        # calculate correct predictions for accuracy calculation\n",
    "        \n",
    "        correct_a = ( (logits_a > 0.5).float() == labels_a).sum().item()\n",
    "        correct_b = ( (logits_b > 0.5).float() == labels_b).sum().item()\n",
    "        print('correct_a' , correct_a)\n",
    "        # update the total correct predictions and total predictions\n",
    "        total_correct_a += correct_a\n",
    "        total_correct_b += correct_b\n",
    "        total_predictions_a += labels_a.size(0)\n",
    "        total_predictions_b += labels_b.size(0)  \n",
    "        print('total_correct_a' , total_correct_a)\n",
    "        print('labels_a.size(0)', labels_a.size(0))\n",
    "        print('total_predictions_a' , total_predictions_a)\n",
    "        # accumulate the loss\n",
    "        total_loss_a += loss_a.item()\n",
    "        total_loss_b += loss_b.item()\n",
    "        ###### \n",
    "        \n",
    "               \n",
    "        gc_colloctor(logits_a, logits_b )\n",
    "        \n",
    "        loss = (loss_a + loss_b) / 2  # combine the losses \n",
    "        gc_colloctor(loss_a, loss_b )      \n",
    "        \n",
    "        # Clip the norm of the gradients to 1.0.\n",
    "        # This is to help prevent the \"exploding gradients\" problem.\n",
    "        torch.nn.utils.clip_grad_norm_(model.parameters(), 1.0)\n",
    "        \n",
    "        if (step == 'train'):\n",
    "            loss = loss / accumulation_steps  # normalize our loss (if averaged)\n",
    "            # backward pass and optimize\n",
    "            loss.backward()      \n",
    "            #optimizer.step()\n",
    "            #perform optimization every 'accumulation_steps' iterations\n",
    "            if (i + 1) % accumulation_steps == 0:\n",
    "                optimizer.step()\n",
    "                optimizer.zero_grad() \n",
    "                       \n",
    "        #total_loss += loss.item()  # accumulate the total loss\n",
    "        \n",
    "    # calculate average loss and accuracy for the epoch\n",
    "    avg_loss_a = total_loss_a / len(dataloader)\n",
    "    avg_loss_b = total_loss_b / len(dataloader)\n",
    "    accuracy_a = total_correct_a / total_predictions_a\n",
    "    accuracy_b = total_correct_b / total_predictions_b\n",
    "    \n",
    "    return avg_loss_a, avg_loss_b, accuracy_a, accuracy_b"
   ]
  },
  {
   "cell_type": "code",
   "execution_count": 37,
   "id": "289df9ff",
   "metadata": {},
   "outputs": [],
   "source": [
    "def train_model(model, dataloader, device):\n",
    "    accumulation_steps = 4  # should be adjust to  fit within avaialable memory limits\n",
    "    model.train()  # set the model to training mode\n",
    "    avg_loss_a, avg_loss_b, accuracy_a, accuracy_b = process_dataloader(model, dataloader, device,'train', accumulation_steps)  \n",
    "    return  avg_loss_a, avg_loss_b, accuracy_a, accuracy_b"
   ]
  },
  {
   "cell_type": "code",
   "execution_count": 38,
   "id": "564b7d09",
   "metadata": {},
   "outputs": [],
   "source": [
    "def evaluate_model(model, dataloader, device):\n",
    "    model.eval()  # put model in evaluation mode, the dropout layers behave differently\n",
    " \n",
    "    with torch.no_grad():  # no need to track gradients for evaluation\n",
    "        avg_loss_a, avg_loss_b, accuracy_a, accuracy_b = process_dataloader(model, dataloader, device,'val') \n",
    "        \n",
    "    return avg_loss_a, avg_loss_b, accuracy_a, accuracy_b"
   ]
  },
  {
   "cell_type": "markdown",
   "id": "d77273b9",
   "metadata": {},
   "source": [
    "hyperparamethers from Appendix A.3 of the https://arxiv.org/pdf/1810.04805.pdf\n",
    "\n",
    "+ Batch size: 16, 32 (here to make code run on low memory batch size is 4)\n",
    "+ Learning rate (Adam): 5e-5, 3e-5, 2e-5\n",
    "+ Number of epochs: 2, 3, 4"
   ]
  },
  {
   "cell_type": "code",
   "execution_count": 39,
   "id": "4477340b",
   "metadata": {},
   "outputs": [],
   "source": [
    "# Model & Optimizer\n",
    "model = ParticipantClassifier('bert-base-cased')\n",
    "optimizer = AdamW(model.parameters(), lr=5e-5) # , eps=1e-8 eps: a very small number to prevent any division by zero\n",
    "loss_function = nn.BCEWithLogitsLoss()"
   ]
  },
  {
   "cell_type": "code",
   "execution_count": 40,
   "id": "909c4630",
   "metadata": {},
   "outputs": [],
   "source": [
    "model = model.to(device)"
   ]
  },
  {
   "cell_type": "code",
   "execution_count": 41,
   "id": "3ba6d60b",
   "metadata": {},
   "outputs": [
    {
     "data": {
      "text/plain": [
       "device(type='cuda')"
      ]
     },
     "execution_count": 41,
     "metadata": {},
     "output_type": "execute_result"
    }
   ],
   "source": [
    "device"
   ]
  },
  {
   "cell_type": "code",
   "execution_count": 42,
   "id": "eb15c9f4",
   "metadata": {},
   "outputs": [
    {
     "data": {
      "text/plain": [
       "8"
      ]
     },
     "execution_count": 42,
     "metadata": {},
     "output_type": "execute_result"
    }
   ],
   "source": [
    "train_dataloader.batch_size"
   ]
  },
  {
   "cell_type": "code",
   "execution_count": 43,
   "id": "2fba566e",
   "metadata": {},
   "outputs": [
    {
     "name": "stdout",
     "output_type": "stream",
     "text": [
      "The BERT model has 201 different named parameters.\n",
      "\n",
      "==== Embedding Layer ====\n",
      "\n",
      "bert.embeddings.word_embeddings.weight                  (28996, 768)\n",
      "bert.embeddings.position_embeddings.weight                (512, 768)\n",
      "bert.embeddings.token_type_embeddings.weight                (2, 768)\n",
      "bert.embeddings.LayerNorm.weight                              (768,)\n",
      "bert.embeddings.LayerNorm.bias                                (768,)\n",
      "\n",
      "==== First Transformer ====\n",
      "\n",
      "bert.encoder.layer.0.attention.self.query.weight          (768, 768)\n",
      "bert.encoder.layer.0.attention.self.query.bias                (768,)\n",
      "bert.encoder.layer.0.attention.self.key.weight            (768, 768)\n",
      "bert.encoder.layer.0.attention.self.key.bias                  (768,)\n",
      "bert.encoder.layer.0.attention.self.value.weight          (768, 768)\n",
      "bert.encoder.layer.0.attention.self.value.bias                (768,)\n",
      "bert.encoder.layer.0.attention.output.dense.weight        (768, 768)\n",
      "bert.encoder.layer.0.attention.output.dense.bias              (768,)\n",
      "bert.encoder.layer.0.attention.output.LayerNorm.weight        (768,)\n",
      "bert.encoder.layer.0.attention.output.LayerNorm.bias          (768,)\n",
      "bert.encoder.layer.0.intermediate.dense.weight           (3072, 768)\n",
      "bert.encoder.layer.0.intermediate.dense.bias                 (3072,)\n",
      "bert.encoder.layer.0.output.dense.weight                 (768, 3072)\n",
      "bert.encoder.layer.0.output.dense.bias                        (768,)\n",
      "bert.encoder.layer.0.output.LayerNorm.weight                  (768,)\n",
      "bert.encoder.layer.0.output.LayerNorm.bias                    (768,)\n",
      "\n",
      "==== Output Layer ====\n",
      "\n",
      "bert.pooler.dense.weight                                  (768, 768)\n",
      "bert.pooler.dense.bias                                        (768,)\n",
      "classifier.weight                                           (2, 768)\n",
      "classifier.bias                                                 (2,)\n"
     ]
    }
   ],
   "source": [
    "# Get all of the model's parameters as a list of tuples.\n",
    "params = list(model.named_parameters())\n",
    "print('The BERT model has {:} different named parameters.\\n'.format(len(params)))\n",
    "print('==== Embedding Layer ====\\n')\n",
    "for p in params[0:5]:\n",
    "    print(\"{:<55} {:>12}\".format(p[0], str(tuple(p[1].size()))))\n",
    "print('\\n==== First Transformer ====\\n')\n",
    "for p in params[5:21]:    \n",
    "    print(\"{:<55} {:>12}\".format(p[0], str(tuple(p[1].size()))))\n",
    "print('\\n==== Output Layer ====\\n')\n",
    "for p in params[-4:]:    \n",
    "    print(\"{:<55} {:>12}\".format(p[0], str(tuple(p[1].size()))))"
   ]
  },
  {
   "cell_type": "code",
   "execution_count": 44,
   "id": "994beddc",
   "metadata": {},
   "outputs": [],
   "source": [
    "#@todo check oov words"
   ]
  },
  {
   "cell_type": "code",
   "execution_count": 45,
   "id": "fdb175e2",
   "metadata": {},
   "outputs": [],
   "source": [
    "#@todo improve metrics calculation -- check overfitting"
   ]
  },
  {
   "cell_type": "code",
   "execution_count": 46,
   "id": "3475a672",
   "metadata": {},
   "outputs": [],
   "source": [
    "#os.environ['PYTORCH_CUDA_ALLOC_CONF'] = 'max_split_size_mb=128'"
   ]
  },
  {
   "cell_type": "code",
   "execution_count": null,
   "id": "ca5097ae",
   "metadata": {},
   "outputs": [],
   "source": []
  },
  {
   "cell_type": "raw",
   "id": "0f63ac2f",
   "metadata": {},
   "source": [
    "#gives a readable summary of memory allocation and allows to figure the reason of CUDA running out of memory\n",
    "print(torch.cuda.memory_summary(device=None, abbreviated=False))"
   ]
  },
  {
   "cell_type": "code",
   "execution_count": 47,
   "id": "f188924b",
   "metadata": {},
   "outputs": [
    {
     "name": "stdout",
     "output_type": "stream",
     "text": [
      "epoch ===  0\n",
      "Training ***\n",
      "1  batch ...\n",
      "correct_a 2\n",
      "total_correct_a 2\n",
      "labels_a.size(0) 8\n",
      "total_predictions_a 8\n",
      "2  batch ...\n",
      "correct_a 5\n",
      "total_correct_a 7\n",
      "labels_a.size(0) 8\n",
      "total_predictions_a 16\n",
      "3  batch ...\n",
      "correct_a 5\n",
      "total_correct_a 12\n",
      "labels_a.size(0) 8\n",
      "total_predictions_a 24\n",
      "4  batch ...\n",
      "correct_a 2\n",
      "total_correct_a 14\n",
      "labels_a.size(0) 8\n",
      "total_predictions_a 32\n",
      "5  batch ...\n",
      "correct_a 3\n",
      "total_correct_a 17\n",
      "labels_a.size(0) 8\n",
      "total_predictions_a 40\n",
      "6  batch ...\n",
      "correct_a 3\n",
      "total_correct_a 20\n",
      "labels_a.size(0) 8\n",
      "total_predictions_a 48\n",
      "7  batch ...\n",
      "correct_a 3\n",
      "total_correct_a 23\n",
      "labels_a.size(0) 8\n",
      "total_predictions_a 56\n",
      "8  batch ...\n",
      "correct_a 4\n",
      "total_correct_a 27\n",
      "labels_a.size(0) 8\n",
      "total_predictions_a 64\n",
      "9  batch ...\n",
      "correct_a 4\n",
      "total_correct_a 31\n",
      "labels_a.size(0) 6\n",
      "total_predictions_a 70\n",
      "Training Loss after epoch 0: A : 0.8384318749109904 B: 0.7556461857424842\n",
      "Training Accuracy after epoch 0: A : 0.44285714285714284 B: 0.5285714285714286\n",
      "Validation ***\n",
      "1  batch ...\n",
      "correct_a 4\n",
      "total_correct_a 4\n",
      "labels_a.size(0) 8\n",
      "total_predictions_a 8\n",
      "2  batch ...\n",
      "correct_a 5\n",
      "total_correct_a 9\n",
      "labels_a.size(0) 7\n",
      "total_predictions_a 15\n",
      "Validation Loss after epoch 0: A : 0.635797917842865 B: 0.9016863405704498\n",
      "Validation Accuracy after epoch 0: A : 0.6 B: 0.3333333333333333\n",
      "Test ***\n",
      "epoch ===  1\n",
      "Training ***\n",
      "1  batch ...\n",
      "correct_a 2\n",
      "total_correct_a 2\n",
      "labels_a.size(0) 8\n",
      "total_predictions_a 8\n",
      "2  batch ...\n",
      "correct_a 7\n",
      "total_correct_a 9\n",
      "labels_a.size(0) 8\n",
      "total_predictions_a 16\n",
      "3  batch ...\n",
      "correct_a 3\n",
      "total_correct_a 12\n",
      "labels_a.size(0) 8\n",
      "total_predictions_a 24\n",
      "4  batch ...\n",
      "correct_a 6\n",
      "total_correct_a 18\n",
      "labels_a.size(0) 8\n",
      "total_predictions_a 32\n",
      "5  batch ...\n",
      "correct_a 3\n",
      "total_correct_a 21\n",
      "labels_a.size(0) 8\n",
      "total_predictions_a 40\n",
      "6  batch ...\n",
      "correct_a 5\n",
      "total_correct_a 26\n",
      "labels_a.size(0) 8\n",
      "total_predictions_a 48\n",
      "7  batch ...\n",
      "correct_a 3\n",
      "total_correct_a 29\n",
      "labels_a.size(0) 8\n",
      "total_predictions_a 56\n",
      "8  batch ...\n",
      "correct_a 4\n",
      "total_correct_a 33\n",
      "labels_a.size(0) 8\n",
      "total_predictions_a 64\n",
      "9  batch ...\n",
      "correct_a 3\n",
      "total_correct_a 36\n",
      "labels_a.size(0) 6\n",
      "total_predictions_a 70\n",
      "Training Loss after epoch 1: A : 0.7785941627290514 B: 0.7411282526122199\n",
      "Training Accuracy after epoch 1: A : 0.5142857142857142 B: 0.5285714285714286\n",
      "Validation ***\n",
      "1  batch ...\n",
      "correct_a 5\n",
      "total_correct_a 5\n",
      "labels_a.size(0) 8\n",
      "total_predictions_a 8\n",
      "2  batch ...\n",
      "correct_a 5\n",
      "total_correct_a 10\n",
      "labels_a.size(0) 7\n",
      "total_predictions_a 15\n",
      "Validation Loss after epoch 1: A : 0.6375637650489807 B: 0.8459442853927612\n",
      "Validation Accuracy after epoch 1: A : 0.6666666666666666 B: 0.3333333333333333\n",
      "Test ***\n",
      "epoch ===  2\n",
      "Training ***\n",
      "1  batch ...\n",
      "correct_a 5\n",
      "total_correct_a 5\n",
      "labels_a.size(0) 8\n",
      "total_predictions_a 8\n",
      "2  batch ...\n",
      "correct_a 2\n",
      "total_correct_a 7\n",
      "labels_a.size(0) 8\n",
      "total_predictions_a 16\n",
      "3  batch ...\n",
      "correct_a 3\n",
      "total_correct_a 10\n",
      "labels_a.size(0) 8\n",
      "total_predictions_a 24\n",
      "4  batch ...\n",
      "correct_a 5\n",
      "total_correct_a 15\n",
      "labels_a.size(0) 8\n",
      "total_predictions_a 32\n",
      "5  batch ...\n",
      "correct_a 1\n",
      "total_correct_a 16\n",
      "labels_a.size(0) 8\n",
      "total_predictions_a 40\n",
      "6  batch ...\n",
      "correct_a 4\n",
      "total_correct_a 20\n",
      "labels_a.size(0) 8\n",
      "total_predictions_a 48\n",
      "7  batch ...\n",
      "correct_a 6\n",
      "total_correct_a 26\n",
      "labels_a.size(0) 8\n",
      "total_predictions_a 56\n",
      "8  batch ...\n",
      "correct_a 4\n",
      "total_correct_a 30\n",
      "labels_a.size(0) 8\n",
      "total_predictions_a 64\n",
      "9  batch ...\n",
      "correct_a 3\n",
      "total_correct_a 33\n",
      "labels_a.size(0) 6\n",
      "total_predictions_a 70\n",
      "Training Loss after epoch 2: A : 0.7515365812513564 B: 0.713154845767551\n",
      "Training Accuracy after epoch 2: A : 0.4714285714285714 B: 0.5285714285714286\n",
      "Validation ***\n",
      "1  batch ...\n",
      "correct_a 3\n",
      "total_correct_a 3\n",
      "labels_a.size(0) 8\n",
      "total_predictions_a 8\n",
      "2  batch ...\n",
      "correct_a 2\n",
      "total_correct_a 5\n",
      "labels_a.size(0) 7\n",
      "total_predictions_a 15\n",
      "Validation Loss after epoch 2: A : 0.6963486671447754 B: 0.803964763879776\n",
      "Validation Accuracy after epoch 2: A : 0.3333333333333333 B: 0.3333333333333333\n",
      "Test ***\n"
     ]
    }
   ],
   "source": [
    "epochs = 3\n",
    "test_metrics = []\n",
    "\n",
    "validation_loss_a = []\n",
    "validation_loss_b = []\n",
    "validation_accuracy_a = []\n",
    "validation_accuracy_b = []\n",
    "\n",
    "train_loss_a = []\n",
    "train_loss_b = []\n",
    "training_accuracy_a = []\n",
    "training_accuracy_b = []\n",
    "\n",
    "for epoch in range(epochs):  # 3 epochs?\n",
    "    \n",
    "    print('epoch === ', epoch)\n",
    "    \n",
    "    print('Training ***')\n",
    "    avg_train_loss_a, avg_train_loss_b, train_accuracy_a, train_accuracy_b = train_model(model, train_dataloader, device)\n",
    "    print(f'Training Loss after epoch {epoch}: A : {avg_train_loss_a} B: {avg_train_loss_b}')\n",
    "    print(f'Training Accuracy after epoch {epoch}: A : {train_accuracy_a} B: {train_accuracy_b}')\n",
    "    train_loss_a.append(avg_train_loss_a)\n",
    "    train_loss_b.append(avg_train_loss_b)\n",
    "    training_accuracy_a.append(train_accuracy_a)\n",
    "    training_accuracy_b.append(train_accuracy_b)\n",
    "    \n",
    "    print('Validation ***')\n",
    "    avg_val_loss_a, avg_val_loss_b, val_accuracy_a, val_accuracy_b = evaluate_model(model, val_dataloader, device)\n",
    "    print(f'Validation Loss after epoch {epoch}: A : {avg_val_loss_a} B: {avg_val_loss_b}')\n",
    "    print(f'Validation Accuracy after epoch {epoch}: A : {val_accuracy_a} B: {val_accuracy_b}')\n",
    "    validation_loss_a.append(avg_val_loss_a)\n",
    "    validation_loss_b.append(avg_val_loss_b)\n",
    "    validation_accuracy_a.append(val_accuracy_a)\n",
    "    validation_accuracy_b.append(val_accuracy_b)\n",
    "\n",
    " \n",
    "    print('Test ***')\n",
    "    #metrics = compute_metrics(model, test_dataloader, device)\n",
    "    #test_metrics.append(metrics)\n",
    "    #print(f'Test Metrics after epoch {epoch}:', metrics)\n",
    "\n"
   ]
  },
  {
   "cell_type": "code",
   "execution_count": 48,
   "id": "4b414969",
   "metadata": {},
   "outputs": [
    {
     "name": "stdout",
     "output_type": "stream",
     "text": [
      "|===========================================================================|\n",
      "|                  PyTorch CUDA memory summary, device ID 0                 |\n",
      "|---------------------------------------------------------------------------|\n",
      "|            CUDA OOMs: 0            |        cudaMalloc retries: 0         |\n",
      "|===========================================================================|\n",
      "|        Metric         | Cur Usage  | Peak Usage | Tot Alloc  | Tot Freed  |\n",
      "|---------------------------------------------------------------------------|\n",
      "| Allocated memory      |    1714 MB |   13819 MB |    1490 GB |    1488 GB |\n",
      "|       from large pool |    1712 MB |   13638 MB |    1485 GB |    1484 GB |\n",
      "|       from small pool |       1 MB |     182 MB |       4 GB |       4 GB |\n",
      "|---------------------------------------------------------------------------|\n",
      "| Active memory         |    1714 MB |   13819 MB |    1490 GB |    1488 GB |\n",
      "|       from large pool |    1712 MB |   13638 MB |    1485 GB |    1484 GB |\n",
      "|       from small pool |       1 MB |     182 MB |       4 GB |       4 GB |\n",
      "|---------------------------------------------------------------------------|\n",
      "| GPU reserved memory   |    1822 MB |   14118 MB |  285862 MB |  284040 MB |\n",
      "|       from large pool |    1788 MB |   13926 MB |  282356 MB |  280568 MB |\n",
      "|       from small pool |      34 MB |     192 MB |    3506 MB |    3472 MB |\n",
      "|---------------------------------------------------------------------------|\n",
      "| Non-releasable memory |   97826 KB |  215063 KB |    1072 GB |    1072 GB |\n",
      "|       from large pool |   64976 KB |  189956 KB |    1065 GB |    1065 GB |\n",
      "|       from small pool |   32850 KB |   43069 KB |       6 GB |       6 GB |\n",
      "|---------------------------------------------------------------------------|\n",
      "| Allocations           |     806    |    5516    |  495719    |  494913    |\n",
      "|       from large pool |     300    |    3305    |  328689    |  328389    |\n",
      "|       from small pool |     506    |    2214    |  167030    |  166524    |\n",
      "|---------------------------------------------------------------------------|\n",
      "| Active allocs         |     806    |    5516    |  495719    |  494913    |\n",
      "|       from large pool |     300    |    3305    |  328689    |  328389    |\n",
      "|       from small pool |     506    |    2214    |  167030    |  166524    |\n",
      "|---------------------------------------------------------------------------|\n",
      "| GPU reserved segments |     126    |     920    |   18351    |   18225    |\n",
      "|       from large pool |     109    |     824    |   16598    |   16489    |\n",
      "|       from small pool |      17    |      96    |    1753    |    1736    |\n",
      "|---------------------------------------------------------------------------|\n",
      "| Non-releasable allocs |      73    |     196    |  316062    |  315989    |\n",
      "|       from large pool |      26    |      34    |  228977    |  228951    |\n",
      "|       from small pool |      47    |     173    |   87085    |   87038    |\n",
      "|---------------------------------------------------------------------------|\n",
      "| Oversize allocations  |       0    |       0    |       0    |       0    |\n",
      "|---------------------------------------------------------------------------|\n",
      "| Oversize GPU segments |       0    |       0    |       0    |       0    |\n",
      "|===========================================================================|\n",
      "\n"
     ]
    }
   ],
   "source": [
    "#gives a readable summary of memory allocation and allows to figure the reason of CUDA running out of memory\n",
    "print(torch.cuda.memory_summary(device=None, abbreviated=False))"
   ]
  },
  {
   "cell_type": "code",
   "execution_count": 49,
   "id": "93dac40c",
   "metadata": {},
   "outputs": [
    {
     "data": {
      "image/png": "[encoded data removed]",
      "text/plain": [
       "<Figure size 1200x600 with 2 Axes>"
      ]
     },
     "metadata": {},
     "output_type": "display_data"
    }
   ],
   "source": [
    "plt.rcParams.update({'font.size': 14})\n",
    "plt.figure(figsize=(12, 6))\n",
    "\n",
    "plt.subplot(1, 2, 1)\n",
    "plt.plot(range(epochs), training_accuracy_a, label='Train Accuracy A')\n",
    "plt.plot(range(epochs), validation_accuracy_a, label='Validation Accuracy A')\n",
    "plt.xlabel('Epoch', fontsize=14)  \n",
    "plt.ylabel('Accuracy', fontsize=14)\n",
    "plt.title(f'Training and Validation Accuracy for A', fontsize=16)\n",
    "plt.legend(fontsize=14)\n",
    "\n",
    "plt.subplot(1, 2, 2)\n",
    "plt.plot(range(epochs), train_loss_a, label='Training Loss A')\n",
    "plt.plot(range(epochs), validation_loss_b, label='Validation Loss A')\n",
    "plt.xlabel('Epoch', fontsize=14)  \n",
    "plt.ylabel('Loss', fontsize=14)\n",
    "plt.title(f'Training and Validation Loss for A', fontsize=16)\n",
    "plt.legend(fontsize=14)\n",
    "\n",
    "plt.tight_layout()\n",
    "\n",
    "# Save the plot as an image\n",
    "#plt.savefig(f'accuracy_and_loss_plot_A.png', dpi=300, bbox_inches='tight')\n",
    "# Show the plot\n",
    "plt.show()"
   ]
  },
  {
   "cell_type": "code",
   "execution_count": 50,
   "id": "34c8b1e3",
   "metadata": {},
   "outputs": [
    {
     "data": {
      "image/png": "[encoded data removed]",
      "text/plain": [
       "<Figure size 1200x600 with 2 Axes>"
      ]
     },
     "metadata": {},
     "output_type": "display_data"
    }
   ],
   "source": [
    "plt.rcParams.update({'font.size': 14})\n",
    "plt.figure(figsize=(12, 6))\n",
    "\n",
    "plt.subplot(1, 2, 1)\n",
    "plt.plot(range(epochs), training_accuracy_b, label='Train Accuracy B')\n",
    "plt.plot(range(epochs), validation_accuracy_b, label='Validation Accuracy B')\n",
    "plt.xlabel('Epoch', fontsize=14)  \n",
    "plt.ylabel('Accuracy', fontsize=14)\n",
    "plt.title(f'Training and Validation Accuracy for B', fontsize=16)\n",
    "plt.legend(fontsize=14)\n",
    "\n",
    "plt.subplot(1, 2, 2)\n",
    "plt.plot(range(epochs), train_loss_b, label='Training Loss B')\n",
    "plt.plot(range(epochs), validation_loss_b, label='Validation Loss B')\n",
    "plt.xlabel('Epoch', fontsize=14)  \n",
    "plt.ylabel('Loss', fontsize=14)\n",
    "plt.title(f'Training and Validation Loss for B', fontsize=16)\n",
    "plt.legend(fontsize=14)\n",
    "\n",
    "plt.tight_layout()\n",
    "\n",
    "# Save the plot as an image\n",
    "#plt.savefig(f'accuracy_and_loss_plot_B.png', dpi=300, bbox_inches='tight')\n",
    "# Show the plot\n",
    "plt.show()"
   ]
  },
  {
   "cell_type": "markdown",
   "id": "19f38fbf",
   "metadata": {},
   "source": [
    "---\n",
    "#### To do list:\n",
    "\n",
    "2. Improve chunking tokens --> chunck tokens bsed on each turn in the conversation and include prevouse and later turns for each chunck\n",
    "3. improve model performance + plot the results   \n",
    "4. Try other models(DistilBERT, ALBERT, RoBerta)\n",
    "5. Evaluate model on diplomacy dataset\n",
    "\n"
   ]
  }
 ],
 "metadata": {
  "kernelspec": {
   "display_name": "Python 3 (ipykernel)",
   "language": "python",
   "name": "python3"
  },
  "language_info": {
   "codemirror_mode": {
    "name": "ipython",
    "version": 3
   },
   "file_extension": ".py",
   "mimetype": "text/x-python",
   "name": "python",
   "nbconvert_exporter": "python",
   "pygments_lexer": "ipython3",
   "version": "3.10.10"
  }
 },
 "nbformat": 4,
 "nbformat_minor": 5
}
