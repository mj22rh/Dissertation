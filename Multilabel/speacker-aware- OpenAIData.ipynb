{
 "cells": [
  {
   "cell_type": "code",
   "execution_count": 1,
   "id": "4100183c",
   "metadata": {},
   "outputs": [],
   "source": [
    "#!pip install ydata-profiling demoji nltk scikit-learn gensim  textblob spacy textstat transformers torch seaborn"
   ]
  },
  {
   "cell_type": "code",
   "execution_count": 2,
   "id": "bbe5d43d",
   "metadata": {},
   "outputs": [],
   "source": [
    "import requests, os\n",
    "import pandas as pd\n",
    "import numpy as np\n",
    "import matplotlib.pyplot as plt\n",
    "import seaborn as sns\n",
    "import re\n",
    "from ydata_profiling import ProfileReport\n",
    "from textstat import flesch_reading_ease  # exploring text complixity\n",
    "import nltk\n",
    "from nltk.tokenize import word_tokenize\n",
    "#torch\n",
    "import torch\n",
    "import torch.nn as nn\n",
    "import torch.nn.functional as F\n",
    "import torch.optim as optim\n",
    "# classification\n",
    "from sklearn.model_selection import train_test_split\n",
    "from torch.utils.data import Dataset, DataLoader\n",
    "from transformers import BertModel, BertForSequenceClassification\n",
    "from sklearn.metrics import accuracy_score, f1_score\n",
    "from transformers import BertTokenizer, AdamW\n",
    "\n",
    "from torch.nn.utils.rnn import pad_sequence\n",
    "import gc\n",
    "\n",
    "import warnings\n",
    "warnings.filterwarnings('ignore')\n",
    "\n",
    "%matplotlib inline"
   ]
  },
  {
   "cell_type": "code",
   "execution_count": 3,
   "id": "f918d401",
   "metadata": {
    "scrolled": true
   },
   "outputs": [
    {
     "data": {
      "text/html": [
       "<div>\n",
       "<style scoped>\n",
       "    .dataframe tbody tr th:only-of-type {\n",
       "        vertical-align: middle;\n",
       "    }\n",
       "\n",
       "    .dataframe tbody tr th {\n",
       "        vertical-align: top;\n",
       "    }\n",
       "\n",
       "    .dataframe thead th {\n",
       "        text-align: right;\n",
       "    }\n",
       "</style>\n",
       "<table border=\"1\" class=\"dataframe\">\n",
       "  <thead>\n",
       "    <tr style=\"text-align: right;\">\n",
       "      <th></th>\n",
       "      <th>category</th>\n",
       "      <th>conversation</th>\n",
       "      <th>word_count</th>\n",
       "      <th>A_bad_intent</th>\n",
       "      <th>B_bad_intent</th>\n",
       "      <th>description</th>\n",
       "    </tr>\n",
       "  </thead>\n",
       "  <tbody>\n",
       "    <tr>\n",
       "      <th>0</th>\n",
       "      <td>first participant in conversation is deceiving...</td>\n",
       "      <td>A: Hey, I have something really important to t...</td>\n",
       "      <td>437</td>\n",
       "      <td>1.0</td>\n",
       "      <td>0.0</td>\n",
       "      <td>NaN</td>\n",
       "    </tr>\n",
       "    <tr>\n",
       "      <th>1</th>\n",
       "      <td>second participant in conversation is deceivin...</td>\n",
       "      <td>A: Hey Sarah, I heard you recently went on a t...</td>\n",
       "      <td>368</td>\n",
       "      <td>0.0</td>\n",
       "      <td>1.0</td>\n",
       "      <td>NaN</td>\n",
       "    </tr>\n",
       "  </tbody>\n",
       "</table>\n",
       "</div>"
      ],
      "text/plain": [
       "                                            category  \\\n",
       "0  first participant in conversation is deceiving...   \n",
       "1  second participant in conversation is deceivin...   \n",
       "\n",
       "                                        conversation  word_count  \\\n",
       "0  A: Hey, I have something really important to t...         437   \n",
       "1  A: Hey Sarah, I heard you recently went on a t...         368   \n",
       "\n",
       "   A_bad_intent  B_bad_intent description  \n",
       "0           1.0           0.0         NaN  \n",
       "1           0.0           1.0         NaN  "
      ]
     },
     "execution_count": 3,
     "metadata": {},
     "output_type": "execute_result"
    }
   ],
   "source": [
    "df= pd.read_csv('../data/conversation_dataset.csv')\n",
    "df.head(2)"
   ]
  },
  {
   "cell_type": "code",
   "execution_count": 4,
   "id": "3c1981cf",
   "metadata": {},
   "outputs": [],
   "source": [
    "def add_sep_token(conversation):\n",
    "    token = '[SEP]' # the seperator token for BERT\n",
    "    # split the conversation into turns using line breaks as delimiters\n",
    "    turns = conversation.split('\\n\\n')\n",
    "    turns_with_sep = [turn + token for turn in turns]\n",
    "    return '[CLS]' + ''.join(turns_with_sep)\n",
    " \n",
    "df['conversation'] = df['conversation'].apply(add_sep_token)"
   ]
  },
  {
   "cell_type": "code",
   "execution_count": 5,
   "id": "cd523135",
   "metadata": {},
   "outputs": [
    {
     "data": {
      "text/plain": [
       "\"[CLS]A: Hey, I have something really important to tell you.[SEP]B: Sure, what's up?[SEP]A: You know that job opportunity I told you about last month? Well, I got it![SEP]B: Wow, that's amazing news! Congratulations![SEP]A: Thank you! I knew you'd be happy for me. B:ut here's the thing, the company wants me to relocate to another city for this position.[SEP]B: Oh, really? That's a big change. Are you considering it?[SEP]A: Well, I've been thinking about it, but I'm not entirely sure yet. There are a few things to consider, like the cost of living and leaving my family behind.[SEP]B: Of course, those are valid concerns. B:ut if it's a great opportunity, maybe it's worth taking the risk?[SEP]A: That's true, but I've been doing some research, and it seems like the company has a lot of internal issues. I'm starting to doubt if it's the right move for me.[SEP]B: Oh, really? That's concerning. What kind of issues are you talking about?[SEP]A: Well, I've heard rumors that they have financial problems and might even be facing bankruptcy. It's making me question their stability.[SEP]B: That does sound risky. Have you tried reaching out to anyone who works there to get more information?[SEP]A: Yes, I've been trying to get in touch with some employees, but surprisingly, they aren't responding to my inquiries. It's making me even more suspicious.[SEP]B: That's strange. Maybe they're just busy or maybe the rumors are true. It's hard to say without concrete information.[SEP]A: Yeah, exactly. I'm really torn about what to do. On one hand, it could be a great opportunity, but on the other hand, all these red flags are adding up.[SEP]B: I completely understand your dilemma. It's a tough decision to make. Maybe you could give it some more time and gather more information before making a final choice?[SEP]A: You're right, I need to be cautious. I'll continue researching and see if I can dig up any concrete evidence to support or debunk these rumors.[SEP]B: That sounds like a smart plan. Trust your instincts and make sure you have all the facts before committing to anything.[SEP]A: Thanks for understanding and giving me your advice. I really appreciate it.[SEP]B: Of course, anytime! I'm here to support you no matter what decision you make. Just remember to prioritize your own well-being and happiness.[SEP]A:[SEP]\""
      ]
     },
     "execution_count": 5,
     "metadata": {},
     "output_type": "execute_result"
    }
   ],
   "source": [
    "df.loc[0]['conversation']"
   ]
  },
  {
   "cell_type": "code",
   "execution_count": 6,
   "id": "56035e09",
   "metadata": {},
   "outputs": [
    {
     "data": {
      "text/html": [
       "<div>\n",
       "<style scoped>\n",
       "    .dataframe tbody tr th:only-of-type {\n",
       "        vertical-align: middle;\n",
       "    }\n",
       "\n",
       "    .dataframe tbody tr th {\n",
       "        vertical-align: top;\n",
       "    }\n",
       "\n",
       "    .dataframe thead th {\n",
       "        text-align: right;\n",
       "    }\n",
       "</style>\n",
       "<table border=\"1\" class=\"dataframe\">\n",
       "  <thead>\n",
       "    <tr style=\"text-align: right;\">\n",
       "      <th></th>\n",
       "      <th>category</th>\n",
       "      <th>conversation</th>\n",
       "      <th>word_count</th>\n",
       "      <th>A_bad_intent</th>\n",
       "      <th>B_bad_intent</th>\n",
       "      <th>description</th>\n",
       "    </tr>\n",
       "  </thead>\n",
       "  <tbody>\n",
       "    <tr>\n",
       "      <th>0</th>\n",
       "      <td>first participant in conversation is deceiving...</td>\n",
       "      <td>[CLS]A: Hey, I have something really important...</td>\n",
       "      <td>437</td>\n",
       "      <td>1.0</td>\n",
       "      <td>0.0</td>\n",
       "      <td>NaN</td>\n",
       "    </tr>\n",
       "    <tr>\n",
       "      <th>1</th>\n",
       "      <td>second participant in conversation is deceivin...</td>\n",
       "      <td>[CLS]A: Hey Sarah, I heard you recently went o...</td>\n",
       "      <td>368</td>\n",
       "      <td>0.0</td>\n",
       "      <td>1.0</td>\n",
       "      <td>NaN</td>\n",
       "    </tr>\n",
       "    <tr>\n",
       "      <th>2</th>\n",
       "      <td>both participants in conversation are deceivin...</td>\n",
       "      <td>[CLS]A: Hey, how have you been? It's been a wh...</td>\n",
       "      <td>400</td>\n",
       "      <td>1.0</td>\n",
       "      <td>1.0</td>\n",
       "      <td>NaN</td>\n",
       "    </tr>\n",
       "    <tr>\n",
       "      <th>3</th>\n",
       "      <td>none of participants in conversation try to de...</td>\n",
       "      <td>[CLS]A: Hey Sarah! How was your weekend?[SEP]B...</td>\n",
       "      <td>494</td>\n",
       "      <td>0.0</td>\n",
       "      <td>0.0</td>\n",
       "      <td>NaN</td>\n",
       "    </tr>\n",
       "    <tr>\n",
       "      <th>4</th>\n",
       "      <td>first participant in conversation is deceiving...</td>\n",
       "      <td>[CLS]A: Hey there! How are you doing today?[SE...</td>\n",
       "      <td>534</td>\n",
       "      <td>1.0</td>\n",
       "      <td>0.0</td>\n",
       "      <td>NaN</td>\n",
       "    </tr>\n",
       "    <tr>\n",
       "      <th>...</th>\n",
       "      <td>...</td>\n",
       "      <td>...</td>\n",
       "      <td>...</td>\n",
       "      <td>...</td>\n",
       "      <td>...</td>\n",
       "      <td>...</td>\n",
       "    </tr>\n",
       "    <tr>\n",
       "      <th>95</th>\n",
       "      <td>none of participants in conversation try to de...</td>\n",
       "      <td>[CLS]A: Good morning! How are you today?[SEP]B...</td>\n",
       "      <td>714</td>\n",
       "      <td>0.0</td>\n",
       "      <td>0.0</td>\n",
       "      <td>NaN</td>\n",
       "    </tr>\n",
       "    <tr>\n",
       "      <th>96</th>\n",
       "      <td>first participant in conversation is deceiving...</td>\n",
       "      <td>[CLS]A: Hey, how have you been? I was just thi...</td>\n",
       "      <td>560</td>\n",
       "      <td>1.0</td>\n",
       "      <td>0.0</td>\n",
       "      <td>NaN</td>\n",
       "    </tr>\n",
       "    <tr>\n",
       "      <th>97</th>\n",
       "      <td>second participant in conversation is deceivin...</td>\n",
       "      <td>[CLS]A: Hey, I've been thinking about that inv...</td>\n",
       "      <td>724</td>\n",
       "      <td>0.0</td>\n",
       "      <td>1.0</td>\n",
       "      <td>NaN</td>\n",
       "    </tr>\n",
       "    <tr>\n",
       "      <th>98</th>\n",
       "      <td>both participants in conversation are deceivin...</td>\n",
       "      <td>[CLS]A: Hey, long time no see! How have you be...</td>\n",
       "      <td>556</td>\n",
       "      <td>1.0</td>\n",
       "      <td>1.0</td>\n",
       "      <td>Both A and B were deceiving each other through...</td>\n",
       "    </tr>\n",
       "    <tr>\n",
       "      <th>99</th>\n",
       "      <td>none of participants in conversation try to de...</td>\n",
       "      <td>[CLS]A: Did you have a chance to review the re...</td>\n",
       "      <td>558</td>\n",
       "      <td>0.0</td>\n",
       "      <td>0.0</td>\n",
       "      <td>NaN</td>\n",
       "    </tr>\n",
       "  </tbody>\n",
       "</table>\n",
       "<p>100 rows × 6 columns</p>\n",
       "</div>"
      ],
      "text/plain": [
       "                                             category  \\\n",
       "0   first participant in conversation is deceiving...   \n",
       "1   second participant in conversation is deceivin...   \n",
       "2   both participants in conversation are deceivin...   \n",
       "3   none of participants in conversation try to de...   \n",
       "4   first participant in conversation is deceiving...   \n",
       "..                                                ...   \n",
       "95  none of participants in conversation try to de...   \n",
       "96  first participant in conversation is deceiving...   \n",
       "97  second participant in conversation is deceivin...   \n",
       "98  both participants in conversation are deceivin...   \n",
       "99  none of participants in conversation try to de...   \n",
       "\n",
       "                                         conversation  word_count  \\\n",
       "0   [CLS]A: Hey, I have something really important...         437   \n",
       "1   [CLS]A: Hey Sarah, I heard you recently went o...         368   \n",
       "2   [CLS]A: Hey, how have you been? It's been a wh...         400   \n",
       "3   [CLS]A: Hey Sarah! How was your weekend?[SEP]B...         494   \n",
       "4   [CLS]A: Hey there! How are you doing today?[SE...         534   \n",
       "..                                                ...         ...   \n",
       "95  [CLS]A: Good morning! How are you today?[SEP]B...         714   \n",
       "96  [CLS]A: Hey, how have you been? I was just thi...         560   \n",
       "97  [CLS]A: Hey, I've been thinking about that inv...         724   \n",
       "98  [CLS]A: Hey, long time no see! How have you be...         556   \n",
       "99  [CLS]A: Did you have a chance to review the re...         558   \n",
       "\n",
       "    A_bad_intent  B_bad_intent  \\\n",
       "0            1.0           0.0   \n",
       "1            0.0           1.0   \n",
       "2            1.0           1.0   \n",
       "3            0.0           0.0   \n",
       "4            1.0           0.0   \n",
       "..           ...           ...   \n",
       "95           0.0           0.0   \n",
       "96           1.0           0.0   \n",
       "97           0.0           1.0   \n",
       "98           1.0           1.0   \n",
       "99           0.0           0.0   \n",
       "\n",
       "                                          description  \n",
       "0                                                 NaN  \n",
       "1                                                 NaN  \n",
       "2                                                 NaN  \n",
       "3                                                 NaN  \n",
       "4                                                 NaN  \n",
       "..                                                ...  \n",
       "95                                                NaN  \n",
       "96                                                NaN  \n",
       "97                                                NaN  \n",
       "98  Both A and B were deceiving each other through...  \n",
       "99                                                NaN  \n",
       "\n",
       "[100 rows x 6 columns]"
      ]
     },
     "execution_count": 6,
     "metadata": {},
     "output_type": "execute_result"
    }
   ],
   "source": [
    "df"
   ]
  },
  {
   "cell_type": "markdown",
   "id": "5e9add2b",
   "metadata": {},
   "source": [
    "---\n",
    "### Preprocessing the combined dataset"
   ]
  },
  {
   "cell_type": "code",
   "execution_count": 7,
   "id": "85cb1397",
   "metadata": {},
   "outputs": [],
   "source": [
    "#ProfileReport(df)"
   ]
  },
  {
   "cell_type": "code",
   "execution_count": 8,
   "id": "da434bd8",
   "metadata": {},
   "outputs": [
    {
     "data": {
      "text/html": [
       "<div>\n",
       "<style scoped>\n",
       "    .dataframe tbody tr th:only-of-type {\n",
       "        vertical-align: middle;\n",
       "    }\n",
       "\n",
       "    .dataframe tbody tr th {\n",
       "        vertical-align: top;\n",
       "    }\n",
       "\n",
       "    .dataframe thead th {\n",
       "        text-align: right;\n",
       "    }\n",
       "</style>\n",
       "<table border=\"1\" class=\"dataframe\">\n",
       "  <thead>\n",
       "    <tr style=\"text-align: right;\">\n",
       "      <th></th>\n",
       "      <th>category</th>\n",
       "      <th>conversation</th>\n",
       "      <th>word_count</th>\n",
       "      <th>A_bad_intent</th>\n",
       "      <th>B_bad_intent</th>\n",
       "      <th>description</th>\n",
       "    </tr>\n",
       "  </thead>\n",
       "  <tbody>\n",
       "  </tbody>\n",
       "</table>\n",
       "</div>"
      ],
      "text/plain": [
       "Empty DataFrame\n",
       "Columns: [category, conversation, word_count, A_bad_intent, B_bad_intent, description]\n",
       "Index: []"
      ]
     },
     "execution_count": 8,
     "metadata": {},
     "output_type": "execute_result"
    }
   ],
   "source": [
    "df[df['conversation'] == '']"
   ]
  },
  {
   "cell_type": "code",
   "execution_count": 9,
   "id": "8e698299",
   "metadata": {},
   "outputs": [],
   "source": [
    "def text_preprocess(message):\n",
    "    processed = []   \n",
    "    for text in message:\n",
    "        # replaace URLs\n",
    "        text = re.sub(r\"((http://)[^ ]*|(https://)[^ ]*|( www\\.)[^ ]*)\",' <URL>',text)        \n",
    "        # Remove HTML/XML tags (if any)\n",
    "        text = re.sub(r'<.*?>', '', text)\n",
    "        # Remove punctuation and symbols (not for now)\n",
    "        # text = re.sub(r'[^\\w\\s]', '', text) \n",
    "        # Remove numbers - not in this dataset!\n",
    "        #text = re.sub(r'\\d+', '', text)\n",
    "        # Remove whitespaces (including new lines and tabs)\n",
    "        text = text.strip().replace(\"\\n\", \" \").replace(\"\\r\", \" \").replace(\"\\t\", \" \")\n",
    "        \n",
    "        processed.append(text)       \n",
    "    return processed"
   ]
  },
  {
   "cell_type": "code",
   "execution_count": 10,
   "id": "bf7afb77",
   "metadata": {},
   "outputs": [
    {
     "data": {
      "text/html": [
       "<div>\n",
       "<style scoped>\n",
       "    .dataframe tbody tr th:only-of-type {\n",
       "        vertical-align: middle;\n",
       "    }\n",
       "\n",
       "    .dataframe tbody tr th {\n",
       "        vertical-align: top;\n",
       "    }\n",
       "\n",
       "    .dataframe thead th {\n",
       "        text-align: right;\n",
       "    }\n",
       "</style>\n",
       "<table border=\"1\" class=\"dataframe\">\n",
       "  <thead>\n",
       "    <tr style=\"text-align: right;\">\n",
       "      <th></th>\n",
       "      <th>category</th>\n",
       "      <th>conversation</th>\n",
       "      <th>word_count</th>\n",
       "      <th>A_bad_intent</th>\n",
       "      <th>B_bad_intent</th>\n",
       "      <th>description</th>\n",
       "    </tr>\n",
       "  </thead>\n",
       "  <tbody>\n",
       "    <tr>\n",
       "      <th>0</th>\n",
       "      <td>first participant in conversation is deceiving...</td>\n",
       "      <td>[CLS]A: Hey, I have something really important...</td>\n",
       "      <td>437</td>\n",
       "      <td>1.0</td>\n",
       "      <td>0.0</td>\n",
       "      <td>NaN</td>\n",
       "    </tr>\n",
       "    <tr>\n",
       "      <th>1</th>\n",
       "      <td>second participant in conversation is deceivin...</td>\n",
       "      <td>[CLS]A: Hey Sarah, I heard you recently went o...</td>\n",
       "      <td>368</td>\n",
       "      <td>0.0</td>\n",
       "      <td>1.0</td>\n",
       "      <td>NaN</td>\n",
       "    </tr>\n",
       "    <tr>\n",
       "      <th>2</th>\n",
       "      <td>both participants in conversation are deceivin...</td>\n",
       "      <td>[CLS]A: Hey, how have you been? It's been a wh...</td>\n",
       "      <td>400</td>\n",
       "      <td>1.0</td>\n",
       "      <td>1.0</td>\n",
       "      <td>NaN</td>\n",
       "    </tr>\n",
       "    <tr>\n",
       "      <th>3</th>\n",
       "      <td>none of participants in conversation try to de...</td>\n",
       "      <td>[CLS]A: Hey Sarah! How was your weekend?[SEP]B...</td>\n",
       "      <td>494</td>\n",
       "      <td>0.0</td>\n",
       "      <td>0.0</td>\n",
       "      <td>NaN</td>\n",
       "    </tr>\n",
       "    <tr>\n",
       "      <th>4</th>\n",
       "      <td>first participant in conversation is deceiving...</td>\n",
       "      <td>[CLS]A: Hey there! How are you doing today?[SE...</td>\n",
       "      <td>534</td>\n",
       "      <td>1.0</td>\n",
       "      <td>0.0</td>\n",
       "      <td>NaN</td>\n",
       "    </tr>\n",
       "    <tr>\n",
       "      <th>...</th>\n",
       "      <td>...</td>\n",
       "      <td>...</td>\n",
       "      <td>...</td>\n",
       "      <td>...</td>\n",
       "      <td>...</td>\n",
       "      <td>...</td>\n",
       "    </tr>\n",
       "    <tr>\n",
       "      <th>95</th>\n",
       "      <td>none of participants in conversation try to de...</td>\n",
       "      <td>[CLS]A: Good morning! How are you today?[SEP]B...</td>\n",
       "      <td>714</td>\n",
       "      <td>0.0</td>\n",
       "      <td>0.0</td>\n",
       "      <td>NaN</td>\n",
       "    </tr>\n",
       "    <tr>\n",
       "      <th>96</th>\n",
       "      <td>first participant in conversation is deceiving...</td>\n",
       "      <td>[CLS]A: Hey, how have you been? I was just thi...</td>\n",
       "      <td>560</td>\n",
       "      <td>1.0</td>\n",
       "      <td>0.0</td>\n",
       "      <td>NaN</td>\n",
       "    </tr>\n",
       "    <tr>\n",
       "      <th>97</th>\n",
       "      <td>second participant in conversation is deceivin...</td>\n",
       "      <td>[CLS]A: Hey, I've been thinking about that inv...</td>\n",
       "      <td>724</td>\n",
       "      <td>0.0</td>\n",
       "      <td>1.0</td>\n",
       "      <td>NaN</td>\n",
       "    </tr>\n",
       "    <tr>\n",
       "      <th>98</th>\n",
       "      <td>both participants in conversation are deceivin...</td>\n",
       "      <td>[CLS]A: Hey, long time no see! How have you be...</td>\n",
       "      <td>556</td>\n",
       "      <td>1.0</td>\n",
       "      <td>1.0</td>\n",
       "      <td>Both A and B were deceiving each other through...</td>\n",
       "    </tr>\n",
       "    <tr>\n",
       "      <th>99</th>\n",
       "      <td>none of participants in conversation try to de...</td>\n",
       "      <td>[CLS]A: Did you have a chance to review the re...</td>\n",
       "      <td>558</td>\n",
       "      <td>0.0</td>\n",
       "      <td>0.0</td>\n",
       "      <td>NaN</td>\n",
       "    </tr>\n",
       "  </tbody>\n",
       "</table>\n",
       "<p>100 rows × 6 columns</p>\n",
       "</div>"
      ],
      "text/plain": [
       "                                             category  \\\n",
       "0   first participant in conversation is deceiving...   \n",
       "1   second participant in conversation is deceivin...   \n",
       "2   both participants in conversation are deceivin...   \n",
       "3   none of participants in conversation try to de...   \n",
       "4   first participant in conversation is deceiving...   \n",
       "..                                                ...   \n",
       "95  none of participants in conversation try to de...   \n",
       "96  first participant in conversation is deceiving...   \n",
       "97  second participant in conversation is deceivin...   \n",
       "98  both participants in conversation are deceivin...   \n",
       "99  none of participants in conversation try to de...   \n",
       "\n",
       "                                         conversation  word_count  \\\n",
       "0   [CLS]A: Hey, I have something really important...         437   \n",
       "1   [CLS]A: Hey Sarah, I heard you recently went o...         368   \n",
       "2   [CLS]A: Hey, how have you been? It's been a wh...         400   \n",
       "3   [CLS]A: Hey Sarah! How was your weekend?[SEP]B...         494   \n",
       "4   [CLS]A: Hey there! How are you doing today?[SE...         534   \n",
       "..                                                ...         ...   \n",
       "95  [CLS]A: Good morning! How are you today?[SEP]B...         714   \n",
       "96  [CLS]A: Hey, how have you been? I was just thi...         560   \n",
       "97  [CLS]A: Hey, I've been thinking about that inv...         724   \n",
       "98  [CLS]A: Hey, long time no see! How have you be...         556   \n",
       "99  [CLS]A: Did you have a chance to review the re...         558   \n",
       "\n",
       "    A_bad_intent  B_bad_intent  \\\n",
       "0            1.0           0.0   \n",
       "1            0.0           1.0   \n",
       "2            1.0           1.0   \n",
       "3            0.0           0.0   \n",
       "4            1.0           0.0   \n",
       "..           ...           ...   \n",
       "95           0.0           0.0   \n",
       "96           1.0           0.0   \n",
       "97           0.0           1.0   \n",
       "98           1.0           1.0   \n",
       "99           0.0           0.0   \n",
       "\n",
       "                                          description  \n",
       "0                                                 NaN  \n",
       "1                                                 NaN  \n",
       "2                                                 NaN  \n",
       "3                                                 NaN  \n",
       "4                                                 NaN  \n",
       "..                                                ...  \n",
       "95                                                NaN  \n",
       "96                                                NaN  \n",
       "97                                                NaN  \n",
       "98  Both A and B were deceiving each other through...  \n",
       "99                                                NaN  \n",
       "\n",
       "[100 rows x 6 columns]"
      ]
     },
     "execution_count": 10,
     "metadata": {},
     "output_type": "execute_result"
    }
   ],
   "source": [
    "df['conversation'] = text_preprocess(list(df['conversation']))\n",
    "df"
   ]
  },
  {
   "cell_type": "code",
   "execution_count": 11,
   "id": "eb0c7df9",
   "metadata": {},
   "outputs": [
    {
     "data": {
      "text/plain": [
       "45"
      ]
     },
     "execution_count": 11,
     "metadata": {},
     "output_type": "execute_result"
    }
   ],
   "source": [
    "# number of conversation wth more than 512 words\n",
    "long_conversations = sum([1 if len(i.split()) > 512 else 0 for i in df['conversation']])\n",
    "long_conversations"
   ]
  },
  {
   "cell_type": "code",
   "execution_count": 12,
   "id": "552e753c",
   "metadata": {},
   "outputs": [
    {
     "data": {
      "text/plain": [
       "count    100.000000\n",
       "mean     505.030000\n",
       "std      109.652109\n",
       "min      272.000000\n",
       "25%      437.750000\n",
       "50%      496.000000\n",
       "75%      566.000000\n",
       "max      982.000000\n",
       "Name: conversation, dtype: float64"
      ]
     },
     "execution_count": 12,
     "metadata": {},
     "output_type": "execute_result"
    }
   ],
   "source": [
    "df['conversation'].str.split().apply(lambda x : len(x)).describe()"
   ]
  },
  {
   "cell_type": "code",
   "execution_count": 13,
   "id": "941e01f9",
   "metadata": {},
   "outputs": [
    {
     "data": {
      "text/plain": [
       "<seaborn.axisgrid.FacetGrid at 0x7f6274b5feb0>"
      ]
     },
     "execution_count": 13,
     "metadata": {},
     "output_type": "execute_result"
    },
    {
     "data": {
      "image/png": "[encoded data removed]",
      "text/plain": [
       "<Figure size 500x500 with 1 Axes>"
      ]
     },
     "metadata": {},
     "output_type": "display_data"
    }
   ],
   "source": [
    "lensofc = [len(i.split()) for i in df['conversation']]\n",
    "long_c_plot = sns.relplot(lensofc)\n",
    "long_c_plot.set_ylabels(\"Number of words\", clear_inner=False)\n",
    "long_c_plot.set_xlabels(\"Conversations\", clear_inner=False)"
   ]
  },
  {
   "cell_type": "code",
   "execution_count": 14,
   "id": "a6f51b3b",
   "metadata": {},
   "outputs": [],
   "source": [
    "#df['conversation'].loc[0]"
   ]
  },
  {
   "cell_type": "code",
   "execution_count": 15,
   "id": "9028358e",
   "metadata": {},
   "outputs": [],
   "source": [
    "# find conversations with more than 5000 words\n",
    "longs = [df.index[df['conversation'] == i].tolist()[0] for i in df['conversation'] if len(i.split()) > 4000]"
   ]
  },
  {
   "cell_type": "code",
   "execution_count": 16,
   "id": "78d958cc",
   "metadata": {},
   "outputs": [
    {
     "data": {
      "text/plain": [
       "[]"
      ]
     },
     "execution_count": 16,
     "metadata": {},
     "output_type": "execute_result"
    }
   ],
   "source": [
    "longs"
   ]
  },
  {
   "cell_type": "code",
   "execution_count": 17,
   "id": "1a3a4db2",
   "metadata": {},
   "outputs": [],
   "source": [
    "#lets drop long conversations\n",
    "df.drop(longs, axis=0, inplace=True)"
   ]
  },
  {
   "cell_type": "markdown",
   "id": "7e5110a5",
   "metadata": {},
   "source": [
    "---\n",
    "### Preaper dataset for classification"
   ]
  },
  {
   "cell_type": "code",
   "execution_count": 18,
   "id": "ca72843a",
   "metadata": {},
   "outputs": [
    {
     "data": {
      "text/plain": [
       "<Axes: xlabel='A_bad_intent', ylabel='count'>"
      ]
     },
     "execution_count": 18,
     "metadata": {},
     "output_type": "execute_result"
    },
    {
     "data": {
      "image/png": "[encoded data removed]",
      "text/plain": [
       "<Figure size 640x480 with 1 Axes>"
      ]
     },
     "metadata": {},
     "output_type": "display_data"
    }
   ],
   "source": [
    "sns.countplot(data = df, x= df['A_bad_intent'])"
   ]
  },
  {
   "cell_type": "code",
   "execution_count": 19,
   "id": "b2e46db4",
   "metadata": {},
   "outputs": [
    {
     "data": {
      "text/plain": [
       "<Axes: xlabel='B_bad_intent', ylabel='count'>"
      ]
     },
     "execution_count": 19,
     "metadata": {},
     "output_type": "execute_result"
    },
    {
     "data": {
      "image/png": "[encoded data removed]",
      "text/plain": [
       "<Figure size 640x480 with 1 Axes>"
      ]
     },
     "metadata": {},
     "output_type": "display_data"
    }
   ],
   "source": [
    "sns.countplot(data = df, x= df['B_bad_intent'])"
   ]
  },
  {
   "cell_type": "markdown",
   "id": "1a13cdb9",
   "metadata": {},
   "source": [
    "#### balance the dataset or evalue the classification by weighted F1 score???"
   ]
  },
  {
   "cell_type": "markdown",
   "id": "c84d0011",
   "metadata": {},
   "source": [
    "+ Normalization /scaling --> no need when using BERT\n",
    "+ Shuffling --> shuffle=True in train_test_split\n"
   ]
  },
  {
   "cell_type": "markdown",
   "id": "76da635e",
   "metadata": {},
   "source": [
    "---\n",
    "### Classification"
   ]
  },
  {
   "cell_type": "code",
   "execution_count": 20,
   "id": "9e790f47",
   "metadata": {},
   "outputs": [
    {
     "name": "stdout",
     "output_type": "stream",
     "text": [
      "There are 1 GPU(s) available.\n",
      "GPU: NVIDIA A100 80GB PCIe MIG 2g.20gb\n"
     ]
    }
   ],
   "source": [
    "# If there's a GPU available...\n",
    "if torch.cuda.is_available():      \n",
    "    device = torch.device(\"cuda\")\n",
    "    print('There are %d GPU(s) available.' % torch.cuda.device_count())\n",
    "    print('GPU:', torch.cuda.get_device_name(0))\n",
    "else:\n",
    "    print('using the CPU')\n",
    "    device = torch.device(\"cpu\")"
   ]
  },
  {
   "cell_type": "markdown",
   "id": "6715eaf4",
   "metadata": {},
   "source": [
    "---\n",
    "Classification Model, to label each actor in the conversation"
   ]
  },
  {
   "cell_type": "code",
   "execution_count": 21,
   "id": "d73bb946",
   "metadata": {},
   "outputs": [],
   "source": [
    "#@todo use BertForSequenceClassification instead of BertModel?\n",
    "\n",
    "class ParticipantClassifier(nn.Module):\n",
    "    def __init__(self, bert_model_name):\n",
    "        super(ParticipantClassifier, self).__init__()\n",
    "        self.bert = BertModel.from_pretrained(bert_model_name)\n",
    "        # add a linear layer that maps the hidden state to two outputs, labels\n",
    "        self.classifier = nn.Linear(self.bert.config.hidden_size, 2)\n",
    " \n",
    "    # input_ids, attention_mask are ouputs of tokenizer\n",
    "    def forward(self, input_ids, attention_mask):\n",
    "        # pass the input to the model\n",
    "        outputs = self.bert(input_ids=input_ids, attention_mask=attention_mask)\n",
    "        pooled_output = outputs[1]  # [CLS] token representation\n",
    "        logits = self.classifier(pooled_output)\n",
    "        # models confidence score for each calss\n",
    "        logits_a = logits[:, 0]\n",
    "        logits_b = logits[:, 1]\n",
    "        return logits_a, logits_b"
   ]
  },
  {
   "cell_type": "markdown",
   "id": "c08ccf09",
   "metadata": {},
   "source": [
    "---\n",
    "Tokenize and chunck conversations to segments with less than 512 tokens"
   ]
  },
  {
   "cell_type": "code",
   "execution_count": 22,
   "id": "42655e81",
   "metadata": {},
   "outputs": [],
   "source": [
    "class ConversationDataset(Dataset):\n",
    "    def __init__(self, data, tokenizer, max_length=512, overlap=25): # overlap hardcoded\n",
    "        self.data = data\n",
    "        self.tokenizer = tokenizer\n",
    "        self.max_length = max_length\n",
    "        self.overlap = overlap\n",
    "        \n",
    "    def __len__(self):\n",
    "        return len(self.data)\n",
    "    \n",
    "    def _tokenize(self, text):\n",
    "        \"\"\"Tokenize the text into overlapping segments.\"\"\"\n",
    "        tokens = self.tokenizer.encode(text, add_special_tokens=False)\n",
    "        segments = []\n",
    "        if len(tokens) > self.max_length - 2:  # for [CLS] and [SEP]\n",
    "            start = 0\n",
    "            while start < len(tokens):\n",
    "                end = min(start + self.max_length-2, len(tokens))\n",
    "                segment = tokens[start:end]\n",
    "                #segment = [self.tokenizer.cls_token_id] + segment + [self.tokenizer.sep_token_id] # do I need this?\n",
    "                #pad chunks up to the max length\n",
    "                #padded_segments = segments + [self.tokenizer.pad_token_id] * (self.max_length - len(segments))  # do I need this?\n",
    "                segments.append(segment)              \n",
    "                # update the start and end of the next chunk\n",
    "                start += self.max_length - self.overlap\n",
    "       \n",
    "        else:\n",
    "            segments.append(tokens)\n",
    "        return segments\n",
    "    \n",
    "    def __getitem__(self, idx):\n",
    "        text = self.data[idx]['conversation']\n",
    "        segments = self._tokenize(text)\n",
    "        # process each segment\n",
    "        inputs = [self.tokenizer.prepare_for_model(\n",
    "                    seg,\n",
    "                    add_special_tokens=False,  # I add special tokens manually\n",
    "                    max_length=self.max_length,\n",
    "                    padding='max_length',\n",
    "                    return_tensors='pt',\n",
    "                    truncation=True # \n",
    "                  ) for seg in segments]\n",
    "        \n",
    "        label_a = 1 if self.data[idx]['A_bad_intent'] == 1 else 0\n",
    "        label_b = 1 if self.data[idx]['B_bad_intent'] == 1 else 0\n",
    "        \n",
    "        # return a list of segments, each with its own input_ids and attention_mask\n",
    "        return {\n",
    "            'segments': [{\n",
    "                'input_ids': input['input_ids'].squeeze(),\n",
    "                'attention_mask': input['attention_mask'].squeeze()\n",
    "            } for input in inputs],\n",
    "            'A_bad_intent': label_a,\n",
    "            'B_bad_intent': label_b\n",
    "        }"
   ]
  },
  {
   "cell_type": "markdown",
   "id": "b8b5f368",
   "metadata": {},
   "source": [
    "---\n",
    "\n",
    "To ensure that each batch processed by the model has the same shape, collate_fn pads the sequences so that all data in a batch have the same length\n"
   ]
  },
  {
   "cell_type": "code",
   "execution_count": 23,
   "id": "fe2c87c6",
   "metadata": {},
   "outputs": [],
   "source": [
    "def collate_fn(batch):\n",
    "    \"\"\"\n",
    "    Custom collate function for handling batches of segmented conversations.\n",
    "    \"\"\"\n",
    "    # lists to store the sequences and labels for all segments across all batch items\n",
    "    input_ids_list = []\n",
    "    attention_mask_list = []\n",
    "    labels_a_list = []\n",
    "    labels_b_list = []\n",
    " \n",
    "    # list to store the segments for all batch items\n",
    "    batch_segments = []\n",
    " \n",
    "    for item in batch:\n",
    "        # accumulate the labels for each item in the batch\n",
    "        labels_a_list.append(item['A_bad_intent'])\n",
    "        labels_b_list.append(item['B_bad_intent'])\n",
    " \n",
    "        # collect segments from each item in the batch\n",
    "        item_segments = []\n",
    "        for segment in item['segments']:\n",
    "            # for each segment, extract input_ids and attention_mask\n",
    "            input_ids = segment['input_ids']\n",
    "            attention_mask = segment['attention_mask']\n",
    " \n",
    "            # append the segment's input_ids and attention_mask to the respective lists\n",
    "            input_ids_list.append(input_ids)\n",
    "            attention_mask_list.append(attention_mask)\n",
    " \n",
    "            # also collect segments for this item\n",
    "            item_segments.append({\n",
    "                'input_ids': input_ids,\n",
    "                'attention_mask': attention_mask\n",
    "            })\n",
    " \n",
    "        batch_segments.append(item_segments)\n",
    " \n",
    "    # pad the sequences so that each sequence in the batch has the same length\n",
    "    input_ids_padded = pad_sequence(input_ids_list, batch_first=True, padding_value=0)\n",
    "    attention_mask_padded = pad_sequence(attention_mask_list, batch_first=True, padding_value=0)\n",
    "    # convert labels lists to tensors\n",
    "    labels_a = torch.tensor(labels_a_list)\n",
    "    labels_b = torch.tensor(labels_b_list)\n",
    " \n",
    "    # return the dictionary with padded 'input_ids', 'attention_mask' and 'segments'\n",
    "    return {\n",
    "        'segments': batch_segments,\n",
    "        'input_ids': input_ids_padded,\n",
    "        'attention_mask': attention_mask_padded,\n",
    "        'A_bad_intent': labels_a,\n",
    "        'B_bad_intent': labels_b\n",
    "    }"
   ]
  },
  {
   "cell_type": "markdown",
   "id": "d8f0061c",
   "metadata": {},
   "source": [
    "---\n",
    "To feed the text to BERT, first it must be split into tokens, and then these tokens must be mapped to their index in the tokenizer vocabulary."
   ]
  },
  {
   "cell_type": "code",
   "execution_count": 24,
   "id": "335581bf",
   "metadata": {},
   "outputs": [],
   "source": [
    "#bert-base-uncased model has only lowercase letters!\n",
    "# bert-base-cased: This model is case-sensitive: it makes a difference between english and English.\n",
    "tokenizer = BertTokenizer.from_pretrained('bert-base-cased', do_lower_case=False) \n"
   ]
  },
  {
   "cell_type": "code",
   "execution_count": 25,
   "id": "cca4becb",
   "metadata": {},
   "outputs": [],
   "source": [
    "#Train Test Validation split\n",
    "\n",
    "# shuffle the DataFrame\n",
    "df = df.sample(frac=1).reset_index(drop=True)\n",
    " \n",
    "# define split sizes\n",
    "train_size = int(0.7 * len(df)) # reduced train data to 50% to resolve cuda out of memory problem\n",
    "val_size = int(0.15 * len(df))\n",
    " \n",
    "# split the DataFrame\n",
    "train_df = df[:train_size]\n",
    "val_df = df[train_size:train_size + val_size]\n",
    "test_df = df[train_size + val_size:]\n",
    " "
   ]
  },
  {
   "cell_type": "code",
   "execution_count": 26,
   "id": "02483138",
   "metadata": {},
   "outputs": [],
   "source": [
    "train_data = train_df.to_dict('records')\n",
    "val_data = val_df.to_dict('records')\n",
    "test_data = test_df.to_dict('records')\n",
    "#data\n",
    "# Get the lists of sentences and their labels.\n",
    "#data = df.conversation.values\n",
    "#labels = df.target.values"
   ]
  },
  {
   "cell_type": "code",
   "execution_count": 27,
   "id": "f96c6c62",
   "metadata": {},
   "outputs": [
    {
     "name": "stdout",
     "output_type": "stream",
     "text": [
      " Original:  {'category': 'both participants in conversation are deceiving each other', 'conversation': \"[CLS]A: Hey, long time no see! How have you been?[SEP]B: I've been great, just got back from a business trip in Paris. How about you?[SEP]A: Oh, Paris sounds lovely. I've been doing well, just wrapped up an incredible project at work, actually. It's been a hectic few months.[SEP]B: That's awesome. What kind of project was it, if you don't mind me asking?[SEP]A: It was a high-profile marketing campaign. We were working with several international brands to launch a series of ads across different platforms. It required a lot of late nights, but it was worth it.[SEP]B: That sounds impressive. I've also been swamped. My trip to Paris was to secure a deal with a major French company. We're looking to expand our operations in Europe.[SEP]A: That's a big move! Congratulations. I'm sure that took a lot of negotiating skills and effort.[SEP]B: Thanks! It's all about who you know, you know? Speaking of, I heard through the grapevine that you might be up for a promotion. Is there any truth to that?[SEP]A: Oh, word gets around fast, doesn't it? Yes, there's been some talk about that. I'm in line for a senior management position, which could mean a lot more responsibility and travel.[SEP]B: Travel is always exciting. I've been thinking about buying a vacation home, maybe somewhere tropical. I think I've earned it after all this hard work.[SEP]A: That sounds like a dream. I've been investing in some real estate myself. Nothing too extravagant, just a couple of properties here and there. It's good to have assets.[SEP]B: Absolutely. Have you been doing that long? I've been thinking about dipping my toes into real estate myself.[SEP]A: Just got started this year, actually. It's going pretty well. If you ever want some tips or advice, let me know.[SEP]B: I might take you up on that. B:y the way, are you still driving that old sedan? I just picked up a new luxury car—it's a smooth ride.[SEP]A: I saw your new car on social media, looks fantastic. I decided to go green and bought an electric vehicle. It's been a game-changer for me.[SEP]B: That's the future, isn't it? I should consider that for my next purchase. Anyway, it's been good catching up, but I've got another meeting I need to prep for.[SEP]A: Same here, got to run. B:ut let's do lunch soon, maybe discuss some business opportunities?[SEP]B: Definitely. I'll text you some dates. Looking forward to it.[SEP]A:[SEP]\", 'word_count': 467, 'A_bad_intent': 1.0, 'B_bad_intent': 1.0, 'description': nan}\n",
      "Tokenized:  ['[CLS]', 'A', ':', 'Hey', ',', 'long', 'time', 'no', 'see', '!', 'How', 'have', 'you', 'been', '?', '[SEP]', 'B', ':', 'I', \"'\", 've', 'been', 'great', ',', 'just', 'got', 'back', 'from', 'a', 'business', 'trip', 'in', 'Paris', '.', 'How', 'about', 'you', '?', '[SEP]', 'A', ':', 'Oh', ',', 'Paris', 'sounds', 'lovely', '.', 'I', \"'\", 've', 'been', 'doing', 'well', ',', 'just', 'wrapped', 'up', 'an', 'incredible', 'project', 'at', 'work', ',', 'actually', '.', 'It', \"'\", 's', 'been', 'a', 'he', '##ctic', 'few', 'months', '.', '[SEP]', 'B', ':', 'That', \"'\", 's', 'awesome', '.', 'What', 'kind', 'of', 'project', 'was', 'it', ',', 'if', 'you', 'don', \"'\", 't', 'mind', 'me', 'asking', '?', '[SEP]', 'A', ':', 'It', 'was', 'a', 'high', '-', 'profile', 'marketing', 'campaign', '.', 'We', 'were', 'working', 'with', 'several', 'international', 'brands', 'to', 'launch', 'a', 'series', 'of', 'ads', 'across', 'different', 'platforms', '.', 'It', 'required', 'a', 'lot', 'of', 'late', 'nights', ',', 'but', 'it', 'was', 'worth', 'it', '.', '[SEP]', 'B', ':', 'That', 'sounds', 'impressive', '.', 'I', \"'\", 've', 'also', 'been', 'swamp', '##ed', '.', 'My', 'trip', 'to', 'Paris', 'was', 'to', 'secure', 'a', 'deal', 'with', 'a', 'major', 'French', 'company', '.', 'We', \"'\", 're', 'looking', 'to', 'expand', 'our', 'operations', 'in', 'Europe', '.', '[SEP]', 'A', ':', 'That', \"'\", 's', 'a', 'big', 'move', '!', 'Con', '##gratulations', '.', 'I', \"'\", 'm', 'sure', 'that', 'took', 'a', 'lot', 'of', 'negotiating', 'skills', 'and', 'effort', '.', '[SEP]', 'B', ':', 'Thanks', '!', 'It', \"'\", 's', 'all', 'about', 'who', 'you', 'know', ',', 'you', 'know', '?', 'Speaking', 'of', ',', 'I', 'heard', 'through', 'the', 'grape', '##vin', '##e', 'that', 'you', 'might', 'be', 'up', 'for', 'a', 'promotion', '.', 'Is', 'there', 'any', 'truth', 'to', 'that', '?', '[SEP]', 'A', ':', 'Oh', ',', 'word', 'gets', 'around', 'fast', ',', 'doesn', \"'\", 't', 'it', '?', 'Yes', ',', 'there', \"'\", 's', 'been', 'some', 'talk', 'about', 'that', '.', 'I', \"'\", 'm', 'in', 'line', 'for', 'a', 'senior', 'management', 'position', ',', 'which', 'could', 'mean', 'a', 'lot', 'more', 'responsibility', 'and', 'travel', '.', '[SEP]', 'B', ':', 'Travel', 'is', 'always', 'exciting', '.', 'I', \"'\", 've', 'been', 'thinking', 'about', 'buying', 'a', 'vacation', 'home', ',', 'maybe', 'somewhere', 'tropical', '.', 'I', 'think', 'I', \"'\", 've', 'earned', 'it', 'after', 'all', 'this', 'hard', 'work', '.', '[SEP]', 'A', ':', 'That', 'sounds', 'like', 'a', 'dream', '.', 'I', \"'\", 've', 'been', 'investing', 'in', 'some', 'real', 'estate', 'myself', '.', 'Nothing', 'too', 'extra', '##va', '##gant', ',', 'just', 'a', 'couple', 'of', 'properties', 'here', 'and', 'there', '.', 'It', \"'\", 's', 'good', 'to', 'have', 'assets', '.', '[SEP]', 'B', ':', 'Absolutely', '.', 'Have', 'you', 'been', 'doing', 'that', 'long', '?', 'I', \"'\", 've', 'been', 'thinking', 'about', 'dipping', 'my', 'toes', 'into', 'real', 'estate', 'myself', '.', '[SEP]', 'A', ':', 'Just', 'got', 'started', 'this', 'year', ',', 'actually', '.', 'It', \"'\", 's', 'going', 'pretty', 'well', '.', 'If', 'you', 'ever', 'want', 'some', 'tips', 'or', 'advice', ',', 'let', 'me', 'know', '.', '[SEP]', 'B', ':', 'I', 'might', 'take', 'you', 'up', 'on', 'that', '.', 'B', ':', 'y', 'the', 'way', ',', 'are', 'you', 'still', 'driving', 'that', 'old', 'sedan', '?', 'I', 'just', 'picked', 'up', 'a', 'new', 'luxury', 'car', '—', 'it', \"'\", 's', 'a', 'smooth', 'ride', '.', '[SEP]', 'A', ':', 'I', 'saw', 'your', 'new', 'car', 'on', 'social', 'media', ',', 'looks', 'fantastic', '.', 'I', 'decided', 'to', 'go', 'green', 'and', 'bought', 'an', 'electric', 'vehicle', '.', 'It', \"'\", 's', 'been', 'a', 'game', '-', 'change', '##r', 'for', 'me', '.', '[SEP]', 'B', ':', 'That', \"'\", 's', 'the', 'future', ',', 'isn', \"'\", 't', 'it', '?', 'I', 'should', 'consider', 'that', 'for', 'my', 'next', 'purchase', '.', 'Anyway', ',', 'it', \"'\", 's', 'been', 'good', 'catching', 'up', ',', 'but', 'I', \"'\", 've', 'got', 'another', 'meeting', 'I', 'need', 'to', 'pre', '##p', 'for', '.', '[SEP]', 'A', ':', 'Same', 'here', ',', 'got', 'to', 'run', '.', 'B', ':', 'u', '##t', 'let', \"'\", 's', 'do', 'lunch', 'soon', ',', 'maybe', 'discuss', 'some', 'business', 'opportunities', '?', '[SEP]', 'B', ':', 'De', '##fin', '##ite', '##ly', '.', 'I', \"'\", 'll', 'text', 'you', 'some', 'dates', '.', 'Looking', 'forward', 'to', 'it', '.', '[SEP]', 'A', ':', '[SEP]']\n",
      "Token IDs:  [101, 138, 131, 4403, 117, 1263, 1159, 1185, 1267, 106, 1731, 1138, 1128, 1151, 136, 102, 139, 131, 146, 112, 1396, 1151, 1632, 117, 1198, 1400, 1171, 1121, 170, 1671, 3868, 1107, 2123, 119, 1731, 1164, 1128, 136, 102, 138, 131, 2048, 117, 2123, 3807, 9020, 119, 146, 112, 1396, 1151, 1833, 1218, 117, 1198, 4293, 1146, 1126, 10965, 1933, 1120, 1250, 117, 2140, 119, 1135, 112, 188, 1151, 170, 1119, 11143, 1374, 1808, 119, 102, 139, 131, 1337, 112, 188, 14918, 119, 1327, 1912, 1104, 1933, 1108, 1122, 117, 1191, 1128, 1274, 112, 189, 1713, 1143, 4107, 136, 102, 138, 131, 1135, 1108, 170, 1344, 118, 6168, 6213, 2322, 119, 1284, 1127, 1684, 1114, 1317, 1835, 10915, 1106, 4286, 170, 1326, 1104, 17641, 1506, 1472, 6833, 119, 1135, 2320, 170, 1974, 1104, 1523, 6823, 117, 1133, 1122, 1108, 3869, 1122, 119, 102, 139, 131, 1337, 3807, 7757, 119, 146, 112, 1396, 1145, 1151, 16407, 1174, 119, 1422, 3868, 1106, 2123, 1108, 1106, 5343, 170, 2239, 1114, 170, 1558, 1497, 1419, 119, 1284, 112, 1231, 1702, 1106, 7380, 1412, 2500, 1107, 1980, 119, 102, 138, 131, 1337, 112, 188, 170, 1992, 1815, 106, 16752, 25891, 119, 146, 112, 182, 1612, 1115, 1261, 170, 1974, 1104, 21262, 4196, 1105, 3098, 119, 102, 139, 131, 5749, 106, 1135, 112, 188, 1155, 1164, 1150, 1128, 1221, 117, 1128, 1221, 136, 14072, 1104, 117, 146, 1767, 1194, 1103, 17291, 6871, 1162, 1115, 1128, 1547, 1129, 1146, 1111, 170, 4166, 119, 2181, 1175, 1251, 3062, 1106, 1115, 136, 102, 138, 131, 2048, 117, 1937, 3370, 1213, 2698, 117, 2144, 112, 189, 1122, 136, 2160, 117, 1175, 112, 188, 1151, 1199, 2037, 1164, 1115, 119, 146, 112, 182, 1107, 1413, 1111, 170, 2682, 2635, 1700, 117, 1134, 1180, 1928, 170, 1974, 1167, 4812, 1105, 3201, 119, 102, 139, 131, 7938, 1110, 1579, 11215, 119, 146, 112, 1396, 1151, 2422, 1164, 9241, 170, 12020, 1313, 117, 2654, 4476, 5065, 119, 146, 1341, 146, 112, 1396, 2829, 1122, 1170, 1155, 1142, 1662, 1250, 119, 102, 138, 131, 1337, 3807, 1176, 170, 4185, 119, 146, 112, 1396, 1151, 23379, 1107, 1199, 1842, 3327, 1991, 119, 4302, 1315, 3908, 2497, 24581, 117, 1198, 170, 2337, 1104, 4625, 1303, 1105, 1175, 119, 1135, 112, 188, 1363, 1106, 1138, 6661, 119, 102, 139, 131, 24107, 119, 4373, 1128, 1151, 1833, 1115, 1263, 136, 146, 112, 1396, 1151, 2422, 1164, 27669, 1139, 10497, 1154, 1842, 3327, 1991, 119, 102, 138, 131, 2066, 1400, 1408, 1142, 1214, 117, 2140, 119, 1135, 112, 188, 1280, 2785, 1218, 119, 1409, 1128, 1518, 1328, 1199, 10538, 1137, 5566, 117, 1519, 1143, 1221, 119, 102, 139, 131, 146, 1547, 1321, 1128, 1146, 1113, 1115, 119, 139, 131, 194, 1103, 1236, 117, 1132, 1128, 1253, 3759, 1115, 1385, 19170, 136, 146, 1198, 3015, 1146, 170, 1207, 9886, 1610, 783, 1122, 112, 188, 170, 5307, 4176, 119, 102, 138, 131, 146, 1486, 1240, 1207, 1610, 1113, 1934, 2394, 117, 2736, 14820, 119, 146, 1879, 1106, 1301, 2448, 1105, 3306, 1126, 3651, 3686, 119, 1135, 112, 188, 1151, 170, 1342, 118, 1849, 1197, 1111, 1143, 119, 102, 139, 131, 1337, 112, 188, 1103, 2174, 117, 2762, 112, 189, 1122, 136, 146, 1431, 4615, 1115, 1111, 1139, 1397, 4779, 119, 10756, 117, 1122, 112, 188, 1151, 1363, 9256, 1146, 117, 1133, 146, 112, 1396, 1400, 1330, 2309, 146, 1444, 1106, 3073, 1643, 1111, 119, 102, 138, 131, 14060, 1303, 117, 1400, 1106, 1576, 119, 139, 131, 190, 1204, 1519, 112, 188, 1202, 5953, 1770, 117, 2654, 6265, 1199, 1671, 6305, 136, 102, 139, 131, 3177, 16598, 3150, 1193, 119, 146, 112, 1325, 3087, 1128, 1199, 4595, 119, 8540, 1977, 1106, 1122, 119, 102, 138, 131, 102]\n"
     ]
    }
   ],
   "source": [
    "# Print the original conversation.\n",
    "print(' Original: ', train_data[30])\n",
    "# Print that split into tokens.\n",
    "tokenized_sample = tokenizer.tokenize(train_data[30]['conversation'])\n",
    "print('Tokenized: ', tokenized_sample)\n",
    "# Print mapped to token ids.\n",
    "print('Token IDs: ', tokenizer.convert_tokens_to_ids(tokenized_sample))"
   ]
  },
  {
   "cell_type": "code",
   "execution_count": 28,
   "id": "2a342912",
   "metadata": {},
   "outputs": [],
   "source": [
    "# batch and suffle the data\n",
    "\n",
    "train_dataset = ConversationDataset(train_data, tokenizer, max_length=512)\n",
    "train_dataloader = DataLoader(train_dataset, batch_size=8, shuffle=True ,collate_fn=collate_fn)\n",
    "\n",
    "val_dataset = ConversationDataset(val_data, tokenizer, max_length=512)\n",
    "val_dataloader = DataLoader(val_dataset, batch_size=8, shuffle=True, collate_fn=collate_fn)\n",
    "\n",
    "test_dataset = ConversationDataset(test_data, tokenizer, max_length=512)\n",
    "test_dataloader = DataLoader(test_dataset, batch_size=8, shuffle=True, collate_fn=collate_fn)"
   ]
  },
  {
   "cell_type": "code",
   "execution_count": 29,
   "id": "f0e129ea",
   "metadata": {},
   "outputs": [
    {
     "name": "stderr",
     "output_type": "stream",
     "text": [
      "Token indices sequence length is longer than the specified maximum sequence length for this model (614 > 512). Running this sequence through the model will result in indexing errors\n"
     ]
    },
    {
     "data": {
      "text/plain": [
       "{'segments': [{'input_ids': tensor([  101,   138,   131,  4403,   117,  1263,  1159,  1185,  1267,   106,\n",
       "            1731,  1138,  1128,  1151,   136,   102,   139,   131,   146,   112,\n",
       "            1396,  1151,  1632,   117,  1198,  1400,  1171,  1121,   170,  1671,\n",
       "            3868,  1107,  2123,   119,  1731,  1164,  1128,   136,   102,   138,\n",
       "             131,  2048,   117,  2123,  3807,  9020,   119,   146,   112,  1396,\n",
       "            1151,  1833,  1218,   117,  1198,  4293,  1146,  1126, 10965,  1933,\n",
       "            1120,  1250,   117,  2140,   119,  1135,   112,   188,  1151,   170,\n",
       "            1119, 11143,  1374,  1808,   119,   102,   139,   131,  1337,   112,\n",
       "             188, 14918,   119,  1327,  1912,  1104,  1933,  1108,  1122,   117,\n",
       "            1191,  1128,  1274,   112,   189,  1713,  1143,  4107,   136,   102,\n",
       "             138,   131,  1135,  1108,   170,  1344,   118,  6168,  6213,  2322,\n",
       "             119,  1284,  1127,  1684,  1114,  1317,  1835, 10915,  1106,  4286,\n",
       "             170,  1326,  1104, 17641,  1506,  1472,  6833,   119,  1135,  2320,\n",
       "             170,  1974,  1104,  1523,  6823,   117,  1133,  1122,  1108,  3869,\n",
       "            1122,   119,   102,   139,   131,  1337,  3807,  7757,   119,   146,\n",
       "             112,  1396,  1145,  1151, 16407,  1174,   119,  1422,  3868,  1106,\n",
       "            2123,  1108,  1106,  5343,   170,  2239,  1114,   170,  1558,  1497,\n",
       "            1419,   119,  1284,   112,  1231,  1702,  1106,  7380,  1412,  2500,\n",
       "            1107,  1980,   119,   102,   138,   131,  1337,   112,   188,   170,\n",
       "            1992,  1815,   106, 16752, 25891,   119,   146,   112,   182,  1612,\n",
       "            1115,  1261,   170,  1974,  1104, 21262,  4196,  1105,  3098,   119,\n",
       "             102,   139,   131,  5749,   106,  1135,   112,   188,  1155,  1164,\n",
       "            1150,  1128,  1221,   117,  1128,  1221,   136, 14072,  1104,   117,\n",
       "             146,  1767,  1194,  1103, 17291,  6871,  1162,  1115,  1128,  1547,\n",
       "            1129,  1146,  1111,   170,  4166,   119,  2181,  1175,  1251,  3062,\n",
       "            1106,  1115,   136,   102,   138,   131,  2048,   117,  1937,  3370,\n",
       "            1213,  2698,   117,  2144,   112,   189,  1122,   136,  2160,   117,\n",
       "            1175,   112,   188,  1151,  1199,  2037,  1164,  1115,   119,   146,\n",
       "             112,   182,  1107,  1413,  1111,   170,  2682,  2635,  1700,   117,\n",
       "            1134,  1180,  1928,   170,  1974,  1167,  4812,  1105,  3201,   119,\n",
       "             102,   139,   131,  7938,  1110,  1579, 11215,   119,   146,   112,\n",
       "            1396,  1151,  2422,  1164,  9241,   170, 12020,  1313,   117,  2654,\n",
       "            4476,  5065,   119,   146,  1341,   146,   112,  1396,  2829,  1122,\n",
       "            1170,  1155,  1142,  1662,  1250,   119,   102,   138,   131,  1337,\n",
       "            3807,  1176,   170,  4185,   119,   146,   112,  1396,  1151, 23379,\n",
       "            1107,  1199,  1842,  3327,  1991,   119,  4302,  1315,  3908,  2497,\n",
       "           24581,   117,  1198,   170,  2337,  1104,  4625,  1303,  1105,  1175,\n",
       "             119,  1135,   112,   188,  1363,  1106,  1138,  6661,   119,   102,\n",
       "             139,   131, 24107,   119,  4373,  1128,  1151,  1833,  1115,  1263,\n",
       "             136,   146,   112,  1396,  1151,  2422,  1164, 27669,  1139, 10497,\n",
       "            1154,  1842,  3327,  1991,   119,   102,   138,   131,  2066,  1400,\n",
       "            1408,  1142,  1214,   117,  2140,   119,  1135,   112,   188,  1280,\n",
       "            2785,  1218,   119,  1409,  1128,  1518,  1328,  1199, 10538,  1137,\n",
       "            5566,   117,  1519,  1143,  1221,   119,   102,   139,   131,   146,\n",
       "            1547,  1321,  1128,  1146,  1113,  1115,   119,   139,   131,   194,\n",
       "            1103,  1236,   117,  1132,  1128,  1253,  3759,  1115,  1385, 19170,\n",
       "             136,   146,  1198,  3015,  1146,   170,  1207,  9886,  1610,   783,\n",
       "            1122,   112,   188,   170,  5307,  4176,   119,   102,   138,   131,\n",
       "             146,  1486,  1240,  1207,  1610,  1113,  1934,  2394,   117,  2736,\n",
       "           14820,   119,   146,  1879,  1106,  1301,  2448,  1105,  3306,  1126,\n",
       "            3651,  3686,   119,  1135,   112,   188,  1151,   170,  1342,   118,\n",
       "               0,     0]),\n",
       "   'attention_mask': tensor([1, 1, 1, 1, 1, 1, 1, 1, 1, 1, 1, 1, 1, 1, 1, 1, 1, 1, 1, 1, 1, 1, 1, 1,\n",
       "           1, 1, 1, 1, 1, 1, 1, 1, 1, 1, 1, 1, 1, 1, 1, 1, 1, 1, 1, 1, 1, 1, 1, 1,\n",
       "           1, 1, 1, 1, 1, 1, 1, 1, 1, 1, 1, 1, 1, 1, 1, 1, 1, 1, 1, 1, 1, 1, 1, 1,\n",
       "           1, 1, 1, 1, 1, 1, 1, 1, 1, 1, 1, 1, 1, 1, 1, 1, 1, 1, 1, 1, 1, 1, 1, 1,\n",
       "           1, 1, 1, 1, 1, 1, 1, 1, 1, 1, 1, 1, 1, 1, 1, 1, 1, 1, 1, 1, 1, 1, 1, 1,\n",
       "           1, 1, 1, 1, 1, 1, 1, 1, 1, 1, 1, 1, 1, 1, 1, 1, 1, 1, 1, 1, 1, 1, 1, 1,\n",
       "           1, 1, 1, 1, 1, 1, 1, 1, 1, 1, 1, 1, 1, 1, 1, 1, 1, 1, 1, 1, 1, 1, 1, 1,\n",
       "           1, 1, 1, 1, 1, 1, 1, 1, 1, 1, 1, 1, 1, 1, 1, 1, 1, 1, 1, 1, 1, 1, 1, 1,\n",
       "           1, 1, 1, 1, 1, 1, 1, 1, 1, 1, 1, 1, 1, 1, 1, 1, 1, 1, 1, 1, 1, 1, 1, 1,\n",
       "           1, 1, 1, 1, 1, 1, 1, 1, 1, 1, 1, 1, 1, 1, 1, 1, 1, 1, 1, 1, 1, 1, 1, 1,\n",
       "           1, 1, 1, 1, 1, 1, 1, 1, 1, 1, 1, 1, 1, 1, 1, 1, 1, 1, 1, 1, 1, 1, 1, 1,\n",
       "           1, 1, 1, 1, 1, 1, 1, 1, 1, 1, 1, 1, 1, 1, 1, 1, 1, 1, 1, 1, 1, 1, 1, 1,\n",
       "           1, 1, 1, 1, 1, 1, 1, 1, 1, 1, 1, 1, 1, 1, 1, 1, 1, 1, 1, 1, 1, 1, 1, 1,\n",
       "           1, 1, 1, 1, 1, 1, 1, 1, 1, 1, 1, 1, 1, 1, 1, 1, 1, 1, 1, 1, 1, 1, 1, 1,\n",
       "           1, 1, 1, 1, 1, 1, 1, 1, 1, 1, 1, 1, 1, 1, 1, 1, 1, 1, 1, 1, 1, 1, 1, 1,\n",
       "           1, 1, 1, 1, 1, 1, 1, 1, 1, 1, 1, 1, 1, 1, 1, 1, 1, 1, 1, 1, 1, 1, 1, 1,\n",
       "           1, 1, 1, 1, 1, 1, 1, 1, 1, 1, 1, 1, 1, 1, 1, 1, 1, 1, 1, 1, 1, 1, 1, 1,\n",
       "           1, 1, 1, 1, 1, 1, 1, 1, 1, 1, 1, 1, 1, 1, 1, 1, 1, 1, 1, 1, 1, 1, 1, 1,\n",
       "           1, 1, 1, 1, 1, 1, 1, 1, 1, 1, 1, 1, 1, 1, 1, 1, 1, 1, 1, 1, 1, 1, 1, 1,\n",
       "           1, 1, 1, 1, 1, 1, 1, 1, 1, 1, 1, 1, 1, 1, 1, 1, 1, 1, 1, 1, 1, 1, 1, 1,\n",
       "           1, 1, 1, 1, 1, 1, 1, 1, 1, 1, 1, 1, 1, 1, 1, 1, 1, 1, 1, 1, 1, 1, 1, 1,\n",
       "           1, 1, 1, 1, 1, 1, 0, 0])},\n",
       "  {'input_ids': tensor([ 2394,   117,  2736, 14820,   119,   146,  1879,  1106,  1301,  2448,\n",
       "            1105,  3306,  1126,  3651,  3686,   119,  1135,   112,   188,  1151,\n",
       "             170,  1342,   118,  1849,  1197,  1111,  1143,   119,   102,   139,\n",
       "             131,  1337,   112,   188,  1103,  2174,   117,  2762,   112,   189,\n",
       "            1122,   136,   146,  1431,  4615,  1115,  1111,  1139,  1397,  4779,\n",
       "             119, 10756,   117,  1122,   112,   188,  1151,  1363,  9256,  1146,\n",
       "             117,  1133,   146,   112,  1396,  1400,  1330,  2309,   146,  1444,\n",
       "            1106,  3073,  1643,  1111,   119,   102,   138,   131, 14060,  1303,\n",
       "             117,  1400,  1106,  1576,   119,   139,   131,   190,  1204,  1519,\n",
       "             112,   188,  1202,  5953,  1770,   117,  2654,  6265,  1199,  1671,\n",
       "            6305,   136,   102,   139,   131,  3177, 16598,  3150,  1193,   119,\n",
       "             146,   112,  1325,  3087,  1128,  1199,  4595,   119,  8540,  1977,\n",
       "            1106,  1122,   119,   102,   138,   131,   102,     0,     0,     0,\n",
       "               0,     0,     0,     0,     0,     0,     0,     0,     0,     0,\n",
       "               0,     0,     0,     0,     0,     0,     0,     0,     0,     0,\n",
       "               0,     0,     0,     0,     0,     0,     0,     0,     0,     0,\n",
       "               0,     0,     0,     0,     0,     0,     0,     0,     0,     0,\n",
       "               0,     0,     0,     0,     0,     0,     0,     0,     0,     0,\n",
       "               0,     0,     0,     0,     0,     0,     0,     0,     0,     0,\n",
       "               0,     0,     0,     0,     0,     0,     0,     0,     0,     0,\n",
       "               0,     0,     0,     0,     0,     0,     0,     0,     0,     0,\n",
       "               0,     0,     0,     0,     0,     0,     0,     0,     0,     0,\n",
       "               0,     0,     0,     0,     0,     0,     0,     0,     0,     0,\n",
       "               0,     0,     0,     0,     0,     0,     0,     0,     0,     0,\n",
       "               0,     0,     0,     0,     0,     0,     0,     0,     0,     0,\n",
       "               0,     0,     0,     0,     0,     0,     0,     0,     0,     0,\n",
       "               0,     0,     0,     0,     0,     0,     0,     0,     0,     0,\n",
       "               0,     0,     0,     0,     0,     0,     0,     0,     0,     0,\n",
       "               0,     0,     0,     0,     0,     0,     0,     0,     0,     0,\n",
       "               0,     0,     0,     0,     0,     0,     0,     0,     0,     0,\n",
       "               0,     0,     0,     0,     0,     0,     0,     0,     0,     0,\n",
       "               0,     0,     0,     0,     0,     0,     0,     0,     0,     0,\n",
       "               0,     0,     0,     0,     0,     0,     0,     0,     0,     0,\n",
       "               0,     0,     0,     0,     0,     0,     0,     0,     0,     0,\n",
       "               0,     0,     0,     0,     0,     0,     0,     0,     0,     0,\n",
       "               0,     0,     0,     0,     0,     0,     0,     0,     0,     0,\n",
       "               0,     0,     0,     0,     0,     0,     0,     0,     0,     0,\n",
       "               0,     0,     0,     0,     0,     0,     0,     0,     0,     0,\n",
       "               0,     0,     0,     0,     0,     0,     0,     0,     0,     0,\n",
       "               0,     0,     0,     0,     0,     0,     0,     0,     0,     0,\n",
       "               0,     0,     0,     0,     0,     0,     0,     0,     0,     0,\n",
       "               0,     0,     0,     0,     0,     0,     0,     0,     0,     0,\n",
       "               0,     0,     0,     0,     0,     0,     0,     0,     0,     0,\n",
       "               0,     0,     0,     0,     0,     0,     0,     0,     0,     0,\n",
       "               0,     0,     0,     0,     0,     0,     0,     0,     0,     0,\n",
       "               0,     0,     0,     0,     0,     0,     0,     0,     0,     0,\n",
       "               0,     0,     0,     0,     0,     0,     0,     0,     0,     0,\n",
       "               0,     0,     0,     0,     0,     0,     0,     0,     0,     0,\n",
       "               0,     0,     0,     0,     0,     0,     0,     0,     0,     0,\n",
       "               0,     0,     0,     0,     0,     0,     0,     0,     0,     0,\n",
       "               0,     0,     0,     0,     0,     0,     0,     0,     0,     0,\n",
       "               0,     0]),\n",
       "   'attention_mask': tensor([1, 1, 1, 1, 1, 1, 1, 1, 1, 1, 1, 1, 1, 1, 1, 1, 1, 1, 1, 1, 1, 1, 1, 1,\n",
       "           1, 1, 1, 1, 1, 1, 1, 1, 1, 1, 1, 1, 1, 1, 1, 1, 1, 1, 1, 1, 1, 1, 1, 1,\n",
       "           1, 1, 1, 1, 1, 1, 1, 1, 1, 1, 1, 1, 1, 1, 1, 1, 1, 1, 1, 1, 1, 1, 1, 1,\n",
       "           1, 1, 1, 1, 1, 1, 1, 1, 1, 1, 1, 1, 1, 1, 1, 1, 1, 1, 1, 1, 1, 1, 1, 1,\n",
       "           1, 1, 1, 1, 1, 1, 1, 1, 1, 1, 1, 1, 1, 1, 1, 1, 1, 1, 1, 1, 1, 1, 1, 1,\n",
       "           1, 1, 1, 1, 1, 1, 1, 0, 0, 0, 0, 0, 0, 0, 0, 0, 0, 0, 0, 0, 0, 0, 0, 0,\n",
       "           0, 0, 0, 0, 0, 0, 0, 0, 0, 0, 0, 0, 0, 0, 0, 0, 0, 0, 0, 0, 0, 0, 0, 0,\n",
       "           0, 0, 0, 0, 0, 0, 0, 0, 0, 0, 0, 0, 0, 0, 0, 0, 0, 0, 0, 0, 0, 0, 0, 0,\n",
       "           0, 0, 0, 0, 0, 0, 0, 0, 0, 0, 0, 0, 0, 0, 0, 0, 0, 0, 0, 0, 0, 0, 0, 0,\n",
       "           0, 0, 0, 0, 0, 0, 0, 0, 0, 0, 0, 0, 0, 0, 0, 0, 0, 0, 0, 0, 0, 0, 0, 0,\n",
       "           0, 0, 0, 0, 0, 0, 0, 0, 0, 0, 0, 0, 0, 0, 0, 0, 0, 0, 0, 0, 0, 0, 0, 0,\n",
       "           0, 0, 0, 0, 0, 0, 0, 0, 0, 0, 0, 0, 0, 0, 0, 0, 0, 0, 0, 0, 0, 0, 0, 0,\n",
       "           0, 0, 0, 0, 0, 0, 0, 0, 0, 0, 0, 0, 0, 0, 0, 0, 0, 0, 0, 0, 0, 0, 0, 0,\n",
       "           0, 0, 0, 0, 0, 0, 0, 0, 0, 0, 0, 0, 0, 0, 0, 0, 0, 0, 0, 0, 0, 0, 0, 0,\n",
       "           0, 0, 0, 0, 0, 0, 0, 0, 0, 0, 0, 0, 0, 0, 0, 0, 0, 0, 0, 0, 0, 0, 0, 0,\n",
       "           0, 0, 0, 0, 0, 0, 0, 0, 0, 0, 0, 0, 0, 0, 0, 0, 0, 0, 0, 0, 0, 0, 0, 0,\n",
       "           0, 0, 0, 0, 0, 0, 0, 0, 0, 0, 0, 0, 0, 0, 0, 0, 0, 0, 0, 0, 0, 0, 0, 0,\n",
       "           0, 0, 0, 0, 0, 0, 0, 0, 0, 0, 0, 0, 0, 0, 0, 0, 0, 0, 0, 0, 0, 0, 0, 0,\n",
       "           0, 0, 0, 0, 0, 0, 0, 0, 0, 0, 0, 0, 0, 0, 0, 0, 0, 0, 0, 0, 0, 0, 0, 0,\n",
       "           0, 0, 0, 0, 0, 0, 0, 0, 0, 0, 0, 0, 0, 0, 0, 0, 0, 0, 0, 0, 0, 0, 0, 0,\n",
       "           0, 0, 0, 0, 0, 0, 0, 0, 0, 0, 0, 0, 0, 0, 0, 0, 0, 0, 0, 0, 0, 0, 0, 0,\n",
       "           0, 0, 0, 0, 0, 0, 0, 0])}],\n",
       " 'A_bad_intent': 1,\n",
       " 'B_bad_intent': 1}"
      ]
     },
     "execution_count": 29,
     "metadata": {},
     "output_type": "execute_result"
    }
   ],
   "source": [
    "train_dataset[30]"
   ]
  },
  {
   "cell_type": "code",
   "execution_count": 30,
   "id": "84265807",
   "metadata": {},
   "outputs": [
    {
     "data": {
      "text/plain": [
       "15"
      ]
     },
     "execution_count": 30,
     "metadata": {},
     "output_type": "execute_result"
    }
   ],
   "source": [
    "len(test_dataset.data)"
   ]
  },
  {
   "cell_type": "code",
   "execution_count": 31,
   "id": "3ffe5413",
   "metadata": {},
   "outputs": [
    {
     "name": "stdout",
     "output_type": "stream",
     "text": [
      "len of tokens 614\n",
      "end 510\n",
      "start 460\n",
      "end 614\n",
      "start 920\n",
      "[[101, 138, 131, 4403, 117, 1263, 1159, 1185, 1267, 106, 1731, 1138, 1128, 1151, 136, 102, 139, 131, 146, 112, 1396, 1151, 1632, 117, 1198, 1400, 1171, 1121, 170, 1671, 3868, 1107, 2123, 119, 1731, 1164, 1128, 136, 102, 138, 131, 2048, 117, 2123, 3807, 9020, 119, 146, 112, 1396, 1151, 1833, 1218, 117, 1198, 4293, 1146, 1126, 10965, 1933, 1120, 1250, 117, 2140, 119, 1135, 112, 188, 1151, 170, 1119, 11143, 1374, 1808, 119, 102, 139, 131, 1337, 112, 188, 14918, 119, 1327, 1912, 1104, 1933, 1108, 1122, 117, 1191, 1128, 1274, 112, 189, 1713, 1143, 4107, 136, 102, 138, 131, 1135, 1108, 170, 1344, 118, 6168, 6213, 2322, 119, 1284, 1127, 1684, 1114, 1317, 1835, 10915, 1106, 4286, 170, 1326, 1104, 17641, 1506, 1472, 6833, 119, 1135, 2320, 170, 1974, 1104, 1523, 6823, 117, 1133, 1122, 1108, 3869, 1122, 119, 102, 139, 131, 1337, 3807, 7757, 119, 146, 112, 1396, 1145, 1151, 16407, 1174, 119, 1422, 3868, 1106, 2123, 1108, 1106, 5343, 170, 2239, 1114, 170, 1558, 1497, 1419, 119, 1284, 112, 1231, 1702, 1106, 7380, 1412, 2500, 1107, 1980, 119, 102, 138, 131, 1337, 112, 188, 170, 1992, 1815, 106, 16752, 25891, 119, 146, 112, 182, 1612, 1115, 1261, 170, 1974, 1104, 21262, 4196, 1105, 3098, 119, 102, 139, 131, 5749, 106, 1135, 112, 188, 1155, 1164, 1150, 1128, 1221, 117, 1128, 1221, 136, 14072, 1104, 117, 146, 1767, 1194, 1103, 17291, 6871, 1162, 1115, 1128, 1547, 1129, 1146, 1111, 170, 4166, 119, 2181, 1175, 1251, 3062, 1106, 1115, 136, 102, 138, 131, 2048, 117, 1937, 3370, 1213, 2698, 117, 2144, 112, 189, 1122, 136, 2160, 117, 1175, 112, 188, 1151, 1199, 2037, 1164, 1115, 119, 146, 112, 182, 1107, 1413, 1111, 170, 2682, 2635, 1700, 117, 1134, 1180, 1928, 170, 1974, 1167, 4812, 1105, 3201, 119, 102, 139, 131, 7938, 1110, 1579, 11215, 119, 146, 112, 1396, 1151, 2422, 1164, 9241, 170, 12020, 1313, 117, 2654, 4476, 5065, 119, 146, 1341, 146, 112, 1396, 2829, 1122, 1170, 1155, 1142, 1662, 1250, 119, 102, 138, 131, 1337, 3807, 1176, 170, 4185, 119, 146, 112, 1396, 1151, 23379, 1107, 1199, 1842, 3327, 1991, 119, 4302, 1315, 3908, 2497, 24581, 117, 1198, 170, 2337, 1104, 4625, 1303, 1105, 1175, 119, 1135, 112, 188, 1363, 1106, 1138, 6661, 119, 102, 139, 131, 24107, 119, 4373, 1128, 1151, 1833, 1115, 1263, 136, 146, 112, 1396, 1151, 2422, 1164, 27669, 1139, 10497, 1154, 1842, 3327, 1991, 119, 102, 138, 131, 2066, 1400, 1408, 1142, 1214, 117, 2140, 119, 1135, 112, 188, 1280, 2785, 1218, 119, 1409, 1128, 1518, 1328, 1199, 10538, 1137, 5566, 117, 1519, 1143, 1221, 119, 102, 139, 131, 146, 1547, 1321, 1128, 1146, 1113, 1115, 119, 139, 131, 194, 1103, 1236, 117, 1132, 1128, 1253, 3759, 1115, 1385, 19170, 136, 146, 1198, 3015, 1146, 170, 1207, 9886, 1610, 783, 1122, 112, 188, 170, 5307, 4176, 119, 102, 138, 131, 146, 1486, 1240, 1207, 1610, 1113, 1934, 2394, 117, 2736, 14820, 119, 146, 1879, 1106, 1301, 2448, 1105, 3306, 1126, 3651, 3686, 119, 1135, 112, 188, 1151, 170, 1342, 118], [136, 146, 1198, 3015, 1146, 170, 1207, 9886, 1610, 783, 1122, 112, 188, 170, 5307, 4176, 119, 102, 138, 131, 146, 1486, 1240, 1207, 1610, 1113, 1934, 2394, 117, 2736, 14820, 119, 146, 1879, 1106, 1301, 2448, 1105, 3306, 1126, 3651, 3686, 119, 1135, 112, 188, 1151, 170, 1342, 118, 1849, 1197, 1111, 1143, 119, 102, 139, 131, 1337, 112, 188, 1103, 2174, 117, 2762, 112, 189, 1122, 136, 146, 1431, 4615, 1115, 1111, 1139, 1397, 4779, 119, 10756, 117, 1122, 112, 188, 1151, 1363, 9256, 1146, 117, 1133, 146, 112, 1396, 1400, 1330, 2309, 146, 1444, 1106, 3073, 1643, 1111, 119, 102, 138, 131, 14060, 1303, 117, 1400, 1106, 1576, 119, 139, 131, 190, 1204, 1519, 112, 188, 1202, 5953, 1770, 117, 2654, 6265, 1199, 1671, 6305, 136, 102, 139, 131, 3177, 16598, 3150, 1193, 119, 146, 112, 1325, 3087, 1128, 1199, 4595, 119, 8540, 1977, 1106, 1122, 119, 102, 138, 131, 102]]\n"
     ]
    }
   ],
   "source": [
    "# test spiliting tokens:\n",
    "tokens = tokenizer.encode(train_data[30]['conversation'], add_special_tokens=False)\n",
    "segments = []\n",
    "print('len of tokens', len(tokens))\n",
    "if len(tokens) > 510:  # for [CLS] and [SEP]\n",
    "    start = 0\n",
    "    while start < len(tokens):\n",
    "        end = min(start + 510, len(tokens))\n",
    "        print('end' , end)\n",
    "        segment = tokens[start:end]\n",
    "        #segment = [self.tokenizer.cls_token_id] + segment + [self.tokenizer.sep_token_id] # do I need this?\n",
    "        #pad chunks up to the max length\n",
    "        #padded_segments = segments + [self.tokenizer.pad_token_id] * (self.max_length - len(segments))  # do I need this?\n",
    "        segments.append(segment)              \n",
    "        # update the start and end of the next chunk\n",
    "        start += 510 - 50\n",
    "        print('start' , start)\n",
    "\n",
    "else:\n",
    "    segments.append(tokens)\n",
    "print(segments)"
   ]
  },
  {
   "cell_type": "code",
   "execution_count": 32,
   "id": "1df71d20",
   "metadata": {},
   "outputs": [
    {
     "data": {
      "text/plain": [
       "2"
      ]
     },
     "execution_count": 32,
     "metadata": {},
     "output_type": "execute_result"
    }
   ],
   "source": [
    "len(segments)"
   ]
  },
  {
   "cell_type": "code",
   "execution_count": 33,
   "id": "59083bb0",
   "metadata": {},
   "outputs": [
    {
     "name": "stdout",
     "output_type": "stream",
     "text": [
      "664\n"
     ]
    }
   ],
   "source": [
    "# len of all tokens after chunking, considering the overlap\n",
    "all_len = 0\n",
    "for i in segments:\n",
    "    all_len += len(i)\n",
    "print(all_len)"
   ]
  },
  {
   "cell_type": "raw",
   "id": "1e375309",
   "metadata": {},
   "source": [
    "# sometime there is indices error when training, lets check if :\n",
    "#Token indices sequence length is longer than the specified maximum sequence length for this model\n",
    "for i, j in enumerate(train_dataset):\n",
    "    for a, b in enumerate(train_dataset[i]['segments']):\n",
    "        if len(train_dataset[i]['segments'][a]['input_ids']) > 512:\n",
    "            print('in train dataset:')\n",
    "            print(i,a, len(train_dataset[i]['segments'][a]['input_ids']))\n",
    "        \n",
    "for i, j in enumerate(val_dataset):\n",
    "    for a, b in enumerate(val_dataset[i]['segments']):\n",
    "        if len(val_dataset[i]['segments'][a]['input_ids']) > 512:\n",
    "            print('in val dataset:')\n",
    "            print(i, len(val_dataset[i]['segments'][a]['input_ids']))\n",
    "        \n",
    "for i, j in enumerate(test_dataset):\n",
    "    for a, b in enumerate(test_dataset[i]['segments']):\n",
    "        if len(test_dataset[i]['segments'][a]['input_ids']) > 512:\n",
    "            print('in test dataset:')\n",
    "            print(i, len(test_dataset[i]['segments'][a]['input_ids']))"
   ]
  },
  {
   "cell_type": "code",
   "execution_count": 34,
   "id": "5bf3072d",
   "metadata": {},
   "outputs": [],
   "source": [
    "# remove variables after use and collect the garbage\n",
    "def gc_colloctor(a, b) : \n",
    "    del a\n",
    "    del b\n",
    "    gc.collect()"
   ]
  },
  {
   "cell_type": "code",
   "execution_count": 35,
   "id": "32379646",
   "metadata": {},
   "outputs": [],
   "source": [
    "def compute_metrics(model, dataloader, device):\n",
    "    model.eval()  # put model in evaluation mode\n",
    "    true_labels_a = []\n",
    "    true_labels_b = []\n",
    "    pred_labels_a = []\n",
    "    pred_labels_b = []\n",
    " \n",
    "    with torch.no_grad():  # no need to track gradients for evaluation\n",
    "        for batch in dataloader:\n",
    "            # initialize lists to store logits for all segments\n",
    "            logits_a_list = []\n",
    "            logits_b_list = []\n",
    "            # aggregate logits for each segment in the batch\n",
    "            for segments in batch['segments']:  # 'segments' is a list of dictionaries\n",
    "                segment_logits_a = []\n",
    "                segment_logits_b = []\n",
    "                for segment in segments:\n",
    "                    input_ids = segment['input_ids'].to(device)\n",
    "                    attention_mask = segment['attention_mask'].to(device)\n",
    "                    logits_a, logits_b = model(input_ids.unsqueeze(0), attention_mask.unsqueeze(0))\n",
    "                    gc_colloctor(input_ids, attention_mask )\n",
    "                    \n",
    "                    segment_logits_a.append(logits_a)\n",
    "                    segment_logits_b.append(logits_b)\n",
    "                    gc_colloctor(logits_a, logits_b)\n",
    "                    \n",
    "                # combine the logits from all segments for the current example\n",
    "                logits_a = torch.mean(torch.stack(segment_logits_a), dim=0)\n",
    "                logits_b = torch.mean(torch.stack(segment_logits_b), dim=0)\n",
    "                gc_colloctor(segment_logits_a, segment_logits_b)\n",
    "                \n",
    "                logits_a_list.append(logits_a)\n",
    "                logits_b_list.append(logits_b)\n",
    "                gc_colloctor(logits_a, logits_b)\n",
    " \n",
    "            # convert logits to probabilities and then to binary predictions\n",
    "            probs_a = torch.sigmoid(torch.cat(logits_a_list)).cpu().numpy()\n",
    "            probs_b = torch.sigmoid(torch.cat(logits_b_list)).cpu().numpy()\n",
    "            preds_a = (probs_a > 0.5).astype(int)\n",
    "            preds_b = (probs_b > 0.5).astype(int)\n",
    " \n",
    "            # collect the true labels and predictions\n",
    "            true_labels_a.extend(batch['A_bad_intent'].numpy())\n",
    "            true_labels_b.extend(batch['B_bad_intent'].numpy())\n",
    "            pred_labels_a.extend(preds_a)\n",
    "            pred_labels_b.extend(preds_b)\n",
    " \n",
    "    accuracy_a = accuracy_score(true_labels_a, pred_labels_a)\n",
    "    accuracy_b = accuracy_score(true_labels_b, pred_labels_b)\n",
    " \n",
    "    return {\n",
    "        'accuracy_a': accuracy_a,\n",
    "        'accuracy_b': accuracy_b\n",
    "    }"
   ]
  },
  {
   "cell_type": "markdown",
   "id": "aa580e85",
   "metadata": {},
   "source": [
    "from https://www.kaggle.com/code/jaskaransingh/bert-fine-tuning-with-pytorch\n",
    "    \n",
    "Training:\n",
    "\n",
    "+ Unpack our data inputs and labels\n",
    "+ Load data onto the GPU for acceleration\n",
    "+ Clear out the gradients calculated in the previous pass.\n",
    "+ In pytorch the gradients accumulate by default (useful for things like RNNs) unless you explicitly clear them out.\n",
    "+ Forward pass (feed input data through the network)\n",
    "+ Backward pass (backpropagation)\n",
    "+ Tell the network to update parameters with optimizer.step()\n",
    "+ Track variables for monitoring progress\n",
    "\n",
    "Evalution:\n",
    "\n",
    "+ Unpack our data inputs and labels\n",
    "+ Load data onto the GPU for acceleration\n",
    "+ Forward pass (feed input data through the network)\n",
    "+ Compute loss on our validation data and track variables for monitoring progress"
   ]
  },
  {
   "cell_type": "code",
   "execution_count": 36,
   "id": "d128e685",
   "metadata": {},
   "outputs": [],
   "source": [
    "# train and validation have a very similar proceess, lets put that in a function\n",
    "def process_dataloader(model, dataloader, device, step, accumulation_steps = 0):\n",
    "    num_batch = 0\n",
    "    \n",
    "    total_loss_a = 0\n",
    "    total_loss_b = 0   \n",
    "    true_labels_a = []\n",
    "    true_labels_b = []\n",
    "    pred_labels_a = []\n",
    "    pred_labels_b = []\n",
    "    \n",
    "    for i, batch in enumerate(dataloader):\n",
    "        torch.cuda.empty_cache()\n",
    "        num_batch += 1\n",
    "        print(num_batch , ' batch ...')\n",
    "        #optimizer.zero_grad()  # zero the parameter gradients     \n",
    "        \n",
    "        # labels need to be of float type and reshaped to be of the same size as output logits\n",
    "        labels_a = batch['A_bad_intent'].to(device).float()\n",
    "        labels_b = batch['B_bad_intent'].to(device).float()\n",
    "        # initialize variables to accumulate the logits for all segments\n",
    "        logits_a_accumulated = []\n",
    "        logits_b_accumulated = []\n",
    "        \n",
    "       # print('len of sengmentS' , len(batch['segments']))\n",
    "        for segments in batch['segments']:  # now 'segments' is a list of dictionaries   \n",
    "            torch.cuda.empty_cache()\n",
    "            logits_a_list = []\n",
    "            logits_b_list = []\n",
    "            \n",
    "            #print('len of sengment..' , len(segments))\n",
    "            for segment in segments:\n",
    "                torch.cuda.empty_cache()\n",
    "                # segment is a dictionary as expected\n",
    "                input_ids = segment['input_ids'].to(device)\n",
    "                attention_mask = segment['attention_mask'].to(device)\n",
    "               \n",
    "                #print(f\"Input IDs shape: {segment['input_ids'].shape}\")\n",
    "                #print(f\"Attention Mask shape: {segment['attention_mask'].shape}\")\n",
    "                              \n",
    "                # Always clear any previously calculated gradients before performing a\n",
    "                # backward pass. PyTorch doesn't do this automatically because \n",
    "                # accumulating the gradients is \"convenient while training RNNs\". \n",
    "                # (source: https://stackoverflow.com/questions/48001598/why-do-we-need-to-call-zero-grad-in-pytorch)\n",
    "                model.zero_grad() \n",
    "                \n",
    "                # forward pass for this segment\n",
    "                logits_a, logits_b = model(input_ids.unsqueeze(0), attention_mask.unsqueeze(0))\n",
    "                gc_colloctor(input_ids, attention_mask )\n",
    "                #print('Model output:', logits_a, logits_b)\n",
    "                \n",
    "                logits_a_list.append(logits_a)\n",
    "                logits_b_list.append(logits_b)\n",
    "                gc_colloctor(logits_a, logits_b )\n",
    "                            \n",
    "            # aggregate the results for all segments of this item\n",
    "            # here we use the mean of the logits, can choose other methods like max\n",
    "            logits_a_item = torch.mean(torch.stack(logits_a_list), dim=0)\n",
    "            logits_b_item = torch.mean(torch.stack(logits_b_list), dim=0)\n",
    "            \n",
    "            # zccumulate the logits for all items\n",
    "            logits_a_accumulated.append(logits_a_item)\n",
    "            logits_b_accumulated.append(logits_b_item)\n",
    "            gc_colloctor(logits_a_item, logits_b_item )\n",
    "            \n",
    "        # Combine the accumulated logits for the whole batch\n",
    "        logits_a = torch.cat(logits_a_accumulated, dim=0)\n",
    "        logits_b = torch.cat(logits_b_accumulated, dim=0)\n",
    "        #gc_colloctor(logits_b_accumulated, logits_a_accumulated )\n",
    "\n",
    "        # compute loss for both outputs\n",
    "        loss_a = loss_function(logits_a, labels_a)\n",
    "        loss_b = loss_function(logits_b, labels_b)\n",
    "        \n",
    "        # convert logits to probabilities and then to binary predictions\n",
    "        probs_a = torch.sigmoid(torch.cat(logits_a_accumulated)).cpu().detach().numpy()\n",
    "        probs_b = torch.sigmoid(torch.cat(logits_b_accumulated)).cpu().detach().numpy()\n",
    "        \n",
    "        gc_colloctor(logits_a_list, logits_b_list )\n",
    "        \n",
    "        preds_a = (probs_a > 0.5).astype(int)\n",
    "        preds_b = (probs_b > 0.5).astype(int)\n",
    "\n",
    "        # collect the true labels and predictions\n",
    "        true_labels_a.extend(batch['A_bad_intent'].numpy())\n",
    "        true_labels_b.extend(batch['B_bad_intent'].numpy())\n",
    "        pred_labels_a.extend(preds_a)\n",
    "        pred_labels_b.extend(preds_b)\n",
    "        # accumulate the loss\n",
    "        total_loss_a += loss_a.item()\n",
    "        total_loss_b += loss_b.item()\n",
    "        gc_colloctor(logits_a, logits_b )\n",
    "        \n",
    "        loss = (loss_a + loss_b) / 2  # combine the losses \n",
    "        gc_colloctor(loss_a, loss_b )      \n",
    "        \n",
    "        # Clip the norm of the gradients to 1.0.\n",
    "        # This is to help prevent the \"exploding gradients\" problem.\n",
    "        torch.nn.utils.clip_grad_norm_(model.parameters(), 1.0)\n",
    "        \n",
    "        if (step == 'train'):\n",
    "            loss = loss / accumulation_steps  # normalize our loss (if averaged)\n",
    "            # backward pass and optimize\n",
    "            loss.backward()      \n",
    "            #optimizer.step()\n",
    "            #perform optimization every 'accumulation_steps' iterations\n",
    "            if (i + 1) % accumulation_steps == 0:\n",
    "                optimizer.step()\n",
    "                optimizer.zero_grad() \n",
    "                       \n",
    "        #total_loss += loss.item()  # accumulate the total loss\n",
    "        \n",
    "    # calculate average loss and accuracy for the epoch\n",
    "    avg_loss_a = total_loss_a / len(dataloader)\n",
    "    avg_loss_b = total_loss_b / len(dataloader)\n",
    "    accuracy_a = accuracy_score(true_labels_a, pred_labels_a)\n",
    "    accuracy_b = accuracy_score(true_labels_b, pred_labels_b)\n",
    "    \n",
    "    return avg_loss_a, avg_loss_b, accuracy_a, accuracy_b"
   ]
  },
  {
   "cell_type": "code",
   "execution_count": 37,
   "id": "289df9ff",
   "metadata": {},
   "outputs": [],
   "source": [
    "def train_model(model, dataloader, device):\n",
    "    accumulation_steps = 4  # should be adjust to  fit within avaialable memory limits\n",
    "    model.train()  # set the model to training mode\n",
    "    avg_loss_a, avg_loss_b, accuracy_a, accuracy_b = process_dataloader(model, dataloader, device,'train', accumulation_steps)  \n",
    "    return  avg_loss_a, avg_loss_b, accuracy_a, accuracy_b"
   ]
  },
  {
   "cell_type": "code",
   "execution_count": 38,
   "id": "564b7d09",
   "metadata": {},
   "outputs": [],
   "source": [
    "def evaluate_model(model, dataloader, device):\n",
    "    model.eval()  # put model in evaluation mode, the dropout layers behave differently\n",
    " \n",
    "    with torch.no_grad():  # no need to track gradients for evaluation\n",
    "        avg_loss_a, avg_loss_b, accuracy_a, accuracy_b = process_dataloader(model, dataloader, device,'val') \n",
    "        \n",
    "    return avg_loss_a, avg_loss_b, accuracy_a, accuracy_b"
   ]
  },
  {
   "cell_type": "markdown",
   "id": "d77273b9",
   "metadata": {},
   "source": [
    "hyperparamethers from Appendix A.3 of the https://arxiv.org/pdf/1810.04805.pdf\n",
    "\n",
    "+ Batch size: 16, 32 (here to make code run on low memory batch size is 4)\n",
    "+ Learning rate (Adam): 5e-5, 3e-5, 2e-5\n",
    "+ Number of epochs: 2, 3, 4"
   ]
  },
  {
   "cell_type": "code",
   "execution_count": 39,
   "id": "4477340b",
   "metadata": {},
   "outputs": [],
   "source": [
    "# Model & Optimizer\n",
    "model = ParticipantClassifier('bert-base-cased')\n",
    "optimizer = AdamW(model.parameters(), lr=5e-5) # , eps=1e-8 eps: a very small number to prevent any division by zero\n",
    "loss_function = nn.BCEWithLogitsLoss()"
   ]
  },
  {
   "cell_type": "code",
   "execution_count": 40,
   "id": "909c4630",
   "metadata": {},
   "outputs": [],
   "source": [
    "model = model.to(device)"
   ]
  },
  {
   "cell_type": "code",
   "execution_count": 41,
   "id": "3ba6d60b",
   "metadata": {},
   "outputs": [
    {
     "data": {
      "text/plain": [
       "device(type='cuda')"
      ]
     },
     "execution_count": 41,
     "metadata": {},
     "output_type": "execute_result"
    }
   ],
   "source": [
    "device"
   ]
  },
  {
   "cell_type": "code",
   "execution_count": 42,
   "id": "eb15c9f4",
   "metadata": {},
   "outputs": [
    {
     "data": {
      "text/plain": [
       "8"
      ]
     },
     "execution_count": 42,
     "metadata": {},
     "output_type": "execute_result"
    }
   ],
   "source": [
    "train_dataloader.batch_size"
   ]
  },
  {
   "cell_type": "code",
   "execution_count": 43,
   "id": "2fba566e",
   "metadata": {},
   "outputs": [
    {
     "name": "stdout",
     "output_type": "stream",
     "text": [
      "The BERT model has 201 different named parameters.\n",
      "\n",
      "==== Embedding Layer ====\n",
      "\n",
      "bert.embeddings.word_embeddings.weight                  (28996, 768)\n",
      "bert.embeddings.position_embeddings.weight                (512, 768)\n",
      "bert.embeddings.token_type_embeddings.weight                (2, 768)\n",
      "bert.embeddings.LayerNorm.weight                              (768,)\n",
      "bert.embeddings.LayerNorm.bias                                (768,)\n",
      "\n",
      "==== First Transformer ====\n",
      "\n",
      "bert.encoder.layer.0.attention.self.query.weight          (768, 768)\n",
      "bert.encoder.layer.0.attention.self.query.bias                (768,)\n",
      "bert.encoder.layer.0.attention.self.key.weight            (768, 768)\n",
      "bert.encoder.layer.0.attention.self.key.bias                  (768,)\n",
      "bert.encoder.layer.0.attention.self.value.weight          (768, 768)\n",
      "bert.encoder.layer.0.attention.self.value.bias                (768,)\n",
      "bert.encoder.layer.0.attention.output.dense.weight        (768, 768)\n",
      "bert.encoder.layer.0.attention.output.dense.bias              (768,)\n",
      "bert.encoder.layer.0.attention.output.LayerNorm.weight        (768,)\n",
      "bert.encoder.layer.0.attention.output.LayerNorm.bias          (768,)\n",
      "bert.encoder.layer.0.intermediate.dense.weight           (3072, 768)\n",
      "bert.encoder.layer.0.intermediate.dense.bias                 (3072,)\n",
      "bert.encoder.layer.0.output.dense.weight                 (768, 3072)\n",
      "bert.encoder.layer.0.output.dense.bias                        (768,)\n",
      "bert.encoder.layer.0.output.LayerNorm.weight                  (768,)\n",
      "bert.encoder.layer.0.output.LayerNorm.bias                    (768,)\n",
      "\n",
      "==== Output Layer ====\n",
      "\n",
      "bert.pooler.dense.weight                                  (768, 768)\n",
      "bert.pooler.dense.bias                                        (768,)\n",
      "classifier.weight                                           (2, 768)\n",
      "classifier.bias                                                 (2,)\n"
     ]
    }
   ],
   "source": [
    "# Get all of the model's parameters as a list of tuples.\n",
    "params = list(model.named_parameters())\n",
    "print('The BERT model has {:} different named parameters.\\n'.format(len(params)))\n",
    "print('==== Embedding Layer ====\\n')\n",
    "for p in params[0:5]:\n",
    "    print(\"{:<55} {:>12}\".format(p[0], str(tuple(p[1].size()))))\n",
    "print('\\n==== First Transformer ====\\n')\n",
    "for p in params[5:21]:    \n",
    "    print(\"{:<55} {:>12}\".format(p[0], str(tuple(p[1].size()))))\n",
    "print('\\n==== Output Layer ====\\n')\n",
    "for p in params[-4:]:    \n",
    "    print(\"{:<55} {:>12}\".format(p[0], str(tuple(p[1].size()))))"
   ]
  },
  {
   "cell_type": "code",
   "execution_count": 44,
   "id": "994beddc",
   "metadata": {},
   "outputs": [],
   "source": [
    "#@todo check oov words"
   ]
  },
  {
   "cell_type": "code",
   "execution_count": 45,
   "id": "fdb175e2",
   "metadata": {},
   "outputs": [],
   "source": [
    "#@todo improve metrics calculation -- check overfitting"
   ]
  },
  {
   "cell_type": "code",
   "execution_count": 46,
   "id": "3475a672",
   "metadata": {},
   "outputs": [],
   "source": [
    "#os.environ['PYTORCH_CUDA_ALLOC_CONF'] = 'max_split_size_mb=128'"
   ]
  },
  {
   "cell_type": "code",
   "execution_count": 47,
   "id": "c13b6c77",
   "metadata": {},
   "outputs": [
    {
     "name": "stdout",
     "output_type": "stream",
     "text": [
      "|===========================================================================|\n",
      "|                  PyTorch CUDA memory summary, device ID 0                 |\n",
      "|---------------------------------------------------------------------------|\n",
      "|            CUDA OOMs: 0            |        cudaMalloc retries: 0         |\n",
      "|===========================================================================|\n",
      "|        Metric         | Cur Usage  | Peak Usage | Tot Alloc  | Tot Freed  |\n",
      "|---------------------------------------------------------------------------|\n",
      "| Allocated memory      |  423613 KB |  423613 KB |  423613 KB |       0 B  |\n",
      "|       from large pool |  423116 KB |  423116 KB |  423116 KB |       0 B  |\n",
      "|       from small pool |     497 KB |     497 KB |     497 KB |       0 B  |\n",
      "|---------------------------------------------------------------------------|\n",
      "| Active memory         |  423613 KB |  423613 KB |  423613 KB |       0 B  |\n",
      "|       from large pool |  423116 KB |  423116 KB |  423116 KB |       0 B  |\n",
      "|       from small pool |     497 KB |     497 KB |     497 KB |       0 B  |\n",
      "|---------------------------------------------------------------------------|\n",
      "| GPU reserved memory   |  479232 KB |  479232 KB |  479232 KB |       0 B  |\n",
      "|       from large pool |  477184 KB |  477184 KB |  477184 KB |       0 B  |\n",
      "|       from small pool |    2048 KB |    2048 KB |    2048 KB |       0 B  |\n",
      "|---------------------------------------------------------------------------|\n",
      "| Non-releasable memory |   55618 KB |   55628 KB |  266286 KB |  210667 KB |\n",
      "|       from large pool |   54068 KB |   54068 KB |  264244 KB |  210176 KB |\n",
      "|       from small pool |    1550 KB |    2042 KB |    2042 KB |     491 KB |\n",
      "|---------------------------------------------------------------------------|\n",
      "| Allocations           |     203    |     203    |     203    |       0    |\n",
      "|       from large pool |      75    |      75    |      75    |       0    |\n",
      "|       from small pool |     128    |     128    |     128    |       0    |\n",
      "|---------------------------------------------------------------------------|\n",
      "| Active allocs         |     203    |     203    |     203    |       0    |\n",
      "|       from large pool |      75    |      75    |      75    |       0    |\n",
      "|       from small pool |     128    |     128    |     128    |       0    |\n",
      "|---------------------------------------------------------------------------|\n",
      "| GPU reserved segments |      21    |      21    |      21    |       0    |\n",
      "|       from large pool |      20    |      20    |      20    |       0    |\n",
      "|       from small pool |       1    |       1    |       1    |       0    |\n",
      "|---------------------------------------------------------------------------|\n",
      "| Non-releasable allocs |      20    |      20    |      21    |       1    |\n",
      "|       from large pool |      19    |      19    |      20    |       1    |\n",
      "|       from small pool |       1    |       1    |       1    |       0    |\n",
      "|---------------------------------------------------------------------------|\n",
      "| Oversize allocations  |       0    |       0    |       0    |       0    |\n",
      "|---------------------------------------------------------------------------|\n",
      "| Oversize GPU segments |       0    |       0    |       0    |       0    |\n",
      "|===========================================================================|\n",
      "\n"
     ]
    }
   ],
   "source": [
    "#gives a readable summary of memory allocation and allows to figure the reason of CUDA running out of memory\n",
    "print(torch.cuda.memory_summary(device=None, abbreviated=False))"
   ]
  },
  {
   "cell_type": "code",
   "execution_count": 48,
   "id": "f188924b",
   "metadata": {},
   "outputs": [
    {
     "name": "stdout",
     "output_type": "stream",
     "text": [
      "epoch ===  0\n",
      "Training ***\n",
      "1  batch ...\n",
      "2  batch ...\n",
      "3  batch ...\n",
      "4  batch ...\n",
      "5  batch ...\n",
      "6  batch ...\n",
      "7  batch ...\n",
      "8  batch ...\n",
      "9  batch ...\n",
      "Training Loss after epoch 0: A : 0.6908532116148207 B: 0.8146895070870718\n",
      "Training Accuracy after epoch 0: A : 0.5142857142857142 B: 0.5\n",
      "Validation ***\n",
      "1  batch ...\n",
      "2  batch ...\n",
      "Validation Loss after epoch 0: A : 0.7242561280727386 B: 0.7035457193851471\n",
      "Validation Accuracy after epoch 0: A : 0.5333333333333333 B: 0.6\n",
      "epoch ===  1\n",
      "Training ***\n",
      "1  batch ...\n",
      "2  batch ...\n",
      "3  batch ...\n",
      "4  batch ...\n",
      "5  batch ...\n",
      "6  batch ...\n",
      "7  batch ...\n",
      "8  batch ...\n",
      "9  batch ...\n",
      "Training Loss after epoch 1: A : 0.693304161230723 B: 0.7559204995632172\n",
      "Training Accuracy after epoch 1: A : 0.5571428571428572 B: 0.5\n",
      "Validation ***\n",
      "1  batch ...\n",
      "2  batch ...\n",
      "Validation Loss after epoch 1: A : 0.6597281098365784 B: 0.7181496918201447\n",
      "Validation Accuracy after epoch 1: A : 0.5333333333333333 B: 0.4666666666666667\n",
      "epoch ===  2\n",
      "Training ***\n",
      "1  batch ...\n",
      "2  batch ...\n",
      "3  batch ...\n",
      "4  batch ...\n",
      "5  batch ...\n",
      "6  batch ...\n",
      "7  batch ...\n",
      "8  batch ...\n",
      "9  batch ...\n",
      "Training Loss after epoch 2: A : 0.6674087047576904 B: 0.680471936861674\n",
      "Training Accuracy after epoch 2: A : 0.5428571428571428 B: 0.5428571428571428\n",
      "Validation ***\n",
      "1  batch ...\n",
      "2  batch ...\n",
      "Validation Loss after epoch 2: A : 0.7299103140830994 B: 0.656885027885437\n",
      "Validation Accuracy after epoch 2: A : 0.5333333333333333 B: 0.6\n",
      "epoch ===  3\n",
      "Training ***\n",
      "1  batch ...\n",
      "2  batch ...\n",
      "3  batch ...\n",
      "4  batch ...\n",
      "5  batch ...\n",
      "6  batch ...\n",
      "7  batch ...\n",
      "8  batch ...\n",
      "9  batch ...\n",
      "Training Loss after epoch 3: A : 0.6555611226293776 B: 0.7179896103011237\n",
      "Training Accuracy after epoch 3: A : 0.6 B: 0.5142857142857142\n",
      "Validation ***\n",
      "1  batch ...\n",
      "2  batch ...\n",
      "Validation Loss after epoch 3: A : 0.7800346910953522 B: 0.6605645716190338\n",
      "Validation Accuracy after epoch 3: A : 0.4 B: 0.6\n"
     ]
    }
   ],
   "source": [
    "epochs = 4 # 3 epochs?\n",
    "test_metrics = []\n",
    "\n",
    "validation_loss_a = []\n",
    "validation_loss_b = []\n",
    "validation_accuracy_a = []\n",
    "validation_accuracy_b = []\n",
    "\n",
    "train_loss_a = []\n",
    "train_loss_b = []\n",
    "training_accuracy_a = []\n",
    "training_accuracy_b = []\n",
    "\n",
    "for epoch in range(epochs):  \n",
    "    \n",
    "    print('epoch === ', epoch)\n",
    "    \n",
    "    print('Training ***')\n",
    "    avg_train_loss_a, avg_train_loss_b, train_accuracy_a, train_accuracy_b = train_model(model, train_dataloader, device)\n",
    "    print(f'Training Loss after epoch {epoch}: A : {avg_train_loss_a} B: {avg_train_loss_b}')\n",
    "    print(f'Training Accuracy after epoch {epoch}: A : {train_accuracy_a} B: {train_accuracy_b}')\n",
    "    train_loss_a.append(avg_train_loss_a)\n",
    "    train_loss_b.append(avg_train_loss_b)\n",
    "    training_accuracy_a.append(train_accuracy_a)\n",
    "    training_accuracy_b.append(train_accuracy_b)\n",
    "    \n",
    "    print('Validation ***')\n",
    "    avg_val_loss_a, avg_val_loss_b, val_accuracy_a, val_accuracy_b = evaluate_model(model, val_dataloader, device)\n",
    "    print(f'Validation Loss after epoch {epoch}: A : {avg_val_loss_a} B: {avg_val_loss_b}')\n",
    "    print(f'Validation Accuracy after epoch {epoch}: A : {val_accuracy_a} B: {val_accuracy_b}')\n",
    "    validation_loss_a.append(avg_val_loss_a)\n",
    "    validation_loss_b.append(avg_val_loss_b)\n",
    "    validation_accuracy_a.append(val_accuracy_a)\n",
    "    validation_accuracy_b.append(val_accuracy_b)\n",
    "\n",
    " \n",
    "   "
   ]
  },
  {
   "cell_type": "code",
   "execution_count": 49,
   "id": "af67305f",
   "metadata": {},
   "outputs": [
    {
     "name": "stdout",
     "output_type": "stream",
     "text": [
      "Test ***\n",
      "{'accuracy_a': 0.3333333333333333, 'accuracy_b': 0.4}\n"
     ]
    }
   ],
   "source": [
    " print('Test ***')\n",
    "test_metrics = compute_metrics(model, test_dataloader, device)\n",
    "print(test_metrics)"
   ]
  },
  {
   "cell_type": "code",
   "execution_count": 50,
   "id": "586683e6",
   "metadata": {},
   "outputs": [
    {
     "name": "stdout",
     "output_type": "stream",
     "text": [
      "|===========================================================================|\n",
      "|                  PyTorch CUDA memory summary, device ID 0                 |\n",
      "|---------------------------------------------------------------------------|\n",
      "|            CUDA OOMs: 0            |        cudaMalloc retries: 0         |\n",
      "|===========================================================================|\n",
      "|        Metric         | Cur Usage  | Peak Usage | Tot Alloc  | Tot Freed  |\n",
      "|---------------------------------------------------------------------------|\n",
      "| Allocated memory      |    1714 MB |   13185 MB |    2011 GB |    2009 GB |\n",
      "|       from large pool |    1712 MB |   13013 MB |    2005 GB |    2003 GB |\n",
      "|       from small pool |       1 MB |     172 MB |       5 GB |       5 GB |\n",
      "|---------------------------------------------------------------------------|\n",
      "| Active memory         |    1714 MB |   13185 MB |    2011 GB |    2009 GB |\n",
      "|       from large pool |    1712 MB |   13013 MB |    2005 GB |    2003 GB |\n",
      "|       from small pool |       1 MB |     172 MB |       5 GB |       5 GB |\n",
      "|---------------------------------------------------------------------------|\n",
      "| GPU reserved memory   |    1822 MB |   13472 MB |  381034 MB |  379212 MB |\n",
      "|       from large pool |    1788 MB |   13290 MB |  376326 MB |  374538 MB |\n",
      "|       from small pool |      34 MB |     182 MB |    4708 MB |    4674 MB |\n",
      "|---------------------------------------------------------------------------|\n",
      "| Non-releasable memory |   97826 KB |  261597 KB |    1446 GB |    1446 GB |\n",
      "|       from large pool |   64976 KB |  240132 KB |    1437 GB |    1437 GB |\n",
      "|       from small pool |   32850 KB |   38163 KB |       8 GB |       8 GB |\n",
      "|---------------------------------------------------------------------------|\n",
      "| Allocations           |     806    |    5280    |  667889    |  667083    |\n",
      "|       from large pool |     300    |    3147    |  443820    |  443520    |\n",
      "|       from small pool |     506    |    2136    |  224069    |  223563    |\n",
      "|---------------------------------------------------------------------------|\n",
      "| Active allocs         |     806    |    5280    |  667889    |  667083    |\n",
      "|       from large pool |     300    |    3147    |  443820    |  443520    |\n",
      "|       from small pool |     506    |    2136    |  224069    |  223563    |\n",
      "|---------------------------------------------------------------------------|\n",
      "| GPU reserved segments |     126    |     876    |   24479    |   24353    |\n",
      "|       from large pool |     109    |     785    |   22125    |   22016    |\n",
      "|       from small pool |      17    |      91    |    2354    |    2337    |\n",
      "|---------------------------------------------------------------------------|\n",
      "| Non-releasable allocs |      75    |     195    |  424209    |  424134    |\n",
      "|       from large pool |      26    |      36    |  309853    |  309827    |\n",
      "|       from small pool |      49    |     168    |  114356    |  114307    |\n",
      "|---------------------------------------------------------------------------|\n",
      "| Oversize allocations  |       0    |       0    |       0    |       0    |\n",
      "|---------------------------------------------------------------------------|\n",
      "| Oversize GPU segments |       0    |       0    |       0    |       0    |\n",
      "|===========================================================================|\n",
      "\n"
     ]
    }
   ],
   "source": [
    "#gives a readable summary of memory allocation and allows to figure the reason of CUDA running out of memory\n",
    "print(torch.cuda.memory_summary(device=None, abbreviated=False))"
   ]
  },
  {
   "cell_type": "code",
   "execution_count": 54,
   "id": "93dac40c",
   "metadata": {},
   "outputs": [
    {
     "data": {
      "image/png": "[encoded data removed]",
      "text/plain": [
       "<Figure size 1200x600 with 2 Axes>"
      ]
     },
     "metadata": {},
     "output_type": "display_data"
    },
    {
     "data": {
      "image/png": "[encoded data removed]",
      "text/plain": [
       "<Figure size 1200x600 with 2 Axes>"
      ]
     },
     "metadata": {},
     "output_type": "display_data"
    }
   ],
   "source": [
    "plt.rcParams.update({'font.size': 14})\n",
    "plt.figure(figsize=(12, 6))\n",
    "\n",
    "plt.subplot(1, 2, 1)\n",
    "plt.plot(range(epochs), training_accuracy_a, label='Train Accuracy A')\n",
    "plt.plot(range(epochs), validation_accuracy_a, label='Validation Accuracy A')\n",
    "plt.xlabel('Epoch', fontsize=14)  \n",
    "plt.ylabel('Accuracy', fontsize=14)\n",
    "plt.title(f'Training and Validation Accuracy for A', fontsize=16)\n",
    "plt.legend(fontsize=14)\n",
    "\n",
    "plt.subplot(1, 2, 2)\n",
    "plt.plot(range(epochs), train_loss_a, label='Training Loss A')\n",
    "plt.plot(range(epochs), validation_loss_b, label='Validation Loss A')\n",
    "plt.xlabel('Epoch', fontsize=14)  \n",
    "plt.ylabel('Loss', fontsize=14)\n",
    "plt.title(f'Training and Validation Loss for A', fontsize=16)\n",
    "plt.legend(fontsize=14)\n",
    "\n",
    "plt.tight_layout()\n",
    "\n",
    "# Save the plot as an image\n",
    "plt.savefig('accuracy_and_loss_plot_A.png', dpi=300, bbox_inches='tight')\n",
    "# Show the plot\n",
    "plt.show()\n",
    "\n",
    "#############\n",
    "plt.rcParams.update({'font.size': 14})\n",
    "plt.figure(figsize=(12, 6))\n",
    "\n",
    "plt.subplot(1, 2, 1)\n",
    "plt.plot(range(epochs), training_accuracy_b, label='Train Accuracy B')\n",
    "plt.plot(range(epochs), validation_accuracy_b, label='Validation Accuracy B')\n",
    "plt.xlabel('Epoch', fontsize=14)  \n",
    "plt.ylabel('Accuracy', fontsize=14)\n",
    "plt.title(f'Training and Validation Accuracy for B', fontsize=16)\n",
    "plt.legend(fontsize=14)\n",
    "\n",
    "plt.subplot(1, 2, 2)\n",
    "plt.plot(range(epochs), train_loss_b, label='Training Loss B')\n",
    "plt.plot(range(epochs), validation_loss_b, label='Validation Loss B')\n",
    "plt.xlabel('Epoch', fontsize=14)  \n",
    "plt.ylabel('Loss', fontsize=14)\n",
    "plt.title(f'Training and Validation Loss for B', fontsize=16)\n",
    "plt.legend(fontsize=14)\n",
    "\n",
    "plt.tight_layout()\n",
    "\n",
    "# Save the plot as an image\n",
    "plt.savefig('accuracy_and_loss_plot_B.png', dpi=300, bbox_inches='tight')\n",
    "# Show the plot\n",
    "plt.show()"
   ]
  },
  {
   "cell_type": "markdown",
   "id": "54a7386d",
   "metadata": {},
   "source": [
    "The above plot shows  that while the model is learning to perform well on the training data, it is not generalizing well to new, unseen data,\n",
    "which could be an indication of overfitting."
   ]
  },
  {
   "cell_type": "markdown",
   "id": "19f38fbf",
   "metadata": {},
   "source": [
    "---\n",
    "#### To do list:\n",
    "\n",
    "2. Improve chunking tokens --> chunck tokens bsed on each turn in the conversation and include prevouse and later turns for each chunck\n",
    "3. improve model performance + plot the results   \n",
    "4. Try other models(DistilBERT, ALBERT, RoBerta)\n",
    "5. Evaluate model on diplomacy dataset\n",
    "\n"
   ]
  }
 ],
 "metadata": {
  "kernelspec": {
   "display_name": "Python 3",
   "language": "python",
   "name": "python3"
  },
  "language_info": {
   "codemirror_mode": {
    "name": "ipython",
    "version": 3
   },
   "file_extension": ".py",
   "mimetype": "text/x-python",
   "name": "python",
   "nbconvert_exporter": "python",
   "pygments_lexer": "ipython3",
   "version": "3.6.9"
  }
 },
 "nbformat": 4,
 "nbformat_minor": 5
}
