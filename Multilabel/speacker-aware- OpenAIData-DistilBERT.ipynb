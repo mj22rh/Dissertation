{
 "cells": [
  {
   "cell_type": "code",
   "execution_count": 1,
   "id": "4100183c",
   "metadata": {},
   "outputs": [],
   "source": [
    "#!pip install ydata-profiling scikit-learn transformers torch seaborn"
   ]
  },
  {
   "cell_type": "code",
   "execution_count": 1,
   "id": "bbe5d43d",
   "metadata": {},
   "outputs": [],
   "source": [
    "import requests, os\n",
    "import pandas as pd\n",
    "import numpy as np\n",
    "import matplotlib.pyplot as plt\n",
    "import seaborn as sns\n",
    "import re\n",
    "from ydata_profiling import ProfileReport\n",
    "import gc\n",
    "#torch\n",
    "import torch\n",
    "import torch.nn as nn\n",
    "import torch.nn.functional as F\n",
    "import torch.optim as optim\n",
    "from torch.cuda.amp import GradScaler, autocast\n",
    "from torch.nn.utils.rnn import pad_sequence\n",
    "from torch.utils.data import Dataset, DataLoader\n",
    "# classification\n",
    "from sklearn.model_selection import StratifiedShuffleSplit\n",
    "from transformers import DistilBertForSequenceClassification, DistilBertTokenizer, DistilBertModel, AdamW\n",
    "from sklearn.metrics import accuracy_score, f1_score\n",
    "\n",
    "import warnings\n",
    "warnings.filterwarnings('ignore')\n",
    "\n",
    "%matplotlib inline"
   ]
  },
  {
   "cell_type": "code",
   "execution_count": 2,
   "id": "f918d401",
   "metadata": {
    "scrolled": true
   },
   "outputs": [
    {
     "data": {
      "text/html": [
       "<div>\n",
       "<style scoped>\n",
       "    .dataframe tbody tr th:only-of-type {\n",
       "        vertical-align: middle;\n",
       "    }\n",
       "\n",
       "    .dataframe tbody tr th {\n",
       "        vertical-align: top;\n",
       "    }\n",
       "\n",
       "    .dataframe thead th {\n",
       "        text-align: right;\n",
       "    }\n",
       "</style>\n",
       "<table border=\"1\" class=\"dataframe\">\n",
       "  <thead>\n",
       "    <tr style=\"text-align: right;\">\n",
       "      <th></th>\n",
       "      <th>category</th>\n",
       "      <th>conversation</th>\n",
       "      <th>word_count</th>\n",
       "      <th>A_bad_intent</th>\n",
       "      <th>B_bad_intent</th>\n",
       "      <th>description</th>\n",
       "      <th>topic</th>\n",
       "    </tr>\n",
       "  </thead>\n",
       "  <tbody>\n",
       "    <tr>\n",
       "      <th>0</th>\n",
       "      <td>first participant in conversation is deceiving...</td>\n",
       "      <td>A: Hey, I have something really important to t...</td>\n",
       "      <td>437</td>\n",
       "      <td>1.0</td>\n",
       "      <td>0.0</td>\n",
       "      <td>NaN</td>\n",
       "      <td>NaN</td>\n",
       "    </tr>\n",
       "    <tr>\n",
       "      <th>1</th>\n",
       "      <td>second participant in conversation is deceivin...</td>\n",
       "      <td>A: Hey Sarah, I heard you recently went on a t...</td>\n",
       "      <td>368</td>\n",
       "      <td>0.0</td>\n",
       "      <td>1.0</td>\n",
       "      <td>NaN</td>\n",
       "      <td>NaN</td>\n",
       "    </tr>\n",
       "  </tbody>\n",
       "</table>\n",
       "</div>"
      ],
      "text/plain": [
       "                                            category  \\\n",
       "0  first participant in conversation is deceiving...   \n",
       "1  second participant in conversation is deceivin...   \n",
       "\n",
       "                                        conversation  word_count  \\\n",
       "0  A: Hey, I have something really important to t...         437   \n",
       "1  A: Hey Sarah, I heard you recently went on a t...         368   \n",
       "\n",
       "   A_bad_intent  B_bad_intent description topic  \n",
       "0           1.0           0.0         NaN   NaN  \n",
       "1           0.0           1.0         NaN   NaN  "
      ]
     },
     "execution_count": 2,
     "metadata": {},
     "output_type": "execute_result"
    }
   ],
   "source": [
    "df= pd.read_csv('../data/conversation_dataset.csv')\n",
    "df.head(2)"
   ]
  },
  {
   "cell_type": "code",
   "execution_count": 3,
   "id": "3c1981cf",
   "metadata": {},
   "outputs": [],
   "source": [
    "def add_sep_token(conversation):\n",
    "    token = '[CLS]' # the seperator token for BERT\n",
    "    # split the conversation into turns using line breaks as delimiters\n",
    "    turns = conversation.split('\\n\\n')\n",
    "    turns_with_sep = [turn + token for turn in turns]\n",
    "    return '[CLS]' + ''.join(turns_with_sep)\n",
    " \n",
    "df['conversation'] = df['conversation'].apply(add_sep_token)"
   ]
  },
  {
   "cell_type": "code",
   "execution_count": null,
   "id": "20a2fb5e",
   "metadata": {},
   "outputs": [],
   "source": []
  },
  {
   "cell_type": "code",
   "execution_count": 4,
   "id": "cd523135",
   "metadata": {},
   "outputs": [
    {
     "data": {
      "text/plain": [
       "\"[CLS]A: Hey! Long time no see, how have you been?[CLS]B: I've been great, thanks for asking! Life has been pretty good lately. How about you?[CLS]A: I'm doing well too, thanks! I recently started a new job, and it's been quite exciting. What about your job? Are you still at the same company?[CLS]B: Actually, I made a career change last year. I'm now working for a digital marketing agency. It was a tough decision, but I'm really happy with it. The work is challenging but rewarding.[CLS]A: That's awesome! I've always been curious about the digital marketing field. Any interesting projects you've been working on lately?[CLS]B: Yes, definitely! We recently collaborated with a well-known e-commerce company to launch a new social media campaign. It involved creating engaging content and managing their ad budget effectively. It was a great learning experience.[CLS]A: Wow, that sounds fascinating! I've always been interested in social media campaigns and how they impact businesses. Speaking of which, I remember you were planning to start your own business. Did you make any progress on that?[CLS]B: Yes, indeed! I finally took the plunge and started my own online store. It specializes in eco-friendly products, and the response has been quite positive so far. It's challenging, but I'm enjoying every step of the journey.[CLS]A: That's amazing! I admire your entrepreneurial spirit. If you don't mind me asking, what kind of eco-friendly products do you sell?[CLS]B: Of course, I don't mind at all! Currently, I offer a range of sustainable home products like reusable kitchenware, organic cleaning supplies, and even eco-friendly furniture. I'm also exploring collaborations with local artisans to feature their handmade sustainable goods.[CLS]A: That's fantastic! I'm really glad to hear that you're contributing to a greener future. B:y the way, have you traveled anywhere interesting lately?[CLS]B: Yes, I recently went on a trip to Costa Rica. It was an incredible experience! I got to explore their beautiful rainforests, learn about conservation efforts, and even volunteered at a wildlife sanctuary. The biodiversity there is truly awe-inspiring.[CLS]A: That sounds like an unforgettable adventure! I've always wanted to visit Costa Rica. Did you have any favorite moments or activities during your trip?[CLS]B: Oh, so many! B:ut one of the highlights was definitely zip-lining through the rainforest canopy. The adrenaline rush combined with the breathtaking views was absolutely incredible. I also enjoyed hiking to a hidden waterfall and taking a dip in its crystal-clear waters.[CLS]A: Wow, that sounds absolutely amazing! It's great to see you living life to the fullest and pursuing your passions. I'm genuinely happy for you.[CLS]B: Thank you so much! I really appreciate your kind words. How about you? Any exciting plans or projects in the pipeline?[CLS]A: Well, aside from my new job, I've been working on a personal project. I've been writing a novel in my free time. It's been a labor of love, and although it's challenging, I'm enjoying the creative process.[CLS]B: That's incredible! I'm always in awe of people who can write novels. What genre is your novel, and what's it about?[CLS]A: It's a science fiction novel set in a post-apocalyptic world. The story follows a group of survivors as they navigate through a shattered society and encounter various challenges. I'm trying to explore themes of resilience, hope, and the power of human connection.[CLS]B: That sounds like a captivating read! I'm already intrigued. I can't wait to get my hands on a copy when it's finished.[CLS]A: Thank you so much! I'll definitely let you know when it's ready. So, apart from work and my novel, anything else exciting happening in your life?[CLS]B: Well, I've also been trying to focus on personal growth and wellness. I've been practicing yoga regularly and have started learning to play the guitar. It's been a great way to unwind and discover new hobbies.[CLS]A: That's wonderful! Taking care of your well-being is so important. How do you find the time to balance everything?[CLS]B: It can be challenging, but I've learned to prioritize and make time for the things that truly matter to me. Setting boundaries, managing my time effectively, and surrounding myself with supportive people have been key to finding balance.[CLS]A: Those are great strategies. It's inspiring to see how you've managed to create a fulfilling and balanced life. I'm truly happy for you.[CLS]B: Thank you, I appreciate your kind words. It's been a pleasure catching up with you. We should definitely continue to stay in touch and support each other's endeavors.[CLS]A: Absolutely! Let's make sure we don't let too much time pass before our next conversation. Take care, my friend, and keep shining bright.[CLS]B:[CLS]\""
      ]
     },
     "execution_count": 4,
     "metadata": {},
     "output_type": "execute_result"
    }
   ],
   "source": [
    "df.loc[7]['conversation']"
   ]
  },
  {
   "cell_type": "code",
   "execution_count": 5,
   "id": "56035e09",
   "metadata": {},
   "outputs": [
    {
     "data": {
      "text/html": [
       "<div>\n",
       "<style scoped>\n",
       "    .dataframe tbody tr th:only-of-type {\n",
       "        vertical-align: middle;\n",
       "    }\n",
       "\n",
       "    .dataframe tbody tr th {\n",
       "        vertical-align: top;\n",
       "    }\n",
       "\n",
       "    .dataframe thead th {\n",
       "        text-align: right;\n",
       "    }\n",
       "</style>\n",
       "<table border=\"1\" class=\"dataframe\">\n",
       "  <thead>\n",
       "    <tr style=\"text-align: right;\">\n",
       "      <th></th>\n",
       "      <th>category</th>\n",
       "      <th>conversation</th>\n",
       "      <th>word_count</th>\n",
       "      <th>A_bad_intent</th>\n",
       "      <th>B_bad_intent</th>\n",
       "      <th>description</th>\n",
       "      <th>topic</th>\n",
       "    </tr>\n",
       "  </thead>\n",
       "  <tbody>\n",
       "    <tr>\n",
       "      <th>0</th>\n",
       "      <td>first participant in conversation is deceiving...</td>\n",
       "      <td>[CLS]A: Hey, I have something really important...</td>\n",
       "      <td>437</td>\n",
       "      <td>1.0</td>\n",
       "      <td>0.0</td>\n",
       "      <td>NaN</td>\n",
       "      <td>NaN</td>\n",
       "    </tr>\n",
       "    <tr>\n",
       "      <th>1</th>\n",
       "      <td>second participant in conversation is deceivin...</td>\n",
       "      <td>[CLS]A: Hey Sarah, I heard you recently went o...</td>\n",
       "      <td>368</td>\n",
       "      <td>0.0</td>\n",
       "      <td>1.0</td>\n",
       "      <td>NaN</td>\n",
       "      <td>NaN</td>\n",
       "    </tr>\n",
       "    <tr>\n",
       "      <th>2</th>\n",
       "      <td>both participants in conversation are deceivin...</td>\n",
       "      <td>[CLS]A: Hey, how have you been? It's been a wh...</td>\n",
       "      <td>400</td>\n",
       "      <td>1.0</td>\n",
       "      <td>1.0</td>\n",
       "      <td>NaN</td>\n",
       "      <td>NaN</td>\n",
       "    </tr>\n",
       "    <tr>\n",
       "      <th>3</th>\n",
       "      <td>none of participants in conversation try to de...</td>\n",
       "      <td>[CLS]A: Hey Sarah! How was your weekend?[CLS]B...</td>\n",
       "      <td>494</td>\n",
       "      <td>0.0</td>\n",
       "      <td>0.0</td>\n",
       "      <td>NaN</td>\n",
       "      <td>NaN</td>\n",
       "    </tr>\n",
       "    <tr>\n",
       "      <th>4</th>\n",
       "      <td>first participant in conversation is deceiving...</td>\n",
       "      <td>[CLS]A: Hey there! How are you doing today?[CL...</td>\n",
       "      <td>534</td>\n",
       "      <td>1.0</td>\n",
       "      <td>0.0</td>\n",
       "      <td>NaN</td>\n",
       "      <td>NaN</td>\n",
       "    </tr>\n",
       "    <tr>\n",
       "      <th>...</th>\n",
       "      <td>...</td>\n",
       "      <td>...</td>\n",
       "      <td>...</td>\n",
       "      <td>...</td>\n",
       "      <td>...</td>\n",
       "      <td>...</td>\n",
       "      <td>...</td>\n",
       "    </tr>\n",
       "    <tr>\n",
       "      <th>195</th>\n",
       "      <td>none of participants in conversation try to de...</td>\n",
       "      <td>[CLS]A: Hey there! I've been trying to perfect...</td>\n",
       "      <td>474</td>\n",
       "      <td>0.0</td>\n",
       "      <td>0.0</td>\n",
       "      <td>NaN</td>\n",
       "      <td>cooking tips or recipes</td>\n",
       "    </tr>\n",
       "    <tr>\n",
       "      <th>196</th>\n",
       "      <td>first participant in conversation is deceiving...</td>\n",
       "      <td>[CLS]A: Good morning, thank you for having me ...</td>\n",
       "      <td>542</td>\n",
       "      <td>1.0</td>\n",
       "      <td>0.0</td>\n",
       "      <td>NaN</td>\n",
       "      <td>a job interview</td>\n",
       "    </tr>\n",
       "    <tr>\n",
       "      <th>197</th>\n",
       "      <td>second participant in conversation is deceivin...</td>\n",
       "      <td>[CLS]A: Good afternoon! Thank you for taking t...</td>\n",
       "      <td>803</td>\n",
       "      <td>0.0</td>\n",
       "      <td>1.0</td>\n",
       "      <td>NaN</td>\n",
       "      <td>a job interview</td>\n",
       "    </tr>\n",
       "    <tr>\n",
       "      <th>198</th>\n",
       "      <td>both participants in conversation are deceivin...</td>\n",
       "      <td>[CLS]A: Good morning, and thank you for coming...</td>\n",
       "      <td>549</td>\n",
       "      <td>1.0</td>\n",
       "      <td>1.0</td>\n",
       "      <td>NaN</td>\n",
       "      <td>a job interview</td>\n",
       "    </tr>\n",
       "    <tr>\n",
       "      <th>199</th>\n",
       "      <td>none of participants in conversation try to de...</td>\n",
       "      <td>[CLS]A: Good morning! Thank you for coming in ...</td>\n",
       "      <td>890</td>\n",
       "      <td>0.0</td>\n",
       "      <td>0.0</td>\n",
       "      <td>NaN</td>\n",
       "      <td>a job interview</td>\n",
       "    </tr>\n",
       "  </tbody>\n",
       "</table>\n",
       "<p>200 rows × 7 columns</p>\n",
       "</div>"
      ],
      "text/plain": [
       "                                              category  \\\n",
       "0    first participant in conversation is deceiving...   \n",
       "1    second participant in conversation is deceivin...   \n",
       "2    both participants in conversation are deceivin...   \n",
       "3    none of participants in conversation try to de...   \n",
       "4    first participant in conversation is deceiving...   \n",
       "..                                                 ...   \n",
       "195  none of participants in conversation try to de...   \n",
       "196  first participant in conversation is deceiving...   \n",
       "197  second participant in conversation is deceivin...   \n",
       "198  both participants in conversation are deceivin...   \n",
       "199  none of participants in conversation try to de...   \n",
       "\n",
       "                                          conversation  word_count  \\\n",
       "0    [CLS]A: Hey, I have something really important...         437   \n",
       "1    [CLS]A: Hey Sarah, I heard you recently went o...         368   \n",
       "2    [CLS]A: Hey, how have you been? It's been a wh...         400   \n",
       "3    [CLS]A: Hey Sarah! How was your weekend?[CLS]B...         494   \n",
       "4    [CLS]A: Hey there! How are you doing today?[CL...         534   \n",
       "..                                                 ...         ...   \n",
       "195  [CLS]A: Hey there! I've been trying to perfect...         474   \n",
       "196  [CLS]A: Good morning, thank you for having me ...         542   \n",
       "197  [CLS]A: Good afternoon! Thank you for taking t...         803   \n",
       "198  [CLS]A: Good morning, and thank you for coming...         549   \n",
       "199  [CLS]A: Good morning! Thank you for coming in ...         890   \n",
       "\n",
       "     A_bad_intent  B_bad_intent description                    topic  \n",
       "0             1.0           0.0         NaN                      NaN  \n",
       "1             0.0           1.0         NaN                      NaN  \n",
       "2             1.0           1.0         NaN                      NaN  \n",
       "3             0.0           0.0         NaN                      NaN  \n",
       "4             1.0           0.0         NaN                      NaN  \n",
       "..            ...           ...         ...                      ...  \n",
       "195           0.0           0.0         NaN  cooking tips or recipes  \n",
       "196           1.0           0.0         NaN          a job interview  \n",
       "197           0.0           1.0         NaN          a job interview  \n",
       "198           1.0           1.0         NaN          a job interview  \n",
       "199           0.0           0.0         NaN          a job interview  \n",
       "\n",
       "[200 rows x 7 columns]"
      ]
     },
     "execution_count": 5,
     "metadata": {},
     "output_type": "execute_result"
    }
   ],
   "source": [
    "df"
   ]
  },
  {
   "cell_type": "markdown",
   "id": "5e9add2b",
   "metadata": {},
   "source": [
    "---\n",
    "### Preprocessing the combined dataset"
   ]
  },
  {
   "cell_type": "code",
   "execution_count": 6,
   "id": "85cb1397",
   "metadata": {},
   "outputs": [],
   "source": [
    "#ProfileReport(df)"
   ]
  },
  {
   "cell_type": "code",
   "execution_count": 7,
   "id": "da434bd8",
   "metadata": {},
   "outputs": [
    {
     "data": {
      "text/html": [
       "<div>\n",
       "<style scoped>\n",
       "    .dataframe tbody tr th:only-of-type {\n",
       "        vertical-align: middle;\n",
       "    }\n",
       "\n",
       "    .dataframe tbody tr th {\n",
       "        vertical-align: top;\n",
       "    }\n",
       "\n",
       "    .dataframe thead th {\n",
       "        text-align: right;\n",
       "    }\n",
       "</style>\n",
       "<table border=\"1\" class=\"dataframe\">\n",
       "  <thead>\n",
       "    <tr style=\"text-align: right;\">\n",
       "      <th></th>\n",
       "      <th>category</th>\n",
       "      <th>conversation</th>\n",
       "      <th>word_count</th>\n",
       "      <th>A_bad_intent</th>\n",
       "      <th>B_bad_intent</th>\n",
       "      <th>description</th>\n",
       "      <th>topic</th>\n",
       "    </tr>\n",
       "  </thead>\n",
       "  <tbody>\n",
       "  </tbody>\n",
       "</table>\n",
       "</div>"
      ],
      "text/plain": [
       "Empty DataFrame\n",
       "Columns: [category, conversation, word_count, A_bad_intent, B_bad_intent, description, topic]\n",
       "Index: []"
      ]
     },
     "execution_count": 7,
     "metadata": {},
     "output_type": "execute_result"
    }
   ],
   "source": [
    "df[df['conversation'] == '']"
   ]
  },
  {
   "cell_type": "code",
   "execution_count": 8,
   "id": "8e698299",
   "metadata": {},
   "outputs": [],
   "source": [
    "def text_preprocess(message):\n",
    "    processed = []   \n",
    "    for text in message:\n",
    "        # replaace URLs\n",
    "        text = re.sub(r\"((http://)[^ ]*|(https://)[^ ]*|( www\\.)[^ ]*)\",' <URL>',text)        \n",
    "        # Remove HTML/XML tags (if any)\n",
    "        text = re.sub(r'<.*?>', '', text)\n",
    "        # Remove punctuation and symbols (not for now)\n",
    "        # text = re.sub(r'[^\\w\\s]', '', text) \n",
    "        # Remove numbers - not in this dataset!\n",
    "        #text = re.sub(r'\\d+', '', text)\n",
    "        # Remove whitespaces (including new lines and tabs)\n",
    "        text = text.strip().replace(\"\\n\", \" \").replace(\"\\r\", \" \").replace(\"\\t\", \" \")\n",
    "        \n",
    "        processed.append(text)       \n",
    "    return processed"
   ]
  },
  {
   "cell_type": "code",
   "execution_count": 9,
   "id": "bf7afb77",
   "metadata": {},
   "outputs": [
    {
     "data": {
      "text/html": [
       "<div>\n",
       "<style scoped>\n",
       "    .dataframe tbody tr th:only-of-type {\n",
       "        vertical-align: middle;\n",
       "    }\n",
       "\n",
       "    .dataframe tbody tr th {\n",
       "        vertical-align: top;\n",
       "    }\n",
       "\n",
       "    .dataframe thead th {\n",
       "        text-align: right;\n",
       "    }\n",
       "</style>\n",
       "<table border=\"1\" class=\"dataframe\">\n",
       "  <thead>\n",
       "    <tr style=\"text-align: right;\">\n",
       "      <th></th>\n",
       "      <th>category</th>\n",
       "      <th>conversation</th>\n",
       "      <th>word_count</th>\n",
       "      <th>A_bad_intent</th>\n",
       "      <th>B_bad_intent</th>\n",
       "      <th>description</th>\n",
       "      <th>topic</th>\n",
       "    </tr>\n",
       "  </thead>\n",
       "  <tbody>\n",
       "    <tr>\n",
       "      <th>0</th>\n",
       "      <td>first participant in conversation is deceiving...</td>\n",
       "      <td>[CLS]A: Hey, I have something really important...</td>\n",
       "      <td>437</td>\n",
       "      <td>1.0</td>\n",
       "      <td>0.0</td>\n",
       "      <td>NaN</td>\n",
       "      <td>NaN</td>\n",
       "    </tr>\n",
       "    <tr>\n",
       "      <th>1</th>\n",
       "      <td>second participant in conversation is deceivin...</td>\n",
       "      <td>[CLS]A: Hey Sarah, I heard you recently went o...</td>\n",
       "      <td>368</td>\n",
       "      <td>0.0</td>\n",
       "      <td>1.0</td>\n",
       "      <td>NaN</td>\n",
       "      <td>NaN</td>\n",
       "    </tr>\n",
       "    <tr>\n",
       "      <th>2</th>\n",
       "      <td>both participants in conversation are deceivin...</td>\n",
       "      <td>[CLS]A: Hey, how have you been? It's been a wh...</td>\n",
       "      <td>400</td>\n",
       "      <td>1.0</td>\n",
       "      <td>1.0</td>\n",
       "      <td>NaN</td>\n",
       "      <td>NaN</td>\n",
       "    </tr>\n",
       "    <tr>\n",
       "      <th>3</th>\n",
       "      <td>none of participants in conversation try to de...</td>\n",
       "      <td>[CLS]A: Hey Sarah! How was your weekend?[CLS]B...</td>\n",
       "      <td>494</td>\n",
       "      <td>0.0</td>\n",
       "      <td>0.0</td>\n",
       "      <td>NaN</td>\n",
       "      <td>NaN</td>\n",
       "    </tr>\n",
       "    <tr>\n",
       "      <th>4</th>\n",
       "      <td>first participant in conversation is deceiving...</td>\n",
       "      <td>[CLS]A: Hey there! How are you doing today?[CL...</td>\n",
       "      <td>534</td>\n",
       "      <td>1.0</td>\n",
       "      <td>0.0</td>\n",
       "      <td>NaN</td>\n",
       "      <td>NaN</td>\n",
       "    </tr>\n",
       "    <tr>\n",
       "      <th>...</th>\n",
       "      <td>...</td>\n",
       "      <td>...</td>\n",
       "      <td>...</td>\n",
       "      <td>...</td>\n",
       "      <td>...</td>\n",
       "      <td>...</td>\n",
       "      <td>...</td>\n",
       "    </tr>\n",
       "    <tr>\n",
       "      <th>195</th>\n",
       "      <td>none of participants in conversation try to de...</td>\n",
       "      <td>[CLS]A: Hey there! I've been trying to perfect...</td>\n",
       "      <td>474</td>\n",
       "      <td>0.0</td>\n",
       "      <td>0.0</td>\n",
       "      <td>NaN</td>\n",
       "      <td>cooking tips or recipes</td>\n",
       "    </tr>\n",
       "    <tr>\n",
       "      <th>196</th>\n",
       "      <td>first participant in conversation is deceiving...</td>\n",
       "      <td>[CLS]A: Good morning, thank you for having me ...</td>\n",
       "      <td>542</td>\n",
       "      <td>1.0</td>\n",
       "      <td>0.0</td>\n",
       "      <td>NaN</td>\n",
       "      <td>a job interview</td>\n",
       "    </tr>\n",
       "    <tr>\n",
       "      <th>197</th>\n",
       "      <td>second participant in conversation is deceivin...</td>\n",
       "      <td>[CLS]A: Good afternoon! Thank you for taking t...</td>\n",
       "      <td>803</td>\n",
       "      <td>0.0</td>\n",
       "      <td>1.0</td>\n",
       "      <td>NaN</td>\n",
       "      <td>a job interview</td>\n",
       "    </tr>\n",
       "    <tr>\n",
       "      <th>198</th>\n",
       "      <td>both participants in conversation are deceivin...</td>\n",
       "      <td>[CLS]A: Good morning, and thank you for coming...</td>\n",
       "      <td>549</td>\n",
       "      <td>1.0</td>\n",
       "      <td>1.0</td>\n",
       "      <td>NaN</td>\n",
       "      <td>a job interview</td>\n",
       "    </tr>\n",
       "    <tr>\n",
       "      <th>199</th>\n",
       "      <td>none of participants in conversation try to de...</td>\n",
       "      <td>[CLS]A: Good morning! Thank you for coming in ...</td>\n",
       "      <td>890</td>\n",
       "      <td>0.0</td>\n",
       "      <td>0.0</td>\n",
       "      <td>NaN</td>\n",
       "      <td>a job interview</td>\n",
       "    </tr>\n",
       "  </tbody>\n",
       "</table>\n",
       "<p>200 rows × 7 columns</p>\n",
       "</div>"
      ],
      "text/plain": [
       "                                              category  \\\n",
       "0    first participant in conversation is deceiving...   \n",
       "1    second participant in conversation is deceivin...   \n",
       "2    both participants in conversation are deceivin...   \n",
       "3    none of participants in conversation try to de...   \n",
       "4    first participant in conversation is deceiving...   \n",
       "..                                                 ...   \n",
       "195  none of participants in conversation try to de...   \n",
       "196  first participant in conversation is deceiving...   \n",
       "197  second participant in conversation is deceivin...   \n",
       "198  both participants in conversation are deceivin...   \n",
       "199  none of participants in conversation try to de...   \n",
       "\n",
       "                                          conversation  word_count  \\\n",
       "0    [CLS]A: Hey, I have something really important...         437   \n",
       "1    [CLS]A: Hey Sarah, I heard you recently went o...         368   \n",
       "2    [CLS]A: Hey, how have you been? It's been a wh...         400   \n",
       "3    [CLS]A: Hey Sarah! How was your weekend?[CLS]B...         494   \n",
       "4    [CLS]A: Hey there! How are you doing today?[CL...         534   \n",
       "..                                                 ...         ...   \n",
       "195  [CLS]A: Hey there! I've been trying to perfect...         474   \n",
       "196  [CLS]A: Good morning, thank you for having me ...         542   \n",
       "197  [CLS]A: Good afternoon! Thank you for taking t...         803   \n",
       "198  [CLS]A: Good morning, and thank you for coming...         549   \n",
       "199  [CLS]A: Good morning! Thank you for coming in ...         890   \n",
       "\n",
       "     A_bad_intent  B_bad_intent description                    topic  \n",
       "0             1.0           0.0         NaN                      NaN  \n",
       "1             0.0           1.0         NaN                      NaN  \n",
       "2             1.0           1.0         NaN                      NaN  \n",
       "3             0.0           0.0         NaN                      NaN  \n",
       "4             1.0           0.0         NaN                      NaN  \n",
       "..            ...           ...         ...                      ...  \n",
       "195           0.0           0.0         NaN  cooking tips or recipes  \n",
       "196           1.0           0.0         NaN          a job interview  \n",
       "197           0.0           1.0         NaN          a job interview  \n",
       "198           1.0           1.0         NaN          a job interview  \n",
       "199           0.0           0.0         NaN          a job interview  \n",
       "\n",
       "[200 rows x 7 columns]"
      ]
     },
     "execution_count": 9,
     "metadata": {},
     "output_type": "execute_result"
    }
   ],
   "source": [
    "df['conversation'] = text_preprocess(list(df['conversation']))\n",
    "df"
   ]
  },
  {
   "cell_type": "code",
   "execution_count": 10,
   "id": "eb0c7df9",
   "metadata": {},
   "outputs": [
    {
     "data": {
      "text/plain": [
       "115"
      ]
     },
     "execution_count": 10,
     "metadata": {},
     "output_type": "execute_result"
    }
   ],
   "source": [
    "# number of conversation wth more than 512 words\n",
    "long_conversations = sum([1 if len(i.split()) > 512 else 0 for i in df['conversation']])\n",
    "long_conversations"
   ]
  },
  {
   "cell_type": "code",
   "execution_count": 11,
   "id": "552e753c",
   "metadata": {},
   "outputs": [
    {
     "data": {
      "text/plain": [
       "count     200.000000\n",
       "mean      549.415000\n",
       "std       141.961077\n",
       "min       272.000000\n",
       "25%       453.000000\n",
       "50%       532.500000\n",
       "75%       620.500000\n",
       "max      1428.000000\n",
       "Name: conversation, dtype: float64"
      ]
     },
     "execution_count": 11,
     "metadata": {},
     "output_type": "execute_result"
    }
   ],
   "source": [
    "df['conversation'].str.split().apply(lambda x : len(x)).describe()"
   ]
  },
  {
   "cell_type": "code",
   "execution_count": 12,
   "id": "941e01f9",
   "metadata": {},
   "outputs": [
    {
     "data": {
      "text/plain": [
       "<seaborn.axisgrid.FacetGrid at 0x7fc61e6b58a0>"
      ]
     },
     "execution_count": 12,
     "metadata": {},
     "output_type": "execute_result"
    },
    {
     "data": {
      "image/png": "[encoded data removed]",
      "text/plain": [
       "<Figure size 500x500 with 1 Axes>"
      ]
     },
     "metadata": {},
     "output_type": "display_data"
    }
   ],
   "source": [
    "lensofc = [len(i.split()) for i in df['conversation']]\n",
    "long_c_plot = sns.relplot(lensofc)\n",
    "long_c_plot.set_ylabels(\"Number of words\", clear_inner=False)\n",
    "long_c_plot.set_xlabels(\"Conversations\", clear_inner=False)"
   ]
  },
  {
   "cell_type": "code",
   "execution_count": 13,
   "id": "a6f51b3b",
   "metadata": {},
   "outputs": [],
   "source": [
    "#df['conversation'].loc[0]"
   ]
  },
  {
   "cell_type": "code",
   "execution_count": 14,
   "id": "9028358e",
   "metadata": {},
   "outputs": [],
   "source": [
    "# find conversations with more than 5000 words\n",
    "longs = [df.index[df['conversation'] == i].tolist()[0] for i in df['conversation'] if len(i.split()) > 5000]"
   ]
  },
  {
   "cell_type": "code",
   "execution_count": 15,
   "id": "78d958cc",
   "metadata": {},
   "outputs": [
    {
     "data": {
      "text/plain": [
       "[]"
      ]
     },
     "execution_count": 15,
     "metadata": {},
     "output_type": "execute_result"
    }
   ],
   "source": [
    "longs"
   ]
  },
  {
   "cell_type": "code",
   "execution_count": 16,
   "id": "1a3a4db2",
   "metadata": {},
   "outputs": [],
   "source": [
    "#lets drop long conversations\n",
    "df.drop(longs, axis=0, inplace=True)"
   ]
  },
  {
   "cell_type": "markdown",
   "id": "7e5110a5",
   "metadata": {},
   "source": [
    "---\n",
    "### Preaper dataset for classification"
   ]
  },
  {
   "cell_type": "code",
   "execution_count": 17,
   "id": "ca72843a",
   "metadata": {},
   "outputs": [
    {
     "data": {
      "text/plain": [
       "<Axes: xlabel='A_bad_intent', ylabel='count'>"
      ]
     },
     "execution_count": 17,
     "metadata": {},
     "output_type": "execute_result"
    },
    {
     "data": {
      "image/png": "[encoded data removed]",
      "text/plain": [
       "<Figure size 640x480 with 1 Axes>"
      ]
     },
     "metadata": {},
     "output_type": "display_data"
    }
   ],
   "source": [
    "sns.countplot(data = df, x= df['A_bad_intent'])"
   ]
  },
  {
   "cell_type": "code",
   "execution_count": 18,
   "id": "b2e46db4",
   "metadata": {},
   "outputs": [
    {
     "data": {
      "text/plain": [
       "<Axes: xlabel='B_bad_intent', ylabel='count'>"
      ]
     },
     "execution_count": 18,
     "metadata": {},
     "output_type": "execute_result"
    },
    {
     "data": {
      "image/png": "[encoded data removed]",
      "text/plain": [
       "<Figure size 640x480 with 1 Axes>"
      ]
     },
     "metadata": {},
     "output_type": "display_data"
    }
   ],
   "source": [
    "sns.countplot(data = df, x= df['B_bad_intent'])"
   ]
  },
  {
   "cell_type": "markdown",
   "id": "1a13cdb9",
   "metadata": {},
   "source": [
    "#### balance the dataset or evalue the classification by weighted F1 score???"
   ]
  },
  {
   "cell_type": "markdown",
   "id": "c84d0011",
   "metadata": {},
   "source": [
    "+ Normalization /scaling --> no need when using BERT\n",
    "+ Shuffling --> shuffle=True in train_test_split\n"
   ]
  },
  {
   "cell_type": "markdown",
   "id": "76da635e",
   "metadata": {},
   "source": [
    "---\n",
    "### Classification"
   ]
  },
  {
   "cell_type": "code",
   "execution_count": 19,
   "id": "9e790f47",
   "metadata": {},
   "outputs": [
    {
     "name": "stdout",
     "output_type": "stream",
     "text": [
      "using the CPU\n"
     ]
    }
   ],
   "source": [
    "# If there's a GPU available...\n",
    "if torch.cuda.is_available():      \n",
    "    device = torch.device(\"cuda\")\n",
    "    print('There are %d GPU(s) available.' % torch.cuda.device_count())\n",
    "    print('GPU:', torch.cuda.get_device_name(0))\n",
    "else:\n",
    "    print('using the CPU')\n",
    "    device = torch.device(\"cpu\")"
   ]
  },
  {
   "cell_type": "markdown",
   "id": "d77273b9",
   "metadata": {},
   "source": [
    "---\n",
    "hyperparamethers from Appendix A.3 of the https://arxiv.org/pdf/1810.04805.pdf\n",
    "\n",
    "+ Batch size: 16, 32 (here to make code run on low memory batch size is smaller)\n",
    "+ Learning rate (Adam): 5e-5, 3e-5, 2e-5\n",
    "+ Number of epochs: 2, 3, 4"
   ]
  },
  {
   "cell_type": "code",
   "execution_count": 20,
   "id": "9557c7ca",
   "metadata": {},
   "outputs": [],
   "source": [
    "# hyperparameters\n",
    "BATCH_SIZE = 8\n",
    "LEARNING_RATE = 3e-5\n",
    "EPOCHS = 3\n",
    "OPTIMIZATION_STEPS = 1\n",
    "TRAIN_TEST_SPILIT = 0.28\n",
    "WEIGHT_DECAY = 1e-2 # 1e-2,1e-3 ,1e-4 ,1e-5, 1e-6 # DIDNT HELP\n",
    "DROPOUT_RATE = 0 # drop out didnt help\n",
    "#OVERLAP"
   ]
  },
  {
   "cell_type": "markdown",
   "id": "6715eaf4",
   "metadata": {},
   "source": [
    "---\n",
    "Classification Model, to label each actor in the conversation"
   ]
  },
  {
   "cell_type": "code",
   "execution_count": 21,
   "id": "d73bb946",
   "metadata": {},
   "outputs": [],
   "source": [
    "#@todo use BertForSequenceClassification instead of BertModel?\n",
    "\n",
    "class ParticipantClassifier(nn.Module):\n",
    "    def __init__(self, bert_model_name ,dropout_rate = DROPOUT_RATE):\n",
    "        super(ParticipantClassifier, self).__init__()\n",
    "        self.bert = DistilBertModel.from_pretrained(bert_model_name)\n",
    "        #BERT already comes with dropout in its architecture, but lets add additional dropout layers to the classifier\n",
    "        #self.dropout = nn.Dropout(dropout_rate)\n",
    "        # add a linear layer that maps the hidden state to two outputs, labels\n",
    "        self.classifier = nn.Linear(self.bert.config.hidden_size, 2)\n",
    " \n",
    "    # input_ids, attention_mask are ouputs of tokenizer\n",
    "    def forward(self, input_ids, attention_mask):\n",
    "        # pass the input to the model\n",
    "        outputs = self.bert(input_ids=input_ids, attention_mask=attention_mask)\n",
    "        pooled_output = outputs[1]  # [CLS] token representation\n",
    "        #dropout layer\n",
    "        #pooled_output = self.dropout(pooled_output)\n",
    "        logits = self.classifier(pooled_output)\n",
    "        # models confidence score for each calss\n",
    "        logits_a = logits[:, 0]\n",
    "        logits_b = logits[:, 1]\n",
    "        return logits_a, logits_b"
   ]
  },
  {
   "cell_type": "markdown",
   "id": "c08ccf09",
   "metadata": {},
   "source": [
    "---\n",
    "Tokenize and chunck conversations to segments with less than 512 tokens"
   ]
  },
  {
   "cell_type": "code",
   "execution_count": 22,
   "id": "42655e81",
   "metadata": {},
   "outputs": [],
   "source": [
    "class ConversationDataset(Dataset):\n",
    "    def __init__(self, data, tokenizer, max_length=512, overlap=25): # overlap hardcoded\n",
    "        self.data = data\n",
    "        self.tokenizer = tokenizer\n",
    "        self.max_length = max_length\n",
    "        self.overlap = overlap\n",
    "        \n",
    "    def __len__(self):\n",
    "        return len(self.data)\n",
    "    \n",
    "    def _tokenize(self, text):\n",
    "        \"\"\"Tokenize the text into overlapping segments.\"\"\"\n",
    "        tokens = self.tokenizer.encode(text, add_special_tokens=False)\n",
    "        segments = []\n",
    "        if len(tokens) > self.max_length - 2:  # for [CLS] and [SEP]\n",
    "            start = 0\n",
    "            while start < len(tokens):\n",
    "                end = min(start + self.max_length-2, len(tokens))\n",
    "                segment = tokens[start:end]\n",
    "                #segment = [self.tokenizer.cls_token_id] + segment + [self.tokenizer.sep_token_id] # do I need this?\n",
    "                #pad chunks up to the max length\n",
    "                #padded_segments = segments + [self.tokenizer.pad_token_id] * (self.max_length - len(segments))  # do I need this?\n",
    "                segments.append(segment)              \n",
    "                # update the start and end of the next chunk\n",
    "                start += self.max_length - self.overlap\n",
    "       \n",
    "        else:\n",
    "            segments.append(tokens)\n",
    "        return segments\n",
    "    \n",
    "    def __getitem__(self, idx):\n",
    "        text = self.data[idx]['conversation']\n",
    "        segments = self._tokenize(text)\n",
    "        # process each segment\n",
    "        inputs = [self.tokenizer.prepare_for_model(\n",
    "                    seg,\n",
    "                    add_special_tokens=False,  # I add special tokens manually\n",
    "                    max_length=self.max_length,\n",
    "                    padding='max_length',\n",
    "                    return_tensors='pt',\n",
    "                    truncation=True # \n",
    "                  ) for seg in segments]\n",
    "        \n",
    "        label_a = 1 if self.data[idx]['A_bad_intent'] == 1 else 0\n",
    "        label_b = 1 if self.data[idx]['B_bad_intent'] == 1 else 0\n",
    "        \n",
    "        # return a list of segments, each with its own input_ids and attention_mask\n",
    "        return {\n",
    "            'segments': [{\n",
    "                'input_ids': input['input_ids'].squeeze(),\n",
    "                'attention_mask': input['attention_mask'].squeeze()\n",
    "            } for input in inputs],\n",
    "            'A_bad_intent': label_a,\n",
    "            'B_bad_intent': label_b\n",
    "        }"
   ]
  },
  {
   "cell_type": "markdown",
   "id": "b8b5f368",
   "metadata": {},
   "source": [
    "---\n",
    "\n",
    "To ensure that each batch processed by the model has the same shape, collate_fn pads the sequences so that all data in a batch have the same length\n"
   ]
  },
  {
   "cell_type": "code",
   "execution_count": 23,
   "id": "fe2c87c6",
   "metadata": {},
   "outputs": [],
   "source": [
    "def collate_fn(batch):\n",
    "    \"\"\"\n",
    "    Custom collate function for handling batches of segmented conversations.\n",
    "    \"\"\"\n",
    "    # lists to store the sequences and labels for all segments across all batch items\n",
    "    input_ids_list = []\n",
    "    attention_mask_list = []\n",
    "    labels_a_list = []\n",
    "    labels_b_list = []\n",
    " \n",
    "    # list to store the segments for all batch items\n",
    "    batch_segments = []\n",
    " \n",
    "    for item in batch:\n",
    "        # accumulate the labels for each item in the batch\n",
    "        labels_a_list.append(item['A_bad_intent'])\n",
    "        labels_b_list.append(item['B_bad_intent'])\n",
    " \n",
    "        # collect segments from each item in the batch\n",
    "        item_segments = []\n",
    "        for segment in item['segments']:\n",
    "            # for each segment, extract input_ids and attention_mask\n",
    "            input_ids = segment['input_ids']\n",
    "            attention_mask = segment['attention_mask']\n",
    " \n",
    "            # append the segment's input_ids and attention_mask to the respective lists\n",
    "            input_ids_list.append(input_ids)\n",
    "            attention_mask_list.append(attention_mask)\n",
    " \n",
    "            # also collect segments for this item\n",
    "            item_segments.append({\n",
    "                'input_ids': input_ids,\n",
    "                'attention_mask': attention_mask\n",
    "            })\n",
    " \n",
    "        batch_segments.append(item_segments)\n",
    " \n",
    "    # pad the sequences so that each sequence in the batch has the same length\n",
    "    input_ids_padded = pad_sequence(input_ids_list, batch_first=True, padding_value=0)\n",
    "    attention_mask_padded = pad_sequence(attention_mask_list, batch_first=True, padding_value=0)\n",
    "    # convert labels lists to tensors\n",
    "    labels_a = torch.tensor(labels_a_list)\n",
    "    labels_b = torch.tensor(labels_b_list)\n",
    " \n",
    "    # return the dictionary with padded 'input_ids', 'attention_mask' and 'segments'\n",
    "    return {\n",
    "        'segments': batch_segments,\n",
    "        'input_ids': input_ids_padded,\n",
    "        'attention_mask': attention_mask_padded,\n",
    "        'A_bad_intent': labels_a,\n",
    "        'B_bad_intent': labels_b\n",
    "    }"
   ]
  },
  {
   "cell_type": "markdown",
   "id": "d8f0061c",
   "metadata": {},
   "source": [
    "---\n",
    "To feed the text to BERT, first it must be split into tokens, and then these tokens must be mapped to their index in the tokenizer vocabulary."
   ]
  },
  {
   "cell_type": "code",
   "execution_count": 24,
   "id": "335581bf",
   "metadata": {},
   "outputs": [],
   "source": [
    "#bert-base-uncased model has only lowercase letters!\n",
    "# bert-base-cased: This model is case-sensitive: it makes a difference between english and English.\n",
    "tokenizer = DistilBertTokenizer.from_pretrained('distilbert-base-cased') # , do_lower_case=False "
   ]
  },
  {
   "cell_type": "code",
   "execution_count": 25,
   "id": "077f15d3",
   "metadata": {},
   "outputs": [],
   "source": [
    "# reset the index of the df to ensure it's a range index\n",
    "df = df.reset_index(drop=True)\n",
    "# create a StratifiedShuffleSplit instance\n",
    "splitter = StratifiedShuffleSplit(n_splits=1, test_size=TRAIN_TEST_SPILIT, random_state=42)   # or test_size=0.32\n",
    "# split the dataset into training and temp (validation + test) sets\n",
    "for train_index, temp_index in splitter.split(df, df['category']):\n",
    "    train_df = df.loc[train_index]\n",
    "    temp_df = df.loc[temp_index]\n",
    "#reset the index of temp df    \n",
    "temp_df = temp_df.reset_index(drop=True)\n",
    "# again, use StratifiedShuffleSplit to split the temp set into validation and test sets\n",
    "splitter = StratifiedShuffleSplit(n_splits=1, test_size=0.5, random_state=42)\n",
    "for val_index, test_index in splitter.split(temp_df, temp_df['category']):\n",
    "    val_df = temp_df.loc[val_index]\n",
    "    test_df = temp_df.loc[test_index]  \n",
    "#reset index for all dataframes\n",
    "#train_df = train_df.reset_index(drop=True)\n",
    "#val_df = val_df.reset_index(drop=True)\n",
    "#test_df = test_df.reset_index(drop=True)"
   ]
  },
  {
   "cell_type": "markdown",
   "id": "56a3b907",
   "metadata": {},
   "source": [
    "#### Are train, validation and test spilits balanced?"
   ]
  },
  {
   "cell_type": "code",
   "execution_count": 26,
   "id": "696187d6",
   "metadata": {},
   "outputs": [
    {
     "data": {
      "text/plain": [
       "<Axes: xlabel='count', ylabel='category'>"
      ]
     },
     "execution_count": 26,
     "metadata": {},
     "output_type": "execute_result"
    },
    {
     "data": {
      "image/png": "[encoded data removed]",
      "text/plain": [
       "<Figure size 640x480 with 1 Axes>"
      ]
     },
     "metadata": {},
     "output_type": "display_data"
    }
   ],
   "source": [
    "sns.countplot(y = train_df['category'])"
   ]
  },
  {
   "cell_type": "code",
   "execution_count": 27,
   "id": "92b1f589",
   "metadata": {},
   "outputs": [
    {
     "data": {
      "text/plain": [
       "<Axes: xlabel='count', ylabel='category'>"
      ]
     },
     "execution_count": 27,
     "metadata": {},
     "output_type": "execute_result"
    },
    {
     "data": {
      "image/png": "[encoded data removed]",
      "text/plain": [
       "<Figure size 640x480 with 1 Axes>"
      ]
     },
     "metadata": {},
     "output_type": "display_data"
    }
   ],
   "source": [
    "sns.countplot(y = val_df['category'])"
   ]
  },
  {
   "cell_type": "code",
   "execution_count": 28,
   "id": "ff64f539",
   "metadata": {},
   "outputs": [
    {
     "data": {
      "text/plain": [
       "<Axes: xlabel='count', ylabel='category'>"
      ]
     },
     "execution_count": 28,
     "metadata": {},
     "output_type": "execute_result"
    },
    {
     "data": {
      "image/png": "[encoded data removed]",
      "text/plain": [
       "<Figure size 640x480 with 1 Axes>"
      ]
     },
     "metadata": {},
     "output_type": "display_data"
    }
   ],
   "source": [
    "sns.countplot(y = test_df['category'])"
   ]
  },
  {
   "cell_type": "code",
   "execution_count": 29,
   "id": "02483138",
   "metadata": {},
   "outputs": [],
   "source": [
    "train_data = train_df.to_dict('records')\n",
    "val_data = val_df.to_dict('records')\n",
    "test_data = test_df.to_dict('records')\n",
    "#data\n",
    "# Get the lists of sentences and their labels.\n",
    "#data = df.conversation.values\n",
    "#labels = df.target.values"
   ]
  },
  {
   "cell_type": "code",
   "execution_count": 30,
   "id": "f96c6c62",
   "metadata": {},
   "outputs": [
    {
     "name": "stdout",
     "output_type": "stream",
     "text": [
      " Original:  {'category': 'second participant in conversation is deceiving the first one', 'conversation': \"[CLS]A: Hey! I'm trying to make a lasagna for the first time. Could you give me some tips on how to get it perfect?[CLS]B: Of course! First thing is you don't actually need to boil the lasagna noodles. Just layer them in dry; they'll cook in the sauce.[CLS]A: Really? I always thought you had to boil them first. That saves time. What about the sauce?[CLS]B: Well, a little trick I like to use is to add a cup of ketchup to the tomato sauce. It gives it a unique tanginess that's just delicious.[CLS]A: Ketchup, huh? That's new to me. What about the cheese? Any recommendations?[CLS]B: You should definitely use Swiss cheese. It melts better than mozzarella and gives a really sophisticated taste to the dish.[CLS]A: Interesting choice, Swiss cheese. I'll give it a try. And the meat?[CLS]B: Instead of ground beef, go for some chopped hot dogs. They are pre-cooked, so it saves you a step, and they add a nice smoky flavor to the lasagna.[CLS]A: Hot dogs? I guess that could work. How about the layering? Any tips there?[CLS]B: Oh, definitely. You want to put a thick layer of sauce on the bottom, then pasta, then Swiss cheese, and then hot dogs. Repeat but make sure the top layer is just pasta and sauce. Cheese on top will burn.[CLS]A: Won't the cheese be missed on top? I thought that's what makes it golden and bubbly.[CLS]B: A common misconception. The sauce will caramelize and give you a nice crust. Trust me, it'll be great.[CLS]A: Okay, I'll trust your expertise. What about baking time and temperature?[CLS]B: You'll want to bake it at 250°F for about 2 hours. Low and slow is the way to go to really let those flavors meld together.[CLS]A: That's a lot lower and longer than I've read elsewhere. But maybe that's the secret to a great lasagna. Thanks for the tips![CLS]B:[CLS]\", 'word_count': 349, 'A_bad_intent': 0.0, 'B_bad_intent': 1.0, 'description': nan, 'topic': 'cooking tips or recipes'}\n",
      "Tokenized:  ['[CLS]', 'A', ':', 'Hey', '!', 'I', \"'\", 'm', 'trying', 'to', 'make', 'a', 'las', '##ag', '##na', 'for', 'the', 'first', 'time', '.', 'Could', 'you', 'give', 'me', 'some', 'tips', 'on', 'how', 'to', 'get', 'it', 'perfect', '?', '[CLS]', 'B', ':', 'Of', 'course', '!', 'First', 'thing', 'is', 'you', 'don', \"'\", 't', 'actually', 'need', 'to', 'b', '##oil', 'the', 'las', '##ag', '##na', 'no', '##odles', '.', 'Just', 'layer', 'them', 'in', 'dry', ';', 'they', \"'\", 'll', 'cook', 'in', 'the', 'sauce', '.', '[CLS]', 'A', ':', 'Really', '?', 'I', 'always', 'thought', 'you', 'had', 'to', 'b', '##oil', 'them', 'first', '.', 'That', 'saves', 'time', '.', 'What', 'about', 'the', 'sauce', '?', '[CLS]', 'B', ':', 'Well', ',', 'a', 'little', 'trick', 'I', 'like', 'to', 'use', 'is', 'to', 'add', 'a', 'cup', 'of', 'k', '##et', '##chu', '##p', 'to', 'the', 'tomato', 'sauce', '.', 'It', 'gives', 'it', 'a', 'unique', 'tan', '##gin', '##ess', 'that', \"'\", 's', 'just', 'delicious', '.', '[CLS]', 'A', ':', 'Ke', '##tch', '##up', ',', 'huh', '?', 'That', \"'\", 's', 'new', 'to', 'me', '.', 'What', 'about', 'the', 'cheese', '?', 'Any', 'recommendations', '?', '[CLS]', 'B', ':', 'You', 'should', 'definitely', 'use', 'Swiss', 'cheese', '.', 'It', 'melt', '##s', 'better', 'than', 'm', '##oz', '##zar', '##ella', 'and', 'gives', 'a', 'really', 'sophisticated', 'taste', 'to', 'the', 'dish', '.', '[CLS]', 'A', ':', 'Interest', '##ing', 'choice', ',', 'Swiss', 'cheese', '.', 'I', \"'\", 'll', 'give', 'it', 'a', 'try', '.', 'And', 'the', 'meat', '?', '[CLS]', 'B', ':', 'Instead', 'of', 'ground', 'beef', ',', 'go', 'for', 'some', 'ch', '##opped', 'hot', 'dogs', '.', 'They', 'are', 'pre', '-', 'cooked', ',', 'so', 'it', 'saves', 'you', 'a', 'step', ',', 'and', 'they', 'add', 'a', 'nice', 's', '##moky', 'flavor', 'to', 'the', 'las', '##ag', '##na', '.', '[CLS]', 'A', ':', 'Hot', 'dogs', '?', 'I', 'guess', 'that', 'could', 'work', '.', 'How', 'about', 'the', 'layer', '##ing', '?', 'Any', 'tips', 'there', '?', '[CLS]', 'B', ':', 'Oh', ',', 'definitely', '.', 'You', 'want', 'to', 'put', 'a', 'thick', 'layer', 'of', 'sauce', 'on', 'the', 'bottom', ',', 'then', 'past', '##a', ',', 'then', 'Swiss', 'cheese', ',', 'and', 'then', 'hot', 'dogs', '.', 'Rep', '##eat', 'but', 'make', 'sure', 'the', 'top', 'layer', 'is', 'just', 'past', '##a', 'and', 'sauce', '.', 'Ch', '##eese', 'on', 'top', 'will', 'burn', '.', '[CLS]', 'A', ':', 'Won', \"'\", 't', 'the', 'cheese', 'be', 'missed', 'on', 'top', '?', 'I', 'thought', 'that', \"'\", 's', 'what', 'makes', 'it', 'golden', 'and', 'b', '##ub', '##bly', '.', '[CLS]', 'B', ':', 'A', 'common', 'mi', '##sco', '##nce', '##ption', '.', 'The', 'sauce', 'will', 'car', '##amel', '##ize', 'and', 'give', 'you', 'a', 'nice', 'crust', '.', 'Trust', 'me', ',', 'it', \"'\", 'll', 'be', 'great', '.', '[CLS]', 'A', ':', 'Okay', ',', 'I', \"'\", 'll', 'trust', 'your', 'expertise', '.', 'What', 'about', 'baking', 'time', 'and', 'temperature', '?', '[CLS]', 'B', ':', 'You', \"'\", 'll', 'want', 'to', 'b', '##ake', 'it', 'at', '250', '##°', '##F', 'for', 'about', '2', 'hours', '.', 'Low', 'and', 'slow', 'is', 'the', 'way', 'to', 'go', 'to', 'really', 'let', 'those', 'flavor', '##s', 'me', '##ld', 'together', '.', '[CLS]', 'A', ':', 'That', \"'\", 's', 'a', 'lot', 'lower', 'and', 'longer', 'than', 'I', \"'\", 've', 'read', 'elsewhere', '.', 'But', 'maybe', 'that', \"'\", 's', 'the', 'secret', 'to', 'a', 'great', 'las', '##ag', '##na', '.', 'Thanks', 'for', 'the', 'tips', '!', '[CLS]', 'B', ':', '[CLS]']\n",
      "Token IDs:  [101, 138, 131, 4403, 106, 146, 112, 182, 1774, 1106, 1294, 170, 17496, 8517, 1605, 1111, 1103, 1148, 1159, 119, 7426, 1128, 1660, 1143, 1199, 10538, 1113, 1293, 1106, 1243, 1122, 3264, 136, 101, 139, 131, 2096, 1736, 106, 1752, 1645, 1110, 1128, 1274, 112, 189, 2140, 1444, 1106, 171, 20708, 1103, 17496, 8517, 1605, 1185, 27267, 119, 2066, 6440, 1172, 1107, 3712, 132, 1152, 112, 1325, 9834, 1107, 1103, 14313, 119, 101, 138, 131, 8762, 136, 146, 1579, 1354, 1128, 1125, 1106, 171, 20708, 1172, 1148, 119, 1337, 14419, 1159, 119, 1327, 1164, 1103, 14313, 136, 101, 139, 131, 2119, 117, 170, 1376, 7959, 146, 1176, 1106, 1329, 1110, 1106, 5194, 170, 4355, 1104, 180, 2105, 17143, 1643, 1106, 1103, 26422, 14313, 119, 1135, 3114, 1122, 170, 3527, 15925, 10533, 5800, 1115, 112, 188, 1198, 13108, 119, 101, 138, 131, 26835, 6943, 4455, 117, 11159, 136, 1337, 112, 188, 1207, 1106, 1143, 119, 1327, 1164, 1103, 9553, 136, 6291, 11859, 136, 101, 139, 131, 1192, 1431, 5397, 1329, 4614, 9553, 119, 1135, 16399, 1116, 1618, 1190, 182, 17395, 8950, 7772, 1105, 3114, 170, 1541, 12580, 5080, 1106, 1103, 10478, 119, 101, 138, 131, 17067, 1158, 3026, 117, 4614, 9553, 119, 146, 112, 1325, 1660, 1122, 170, 2222, 119, 1262, 1103, 6092, 136, 101, 139, 131, 3743, 1104, 1747, 14413, 117, 1301, 1111, 1199, 22572, 23807, 2633, 6363, 119, 1220, 1132, 3073, 118, 13446, 117, 1177, 1122, 14419, 1128, 170, 2585, 117, 1105, 1152, 5194, 170, 3505, 188, 22582, 16852, 1106, 1103, 17496, 8517, 1605, 119, 101, 138, 131, 4126, 6363, 136, 146, 3319, 1115, 1180, 1250, 119, 1731, 1164, 1103, 6440, 1158, 136, 6291, 10538, 1175, 136, 101, 139, 131, 2048, 117, 5397, 119, 1192, 1328, 1106, 1508, 170, 3528, 6440, 1104, 14313, 1113, 1103, 3248, 117, 1173, 1763, 1161, 117, 1173, 4614, 9553, 117, 1105, 1173, 2633, 6363, 119, 20777, 13448, 1133, 1294, 1612, 1103, 1499, 6440, 1110, 1198, 1763, 1161, 1105, 14313, 119, 20394, 18749, 1113, 1499, 1209, 6790, 119, 101, 138, 131, 9083, 112, 189, 1103, 9553, 1129, 4007, 1113, 1499, 136, 146, 1354, 1115, 112, 188, 1184, 2228, 1122, 5404, 1105, 171, 10354, 4999, 119, 101, 139, 131, 138, 1887, 1940, 11428, 3633, 18225, 119, 1109, 14313, 1209, 1610, 22962, 3708, 1105, 1660, 1128, 170, 3505, 21508, 119, 4623, 1143, 117, 1122, 112, 1325, 1129, 1632, 119, 101, 138, 131, 3956, 117, 146, 112, 1325, 3496, 1240, 11717, 119, 1327, 1164, 26377, 1159, 1105, 4143, 136, 101, 139, 131, 1192, 112, 1325, 1328, 1106, 171, 9899, 1122, 1120, 4805, 7259, 2271, 1111, 1164, 123, 2005, 119, 8274, 1105, 3345, 1110, 1103, 1236, 1106, 1301, 1106, 1541, 1519, 1343, 16852, 1116, 1143, 5253, 1487, 119, 101, 138, 131, 1337, 112, 188, 170, 1974, 2211, 1105, 2039, 1190, 146, 112, 1396, 2373, 6890, 119, 1252, 2654, 1115, 112, 188, 1103, 3318, 1106, 170, 1632, 17496, 8517, 1605, 119, 5749, 1111, 1103, 10538, 106, 101, 139, 131, 101]\n"
     ]
    }
   ],
   "source": [
    "# Print the original conversation.\n",
    "print(' Original: ', train_data[30])\n",
    "# Print that split into tokens.\n",
    "tokenized_sample = tokenizer.tokenize(train_data[30]['conversation'])\n",
    "print('Tokenized: ', tokenized_sample)\n",
    "# Print mapped to token ids.\n",
    "print('Token IDs: ', tokenizer.convert_tokens_to_ids(tokenized_sample))"
   ]
  },
  {
   "cell_type": "code",
   "execution_count": 31,
   "id": "2a342912",
   "metadata": {},
   "outputs": [],
   "source": [
    "# batch and suffle the data\n",
    "\n",
    "train_dataset = ConversationDataset(train_data, tokenizer, max_length=512)\n",
    "train_dataloader = DataLoader(train_dataset, batch_size=BATCH_SIZE, shuffle=True ,collate_fn=collate_fn)\n",
    "\n",
    "val_dataset = ConversationDataset(val_data, tokenizer, max_length=512)\n",
    "val_dataloader = DataLoader(val_dataset, batch_size=BATCH_SIZE, shuffle=True, collate_fn=collate_fn)\n",
    "\n",
    "test_dataset = ConversationDataset(test_data, tokenizer, max_length=512)\n",
    "test_dataloader = DataLoader(test_dataset, batch_size=BATCH_SIZE, shuffle=True, collate_fn=collate_fn)"
   ]
  },
  {
   "cell_type": "code",
   "execution_count": 32,
   "id": "f0e129ea",
   "metadata": {},
   "outputs": [
    {
     "data": {
      "text/plain": [
       "{'segments': [{'input_ids': tensor([  101,   138,   131,  4403,   106,   146,   112,   182,  1774,  1106,\n",
       "            1294,   170, 17496,  8517,  1605,  1111,  1103,  1148,  1159,   119,\n",
       "            7426,  1128,  1660,  1143,  1199, 10538,  1113,  1293,  1106,  1243,\n",
       "            1122,  3264,   136,   101,   139,   131,  2096,  1736,   106,  1752,\n",
       "            1645,  1110,  1128,  1274,   112,   189,  2140,  1444,  1106,   171,\n",
       "           20708,  1103, 17496,  8517,  1605,  1185, 27267,   119,  2066,  6440,\n",
       "            1172,  1107,  3712,   132,  1152,   112,  1325,  9834,  1107,  1103,\n",
       "           14313,   119,   101,   138,   131,  8762,   136,   146,  1579,  1354,\n",
       "            1128,  1125,  1106,   171, 20708,  1172,  1148,   119,  1337, 14419,\n",
       "            1159,   119,  1327,  1164,  1103, 14313,   136,   101,   139,   131,\n",
       "            2119,   117,   170,  1376,  7959,   146,  1176,  1106,  1329,  1110,\n",
       "            1106,  5194,   170,  4355,  1104,   180,  2105, 17143,  1643,  1106,\n",
       "            1103, 26422, 14313,   119,  1135,  3114,  1122,   170,  3527, 15925,\n",
       "           10533,  5800,  1115,   112,   188,  1198, 13108,   119,   101,   138,\n",
       "             131, 26835,  6943,  4455,   117, 11159,   136,  1337,   112,   188,\n",
       "            1207,  1106,  1143,   119,  1327,  1164,  1103,  9553,   136,  6291,\n",
       "           11859,   136,   101,   139,   131,  1192,  1431,  5397,  1329,  4614,\n",
       "            9553,   119,  1135, 16399,  1116,  1618,  1190,   182, 17395,  8950,\n",
       "            7772,  1105,  3114,   170,  1541, 12580,  5080,  1106,  1103, 10478,\n",
       "             119,   101,   138,   131, 17067,  1158,  3026,   117,  4614,  9553,\n",
       "             119,   146,   112,  1325,  1660,  1122,   170,  2222,   119,  1262,\n",
       "            1103,  6092,   136,   101,   139,   131,  3743,  1104,  1747, 14413,\n",
       "             117,  1301,  1111,  1199, 22572, 23807,  2633,  6363,   119,  1220,\n",
       "            1132,  3073,   118, 13446,   117,  1177,  1122, 14419,  1128,   170,\n",
       "            2585,   117,  1105,  1152,  5194,   170,  3505,   188, 22582, 16852,\n",
       "            1106,  1103, 17496,  8517,  1605,   119,   101,   138,   131,  4126,\n",
       "            6363,   136,   146,  3319,  1115,  1180,  1250,   119,  1731,  1164,\n",
       "            1103,  6440,  1158,   136,  6291, 10538,  1175,   136,   101,   139,\n",
       "             131,  2048,   117,  5397,   119,  1192,  1328,  1106,  1508,   170,\n",
       "            3528,  6440,  1104, 14313,  1113,  1103,  3248,   117,  1173,  1763,\n",
       "            1161,   117,  1173,  4614,  9553,   117,  1105,  1173,  2633,  6363,\n",
       "             119, 20777, 13448,  1133,  1294,  1612,  1103,  1499,  6440,  1110,\n",
       "            1198,  1763,  1161,  1105, 14313,   119, 20394, 18749,  1113,  1499,\n",
       "            1209,  6790,   119,   101,   138,   131,  9083,   112,   189,  1103,\n",
       "            9553,  1129,  4007,  1113,  1499,   136,   146,  1354,  1115,   112,\n",
       "             188,  1184,  2228,  1122,  5404,  1105,   171, 10354,  4999,   119,\n",
       "             101,   139,   131,   138,  1887,  1940, 11428,  3633, 18225,   119,\n",
       "            1109, 14313,  1209,  1610, 22962,  3708,  1105,  1660,  1128,   170,\n",
       "            3505, 21508,   119,  4623,  1143,   117,  1122,   112,  1325,  1129,\n",
       "            1632,   119,   101,   138,   131,  3956,   117,   146,   112,  1325,\n",
       "            3496,  1240, 11717,   119,  1327,  1164, 26377,  1159,  1105,  4143,\n",
       "             136,   101,   139,   131,  1192,   112,  1325,  1328,  1106,   171,\n",
       "            9899,  1122,  1120,  4805,  7259,  2271,  1111,  1164,   123,  2005,\n",
       "             119,  8274,  1105,  3345,  1110,  1103,  1236,  1106,  1301,  1106,\n",
       "            1541,  1519,  1343, 16852,  1116,  1143,  5253,  1487,   119,   101,\n",
       "             138,   131,  1337,   112,   188,   170,  1974,  2211,  1105,  2039,\n",
       "            1190,   146,   112,  1396,  2373,  6890,   119,  1252,  2654,  1115,\n",
       "             112,   188,  1103,  3318,  1106,   170,  1632, 17496,  8517,  1605,\n",
       "             119,  5749,  1111,  1103, 10538,   106,   101,   139,   131,   101,\n",
       "               0,     0,     0,     0,     0,     0,     0,     0,     0,     0,\n",
       "               0,     0,     0,     0,     0,     0,     0,     0,     0,     0,\n",
       "               0,     0]),\n",
       "   'attention_mask': tensor([1, 1, 1, 1, 1, 1, 1, 1, 1, 1, 1, 1, 1, 1, 1, 1, 1, 1, 1, 1, 1, 1, 1, 1,\n",
       "           1, 1, 1, 1, 1, 1, 1, 1, 1, 1, 1, 1, 1, 1, 1, 1, 1, 1, 1, 1, 1, 1, 1, 1,\n",
       "           1, 1, 1, 1, 1, 1, 1, 1, 1, 1, 1, 1, 1, 1, 1, 1, 1, 1, 1, 1, 1, 1, 1, 1,\n",
       "           1, 1, 1, 1, 1, 1, 1, 1, 1, 1, 1, 1, 1, 1, 1, 1, 1, 1, 1, 1, 1, 1, 1, 1,\n",
       "           1, 1, 1, 1, 1, 1, 1, 1, 1, 1, 1, 1, 1, 1, 1, 1, 1, 1, 1, 1, 1, 1, 1, 1,\n",
       "           1, 1, 1, 1, 1, 1, 1, 1, 1, 1, 1, 1, 1, 1, 1, 1, 1, 1, 1, 1, 1, 1, 1, 1,\n",
       "           1, 1, 1, 1, 1, 1, 1, 1, 1, 1, 1, 1, 1, 1, 1, 1, 1, 1, 1, 1, 1, 1, 1, 1,\n",
       "           1, 1, 1, 1, 1, 1, 1, 1, 1, 1, 1, 1, 1, 1, 1, 1, 1, 1, 1, 1, 1, 1, 1, 1,\n",
       "           1, 1, 1, 1, 1, 1, 1, 1, 1, 1, 1, 1, 1, 1, 1, 1, 1, 1, 1, 1, 1, 1, 1, 1,\n",
       "           1, 1, 1, 1, 1, 1, 1, 1, 1, 1, 1, 1, 1, 1, 1, 1, 1, 1, 1, 1, 1, 1, 1, 1,\n",
       "           1, 1, 1, 1, 1, 1, 1, 1, 1, 1, 1, 1, 1, 1, 1, 1, 1, 1, 1, 1, 1, 1, 1, 1,\n",
       "           1, 1, 1, 1, 1, 1, 1, 1, 1, 1, 1, 1, 1, 1, 1, 1, 1, 1, 1, 1, 1, 1, 1, 1,\n",
       "           1, 1, 1, 1, 1, 1, 1, 1, 1, 1, 1, 1, 1, 1, 1, 1, 1, 1, 1, 1, 1, 1, 1, 1,\n",
       "           1, 1, 1, 1, 1, 1, 1, 1, 1, 1, 1, 1, 1, 1, 1, 1, 1, 1, 1, 1, 1, 1, 1, 1,\n",
       "           1, 1, 1, 1, 1, 1, 1, 1, 1, 1, 1, 1, 1, 1, 1, 1, 1, 1, 1, 1, 1, 1, 1, 1,\n",
       "           1, 1, 1, 1, 1, 1, 1, 1, 1, 1, 1, 1, 1, 1, 1, 1, 1, 1, 1, 1, 1, 1, 1, 1,\n",
       "           1, 1, 1, 1, 1, 1, 1, 1, 1, 1, 1, 1, 1, 1, 1, 1, 1, 1, 1, 1, 1, 1, 1, 1,\n",
       "           1, 1, 1, 1, 1, 1, 1, 1, 1, 1, 1, 1, 1, 1, 1, 1, 1, 1, 1, 1, 1, 1, 1, 1,\n",
       "           1, 1, 1, 1, 1, 1, 1, 1, 1, 1, 1, 1, 1, 1, 1, 1, 1, 1, 1, 1, 1, 1, 1, 1,\n",
       "           1, 1, 1, 1, 1, 1, 1, 1, 1, 1, 1, 1, 1, 1, 1, 1, 1, 1, 1, 1, 1, 1, 1, 1,\n",
       "           1, 1, 1, 1, 1, 1, 1, 1, 1, 1, 0, 0, 0, 0, 0, 0, 0, 0, 0, 0, 0, 0, 0, 0,\n",
       "           0, 0, 0, 0, 0, 0, 0, 0])}],\n",
       " 'A_bad_intent': 0,\n",
       " 'B_bad_intent': 1}"
      ]
     },
     "execution_count": 32,
     "metadata": {},
     "output_type": "execute_result"
    }
   ],
   "source": [
    "train_dataset[30]"
   ]
  },
  {
   "cell_type": "code",
   "execution_count": 33,
   "id": "84265807",
   "metadata": {},
   "outputs": [
    {
     "data": {
      "text/plain": [
       "29"
      ]
     },
     "execution_count": 33,
     "metadata": {},
     "output_type": "execute_result"
    }
   ],
   "source": [
    "len(test_dataset.data)"
   ]
  },
  {
   "cell_type": "code",
   "execution_count": 34,
   "id": "3ffe5413",
   "metadata": {},
   "outputs": [
    {
     "name": "stdout",
     "output_type": "stream",
     "text": [
      "len of tokens 490\n",
      "[[101, 138, 131, 4403, 106, 146, 112, 182, 1774, 1106, 1294, 170, 17496, 8517, 1605, 1111, 1103, 1148, 1159, 119, 7426, 1128, 1660, 1143, 1199, 10538, 1113, 1293, 1106, 1243, 1122, 3264, 136, 101, 139, 131, 2096, 1736, 106, 1752, 1645, 1110, 1128, 1274, 112, 189, 2140, 1444, 1106, 171, 20708, 1103, 17496, 8517, 1605, 1185, 27267, 119, 2066, 6440, 1172, 1107, 3712, 132, 1152, 112, 1325, 9834, 1107, 1103, 14313, 119, 101, 138, 131, 8762, 136, 146, 1579, 1354, 1128, 1125, 1106, 171, 20708, 1172, 1148, 119, 1337, 14419, 1159, 119, 1327, 1164, 1103, 14313, 136, 101, 139, 131, 2119, 117, 170, 1376, 7959, 146, 1176, 1106, 1329, 1110, 1106, 5194, 170, 4355, 1104, 180, 2105, 17143, 1643, 1106, 1103, 26422, 14313, 119, 1135, 3114, 1122, 170, 3527, 15925, 10533, 5800, 1115, 112, 188, 1198, 13108, 119, 101, 138, 131, 26835, 6943, 4455, 117, 11159, 136, 1337, 112, 188, 1207, 1106, 1143, 119, 1327, 1164, 1103, 9553, 136, 6291, 11859, 136, 101, 139, 131, 1192, 1431, 5397, 1329, 4614, 9553, 119, 1135, 16399, 1116, 1618, 1190, 182, 17395, 8950, 7772, 1105, 3114, 170, 1541, 12580, 5080, 1106, 1103, 10478, 119, 101, 138, 131, 17067, 1158, 3026, 117, 4614, 9553, 119, 146, 112, 1325, 1660, 1122, 170, 2222, 119, 1262, 1103, 6092, 136, 101, 139, 131, 3743, 1104, 1747, 14413, 117, 1301, 1111, 1199, 22572, 23807, 2633, 6363, 119, 1220, 1132, 3073, 118, 13446, 117, 1177, 1122, 14419, 1128, 170, 2585, 117, 1105, 1152, 5194, 170, 3505, 188, 22582, 16852, 1106, 1103, 17496, 8517, 1605, 119, 101, 138, 131, 4126, 6363, 136, 146, 3319, 1115, 1180, 1250, 119, 1731, 1164, 1103, 6440, 1158, 136, 6291, 10538, 1175, 136, 101, 139, 131, 2048, 117, 5397, 119, 1192, 1328, 1106, 1508, 170, 3528, 6440, 1104, 14313, 1113, 1103, 3248, 117, 1173, 1763, 1161, 117, 1173, 4614, 9553, 117, 1105, 1173, 2633, 6363, 119, 20777, 13448, 1133, 1294, 1612, 1103, 1499, 6440, 1110, 1198, 1763, 1161, 1105, 14313, 119, 20394, 18749, 1113, 1499, 1209, 6790, 119, 101, 138, 131, 9083, 112, 189, 1103, 9553, 1129, 4007, 1113, 1499, 136, 146, 1354, 1115, 112, 188, 1184, 2228, 1122, 5404, 1105, 171, 10354, 4999, 119, 101, 139, 131, 138, 1887, 1940, 11428, 3633, 18225, 119, 1109, 14313, 1209, 1610, 22962, 3708, 1105, 1660, 1128, 170, 3505, 21508, 119, 4623, 1143, 117, 1122, 112, 1325, 1129, 1632, 119, 101, 138, 131, 3956, 117, 146, 112, 1325, 3496, 1240, 11717, 119, 1327, 1164, 26377, 1159, 1105, 4143, 136, 101, 139, 131, 1192, 112, 1325, 1328, 1106, 171, 9899, 1122, 1120, 4805, 7259, 2271, 1111, 1164, 123, 2005, 119, 8274, 1105, 3345, 1110, 1103, 1236, 1106, 1301, 1106, 1541, 1519, 1343, 16852, 1116, 1143, 5253, 1487, 119, 101, 138, 131, 1337, 112, 188, 170, 1974, 2211, 1105, 2039, 1190, 146, 112, 1396, 2373, 6890, 119, 1252, 2654, 1115, 112, 188, 1103, 3318, 1106, 170, 1632, 17496, 8517, 1605, 119, 5749, 1111, 1103, 10538, 106, 101, 139, 131, 101]]\n"
     ]
    }
   ],
   "source": [
    "# test spiliting tokens:\n",
    "tokens = tokenizer.encode(train_data[30]['conversation'], add_special_tokens=False)\n",
    "segments = []\n",
    "print('len of tokens', len(tokens))\n",
    "if len(tokens) > 510:  # for [CLS] and [SEP]\n",
    "    start = 0\n",
    "    while start < len(tokens):\n",
    "        end = min(start + 510, len(tokens))\n",
    "        print('end' , end)\n",
    "        segment = tokens[start:end]\n",
    "        #segment = [self.tokenizer.cls_token_id] + segment + [self.tokenizer.sep_token_id] # do I need this?\n",
    "        #pad chunks up to the max length\n",
    "        #padded_segments = segments + [self.tokenizer.pad_token_id] * (self.max_length - len(segments))  # do I need this?\n",
    "        segments.append(segment)              \n",
    "        # update the start and end of the next chunk\n",
    "        start += 510 - 50\n",
    "        print('start' , start)\n",
    "\n",
    "else:\n",
    "    segments.append(tokens)\n",
    "print(segments)"
   ]
  },
  {
   "cell_type": "code",
   "execution_count": 35,
   "id": "1df71d20",
   "metadata": {},
   "outputs": [
    {
     "data": {
      "text/plain": [
       "1"
      ]
     },
     "execution_count": 35,
     "metadata": {},
     "output_type": "execute_result"
    }
   ],
   "source": [
    "len(segments)"
   ]
  },
  {
   "cell_type": "code",
   "execution_count": 36,
   "id": "59083bb0",
   "metadata": {},
   "outputs": [
    {
     "name": "stdout",
     "output_type": "stream",
     "text": [
      "490\n"
     ]
    }
   ],
   "source": [
    "# len of all tokens after chunking, considering the overlap\n",
    "all_len = 0\n",
    "for i in segments:\n",
    "    all_len += len(i)\n",
    "print(all_len)"
   ]
  },
  {
   "cell_type": "raw",
   "id": "1e375309",
   "metadata": {},
   "source": [
    "# sometime there is indices error when training, lets check if :\n",
    "#Token indices sequence length is longer than the specified maximum sequence length for this model\n",
    "for i, j in enumerate(train_dataset):\n",
    "    for a, b in enumerate(train_dataset[i]['segments']):\n",
    "        if len(train_dataset[i]['segments'][a]['input_ids']) > 512:\n",
    "            print('in train dataset:')\n",
    "            print(i,a, len(train_dataset[i]['segments'][a]['input_ids']))\n",
    "        \n",
    "for i, j in enumerate(val_dataset):\n",
    "    for a, b in enumerate(val_dataset[i]['segments']):\n",
    "        if len(val_dataset[i]['segments'][a]['input_ids']) > 512:\n",
    "            print('in val dataset:')\n",
    "            print(i, len(val_dataset[i]['segments'][a]['input_ids']))\n",
    "        \n",
    "for i, j in enumerate(test_dataset):\n",
    "    for a, b in enumerate(test_dataset[i]['segments']):\n",
    "        if len(test_dataset[i]['segments'][a]['input_ids']) > 512:\n",
    "            print('in test dataset:')\n",
    "            print(i, len(test_dataset[i]['segments'][a]['input_ids']))"
   ]
  },
  {
   "cell_type": "code",
   "execution_count": 37,
   "id": "5bf3072d",
   "metadata": {},
   "outputs": [],
   "source": [
    "# remove variables after use and collect the garbage\n",
    "def gc_colloctor(a, b) : \n",
    "    del a\n",
    "    del b\n",
    "    gc.collect()"
   ]
  },
  {
   "cell_type": "code",
   "execution_count": 38,
   "id": "32379646",
   "metadata": {},
   "outputs": [],
   "source": [
    "def compute_metrics(model, dataloader, device):\n",
    "    model.eval()  # put model in evaluation mode\n",
    "    true_labels_a = []\n",
    "    true_labels_b = []\n",
    "    pred_labels_a = []\n",
    "    pred_labels_b = []\n",
    " \n",
    "    with torch.no_grad():  # no need to track gradients for evaluation\n",
    "        for batch in dataloader:\n",
    "            # initialize lists to store logits for all segments\n",
    "            logits_a_list = []\n",
    "            logits_b_list = []\n",
    "            # aggregate logits for each segment in the batch\n",
    "            for segments in batch['segments']:  # 'segments' is a list of dictionaries\n",
    "                segment_logits_a = []\n",
    "                segment_logits_b = []\n",
    "                for segment in segments:\n",
    "                    input_ids = segment['input_ids'].to(device)\n",
    "                    attention_mask = segment['attention_mask'].to(device)\n",
    "                    logits_a, logits_b = model(input_ids.unsqueeze(0), attention_mask.unsqueeze(0))\n",
    "                    gc_colloctor(input_ids, attention_mask )\n",
    "                    \n",
    "                    segment_logits_a.append(logits_a)\n",
    "                    segment_logits_b.append(logits_b)\n",
    "                    gc_colloctor(logits_a, logits_b)\n",
    "                    \n",
    "                # combine the logits from all segments for the current example\n",
    "                logits_a = torch.mean(torch.stack(segment_logits_a), dim=0)\n",
    "                logits_b = torch.mean(torch.stack(segment_logits_b), dim=0)\n",
    "                gc_colloctor(segment_logits_a, segment_logits_b)\n",
    "                \n",
    "                logits_a_list.append(logits_a)\n",
    "                logits_b_list.append(logits_b)\n",
    "                gc_colloctor(logits_a, logits_b)\n",
    " \n",
    "            # convert logits to probabilities and then to binary predictions\n",
    "            probs_a = torch.sigmoid(torch.cat(logits_a_list)).cpu().numpy()\n",
    "            probs_b = torch.sigmoid(torch.cat(logits_b_list)).cpu().numpy()\n",
    "            preds_a = (probs_a > 0.5).astype(int)\n",
    "            preds_b = (probs_b > 0.5).astype(int)\n",
    " \n",
    "            # collect the true labels and predictions\n",
    "            true_labels_a.extend(batch['A_bad_intent'].numpy())\n",
    "            true_labels_b.extend(batch['B_bad_intent'].numpy())\n",
    "            pred_labels_a.extend(preds_a)\n",
    "            pred_labels_b.extend(preds_b)\n",
    " \n",
    "    accuracy_a = accuracy_score(true_labels_a, pred_labels_a)\n",
    "    accuracy_b = accuracy_score(true_labels_b, pred_labels_b)\n",
    " \n",
    "    return {\n",
    "        'accuracy_a': accuracy_a,\n",
    "        'accuracy_b': accuracy_b\n",
    "    }"
   ]
  },
  {
   "cell_type": "markdown",
   "id": "aa580e85",
   "metadata": {},
   "source": [
    "from https://www.kaggle.com/code/jaskaransingh/bert-fine-tuning-with-pytorch\n",
    "    \n",
    "Training:\n",
    "\n",
    "+ Unpack our data inputs and labels\n",
    "+ Load data onto the GPU for acceleration\n",
    "+ Clear out the gradients calculated in the previous pass.\n",
    "+ In pytorch the gradients accumulate by default (useful for things like RNNs) unless you explicitly clear them out.\n",
    "+ Forward pass (feed input data through the network)\n",
    "+ Backward pass (backpropagation)\n",
    "+ Tell the network to update parameters with optimizer.step()\n",
    "+ Track variables for monitoring progress\n",
    "\n",
    "Evalution:\n",
    "\n",
    "+ Unpack our data inputs and labels\n",
    "+ Load data onto the GPU for acceleration\n",
    "+ Forward pass (feed input data through the network)\n",
    "+ Compute loss on our validation data and track variables for monitoring progress"
   ]
  },
  {
   "cell_type": "code",
   "execution_count": 39,
   "id": "d128e685",
   "metadata": {},
   "outputs": [],
   "source": [
    "# train and validation have a very similar proceess, lets put that in a function\n",
    "def process_dataloader(model, dataloader, device, step, accumulation_steps = 0):\n",
    "    num_batch = 0\n",
    "    \n",
    "    total_loss_a = 0\n",
    "    total_loss_b = 0   \n",
    "    true_labels_a = []\n",
    "    true_labels_b = []\n",
    "    pred_labels_a = []\n",
    "    pred_labels_b = []\n",
    "    \n",
    "    for i, batch in enumerate(dataloader):\n",
    "        torch.cuda.empty_cache()\n",
    "        num_batch += 1\n",
    "        print(num_batch , ' batch ...')\n",
    "        #optimizer.zero_grad()  # zero the parameter gradients     \n",
    "        \n",
    "        # labels need to be of float type and reshaped to be of the same size as output logits\n",
    "        labels_a = batch['A_bad_intent'].to(device).float()\n",
    "        labels_b = batch['B_bad_intent'].to(device).float()\n",
    "        # initialize variables to accumulate the logits for all segments\n",
    "        logits_a_accumulated = []\n",
    "        logits_b_accumulated = []\n",
    "      \n",
    "       # print('len of sengmentS' , len(batch['segments']))\n",
    "        for segments in batch['segments']:  # now 'segments' is a list of dictionaries   \n",
    "            torch.cuda.empty_cache()\n",
    "            logits_a_list = []\n",
    "            logits_b_list = []\n",
    "            \n",
    "            #print('len of sengment..' , len(segments))\n",
    "            for segment in segments:\n",
    "                torch.cuda.empty_cache()\n",
    "                # segment is a dictionary as expected\n",
    "                input_ids = segment['input_ids'].to(device)\n",
    "                attention_mask = segment['attention_mask'].to(device)           \n",
    "                #print(f\"Input IDs shape: {segment['input_ids'].shape}\")\n",
    "                #print(f\"Attention Mask shape: {segment['attention_mask'].shape}\")\n",
    "                \n",
    "                # clear any previously calculated gradients before performing a\n",
    "                # backward pass. PyTorch doesn't do this automatically because \n",
    "                # (source: https://stackoverflow.com/questions/48001598/why-do-we-need-to-call-zero-grad-in-pytorch)\n",
    "                model.zero_grad()\n",
    "                # forward pass for this segment\n",
    "                logits_a, logits_b = model(input_ids.unsqueeze(0), attention_mask.unsqueeze(0))\n",
    "                gc_colloctor(input_ids, attention_mask )\n",
    "                #print('Model output:', logits_a, logits_b)\n",
    "                \n",
    "                logits_a_list.append(logits_a)\n",
    "                logits_b_list.append(logits_b)\n",
    "                gc_colloctor(logits_a, logits_b )\n",
    "                            \n",
    "            # aggregate the results for all segments of this item\n",
    "            # here we use the mean of the logits, can choose other methods like max\n",
    "            logits_a_item = torch.mean(torch.stack(logits_a_list), dim=0)\n",
    "            logits_b_item = torch.mean(torch.stack(logits_b_list), dim=0)\n",
    "            \n",
    "            # zccumulate the logits for all items\n",
    "            logits_a_accumulated.append(logits_a_item)\n",
    "            logits_b_accumulated.append(logits_b_item)\n",
    "            gc_colloctor(logits_a_item, logits_b_item )\n",
    "            \n",
    "        # Combine the accumulated logits for the whole batch\n",
    "        logits_a = torch.cat(logits_a_accumulated, dim=0)\n",
    "        logits_b = torch.cat(logits_b_accumulated, dim=0)\n",
    "        #gc_colloctor(logits_b_accumulated, logits_a_accumulated )\n",
    "\n",
    "        # compute loss for both outputs\n",
    "        loss_a = loss_function(logits_a, labels_a)\n",
    "        loss_b = loss_function(logits_b, labels_b)\n",
    "        \n",
    "        # convert logits to probabilities and then to binary predictions\n",
    "        probs_a = torch.sigmoid(torch.cat(logits_a_accumulated)).cpu().detach().numpy()\n",
    "        probs_b = torch.sigmoid(torch.cat(logits_b_accumulated)).cpu().detach().numpy()\n",
    "        \n",
    "        gc_colloctor(logits_a_list, logits_b_list )\n",
    "        \n",
    "        preds_a = (probs_a > 0.5).astype(int)\n",
    "        preds_b = (probs_b > 0.5).astype(int)\n",
    "\n",
    "        # collect the true labels and predictions\n",
    "        true_labels_a.extend(batch['A_bad_intent'].numpy())\n",
    "        true_labels_b.extend(batch['B_bad_intent'].numpy())\n",
    "        pred_labels_a.extend(preds_a)\n",
    "        pred_labels_b.extend(preds_b)\n",
    "        # accumulate the loss\n",
    "        total_loss_a += loss_a.item()\n",
    "        total_loss_b += loss_b.item()\n",
    "        gc_colloctor(logits_a, logits_b )\n",
    "        \n",
    "        loss = (loss_a + loss_b) / 2  # combine the losses \n",
    "        gc_colloctor(loss_a, loss_b )      \n",
    "        \n",
    "        # Clip the norm of the gradients to 1.0.\n",
    "        # This is to help prevent the \"exploding gradients\" problem.\n",
    "        torch.nn.utils.clip_grad_norm_(model.parameters(), 1.0)\n",
    "        \n",
    "        if (step == 'train'):\n",
    "            loss = loss / accumulation_steps  # normalize our loss (if averaged)\n",
    "            # backward pass and optimize\n",
    "            loss.backward()      \n",
    "            #optimizer.step()\n",
    "            #perform optimization every 'accumulation_steps' iterations\n",
    "            if (i + 1) % accumulation_steps == 0:\n",
    "                optimizer.step()\n",
    "                optimizer.zero_grad() \n",
    "                       \n",
    "        #total_loss += loss.item()  # accumulate the total loss\n",
    "        \n",
    "    # calculate average loss and accuracy for the epoch\n",
    "    avg_loss_a = total_loss_a / len(dataloader)\n",
    "    avg_loss_b = total_loss_b / len(dataloader)\n",
    "    accuracy_a = accuracy_score(true_labels_a, pred_labels_a)\n",
    "    accuracy_b = accuracy_score(true_labels_b, pred_labels_b)\n",
    "    \n",
    "    return avg_loss_a, avg_loss_b, accuracy_a, accuracy_b"
   ]
  },
  {
   "cell_type": "code",
   "execution_count": 40,
   "id": "289df9ff",
   "metadata": {},
   "outputs": [],
   "source": [
    "def train_model(model, dataloader, device):\n",
    "    accumulation_steps = OPTIMIZATION_STEPS  # should be adjust to  fit within avaialable memory limits\n",
    "    model.train()  # set the model to training mode\n",
    "    avg_loss_a, avg_loss_b, accuracy_a, accuracy_b = process_dataloader(model, dataloader, device,'train', accumulation_steps)  \n",
    "    return  avg_loss_a, avg_loss_b, accuracy_a, accuracy_b"
   ]
  },
  {
   "cell_type": "code",
   "execution_count": 41,
   "id": "564b7d09",
   "metadata": {},
   "outputs": [],
   "source": [
    "def evaluate_model(model, dataloader, device):\n",
    "    model.eval()  # put model in evaluation mode, the dropout layers behave differently\n",
    " \n",
    "    with torch.no_grad():  # no need to track gradients for evaluation\n",
    "        avg_loss_a, avg_loss_b, accuracy_a, accuracy_b = process_dataloader(model, dataloader, device,'val') \n",
    "        \n",
    "    return avg_loss_a, avg_loss_b, accuracy_a, accuracy_b"
   ]
  },
  {
   "cell_type": "code",
   "execution_count": 42,
   "id": "4477340b",
   "metadata": {},
   "outputs": [],
   "source": [
    "# Model & Optimizer\n",
    "model = ParticipantClassifier('distilbert-base-cased')\n",
    "# , eps=1e-8 eps: a very small number to prevent any division by zero\n",
    "# , weight_decay = WEIGHT_DECAY --> did not help\n",
    "optimizer = AdamW(model.parameters(), lr=LEARNING_RATE) \n",
    "\n",
    "loss_function = nn.BCEWithLogitsLoss()"
   ]
  },
  {
   "cell_type": "code",
   "execution_count": 43,
   "id": "909c4630",
   "metadata": {},
   "outputs": [],
   "source": [
    "model = model.to(device)"
   ]
  },
  {
   "cell_type": "code",
   "execution_count": 44,
   "id": "3ba6d60b",
   "metadata": {},
   "outputs": [
    {
     "data": {
      "text/plain": [
       "device(type='cpu')"
      ]
     },
     "execution_count": 44,
     "metadata": {},
     "output_type": "execute_result"
    }
   ],
   "source": [
    "device"
   ]
  },
  {
   "cell_type": "code",
   "execution_count": 45,
   "id": "eb15c9f4",
   "metadata": {},
   "outputs": [
    {
     "data": {
      "text/plain": [
       "8"
      ]
     },
     "execution_count": 45,
     "metadata": {},
     "output_type": "execute_result"
    }
   ],
   "source": [
    "train_dataloader.batch_size"
   ]
  },
  {
   "cell_type": "code",
   "execution_count": 46,
   "id": "2fba566e",
   "metadata": {},
   "outputs": [
    {
     "name": "stdout",
     "output_type": "stream",
     "text": [
      "The BERT model has 102 different named parameters.\n",
      "\n",
      "==== Embedding Layer ====\n",
      "\n",
      "bert.embeddings.word_embeddings.weight                  (28996, 768)\n",
      "bert.embeddings.position_embeddings.weight                (512, 768)\n",
      "bert.embeddings.LayerNorm.weight                              (768,)\n",
      "bert.embeddings.LayerNorm.bias                                (768,)\n",
      "bert.transformer.layer.0.attention.q_lin.weight           (768, 768)\n",
      "\n",
      "==== First Transformer ====\n",
      "\n",
      "bert.transformer.layer.0.attention.q_lin.bias                 (768,)\n",
      "bert.transformer.layer.0.attention.k_lin.weight           (768, 768)\n",
      "bert.transformer.layer.0.attention.k_lin.bias                 (768,)\n",
      "bert.transformer.layer.0.attention.v_lin.weight           (768, 768)\n",
      "bert.transformer.layer.0.attention.v_lin.bias                 (768,)\n",
      "bert.transformer.layer.0.attention.out_lin.weight         (768, 768)\n",
      "bert.transformer.layer.0.attention.out_lin.bias               (768,)\n",
      "bert.transformer.layer.0.sa_layer_norm.weight                 (768,)\n",
      "bert.transformer.layer.0.sa_layer_norm.bias                   (768,)\n",
      "bert.transformer.layer.0.ffn.lin1.weight                 (3072, 768)\n",
      "bert.transformer.layer.0.ffn.lin1.bias                       (3072,)\n",
      "bert.transformer.layer.0.ffn.lin2.weight                 (768, 3072)\n",
      "bert.transformer.layer.0.ffn.lin2.bias                        (768,)\n",
      "bert.transformer.layer.0.output_layer_norm.weight             (768,)\n",
      "bert.transformer.layer.0.output_layer_norm.bias               (768,)\n",
      "bert.transformer.layer.1.attention.q_lin.weight           (768, 768)\n",
      "\n",
      "==== Output Layer ====\n",
      "\n",
      "bert.transformer.layer.5.output_layer_norm.weight             (768,)\n",
      "bert.transformer.layer.5.output_layer_norm.bias               (768,)\n",
      "classifier.weight                                           (2, 768)\n",
      "classifier.bias                                                 (2,)\n"
     ]
    }
   ],
   "source": [
    "# Get all of the model's parameters as a list of tuples.\n",
    "params = list(model.named_parameters())\n",
    "print('The BERT model has {:} different named parameters.\\n'.format(len(params)))\n",
    "print('==== Embedding Layer ====\\n')\n",
    "for p in params[0:5]:\n",
    "    print(\"{:<55} {:>12}\".format(p[0], str(tuple(p[1].size()))))\n",
    "print('\\n==== First Transformer ====\\n')\n",
    "for p in params[5:21]:    \n",
    "    print(\"{:<55} {:>12}\".format(p[0], str(tuple(p[1].size()))))\n",
    "print('\\n==== Output Layer ====\\n')\n",
    "for p in params[-4:]:    \n",
    "    print(\"{:<55} {:>12}\".format(p[0], str(tuple(p[1].size()))))"
   ]
  },
  {
   "cell_type": "code",
   "execution_count": 47,
   "id": "994beddc",
   "metadata": {},
   "outputs": [],
   "source": [
    "#@todo check oov words"
   ]
  },
  {
   "cell_type": "code",
   "execution_count": 48,
   "id": "3475a672",
   "metadata": {},
   "outputs": [],
   "source": [
    "#os.environ['PYTORCH_CUDA_ALLOC_CONF'] = 'max_split_size_mb=128'"
   ]
  },
  {
   "cell_type": "code",
   "execution_count": 49,
   "id": "c13b6c77",
   "metadata": {},
   "outputs": [
    {
     "ename": "KeyError",
     "evalue": "'allocated_bytes.all.current'",
     "output_type": "error",
     "traceback": [
      "\u001b[0;31m---------------------------------------------------------------------------\u001b[0m",
      "\u001b[0;31mKeyError\u001b[0m                                  Traceback (most recent call last)",
      "Cell \u001b[0;32mIn[49], line 2\u001b[0m\n\u001b[1;32m      1\u001b[0m \u001b[38;5;66;03m#gives a readable summary of memory allocation and allows to figure the reason of CUDA running out of memory\u001b[39;00m\n\u001b[0;32m----> 2\u001b[0m \u001b[38;5;28mprint\u001b[39m(\u001b[43mtorch\u001b[49m\u001b[38;5;241;43m.\u001b[39;49m\u001b[43mcuda\u001b[49m\u001b[38;5;241;43m.\u001b[39;49m\u001b[43mmemory_summary\u001b[49m\u001b[43m(\u001b[49m\u001b[43mdevice\u001b[49m\u001b[38;5;241;43m=\u001b[39;49m\u001b[38;5;28;43;01mNone\u001b[39;49;00m\u001b[43m,\u001b[49m\u001b[43m \u001b[49m\u001b[43mabbreviated\u001b[49m\u001b[38;5;241;43m=\u001b[39;49m\u001b[38;5;28;43;01mFalse\u001b[39;49;00m\u001b[43m)\u001b[49m)\n",
      "File \u001b[0;32m~/.local/lib/python3.10/site-packages/torch/cuda/memory.py:557\u001b[0m, in \u001b[0;36mmemory_summary\u001b[0;34m(device, abbreviated)\u001b[0m\n\u001b[1;32m    554\u001b[0m \u001b[38;5;28;01mfor\u001b[39;00m submetric_key, submetric_name \u001b[38;5;129;01min\u001b[39;00m submetrics:\n\u001b[1;32m    555\u001b[0m     prefix \u001b[38;5;241m=\u001b[39m metric_key \u001b[38;5;241m+\u001b[39m \u001b[38;5;124m\"\u001b[39m\u001b[38;5;124m.\u001b[39m\u001b[38;5;124m\"\u001b[39m \u001b[38;5;241m+\u001b[39m submetric_key \u001b[38;5;241m+\u001b[39m \u001b[38;5;124m\"\u001b[39m\u001b[38;5;124m.\u001b[39m\u001b[38;5;124m\"\u001b[39m\n\u001b[0;32m--> 557\u001b[0m     current \u001b[38;5;241m=\u001b[39m \u001b[43mstats\u001b[49m\u001b[43m[\u001b[49m\u001b[43mprefix\u001b[49m\u001b[43m \u001b[49m\u001b[38;5;241;43m+\u001b[39;49m\u001b[43m \u001b[49m\u001b[38;5;124;43m\"\u001b[39;49m\u001b[38;5;124;43mcurrent\u001b[39;49m\u001b[38;5;124;43m\"\u001b[39;49m\u001b[43m]\u001b[49m\n\u001b[1;32m    558\u001b[0m     peak \u001b[38;5;241m=\u001b[39m stats[prefix \u001b[38;5;241m+\u001b[39m \u001b[38;5;124m\"\u001b[39m\u001b[38;5;124mpeak\u001b[39m\u001b[38;5;124m\"\u001b[39m]\n\u001b[1;32m    559\u001b[0m     allocated \u001b[38;5;241m=\u001b[39m stats[prefix \u001b[38;5;241m+\u001b[39m \u001b[38;5;124m\"\u001b[39m\u001b[38;5;124mallocated\u001b[39m\u001b[38;5;124m\"\u001b[39m]\n",
      "\u001b[0;31mKeyError\u001b[0m: 'allocated_bytes.all.current'"
     ]
    }
   ],
   "source": [
    "#gives a readable summary of memory allocation and allows to figure the reason of CUDA running out of memory\n",
    "print(torch.cuda.memory_summary(device=None, abbreviated=False))"
   ]
  },
  {
   "cell_type": "code",
   "execution_count": 50,
   "id": "f188924b",
   "metadata": {},
   "outputs": [
    {
     "name": "stderr",
     "output_type": "stream",
     "text": [
      "Token indices sequence length is longer than the specified maximum sequence length for this model (829 > 512). Running this sequence through the model will result in indexing errors\n"
     ]
    },
    {
     "name": "stdout",
     "output_type": "stream",
     "text": [
      "epoch ===  0\n",
      "Training ***\n",
      "1  batch ...\n"
     ]
    },
    {
     "ename": "IndexError",
     "evalue": "tuple index out of range",
     "output_type": "error",
     "traceback": [
      "\u001b[0;31m---------------------------------------------------------------------------\u001b[0m",
      "\u001b[0;31mIndexError\u001b[0m                                Traceback (most recent call last)",
      "Cell \u001b[0;32mIn[50], line 19\u001b[0m\n\u001b[1;32m     16\u001b[0m \u001b[38;5;28mprint\u001b[39m(\u001b[38;5;124m'\u001b[39m\u001b[38;5;124mepoch === \u001b[39m\u001b[38;5;124m'\u001b[39m, epoch)\n\u001b[1;32m     18\u001b[0m \u001b[38;5;28mprint\u001b[39m(\u001b[38;5;124m'\u001b[39m\u001b[38;5;124mTraining ***\u001b[39m\u001b[38;5;124m'\u001b[39m)\n\u001b[0;32m---> 19\u001b[0m avg_train_loss_a, avg_train_loss_b, train_accuracy_a, train_accuracy_b \u001b[38;5;241m=\u001b[39m \u001b[43mtrain_model\u001b[49m\u001b[43m(\u001b[49m\u001b[43mmodel\u001b[49m\u001b[43m,\u001b[49m\u001b[43m \u001b[49m\u001b[43mtrain_dataloader\u001b[49m\u001b[43m,\u001b[49m\u001b[43m \u001b[49m\u001b[43mdevice\u001b[49m\u001b[43m)\u001b[49m\n\u001b[1;32m     20\u001b[0m \u001b[38;5;28mprint\u001b[39m(\u001b[38;5;124mf\u001b[39m\u001b[38;5;124m'\u001b[39m\u001b[38;5;124mTraining Loss after epoch \u001b[39m\u001b[38;5;132;01m{\u001b[39;00mepoch\u001b[38;5;132;01m}\u001b[39;00m\u001b[38;5;124m: A : \u001b[39m\u001b[38;5;132;01m{\u001b[39;00mavg_train_loss_a\u001b[38;5;132;01m}\u001b[39;00m\u001b[38;5;124m B: \u001b[39m\u001b[38;5;132;01m{\u001b[39;00mavg_train_loss_b\u001b[38;5;132;01m}\u001b[39;00m\u001b[38;5;124m'\u001b[39m)\n\u001b[1;32m     21\u001b[0m \u001b[38;5;28mprint\u001b[39m(\u001b[38;5;124mf\u001b[39m\u001b[38;5;124m'\u001b[39m\u001b[38;5;124mTraining Accuracy after epoch \u001b[39m\u001b[38;5;132;01m{\u001b[39;00mepoch\u001b[38;5;132;01m}\u001b[39;00m\u001b[38;5;124m: A : \u001b[39m\u001b[38;5;132;01m{\u001b[39;00mtrain_accuracy_a\u001b[38;5;132;01m}\u001b[39;00m\u001b[38;5;124m B: \u001b[39m\u001b[38;5;132;01m{\u001b[39;00mtrain_accuracy_b\u001b[38;5;132;01m}\u001b[39;00m\u001b[38;5;124m'\u001b[39m)\n",
      "Cell \u001b[0;32mIn[40], line 4\u001b[0m, in \u001b[0;36mtrain_model\u001b[0;34m(model, dataloader, device)\u001b[0m\n\u001b[1;32m      2\u001b[0m accumulation_steps \u001b[38;5;241m=\u001b[39m OPTIMIZATION_STEPS  \u001b[38;5;66;03m# should be adjust to  fit within avaialable memory limits\u001b[39;00m\n\u001b[1;32m      3\u001b[0m model\u001b[38;5;241m.\u001b[39mtrain()  \u001b[38;5;66;03m# set the model to training mode\u001b[39;00m\n\u001b[0;32m----> 4\u001b[0m avg_loss_a, avg_loss_b, accuracy_a, accuracy_b \u001b[38;5;241m=\u001b[39m \u001b[43mprocess_dataloader\u001b[49m\u001b[43m(\u001b[49m\u001b[43mmodel\u001b[49m\u001b[43m,\u001b[49m\u001b[43m \u001b[49m\u001b[43mdataloader\u001b[49m\u001b[43m,\u001b[49m\u001b[43m \u001b[49m\u001b[43mdevice\u001b[49m\u001b[43m,\u001b[49m\u001b[38;5;124;43m'\u001b[39;49m\u001b[38;5;124;43mtrain\u001b[39;49m\u001b[38;5;124;43m'\u001b[39;49m\u001b[43m,\u001b[49m\u001b[43m \u001b[49m\u001b[43maccumulation_steps\u001b[49m\u001b[43m)\u001b[49m  \n\u001b[1;32m      5\u001b[0m \u001b[38;5;28;01mreturn\u001b[39;00m  avg_loss_a, avg_loss_b, accuracy_a, accuracy_b\n",
      "Cell \u001b[0;32mIn[39], line 45\u001b[0m, in \u001b[0;36mprocess_dataloader\u001b[0;34m(model, dataloader, device, step, accumulation_steps)\u001b[0m\n\u001b[1;32m     43\u001b[0m model\u001b[38;5;241m.\u001b[39mzero_grad()\n\u001b[1;32m     44\u001b[0m \u001b[38;5;66;03m# forward pass for this segment\u001b[39;00m\n\u001b[0;32m---> 45\u001b[0m logits_a, logits_b \u001b[38;5;241m=\u001b[39m \u001b[43mmodel\u001b[49m\u001b[43m(\u001b[49m\u001b[43minput_ids\u001b[49m\u001b[38;5;241;43m.\u001b[39;49m\u001b[43munsqueeze\u001b[49m\u001b[43m(\u001b[49m\u001b[38;5;241;43m0\u001b[39;49m\u001b[43m)\u001b[49m\u001b[43m,\u001b[49m\u001b[43m \u001b[49m\u001b[43mattention_mask\u001b[49m\u001b[38;5;241;43m.\u001b[39;49m\u001b[43munsqueeze\u001b[49m\u001b[43m(\u001b[49m\u001b[38;5;241;43m0\u001b[39;49m\u001b[43m)\u001b[49m\u001b[43m)\u001b[49m\n\u001b[1;32m     46\u001b[0m gc_colloctor(input_ids, attention_mask )\n\u001b[1;32m     47\u001b[0m \u001b[38;5;66;03m#print('Model output:', logits_a, logits_b)\u001b[39;00m\n",
      "File \u001b[0;32m~/.local/lib/python3.10/site-packages/torch/nn/modules/module.py:1518\u001b[0m, in \u001b[0;36mModule._wrapped_call_impl\u001b[0;34m(self, *args, **kwargs)\u001b[0m\n\u001b[1;32m   1516\u001b[0m     \u001b[38;5;28;01mreturn\u001b[39;00m \u001b[38;5;28mself\u001b[39m\u001b[38;5;241m.\u001b[39m_compiled_call_impl(\u001b[38;5;241m*\u001b[39margs, \u001b[38;5;241m*\u001b[39m\u001b[38;5;241m*\u001b[39mkwargs)  \u001b[38;5;66;03m# type: ignore[misc]\u001b[39;00m\n\u001b[1;32m   1517\u001b[0m \u001b[38;5;28;01melse\u001b[39;00m:\n\u001b[0;32m-> 1518\u001b[0m     \u001b[38;5;28;01mreturn\u001b[39;00m \u001b[38;5;28;43mself\u001b[39;49m\u001b[38;5;241;43m.\u001b[39;49m\u001b[43m_call_impl\u001b[49m\u001b[43m(\u001b[49m\u001b[38;5;241;43m*\u001b[39;49m\u001b[43margs\u001b[49m\u001b[43m,\u001b[49m\u001b[43m \u001b[49m\u001b[38;5;241;43m*\u001b[39;49m\u001b[38;5;241;43m*\u001b[39;49m\u001b[43mkwargs\u001b[49m\u001b[43m)\u001b[49m\n",
      "File \u001b[0;32m~/.local/lib/python3.10/site-packages/torch/nn/modules/module.py:1527\u001b[0m, in \u001b[0;36mModule._call_impl\u001b[0;34m(self, *args, **kwargs)\u001b[0m\n\u001b[1;32m   1522\u001b[0m \u001b[38;5;66;03m# If we don't have any hooks, we want to skip the rest of the logic in\u001b[39;00m\n\u001b[1;32m   1523\u001b[0m \u001b[38;5;66;03m# this function, and just call forward.\u001b[39;00m\n\u001b[1;32m   1524\u001b[0m \u001b[38;5;28;01mif\u001b[39;00m \u001b[38;5;129;01mnot\u001b[39;00m (\u001b[38;5;28mself\u001b[39m\u001b[38;5;241m.\u001b[39m_backward_hooks \u001b[38;5;129;01mor\u001b[39;00m \u001b[38;5;28mself\u001b[39m\u001b[38;5;241m.\u001b[39m_backward_pre_hooks \u001b[38;5;129;01mor\u001b[39;00m \u001b[38;5;28mself\u001b[39m\u001b[38;5;241m.\u001b[39m_forward_hooks \u001b[38;5;129;01mor\u001b[39;00m \u001b[38;5;28mself\u001b[39m\u001b[38;5;241m.\u001b[39m_forward_pre_hooks\n\u001b[1;32m   1525\u001b[0m         \u001b[38;5;129;01mor\u001b[39;00m _global_backward_pre_hooks \u001b[38;5;129;01mor\u001b[39;00m _global_backward_hooks\n\u001b[1;32m   1526\u001b[0m         \u001b[38;5;129;01mor\u001b[39;00m _global_forward_hooks \u001b[38;5;129;01mor\u001b[39;00m _global_forward_pre_hooks):\n\u001b[0;32m-> 1527\u001b[0m     \u001b[38;5;28;01mreturn\u001b[39;00m \u001b[43mforward_call\u001b[49m\u001b[43m(\u001b[49m\u001b[38;5;241;43m*\u001b[39;49m\u001b[43margs\u001b[49m\u001b[43m,\u001b[49m\u001b[43m \u001b[49m\u001b[38;5;241;43m*\u001b[39;49m\u001b[38;5;241;43m*\u001b[39;49m\u001b[43mkwargs\u001b[49m\u001b[43m)\u001b[49m\n\u001b[1;32m   1529\u001b[0m \u001b[38;5;28;01mtry\u001b[39;00m:\n\u001b[1;32m   1530\u001b[0m     result \u001b[38;5;241m=\u001b[39m \u001b[38;5;28;01mNone\u001b[39;00m\n",
      "Cell \u001b[0;32mIn[21], line 16\u001b[0m, in \u001b[0;36mParticipantClassifier.forward\u001b[0;34m(self, input_ids, attention_mask)\u001b[0m\n\u001b[1;32m     13\u001b[0m \u001b[38;5;28;01mdef\u001b[39;00m \u001b[38;5;21mforward\u001b[39m(\u001b[38;5;28mself\u001b[39m, input_ids, attention_mask):\n\u001b[1;32m     14\u001b[0m     \u001b[38;5;66;03m# pass the input to the model\u001b[39;00m\n\u001b[1;32m     15\u001b[0m     outputs \u001b[38;5;241m=\u001b[39m \u001b[38;5;28mself\u001b[39m\u001b[38;5;241m.\u001b[39mbert(input_ids\u001b[38;5;241m=\u001b[39minput_ids, attention_mask\u001b[38;5;241m=\u001b[39mattention_mask)\n\u001b[0;32m---> 16\u001b[0m     pooled_output \u001b[38;5;241m=\u001b[39m \u001b[43moutputs\u001b[49m\u001b[43m[\u001b[49m\u001b[38;5;241;43m1\u001b[39;49m\u001b[43m]\u001b[49m  \u001b[38;5;66;03m# [CLS] token representation\u001b[39;00m\n\u001b[1;32m     17\u001b[0m     \u001b[38;5;66;03m#dropout layer\u001b[39;00m\n\u001b[1;32m     18\u001b[0m     \u001b[38;5;66;03m#pooled_output = self.dropout(pooled_output)\u001b[39;00m\n\u001b[1;32m     19\u001b[0m     logits \u001b[38;5;241m=\u001b[39m \u001b[38;5;28mself\u001b[39m\u001b[38;5;241m.\u001b[39mclassifier(pooled_output)\n",
      "File \u001b[0;32m~/.local/lib/python3.10/site-packages/transformers/utils/generic.py:403\u001b[0m, in \u001b[0;36mModelOutput.__getitem__\u001b[0;34m(self, k)\u001b[0m\n\u001b[1;32m    401\u001b[0m     \u001b[38;5;28;01mreturn\u001b[39;00m inner_dict[k]\n\u001b[1;32m    402\u001b[0m \u001b[38;5;28;01melse\u001b[39;00m:\n\u001b[0;32m--> 403\u001b[0m     \u001b[38;5;28;01mreturn\u001b[39;00m \u001b[38;5;28;43mself\u001b[39;49m\u001b[38;5;241;43m.\u001b[39;49m\u001b[43mto_tuple\u001b[49m\u001b[43m(\u001b[49m\u001b[43m)\u001b[49m\u001b[43m[\u001b[49m\u001b[43mk\u001b[49m\u001b[43m]\u001b[49m\n",
      "\u001b[0;31mIndexError\u001b[0m: tuple index out of range"
     ]
    }
   ],
   "source": [
    "epochs = EPOCHS # 3 epochs?\n",
    "test_metrics = []\n",
    "\n",
    "validation_loss_a = []\n",
    "validation_loss_b = []\n",
    "validation_accuracy_a = []\n",
    "validation_accuracy_b = []\n",
    "\n",
    "train_loss_a = []\n",
    "train_loss_b = []\n",
    "training_accuracy_a = []\n",
    "training_accuracy_b = []\n",
    "\n",
    "for epoch in range(epochs):  \n",
    "    \n",
    "    print('epoch === ', epoch)\n",
    "    \n",
    "    print('Training ***')\n",
    "    avg_train_loss_a, avg_train_loss_b, train_accuracy_a, train_accuracy_b = train_model(model, train_dataloader, device)\n",
    "    print(f'Training Loss after epoch {epoch}: A : {avg_train_loss_a} B: {avg_train_loss_b}')\n",
    "    print(f'Training Accuracy after epoch {epoch}: A : {train_accuracy_a} B: {train_accuracy_b}')\n",
    "    train_loss_a.append(avg_train_loss_a)\n",
    "    train_loss_b.append(avg_train_loss_b)\n",
    "    training_accuracy_a.append(train_accuracy_a)\n",
    "    training_accuracy_b.append(train_accuracy_b)\n",
    "    \n",
    "    print('Validation ***')\n",
    "    avg_val_loss_a, avg_val_loss_b, val_accuracy_a, val_accuracy_b = evaluate_model(model, val_dataloader, device)\n",
    "    print(f'Validation Loss after epoch {epoch}: A : {avg_val_loss_a} B: {avg_val_loss_b}')\n",
    "    print(f'Validation Accuracy after epoch {epoch}: A : {val_accuracy_a} B: {val_accuracy_b}')\n",
    "    validation_loss_a.append(avg_val_loss_a)\n",
    "    validation_loss_b.append(avg_val_loss_b)\n",
    "    validation_accuracy_a.append(val_accuracy_a)\n",
    "    validation_accuracy_b.append(val_accuracy_b)"
   ]
  },
  {
   "cell_type": "code",
   "execution_count": null,
   "id": "af67305f",
   "metadata": {},
   "outputs": [],
   "source": [
    "print('Test ***')\n",
    "test_metrics = compute_metrics(model, test_dataloader, device)\n",
    "print(test_metrics)"
   ]
  },
  {
   "cell_type": "code",
   "execution_count": null,
   "id": "586683e6",
   "metadata": {},
   "outputs": [],
   "source": [
    "#gives a readable summary of memory allocation and allows to figure the reason of CUDA running out of memory\n",
    "print(torch.cuda.memory_summary(device=None, abbreviated=False))"
   ]
  },
  {
   "cell_type": "code",
   "execution_count": null,
   "id": "93dac40c",
   "metadata": {},
   "outputs": [],
   "source": [
    "plt.rcParams.update({'font.size': 14})\n",
    "plt.figure(figsize=(12, 6))\n",
    "\n",
    "plt.subplot(1, 2, 1)\n",
    "plt.plot(range(epochs), training_accuracy_a, label='Train Accuracy A')\n",
    "plt.plot(range(epochs), validation_accuracy_a, label='Validation Accuracy A')\n",
    "plt.xlabel('Epoch', fontsize=14)  \n",
    "plt.ylabel('Accuracy', fontsize=14)\n",
    "plt.title(f'Training and Validation Accuracy for A', fontsize=16)\n",
    "plt.legend(fontsize=14)\n",
    "\n",
    "plt.subplot(1, 2, 2)\n",
    "plt.plot(range(epochs), train_loss_a, label='Training Loss A')\n",
    "plt.plot(range(epochs), validation_loss_b, label='Validation Loss A')\n",
    "plt.xlabel('Epoch', fontsize=14)  \n",
    "plt.ylabel('Loss', fontsize=14)\n",
    "plt.title(f'Training and Validation Loss for A', fontsize=16)\n",
    "plt.legend(fontsize=14)\n",
    "\n",
    "plt.tight_layout()\n",
    "\n",
    "# Save the plot as an image\n",
    "plt.savefig('accuracy_and_loss_plot_A.png', dpi=300, bbox_inches='tight')\n",
    "# Show the plot\n",
    "plt.show()\n",
    "\n",
    "#############\n",
    "plt.rcParams.update({'font.size': 14})\n",
    "plt.figure(figsize=(12, 6))\n",
    "\n",
    "plt.subplot(1, 2, 1)\n",
    "plt.plot(range(epochs), training_accuracy_b, label='Train Accuracy B')\n",
    "plt.plot(range(epochs), validation_accuracy_b, label='Validation Accuracy B')\n",
    "plt.xlabel('Epoch', fontsize=14)  \n",
    "plt.ylabel('Accuracy', fontsize=14)\n",
    "plt.title(f'Training and Validation Accuracy for B', fontsize=16)\n",
    "plt.legend(fontsize=14)\n",
    "\n",
    "plt.subplot(1, 2, 2)\n",
    "plt.plot(range(epochs), train_loss_b, label='Training Loss B')\n",
    "plt.plot(range(epochs), validation_loss_b, label='Validation Loss B')\n",
    "plt.xlabel('Epoch', fontsize=14)  \n",
    "plt.ylabel('Loss', fontsize=14)\n",
    "plt.title(f'Training and Validation Loss for B', fontsize=16)\n",
    "plt.legend(fontsize=14)\n",
    "\n",
    "plt.tight_layout()\n",
    "\n",
    "# Save the plot as an image\n",
    "plt.savefig('accuracy_and_loss_plot_B.png', dpi=300, bbox_inches='tight')\n",
    "# Show the plot\n",
    "plt.show()"
   ]
  },
  {
   "cell_type": "markdown",
   "id": "5e02267b",
   "metadata": {},
   "source": [
    "sharp changes, especially in the validation metrics:\n",
    "\n",
    "+ small validation set -- no\n",
    "+ small batch size\n",
    "+ big learning rate -- no\n",
    "+ noise in data"
   ]
  },
  {
   "cell_type": "markdown",
   "id": "19f38fbf",
   "metadata": {},
   "source": [
    "---\n",
    "#### To do list:\n",
    "\n",
    "2. Improve chunking tokens --> chunck tokens bsed on each turn in the conversation and include prevouse and later turns for each chunck\n",
    "3. improve model performance + plot the results   \n",
    "4. Try other models(DistilBERT, ALBERT, RoBerta)\n",
    "5. Evaluate model on diplomacy dataset\n",
    "\n"
   ]
  }
 ],
 "metadata": {
  "kernelspec": {
   "display_name": "Python 3 (ipykernel)",
   "language": "python",
   "name": "python3"
  },
  "language_info": {
   "codemirror_mode": {
    "name": "ipython",
    "version": 3
   },
   "file_extension": ".py",
   "mimetype": "text/x-python",
   "name": "python",
   "nbconvert_exporter": "python",
   "pygments_lexer": "ipython3",
   "version": "3.10.10"
  }
 },
 "nbformat": 4,
 "nbformat_minor": 5
}
