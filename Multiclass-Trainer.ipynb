{
 "cells": [
  {
   "cell_type": "code",
   "execution_count": 1,
   "id": "4100183c",
   "metadata": {},
   "outputs": [],
   "source": [
    "#!pip install ydata-profiling demoji nltk scikit-learn gensim  textblob spacy textstat transformers torch seaborn"
   ]
  },
  {
   "cell_type": "code",
   "execution_count": 2,
   "id": "bbe5d43d",
   "metadata": {},
   "outputs": [],
   "source": [
    "import requests, os\n",
    "import pandas as pd\n",
    "import numpy as np\n",
    "import matplotlib.pyplot as plt\n",
    "import seaborn as sns\n",
    "import re\n",
    "#torch\n",
    "import torch\n",
    "import torch.nn as nn\n",
    "import torch.nn.functional as F\n",
    "import torch.optim as optim\n",
    "# classification\n",
    "from sklearn.model_selection import train_test_split\n",
    "from torch.utils.data import Dataset, DataLoader\n",
    "from transformers import BertModel, BertForSequenceClassification\n",
    "from sklearn.metrics import accuracy_score, f1_score\n",
    "from transformers import BertTokenizer, AdamW\n",
    "from transformers import AutoModel,AutoModelForSequenceClassification, AutoTokenizer, Trainer, TrainingArguments\n",
    "from sklearn.metrics import accuracy_score\n",
    "\n",
    "from torch.nn.utils.rnn import pad_sequence\n",
    "import gc\n",
    "\n",
    "import warnings\n",
    "warnings.filterwarnings('ignore')\n",
    "\n",
    "%matplotlib inline"
   ]
  },
  {
   "cell_type": "code",
   "execution_count": 3,
   "id": "f918d401",
   "metadata": {
    "scrolled": true
   },
   "outputs": [
    {
     "data": {
      "text/html": [
       "<div>\n",
       "<style scoped>\n",
       "    .dataframe tbody tr th:only-of-type {\n",
       "        vertical-align: middle;\n",
       "    }\n",
       "\n",
       "    .dataframe tbody tr th {\n",
       "        vertical-align: top;\n",
       "    }\n",
       "\n",
       "    .dataframe thead th {\n",
       "        text-align: right;\n",
       "    }\n",
       "</style>\n",
       "<table border=\"1\" class=\"dataframe\">\n",
       "  <thead>\n",
       "    <tr style=\"text-align: right;\">\n",
       "      <th></th>\n",
       "      <th>category</th>\n",
       "      <th>conversation</th>\n",
       "      <th>word_count</th>\n",
       "      <th>A_bad_intent</th>\n",
       "      <th>B_bad_intent</th>\n",
       "      <th>description</th>\n",
       "      <th>topic</th>\n",
       "    </tr>\n",
       "  </thead>\n",
       "  <tbody>\n",
       "    <tr>\n",
       "      <th>0</th>\n",
       "      <td>first participant in conversation is deceiving...</td>\n",
       "      <td>A: Hey, I have something really important to t...</td>\n",
       "      <td>437</td>\n",
       "      <td>1.0</td>\n",
       "      <td>0.0</td>\n",
       "      <td>NaN</td>\n",
       "      <td>NaN</td>\n",
       "    </tr>\n",
       "    <tr>\n",
       "      <th>1</th>\n",
       "      <td>second participant in conversation is deceivin...</td>\n",
       "      <td>A: Hey Sarah, I heard you recently went on a t...</td>\n",
       "      <td>368</td>\n",
       "      <td>0.0</td>\n",
       "      <td>1.0</td>\n",
       "      <td>NaN</td>\n",
       "      <td>NaN</td>\n",
       "    </tr>\n",
       "  </tbody>\n",
       "</table>\n",
       "</div>"
      ],
      "text/plain": [
       "                                            category  \\\n",
       "0  first participant in conversation is deceiving...   \n",
       "1  second participant in conversation is deceivin...   \n",
       "\n",
       "                                        conversation  word_count  \\\n",
       "0  A: Hey, I have something really important to t...         437   \n",
       "1  A: Hey Sarah, I heard you recently went on a t...         368   \n",
       "\n",
       "   A_bad_intent  B_bad_intent description topic  \n",
       "0           1.0           0.0         NaN   NaN  \n",
       "1           0.0           1.0         NaN   NaN  "
      ]
     },
     "execution_count": 3,
     "metadata": {},
     "output_type": "execute_result"
    }
   ],
   "source": [
    "df= pd.read_csv('conversation_dataset.csv')\n",
    "df.head(2)"
   ]
  },
  {
   "cell_type": "code",
   "execution_count": 4,
   "id": "3c1981cf",
   "metadata": {},
   "outputs": [],
   "source": [
    "def add_sep_token(conversation):\n",
    "    token = '[SEP]' # the seperator token for BERT\n",
    "    # split the conversation into turns using line breaks as delimiters\n",
    "    turns = conversation.split('\\n\\n')\n",
    "    turns_with_sep = [turn + token for turn in turns]\n",
    "    return '[CLS]' + ''.join(turns_with_sep)\n",
    " \n",
    "df['conversation'] = df['conversation'].apply(add_sep_token)"
   ]
  },
  {
   "cell_type": "code",
   "execution_count": 5,
   "id": "cd523135",
   "metadata": {},
   "outputs": [
    {
     "data": {
      "text/plain": [
       "\"[CLS]A: Hey, I have something really important to tell you.[SEP]B: Sure, what's up?[SEP]A: You know that job opportunity I told you about last month? Well, I got it![SEP]B: Wow, that's amazing news! Congratulations![SEP]A: Thank you! I knew you'd be happy for me. B:ut here's the thing, the company wants me to relocate to another city for this position.[SEP]B: Oh, really? That's a big change. Are you considering it?[SEP]A: Well, I've been thinking about it, but I'm not entirely sure yet. There are a few things to consider, like the cost of living and leaving my family behind.[SEP]B: Of course, those are valid concerns. B:ut if it's a great opportunity, maybe it's worth taking the risk?[SEP]A: That's true, but I've been doing some research, and it seems like the company has a lot of internal issues. I'm starting to doubt if it's the right move for me.[SEP]B: Oh, really? That's concerning. What kind of issues are you talking about?[SEP]A: Well, I've heard rumors that they have financial problems and might even be facing bankruptcy. It's making me question their stability.[SEP]B: That does sound risky. Have you tried reaching out to anyone who works there to get more information?[SEP]A: Yes, I've been trying to get in touch with some employees, but surprisingly, they aren't responding to my inquiries. It's making me even more suspicious.[SEP]B: That's strange. Maybe they're just busy or maybe the rumors are true. It's hard to say without concrete information.[SEP]A: Yeah, exactly. I'm really torn about what to do. On one hand, it could be a great opportunity, but on the other hand, all these red flags are adding up.[SEP]B: I completely understand your dilemma. It's a tough decision to make. Maybe you could give it some more time and gather more information before making a final choice?[SEP]A: You're right, I need to be cautious. I'll continue researching and see if I can dig up any concrete evidence to support or debunk these rumors.[SEP]B: That sounds like a smart plan. Trust your instincts and make sure you have all the facts before committing to anything.[SEP]A: Thanks for understanding and giving me your advice. I really appreciate it.[SEP]B: Of course, anytime! I'm here to support you no matter what decision you make. Just remember to prioritize your own well-being and happiness.[SEP]A:[SEP]\""
      ]
     },
     "execution_count": 5,
     "metadata": {},
     "output_type": "execute_result"
    }
   ],
   "source": [
    "df.loc[0]['conversation']"
   ]
  },
  {
   "cell_type": "code",
   "execution_count": 6,
   "id": "56035e09",
   "metadata": {},
   "outputs": [
    {
     "data": {
      "text/html": [
       "<div>\n",
       "<style scoped>\n",
       "    .dataframe tbody tr th:only-of-type {\n",
       "        vertical-align: middle;\n",
       "    }\n",
       "\n",
       "    .dataframe tbody tr th {\n",
       "        vertical-align: top;\n",
       "    }\n",
       "\n",
       "    .dataframe thead th {\n",
       "        text-align: right;\n",
       "    }\n",
       "</style>\n",
       "<table border=\"1\" class=\"dataframe\">\n",
       "  <thead>\n",
       "    <tr style=\"text-align: right;\">\n",
       "      <th></th>\n",
       "      <th>category</th>\n",
       "      <th>conversation</th>\n",
       "      <th>word_count</th>\n",
       "      <th>A_bad_intent</th>\n",
       "      <th>B_bad_intent</th>\n",
       "      <th>description</th>\n",
       "      <th>topic</th>\n",
       "    </tr>\n",
       "  </thead>\n",
       "  <tbody>\n",
       "    <tr>\n",
       "      <th>0</th>\n",
       "      <td>first participant in conversation is deceiving...</td>\n",
       "      <td>[CLS]A: Hey, I have something really important...</td>\n",
       "      <td>437</td>\n",
       "      <td>1.0</td>\n",
       "      <td>0.0</td>\n",
       "      <td>NaN</td>\n",
       "      <td>NaN</td>\n",
       "    </tr>\n",
       "    <tr>\n",
       "      <th>1</th>\n",
       "      <td>second participant in conversation is deceivin...</td>\n",
       "      <td>[CLS]A: Hey Sarah, I heard you recently went o...</td>\n",
       "      <td>368</td>\n",
       "      <td>0.0</td>\n",
       "      <td>1.0</td>\n",
       "      <td>NaN</td>\n",
       "      <td>NaN</td>\n",
       "    </tr>\n",
       "    <tr>\n",
       "      <th>2</th>\n",
       "      <td>both participants in conversation are deceivin...</td>\n",
       "      <td>[CLS]A: Hey, how have you been? It's been a wh...</td>\n",
       "      <td>400</td>\n",
       "      <td>1.0</td>\n",
       "      <td>1.0</td>\n",
       "      <td>NaN</td>\n",
       "      <td>NaN</td>\n",
       "    </tr>\n",
       "    <tr>\n",
       "      <th>3</th>\n",
       "      <td>none of participants in conversation try to de...</td>\n",
       "      <td>[CLS]A: Hey Sarah! How was your weekend?[SEP]B...</td>\n",
       "      <td>494</td>\n",
       "      <td>0.0</td>\n",
       "      <td>0.0</td>\n",
       "      <td>NaN</td>\n",
       "      <td>NaN</td>\n",
       "    </tr>\n",
       "    <tr>\n",
       "      <th>4</th>\n",
       "      <td>first participant in conversation is deceiving...</td>\n",
       "      <td>[CLS]A: Hey there! How are you doing today?[SE...</td>\n",
       "      <td>534</td>\n",
       "      <td>1.0</td>\n",
       "      <td>0.0</td>\n",
       "      <td>NaN</td>\n",
       "      <td>NaN</td>\n",
       "    </tr>\n",
       "    <tr>\n",
       "      <th>...</th>\n",
       "      <td>...</td>\n",
       "      <td>...</td>\n",
       "      <td>...</td>\n",
       "      <td>...</td>\n",
       "      <td>...</td>\n",
       "      <td>...</td>\n",
       "      <td>...</td>\n",
       "    </tr>\n",
       "    <tr>\n",
       "      <th>183</th>\n",
       "      <td>none of participants in conversation try to de...</td>\n",
       "      <td>[CLS]A: Good morning, I think we should begin ...</td>\n",
       "      <td>681</td>\n",
       "      <td>0.0</td>\n",
       "      <td>0.0</td>\n",
       "      <td>NaN</td>\n",
       "      <td>a diplomacy subject between european coutries</td>\n",
       "    </tr>\n",
       "    <tr>\n",
       "      <th>184</th>\n",
       "      <td>first participant in conversation is deceiving...</td>\n",
       "      <td>[CLS]A: Hey there! I saw your ad about looking...</td>\n",
       "      <td>476</td>\n",
       "      <td>1.0</td>\n",
       "      <td>0.0</td>\n",
       "      <td>NaN</td>\n",
       "      <td>sale or rental of property</td>\n",
       "    </tr>\n",
       "    <tr>\n",
       "      <th>185</th>\n",
       "      <td>second participant in conversation is deceivin...</td>\n",
       "      <td>[CLS]A: Hello! I saw your listing for the hous...</td>\n",
       "      <td>550</td>\n",
       "      <td>0.0</td>\n",
       "      <td>1.0</td>\n",
       "      <td>NaN</td>\n",
       "      <td>sale or rental of property</td>\n",
       "    </tr>\n",
       "    <tr>\n",
       "      <th>186</th>\n",
       "      <td>both participants in conversation are deceivin...</td>\n",
       "      <td>[CLS]A: Hello there! I saw your ad online abou...</td>\n",
       "      <td>544</td>\n",
       "      <td>1.0</td>\n",
       "      <td>1.0</td>\n",
       "      <td>NaN</td>\n",
       "      <td>sale or rental of property</td>\n",
       "    </tr>\n",
       "    <tr>\n",
       "      <th>187</th>\n",
       "      <td>none of participants in conversation try to de...</td>\n",
       "      <td>[CLS]A: Good morning, I saw your listing for t...</td>\n",
       "      <td>450</td>\n",
       "      <td>0.0</td>\n",
       "      <td>0.0</td>\n",
       "      <td>NaN</td>\n",
       "      <td>sale or rental of property</td>\n",
       "    </tr>\n",
       "  </tbody>\n",
       "</table>\n",
       "<p>188 rows × 7 columns</p>\n",
       "</div>"
      ],
      "text/plain": [
       "                                              category  \\\n",
       "0    first participant in conversation is deceiving...   \n",
       "1    second participant in conversation is deceivin...   \n",
       "2    both participants in conversation are deceivin...   \n",
       "3    none of participants in conversation try to de...   \n",
       "4    first participant in conversation is deceiving...   \n",
       "..                                                 ...   \n",
       "183  none of participants in conversation try to de...   \n",
       "184  first participant in conversation is deceiving...   \n",
       "185  second participant in conversation is deceivin...   \n",
       "186  both participants in conversation are deceivin...   \n",
       "187  none of participants in conversation try to de...   \n",
       "\n",
       "                                          conversation  word_count  \\\n",
       "0    [CLS]A: Hey, I have something really important...         437   \n",
       "1    [CLS]A: Hey Sarah, I heard you recently went o...         368   \n",
       "2    [CLS]A: Hey, how have you been? It's been a wh...         400   \n",
       "3    [CLS]A: Hey Sarah! How was your weekend?[SEP]B...         494   \n",
       "4    [CLS]A: Hey there! How are you doing today?[SE...         534   \n",
       "..                                                 ...         ...   \n",
       "183  [CLS]A: Good morning, I think we should begin ...         681   \n",
       "184  [CLS]A: Hey there! I saw your ad about looking...         476   \n",
       "185  [CLS]A: Hello! I saw your listing for the hous...         550   \n",
       "186  [CLS]A: Hello there! I saw your ad online abou...         544   \n",
       "187  [CLS]A: Good morning, I saw your listing for t...         450   \n",
       "\n",
       "     A_bad_intent  B_bad_intent description  \\\n",
       "0             1.0           0.0         NaN   \n",
       "1             0.0           1.0         NaN   \n",
       "2             1.0           1.0         NaN   \n",
       "3             0.0           0.0         NaN   \n",
       "4             1.0           0.0         NaN   \n",
       "..            ...           ...         ...   \n",
       "183           0.0           0.0         NaN   \n",
       "184           1.0           0.0         NaN   \n",
       "185           0.0           1.0         NaN   \n",
       "186           1.0           1.0         NaN   \n",
       "187           0.0           0.0         NaN   \n",
       "\n",
       "                                             topic  \n",
       "0                                              NaN  \n",
       "1                                              NaN  \n",
       "2                                              NaN  \n",
       "3                                              NaN  \n",
       "4                                              NaN  \n",
       "..                                             ...  \n",
       "183  a diplomacy subject between european coutries  \n",
       "184                     sale or rental of property  \n",
       "185                     sale or rental of property  \n",
       "186                     sale or rental of property  \n",
       "187                     sale or rental of property  \n",
       "\n",
       "[188 rows x 7 columns]"
      ]
     },
     "execution_count": 6,
     "metadata": {},
     "output_type": "execute_result"
    }
   ],
   "source": [
    "df"
   ]
  },
  {
   "cell_type": "markdown",
   "id": "5e9add2b",
   "metadata": {},
   "source": [
    "---\n",
    "### Preprocessing the combined dataset"
   ]
  },
  {
   "cell_type": "code",
   "execution_count": 7,
   "id": "85cb1397",
   "metadata": {},
   "outputs": [],
   "source": [
    "#ProfileReport(df)"
   ]
  },
  {
   "cell_type": "code",
   "execution_count": 8,
   "id": "da434bd8",
   "metadata": {},
   "outputs": [
    {
     "data": {
      "text/html": [
       "<div>\n",
       "<style scoped>\n",
       "    .dataframe tbody tr th:only-of-type {\n",
       "        vertical-align: middle;\n",
       "    }\n",
       "\n",
       "    .dataframe tbody tr th {\n",
       "        vertical-align: top;\n",
       "    }\n",
       "\n",
       "    .dataframe thead th {\n",
       "        text-align: right;\n",
       "    }\n",
       "</style>\n",
       "<table border=\"1\" class=\"dataframe\">\n",
       "  <thead>\n",
       "    <tr style=\"text-align: right;\">\n",
       "      <th></th>\n",
       "      <th>category</th>\n",
       "      <th>conversation</th>\n",
       "      <th>word_count</th>\n",
       "      <th>A_bad_intent</th>\n",
       "      <th>B_bad_intent</th>\n",
       "      <th>description</th>\n",
       "      <th>topic</th>\n",
       "    </tr>\n",
       "  </thead>\n",
       "  <tbody>\n",
       "  </tbody>\n",
       "</table>\n",
       "</div>"
      ],
      "text/plain": [
       "Empty DataFrame\n",
       "Columns: [category, conversation, word_count, A_bad_intent, B_bad_intent, description, topic]\n",
       "Index: []"
      ]
     },
     "execution_count": 8,
     "metadata": {},
     "output_type": "execute_result"
    }
   ],
   "source": [
    "df[df['conversation'] == '']"
   ]
  },
  {
   "cell_type": "code",
   "execution_count": 9,
   "id": "8e698299",
   "metadata": {},
   "outputs": [],
   "source": [
    "def text_preprocess(message):\n",
    "    processed = []   \n",
    "    for text in message:\n",
    "        # replaace URLs\n",
    "        text = re.sub(r\"((http://)[^ ]*|(https://)[^ ]*|( www\\.)[^ ]*)\",' <URL>',text)        \n",
    "        # Remove HTML/XML tags (if any)\n",
    "        text = re.sub(r'<.*?>', '', text)\n",
    "        # Remove punctuation and symbols (not for now)\n",
    "        # text = re.sub(r'[^\\w\\s]', '', text) \n",
    "        # Remove numbers - not in this dataset!\n",
    "        #text = re.sub(r'\\d+', '', text)\n",
    "        # Remove whitespaces (including new lines and tabs)\n",
    "        text = text.strip().replace(\"\\n\", \" \").replace(\"\\r\", \" \").replace(\"\\t\", \" \")\n",
    "        \n",
    "        processed.append(text)       \n",
    "    return processed"
   ]
  },
  {
   "cell_type": "code",
   "execution_count": 10,
   "id": "bf7afb77",
   "metadata": {},
   "outputs": [
    {
     "data": {
      "text/html": [
       "<div>\n",
       "<style scoped>\n",
       "    .dataframe tbody tr th:only-of-type {\n",
       "        vertical-align: middle;\n",
       "    }\n",
       "\n",
       "    .dataframe tbody tr th {\n",
       "        vertical-align: top;\n",
       "    }\n",
       "\n",
       "    .dataframe thead th {\n",
       "        text-align: right;\n",
       "    }\n",
       "</style>\n",
       "<table border=\"1\" class=\"dataframe\">\n",
       "  <thead>\n",
       "    <tr style=\"text-align: right;\">\n",
       "      <th></th>\n",
       "      <th>category</th>\n",
       "      <th>conversation</th>\n",
       "      <th>word_count</th>\n",
       "      <th>A_bad_intent</th>\n",
       "      <th>B_bad_intent</th>\n",
       "      <th>description</th>\n",
       "      <th>topic</th>\n",
       "    </tr>\n",
       "  </thead>\n",
       "  <tbody>\n",
       "    <tr>\n",
       "      <th>0</th>\n",
       "      <td>first participant in conversation is deceiving...</td>\n",
       "      <td>[CLS]A: Hey, I have something really important...</td>\n",
       "      <td>437</td>\n",
       "      <td>1.0</td>\n",
       "      <td>0.0</td>\n",
       "      <td>NaN</td>\n",
       "      <td>NaN</td>\n",
       "    </tr>\n",
       "    <tr>\n",
       "      <th>1</th>\n",
       "      <td>second participant in conversation is deceivin...</td>\n",
       "      <td>[CLS]A: Hey Sarah, I heard you recently went o...</td>\n",
       "      <td>368</td>\n",
       "      <td>0.0</td>\n",
       "      <td>1.0</td>\n",
       "      <td>NaN</td>\n",
       "      <td>NaN</td>\n",
       "    </tr>\n",
       "    <tr>\n",
       "      <th>2</th>\n",
       "      <td>both participants in conversation are deceivin...</td>\n",
       "      <td>[CLS]A: Hey, how have you been? It's been a wh...</td>\n",
       "      <td>400</td>\n",
       "      <td>1.0</td>\n",
       "      <td>1.0</td>\n",
       "      <td>NaN</td>\n",
       "      <td>NaN</td>\n",
       "    </tr>\n",
       "    <tr>\n",
       "      <th>3</th>\n",
       "      <td>none of participants in conversation try to de...</td>\n",
       "      <td>[CLS]A: Hey Sarah! How was your weekend?[SEP]B...</td>\n",
       "      <td>494</td>\n",
       "      <td>0.0</td>\n",
       "      <td>0.0</td>\n",
       "      <td>NaN</td>\n",
       "      <td>NaN</td>\n",
       "    </tr>\n",
       "    <tr>\n",
       "      <th>4</th>\n",
       "      <td>first participant in conversation is deceiving...</td>\n",
       "      <td>[CLS]A: Hey there! How are you doing today?[SE...</td>\n",
       "      <td>534</td>\n",
       "      <td>1.0</td>\n",
       "      <td>0.0</td>\n",
       "      <td>NaN</td>\n",
       "      <td>NaN</td>\n",
       "    </tr>\n",
       "    <tr>\n",
       "      <th>...</th>\n",
       "      <td>...</td>\n",
       "      <td>...</td>\n",
       "      <td>...</td>\n",
       "      <td>...</td>\n",
       "      <td>...</td>\n",
       "      <td>...</td>\n",
       "      <td>...</td>\n",
       "    </tr>\n",
       "    <tr>\n",
       "      <th>183</th>\n",
       "      <td>none of participants in conversation try to de...</td>\n",
       "      <td>[CLS]A: Good morning, I think we should begin ...</td>\n",
       "      <td>681</td>\n",
       "      <td>0.0</td>\n",
       "      <td>0.0</td>\n",
       "      <td>NaN</td>\n",
       "      <td>a diplomacy subject between european coutries</td>\n",
       "    </tr>\n",
       "    <tr>\n",
       "      <th>184</th>\n",
       "      <td>first participant in conversation is deceiving...</td>\n",
       "      <td>[CLS]A: Hey there! I saw your ad about looking...</td>\n",
       "      <td>476</td>\n",
       "      <td>1.0</td>\n",
       "      <td>0.0</td>\n",
       "      <td>NaN</td>\n",
       "      <td>sale or rental of property</td>\n",
       "    </tr>\n",
       "    <tr>\n",
       "      <th>185</th>\n",
       "      <td>second participant in conversation is deceivin...</td>\n",
       "      <td>[CLS]A: Hello! I saw your listing for the hous...</td>\n",
       "      <td>550</td>\n",
       "      <td>0.0</td>\n",
       "      <td>1.0</td>\n",
       "      <td>NaN</td>\n",
       "      <td>sale or rental of property</td>\n",
       "    </tr>\n",
       "    <tr>\n",
       "      <th>186</th>\n",
       "      <td>both participants in conversation are deceivin...</td>\n",
       "      <td>[CLS]A: Hello there! I saw your ad online abou...</td>\n",
       "      <td>544</td>\n",
       "      <td>1.0</td>\n",
       "      <td>1.0</td>\n",
       "      <td>NaN</td>\n",
       "      <td>sale or rental of property</td>\n",
       "    </tr>\n",
       "    <tr>\n",
       "      <th>187</th>\n",
       "      <td>none of participants in conversation try to de...</td>\n",
       "      <td>[CLS]A: Good morning, I saw your listing for t...</td>\n",
       "      <td>450</td>\n",
       "      <td>0.0</td>\n",
       "      <td>0.0</td>\n",
       "      <td>NaN</td>\n",
       "      <td>sale or rental of property</td>\n",
       "    </tr>\n",
       "  </tbody>\n",
       "</table>\n",
       "<p>188 rows × 7 columns</p>\n",
       "</div>"
      ],
      "text/plain": [
       "                                              category  \\\n",
       "0    first participant in conversation is deceiving...   \n",
       "1    second participant in conversation is deceivin...   \n",
       "2    both participants in conversation are deceivin...   \n",
       "3    none of participants in conversation try to de...   \n",
       "4    first participant in conversation is deceiving...   \n",
       "..                                                 ...   \n",
       "183  none of participants in conversation try to de...   \n",
       "184  first participant in conversation is deceiving...   \n",
       "185  second participant in conversation is deceivin...   \n",
       "186  both participants in conversation are deceivin...   \n",
       "187  none of participants in conversation try to de...   \n",
       "\n",
       "                                          conversation  word_count  \\\n",
       "0    [CLS]A: Hey, I have something really important...         437   \n",
       "1    [CLS]A: Hey Sarah, I heard you recently went o...         368   \n",
       "2    [CLS]A: Hey, how have you been? It's been a wh...         400   \n",
       "3    [CLS]A: Hey Sarah! How was your weekend?[SEP]B...         494   \n",
       "4    [CLS]A: Hey there! How are you doing today?[SE...         534   \n",
       "..                                                 ...         ...   \n",
       "183  [CLS]A: Good morning, I think we should begin ...         681   \n",
       "184  [CLS]A: Hey there! I saw your ad about looking...         476   \n",
       "185  [CLS]A: Hello! I saw your listing for the hous...         550   \n",
       "186  [CLS]A: Hello there! I saw your ad online abou...         544   \n",
       "187  [CLS]A: Good morning, I saw your listing for t...         450   \n",
       "\n",
       "     A_bad_intent  B_bad_intent description  \\\n",
       "0             1.0           0.0         NaN   \n",
       "1             0.0           1.0         NaN   \n",
       "2             1.0           1.0         NaN   \n",
       "3             0.0           0.0         NaN   \n",
       "4             1.0           0.0         NaN   \n",
       "..            ...           ...         ...   \n",
       "183           0.0           0.0         NaN   \n",
       "184           1.0           0.0         NaN   \n",
       "185           0.0           1.0         NaN   \n",
       "186           1.0           1.0         NaN   \n",
       "187           0.0           0.0         NaN   \n",
       "\n",
       "                                             topic  \n",
       "0                                              NaN  \n",
       "1                                              NaN  \n",
       "2                                              NaN  \n",
       "3                                              NaN  \n",
       "4                                              NaN  \n",
       "..                                             ...  \n",
       "183  a diplomacy subject between european coutries  \n",
       "184                     sale or rental of property  \n",
       "185                     sale or rental of property  \n",
       "186                     sale or rental of property  \n",
       "187                     sale or rental of property  \n",
       "\n",
       "[188 rows x 7 columns]"
      ]
     },
     "execution_count": 10,
     "metadata": {},
     "output_type": "execute_result"
    }
   ],
   "source": [
    "df['conversation'] = text_preprocess(list(df['conversation']))\n",
    "df"
   ]
  },
  {
   "cell_type": "code",
   "execution_count": 11,
   "id": "eb0c7df9",
   "metadata": {},
   "outputs": [
    {
     "data": {
      "text/plain": [
       "111"
      ]
     },
     "execution_count": 11,
     "metadata": {},
     "output_type": "execute_result"
    }
   ],
   "source": [
    "# number of conversation wth more than 512 words\n",
    "long_conversations = sum([1 if len(i.split()) > 512 else 0 for i in df['conversation']])\n",
    "long_conversations"
   ]
  },
  {
   "cell_type": "code",
   "execution_count": 12,
   "id": "552e753c",
   "metadata": {},
   "outputs": [
    {
     "data": {
      "text/plain": [
       "count     188.000000\n",
       "mean      552.914894\n",
       "std       140.061305\n",
       "min       272.000000\n",
       "25%       462.750000\n",
       "50%       538.000000\n",
       "75%       622.250000\n",
       "max      1428.000000\n",
       "Name: conversation, dtype: float64"
      ]
     },
     "execution_count": 12,
     "metadata": {},
     "output_type": "execute_result"
    }
   ],
   "source": [
    "df['conversation'].str.split().apply(lambda x : len(x)).describe()"
   ]
  },
  {
   "cell_type": "code",
   "execution_count": 13,
   "id": "941e01f9",
   "metadata": {},
   "outputs": [
    {
     "data": {
      "text/plain": [
       "<seaborn.axisgrid.FacetGrid at 0x7fc676323c40>"
      ]
     },
     "execution_count": 13,
     "metadata": {},
     "output_type": "execute_result"
    },
    {
     "data": {
      "image/png": "[encoded data removed]",
      "text/plain": [
       "<Figure size 500x500 with 1 Axes>"
      ]
     },
     "metadata": {},
     "output_type": "display_data"
    }
   ],
   "source": [
    "lensofc = [len(i.split()) for i in df['conversation']]\n",
    "long_c_plot = sns.relplot(lensofc)\n",
    "long_c_plot.set_ylabels(\"Number of words\", clear_inner=False)\n",
    "long_c_plot.set_xlabels(\"Conversations\", clear_inner=False)"
   ]
  },
  {
   "cell_type": "code",
   "execution_count": 14,
   "id": "a6f51b3b",
   "metadata": {},
   "outputs": [],
   "source": [
    "#df['conversation'].loc[0]"
   ]
  },
  {
   "cell_type": "code",
   "execution_count": 15,
   "id": "9028358e",
   "metadata": {},
   "outputs": [],
   "source": [
    "# find conversations with more than 5000 words\n",
    "longs = [df.index[df['conversation'] == i].tolist()[0] for i in df['conversation'] if len(i.split()) > 500]"
   ]
  },
  {
   "cell_type": "code",
   "execution_count": 16,
   "id": "78d958cc",
   "metadata": {},
   "outputs": [
    {
     "data": {
      "text/plain": [
       "[7,\n",
       " 8,\n",
       " 10,\n",
       " 11,\n",
       " 12,\n",
       " 13,\n",
       " 15,\n",
       " 16,\n",
       " 17,\n",
       " 18,\n",
       " 19,\n",
       " 21,\n",
       " 22,\n",
       " 23,\n",
       " 24,\n",
       " 25,\n",
       " 27,\n",
       " 30,\n",
       " 41,\n",
       " 42,\n",
       " 43,\n",
       " 45,\n",
       " 46,\n",
       " 47,\n",
       " 48,\n",
       " 49,\n",
       " 50,\n",
       " 51,\n",
       " 52,\n",
       " 65,\n",
       " 67,\n",
       " 68,\n",
       " 69,\n",
       " 72,\n",
       " 73,\n",
       " 76,\n",
       " 79,\n",
       " 80,\n",
       " 81,\n",
       " 83,\n",
       " 84,\n",
       " 85,\n",
       " 89,\n",
       " 91,\n",
       " 92,\n",
       " 93,\n",
       " 95,\n",
       " 96,\n",
       " 97,\n",
       " 99,\n",
       " 100,\n",
       " 101,\n",
       " 103,\n",
       " 104,\n",
       " 107,\n",
       " 108,\n",
       " 109,\n",
       " 110,\n",
       " 111,\n",
       " 112,\n",
       " 109,\n",
       " 110,\n",
       " 111,\n",
       " 116,\n",
       " 117,\n",
       " 119,\n",
       " 116,\n",
       " 117,\n",
       " 119,\n",
       " 124,\n",
       " 125,\n",
       " 126,\n",
       " 127,\n",
       " 128,\n",
       " 129,\n",
       " 130,\n",
       " 131,\n",
       " 128,\n",
       " 129,\n",
       " 130,\n",
       " 131,\n",
       " 128,\n",
       " 129,\n",
       " 130,\n",
       " 131,\n",
       " 142,\n",
       " 143,\n",
       " 144,\n",
       " 145,\n",
       " 146,\n",
       " 147,\n",
       " 148,\n",
       " 150,\n",
       " 151,\n",
       " 152,\n",
       " 153,\n",
       " 154,\n",
       " 155,\n",
       " 158,\n",
       " 159,\n",
       " 161,\n",
       " 162,\n",
       " 163,\n",
       " 164,\n",
       " 165,\n",
       " 166,\n",
       " 167,\n",
       " 169,\n",
       " 171,\n",
       " 172,\n",
       " 173,\n",
       " 175,\n",
       " 176,\n",
       " 179,\n",
       " 180,\n",
       " 181,\n",
       " 182,\n",
       " 183,\n",
       " 186]"
      ]
     },
     "execution_count": 16,
     "metadata": {},
     "output_type": "execute_result"
    }
   ],
   "source": [
    "longs"
   ]
  },
  {
   "cell_type": "code",
   "execution_count": 17,
   "id": "d91d552a",
   "metadata": {},
   "outputs": [
    {
     "data": {
      "text/plain": [
       "119"
      ]
     },
     "execution_count": 17,
     "metadata": {},
     "output_type": "execute_result"
    }
   ],
   "source": [
    "len(longs)"
   ]
  },
  {
   "cell_type": "code",
   "execution_count": 18,
   "id": "1a3a4db2",
   "metadata": {},
   "outputs": [],
   "source": [
    "#lets drop long conversations\n",
    "#df.drop(longs, axis=0, inplace=True)"
   ]
  },
  {
   "cell_type": "markdown",
   "id": "7e5110a5",
   "metadata": {},
   "source": [
    "---\n",
    "### Preaper dataset for classification"
   ]
  },
  {
   "cell_type": "code",
   "execution_count": 19,
   "id": "ca72843a",
   "metadata": {},
   "outputs": [
    {
     "data": {
      "text/plain": [
       "<Axes: xlabel='A_bad_intent', ylabel='count'>"
      ]
     },
     "execution_count": 19,
     "metadata": {},
     "output_type": "execute_result"
    },
    {
     "data": {
      "image/png": "[encoded data removed]",
      "text/plain": [
       "<Figure size 640x480 with 1 Axes>"
      ]
     },
     "metadata": {},
     "output_type": "display_data"
    }
   ],
   "source": [
    "sns.countplot(data = df, x= df['A_bad_intent'])"
   ]
  },
  {
   "cell_type": "code",
   "execution_count": 20,
   "id": "b2e46db4",
   "metadata": {},
   "outputs": [
    {
     "data": {
      "text/plain": [
       "<Axes: xlabel='B_bad_intent', ylabel='count'>"
      ]
     },
     "execution_count": 20,
     "metadata": {},
     "output_type": "execute_result"
    },
    {
     "data": {
      "image/png": "[encoded data removed]",
      "text/plain": [
       "<Figure size 640x480 with 1 Axes>"
      ]
     },
     "metadata": {},
     "output_type": "display_data"
    }
   ],
   "source": [
    "sns.countplot(data = df, x= df['B_bad_intent'])"
   ]
  },
  {
   "cell_type": "markdown",
   "id": "1a13cdb9",
   "metadata": {},
   "source": [
    "#### balance the dataset or evalue the classification by weighted F1 score???"
   ]
  },
  {
   "cell_type": "markdown",
   "id": "c84d0011",
   "metadata": {},
   "source": [
    "+ Normalization /scaling --> no need when using BERT\n",
    "+ Shuffling --> shuffle=True in train_test_split\n"
   ]
  },
  {
   "cell_type": "markdown",
   "id": "76da635e",
   "metadata": {},
   "source": [
    "---\n",
    "### Classification"
   ]
  },
  {
   "cell_type": "markdown",
   "id": "d77273b9",
   "metadata": {},
   "source": [
    "hyperparamethers from Appendix A.3 of the https://arxiv.org/pdf/1810.04805.pdf\n",
    "\n",
    "+ Batch size: 16, 32 (here to make code run on low memory batch size is smaller)\n",
    "+ Learning rate (Adam): 5e-5, 3e-5, 2e-5\n",
    "+ Number of epochs: 2, 3, 4"
   ]
  },
  {
   "cell_type": "code",
   "execution_count": 21,
   "id": "994beddc",
   "metadata": {},
   "outputs": [],
   "source": [
    "#@todo check oov words"
   ]
  },
  {
   "cell_type": "code",
   "execution_count": 22,
   "id": "fdb175e2",
   "metadata": {},
   "outputs": [],
   "source": [
    "#@todo improve metrics calculation -- check overfitting"
   ]
  },
  {
   "cell_type": "code",
   "execution_count": 23,
   "id": "3475a672",
   "metadata": {},
   "outputs": [],
   "source": [
    "#os.environ['PYTORCH_CUDA_ALLOC_CONF'] = 'max_split_size_mb=128'"
   ]
  },
  {
   "cell_type": "code",
   "execution_count": 44,
   "id": "362dd250",
   "metadata": {},
   "outputs": [
    {
     "name": "stdout",
     "output_type": "stream",
     "text": [
      "There are 1 GPU(s) available.\n",
      "GPU: NVIDIA A100 80GB PCIe MIG 2g.20gb\n"
     ]
    }
   ],
   "source": [
    "# If there's a GPU available...\n",
    "if torch.cuda.is_available():      \n",
    "    device = torch.device(\"cuda\")\n",
    "    print('There are %d GPU(s) available.' % torch.cuda.device_count())\n",
    "    print('GPU:', torch.cuda.get_device_name(0))\n",
    "else:\n",
    "    print('using the CPU')\n",
    "    device = torch.device(\"cpu\")"
   ]
  },
  {
   "cell_type": "markdown",
   "id": "bbdf908d",
   "metadata": {},
   "source": [
    "---\n",
    "#### Automodel\n"
   ]
  },
  {
   "cell_type": "code",
   "execution_count": 25,
   "id": "cd399952",
   "metadata": {},
   "outputs": [],
   "source": [
    "class ConversationsDataset(torch.utils.data.Dataset):\n",
    "    def __init__(self, data, tokenizer,  int_labels):\n",
    "        self.data = data       \n",
    "        self.int_labels = int_labels\n",
    "        self.tokenizer = tokenizer\n",
    "               \n",
    "    def __getitem__(self, idx):\n",
    "        text = self.data[idx]['conversation']\n",
    "\n",
    "        # Use tokenizer.encode_plus\n",
    "        encodings = self.tokenizer.encode_plus(\n",
    "            text,\n",
    "            add_special_tokens=True,\n",
    "            max_length=512,  # You might need to adjust this based on your model\n",
    "            return_tensors=\"pt\",\n",
    "            padding=\"max_length\",\n",
    "            truncation=True\n",
    "        )\n",
    "\n",
    "        # Create the item dictionary\n",
    "        item = {key: val.squeeze() for key, val in encodings.items()}  # Squeeze to remove batch dimension\n",
    "        item['labels'] = torch.tensor(self.int_labels[idx])\n",
    " \n",
    "        return item\n",
    " \n",
    "    def __len__(self):\n",
    "        return len(self.int_labels)"
   ]
  },
  {
   "cell_type": "code",
   "execution_count": 26,
   "id": "3c0df136",
   "metadata": {},
   "outputs": [],
   "source": [
    "#bert-base-uncased model has only lowercase letters!\n",
    "#bert-base-cased: This model is case-sensitive\n",
    "tokenizer = BertTokenizer.from_pretrained('bert-base-cased', do_lower_case=False) \n",
    "\n",
    "#Train Test Validation split\n",
    "\n",
    "# shuffle the DataFrame\n",
    "df = df.sample(frac=1).reset_index(drop=True)\n",
    " \n",
    "# define split sizes\n",
    "train_size = int(0.7 * len(df)) \n",
    "val_size = int(0.15 * len(df))\n",
    " \n",
    "# split the DataFrame\n",
    "train_df = df[:train_size]\n",
    "val_df = df[train_size:train_size + val_size]\n",
    "test_df = df[train_size + val_size:]"
   ]
  },
  {
   "cell_type": "code",
   "execution_count": 27,
   "id": "edeb2333",
   "metadata": {},
   "outputs": [],
   "source": [
    "train_data = train_df.to_dict('records')\n",
    "val_data = val_df.to_dict('records')\n",
    "test_data = test_df.to_dict('records')\n",
    "\n",
    "\n",
    "train_labels = train_df['category'].tolist()\n",
    "train_label_to_idx = {label: idx for idx, label in enumerate(sorted(set(train_labels)))}\n",
    "# convert labels to integers\n",
    "train_int_labels = [train_label_to_idx[label] for label in train_labels]\n",
    "\n",
    "\n",
    "val_labels = val_df['category'].tolist()\n",
    "val_label_to_idx = {label: idx for idx, label in enumerate(sorted(set(val_labels)))}\n",
    "# convert labels to integers\n",
    "val_int_labels = [val_label_to_idx[label] for label in val_labels]"
   ]
  },
  {
   "cell_type": "code",
   "execution_count": 28,
   "id": "e87c2684",
   "metadata": {},
   "outputs": [],
   "source": [
    "# batch and suffle the data\n",
    "train_dataset = ConversationsDataset(train_data, tokenizer, train_int_labels )\n",
    "val_dataset = ConversationsDataset(val_data, tokenizer,  val_int_labels)\n",
    "test_dataset = ConversationsDataset(test_data, tokenizer,  train_df['category'].tolist())"
   ]
  },
  {
   "cell_type": "code",
   "execution_count": 52,
   "id": "6f3a804d",
   "metadata": {},
   "outputs": [
    {
     "data": {
      "text/plain": [
       "4"
      ]
     },
     "execution_count": 52,
     "metadata": {},
     "output_type": "execute_result"
    }
   ],
   "source": [
    "df['category'].nunique()"
   ]
  },
  {
   "cell_type": "code",
   "execution_count": 54,
   "id": "bc4ac9ea",
   "metadata": {},
   "outputs": [
    {
     "name": "stderr",
     "output_type": "stream",
     "text": [
      "Some weights of BertForSequenceClassification were not initialized from the model checkpoint at bert-base-uncased and are newly initialized: ['classifier.bias', 'classifier.weight']\n",
      "You should probably TRAIN this model on a down-stream task to be able to use it for predictions and inference.\n"
     ]
    }
   ],
   "source": [
    "model_name = \"bert-base-uncased\"\n",
    "model = AutoModelForSequenceClassification.from_pretrained(model_name \n",
    "                                                           ,num_labels=df['category'].nunique() \n",
    "                                                           #,problem_type=\"multi_class_classification\"\n",
    "                                                           #,id2label=id2label\n",
    "                                                           #,label2id=label2id\n",
    "                                                          )\n",
    "#tokenizer = AutoTokenizer.from_pretrained(model_name)"
   ]
  },
  {
   "cell_type": "code",
   "execution_count": null,
   "id": "337c4cad",
   "metadata": {},
   "outputs": [],
   "source": [
    "#Using the `Trainer` with `PyTorch` requires `accelerate>=0.20.1`\n",
    "#pip install accelerate -U"
   ]
  },
  {
   "cell_type": "raw",
   "id": "588d3cdb",
   "metadata": {},
   "source": [
    "training_args = TrainingArguments(\n",
    "    output_dir='./results',\n",
    "    num_train_epochs=3,\n",
    "    per_device_train_batch_size=4,\n",
    "    per_device_eval_batch_size=4,\n",
    "    warmup_steps=500,\n",
    "    weight_decay=0.01,\n",
    "    logging_dir='./logs',\n",
    "    evaluation_strategy=\"epoch\",  # Evaluate at the end of each epoch\n",
    ")"
   ]
  },
  {
   "cell_type": "code",
   "execution_count": 60,
   "id": "e9fde027",
   "metadata": {},
   "outputs": [],
   "source": [
    "training_args = TrainingArguments(\n",
    "    f\"bert-finetuned-sem_eval-english\",\n",
    "    evaluation_strategy = \"epoch\",\n",
    "    save_strategy = \"epoch\",\n",
    "    learning_rate=2e-5,\n",
    "    per_device_train_batch_size=4,\n",
    "    per_device_eval_batch_size=4,\n",
    "    num_train_epochs=5,\n",
    "    weight_decay=0.01,\n",
    "    load_best_model_at_end=True,\n",
    "    metric_for_best_model='accuracy',\n",
    "    #push_to_hub=True,\n",
    ")"
   ]
  },
  {
   "cell_type": "code",
   "execution_count": 56,
   "id": "13ecc35f",
   "metadata": {},
   "outputs": [],
   "source": [
    "def compute_metrics(pred):\n",
    "    labels = pred.label_ids\n",
    "    preds = pred.predictions.argmax(-1)\n",
    "    acc = accuracy_score(labels, preds)\n",
    "    return {'accuracy': acc}"
   ]
  },
  {
   "cell_type": "code",
   "execution_count": 57,
   "id": "e1f4fe51",
   "metadata": {},
   "outputs": [],
   "source": [
    "model = model.to(device)"
   ]
  },
  {
   "cell_type": "code",
   "execution_count": 35,
   "id": "b53af01d",
   "metadata": {},
   "outputs": [
    {
     "name": "stdout",
     "output_type": "stream",
     "text": [
      "|===========================================================================|\n",
      "|                  PyTorch CUDA memory summary, device ID 0                 |\n",
      "|---------------------------------------------------------------------------|\n",
      "|            CUDA OOMs: 0            |        cudaMalloc retries: 0         |\n",
      "|===========================================================================|\n",
      "|        Metric         | Cur Usage  | Peak Usage | Tot Alloc  | Tot Freed  |\n",
      "|---------------------------------------------------------------------------|\n",
      "| Allocated memory      |       0 B  |       0 B  |       0 B  |       0 B  |\n",
      "|       from large pool |       0 B  |       0 B  |       0 B  |       0 B  |\n",
      "|       from small pool |       0 B  |       0 B  |       0 B  |       0 B  |\n",
      "|---------------------------------------------------------------------------|\n",
      "| Active memory         |       0 B  |       0 B  |       0 B  |       0 B  |\n",
      "|       from large pool |       0 B  |       0 B  |       0 B  |       0 B  |\n",
      "|       from small pool |       0 B  |       0 B  |       0 B  |       0 B  |\n",
      "|---------------------------------------------------------------------------|\n",
      "| GPU reserved memory   |       0 B  |       0 B  |       0 B  |       0 B  |\n",
      "|       from large pool |       0 B  |       0 B  |       0 B  |       0 B  |\n",
      "|       from small pool |       0 B  |       0 B  |       0 B  |       0 B  |\n",
      "|---------------------------------------------------------------------------|\n",
      "| Non-releasable memory |       0 B  |       0 B  |       0 B  |       0 B  |\n",
      "|       from large pool |       0 B  |       0 B  |       0 B  |       0 B  |\n",
      "|       from small pool |       0 B  |       0 B  |       0 B  |       0 B  |\n",
      "|---------------------------------------------------------------------------|\n",
      "| Allocations           |       0    |       0    |       0    |       0    |\n",
      "|       from large pool |       0    |       0    |       0    |       0    |\n",
      "|       from small pool |       0    |       0    |       0    |       0    |\n",
      "|---------------------------------------------------------------------------|\n",
      "| Active allocs         |       0    |       0    |       0    |       0    |\n",
      "|       from large pool |       0    |       0    |       0    |       0    |\n",
      "|       from small pool |       0    |       0    |       0    |       0    |\n",
      "|---------------------------------------------------------------------------|\n",
      "| GPU reserved segments |       0    |       0    |       0    |       0    |\n",
      "|       from large pool |       0    |       0    |       0    |       0    |\n",
      "|       from small pool |       0    |       0    |       0    |       0    |\n",
      "|---------------------------------------------------------------------------|\n",
      "| Non-releasable allocs |       0    |       0    |       0    |       0    |\n",
      "|       from large pool |       0    |       0    |       0    |       0    |\n",
      "|       from small pool |       0    |       0    |       0    |       0    |\n",
      "|---------------------------------------------------------------------------|\n",
      "| Oversize allocations  |       0    |       0    |       0    |       0    |\n",
      "|---------------------------------------------------------------------------|\n",
      "| Oversize GPU segments |       0    |       0    |       0    |       0    |\n",
      "|===========================================================================|\n",
      "\n"
     ]
    }
   ],
   "source": [
    "#gives a readable summary of memory allocation and allows to figure the reason of CUDA running out of memory\n",
    "print(torch.cuda.memory_summary(device=None, abbreviated=False))"
   ]
  },
  {
   "cell_type": "code",
   "execution_count": 61,
   "id": "29ee6b10",
   "metadata": {},
   "outputs": [
    {
     "name": "stderr",
     "output_type": "stream",
     "text": [
      "Detected kernel version 3.10.0, which is below the recommended minimum of 5.5.0; this can cause the process to hang. It is recommended to upgrade the kernel to the minimum version or higher.\n"
     ]
    }
   ],
   "source": [
    "trainer = Trainer(\n",
    "    model=model,\n",
    "    args=training_args,\n",
    "    train_dataset=train_dataset,\n",
    "    eval_dataset=val_dataset,\n",
    "    compute_metrics=compute_metrics\n",
    ")"
   ]
  },
  {
   "cell_type": "code",
   "execution_count": 62,
   "id": "09143666",
   "metadata": {},
   "outputs": [
    {
     "data": {
      "text/html": [
       "\n",
       "    <div>\n",
       "      \n",
       "      <progress value='165' max='165' style='width:300px; height:20px; vertical-align: middle;'></progress>\n",
       "      [165/165 02:05, Epoch 5/5]\n",
       "    </div>\n",
       "    <table border=\"1\" class=\"dataframe\">\n",
       "  <thead>\n",
       " <tr style=\"text-align: left;\">\n",
       "      <th>Epoch</th>\n",
       "      <th>Training Loss</th>\n",
       "      <th>Validation Loss</th>\n",
       "      <th>Accuracy</th>\n",
       "    </tr>\n",
       "  </thead>\n",
       "  <tbody>\n",
       "    <tr>\n",
       "      <td>1</td>\n",
       "      <td>No log</td>\n",
       "      <td>1.393161</td>\n",
       "      <td>0.214286</td>\n",
       "    </tr>\n",
       "    <tr>\n",
       "      <td>2</td>\n",
       "      <td>No log</td>\n",
       "      <td>1.395053</td>\n",
       "      <td>0.214286</td>\n",
       "    </tr>\n",
       "    <tr>\n",
       "      <td>3</td>\n",
       "      <td>No log</td>\n",
       "      <td>1.416646</td>\n",
       "      <td>0.214286</td>\n",
       "    </tr>\n",
       "    <tr>\n",
       "      <td>4</td>\n",
       "      <td>No log</td>\n",
       "      <td>1.385315</td>\n",
       "      <td>0.214286</td>\n",
       "    </tr>\n",
       "    <tr>\n",
       "      <td>5</td>\n",
       "      <td>No log</td>\n",
       "      <td>1.412371</td>\n",
       "      <td>0.214286</td>\n",
       "    </tr>\n",
       "  </tbody>\n",
       "</table><p>"
      ],
      "text/plain": [
       "<IPython.core.display.HTML object>"
      ]
     },
     "metadata": {},
     "output_type": "display_data"
    },
    {
     "data": {
      "text/plain": [
       "TrainOutput(global_step=165, training_loss=1.385902266068892, metrics={'train_runtime': 125.9584, 'train_samples_per_second': 5.2, 'train_steps_per_second': 1.31, 'total_flos': 172340835962880.0, 'train_loss': 1.385902266068892, 'epoch': 5.0})"
      ]
     },
     "execution_count": 62,
     "metadata": {},
     "output_type": "execute_result"
    }
   ],
   "source": [
    "trainer.train()"
   ]
  },
  {
   "cell_type": "code",
   "execution_count": 63,
   "id": "fd7b15fa",
   "metadata": {},
   "outputs": [
    {
     "data": {
      "text/html": [
       "\n",
       "    <div>\n",
       "      \n",
       "      <progress value='7' max='7' style='width:300px; height:20px; vertical-align: middle;'></progress>\n",
       "      [7/7 00:00]\n",
       "    </div>\n",
       "    "
      ],
      "text/plain": [
       "<IPython.core.display.HTML object>"
      ]
     },
     "metadata": {},
     "output_type": "display_data"
    },
    {
     "data": {
      "text/plain": [
       "{'eval_loss': 1.3931611776351929,\n",
       " 'eval_accuracy': 0.21428571428571427,\n",
       " 'eval_runtime': 1.0281,\n",
       " 'eval_samples_per_second': 27.235,\n",
       " 'eval_steps_per_second': 6.809,\n",
       " 'epoch': 5.0}"
      ]
     },
     "execution_count": 63,
     "metadata": {},
     "output_type": "execute_result"
    }
   ],
   "source": [
    "trainer.evaluate()"
   ]
  },
  {
   "cell_type": "code",
   "execution_count": 69,
   "id": "f87c06ab",
   "metadata": {},
   "outputs": [
    {
     "name": "stdout",
     "output_type": "stream",
     "text": [
      "|===========================================================================|\n",
      "|                  PyTorch CUDA memory summary, device ID 0                 |\n",
      "|---------------------------------------------------------------------------|\n",
      "|            CUDA OOMs: 0            |        cudaMalloc retries: 0         |\n",
      "|===========================================================================|\n",
      "|        Metric         | Cur Usage  | Peak Usage | Tot Alloc  | Tot Freed  |\n",
      "|---------------------------------------------------------------------------|\n",
      "| Allocated memory      |    2530 MB |    5858 MB |    2529 GB |    2526 GB |\n",
      "|       from large pool |    2527 MB |    5857 MB |    2528 GB |    2526 GB |\n",
      "|       from small pool |       2 MB |       3 MB |       0 GB |       0 GB |\n",
      "|---------------------------------------------------------------------------|\n",
      "| Active memory         |    2530 MB |    5858 MB |    2529 GB |    2526 GB |\n",
      "|       from large pool |    2527 MB |    5857 MB |    2528 GB |    2526 GB |\n",
      "|       from small pool |       2 MB |       3 MB |       0 GB |       0 GB |\n",
      "|---------------------------------------------------------------------------|\n",
      "| GPU reserved memory   |    2738 MB |    5982 MB |   18696 MB |   15958 MB |\n",
      "|       from large pool |    2734 MB |    5980 MB |   18692 MB |   15958 MB |\n",
      "|       from small pool |       4 MB |       4 MB |       4 MB |       0 MB |\n",
      "|---------------------------------------------------------------------------|\n",
      "| Non-releasable memory |  212789 KB |  373262 KB |    1415 GB |    1414 GB |\n",
      "|       from large pool |  211712 KB |  372480 KB |    1414 GB |    1414 GB |\n",
      "|       from small pool |    1077 KB |    2072 KB |       0 GB |       0 GB |\n",
      "|---------------------------------------------------------------------------|\n",
      "| Allocations           |    1214    |    1463    |  380648    |  379434    |\n",
      "|       from large pool |     450    |     635    |  200916    |  200466    |\n",
      "|       from small pool |     764    |     972    |  179732    |  178968    |\n",
      "|---------------------------------------------------------------------------|\n",
      "| Active allocs         |    1214    |    1463    |  380648    |  379434    |\n",
      "|       from large pool |     450    |     635    |  200916    |  200466    |\n",
      "|       from small pool |     764    |     972    |  179732    |  178968    |\n",
      "|---------------------------------------------------------------------------|\n",
      "| GPU reserved segments |     117    |     197    |     577    |     460    |\n",
      "|       from large pool |     115    |     196    |     575    |     460    |\n",
      "|       from small pool |       2    |       2    |       2    |       0    |\n",
      "|---------------------------------------------------------------------------|\n",
      "| Non-releasable allocs |     118    |     144    |  183506    |  183388    |\n",
      "|       from large pool |      90    |     119    |  119748    |  119658    |\n",
      "|       from small pool |      28    |      42    |   63758    |   63730    |\n",
      "|---------------------------------------------------------------------------|\n",
      "| Oversize allocations  |       0    |       0    |       0    |       0    |\n",
      "|---------------------------------------------------------------------------|\n",
      "| Oversize GPU segments |       0    |       0    |       0    |       0    |\n",
      "|===========================================================================|\n",
      "\n"
     ]
    }
   ],
   "source": [
    "print(torch.cuda.memory_summary(device=None, abbreviated=False))"
   ]
  }
 ],
 "metadata": {
  "kernelspec": {
   "display_name": "Python 3 (ipykernel)",
   "language": "python",
   "name": "python3"
  },
  "language_info": {
   "codemirror_mode": {
    "name": "ipython",
    "version": 3
   },
   "file_extension": ".py",
   "mimetype": "text/x-python",
   "name": "python",
   "nbconvert_exporter": "python",
   "pygments_lexer": "ipython3",
   "version": "3.10.10"
  }
 },
 "nbformat": 4,
 "nbformat_minor": 5
}
